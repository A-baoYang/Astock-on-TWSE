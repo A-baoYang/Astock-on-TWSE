{
 "cells": [
  {
   "cell_type": "code",
   "execution_count": 2,
   "metadata": {
    "ExecuteTime": {
     "end_time": "2022-02-01T03:52:39.621509Z",
     "start_time": "2022-02-01T03:52:39.476013Z"
    },
    "colab": {
     "base_uri": "https://localhost:8080/"
    },
    "executionInfo": {
     "elapsed": 6,
     "status": "ok",
     "timestamp": 1635162863427,
     "user": {
      "displayName": "Nero Cao",
      "photoUrl": "https://lh3.googleusercontent.com/a/default-user=s64",
      "userId": "05305083952686219705"
     },
     "user_tz": -630
    },
    "id": "Qyy2IpTzbgF0",
    "outputId": "63c477c6-cb9f-4677-bea5-deb4b2b0e51a",
    "scrolled": false
   },
   "outputs": [
    {
     "name": "stdout",
     "output_type": "stream",
     "text": [
      "Tue Feb  1 14:22:39 2022       \r\n",
      "+-----------------------------------------------------------------------------+\r\n",
      "| NVIDIA-SMI 470.86       Driver Version: 470.86       CUDA Version: 11.4     |\r\n",
      "|-------------------------------+----------------------+----------------------+\r\n",
      "| GPU  Name        Persistence-M| Bus-Id        Disp.A | Volatile Uncorr. ECC |\r\n",
      "| Fan  Temp  Perf  Pwr:Usage/Cap|         Memory-Usage | GPU-Util  Compute M. |\r\n",
      "|                               |                      |               MIG M. |\r\n",
      "|===============================+======================+======================|\r\n",
      "|   0  NVIDIA GeForce ...  Off  | 00000000:09:00.0 Off |                  N/A |\r\n",
      "| 30%   27C    P8     6W / 350W |     70MiB / 24259MiB |      0%      Default |\r\n",
      "|                               |                      |                  N/A |\r\n",
      "+-------------------------------+----------------------+----------------------+\r\n",
      "                                                                               \r\n",
      "+-----------------------------------------------------------------------------+\r\n",
      "| Processes:                                                                  |\r\n",
      "|  GPU   GI   CI        PID   Type   Process name                  GPU Memory |\r\n",
      "|        ID   ID                                                   Usage      |\r\n",
      "|=============================================================================|\r\n",
      "|    0   N/A  N/A      1011      G   /usr/lib/xorg/Xorg                 56MiB |\r\n",
      "|    0   N/A  N/A      1233      G   /usr/bin/gnome-shell                9MiB |\r\n",
      "+-----------------------------------------------------------------------------+\r\n"
     ]
    }
   ],
   "source": [
    "!nvidia-smi"
   ]
  },
  {
   "cell_type": "markdown",
   "metadata": {
    "id": "IeZyx1-fcLXe"
   },
   "source": []
  },
  {
   "cell_type": "code",
   "execution_count": null,
   "metadata": {
    "executionInfo": {
     "elapsed": 2,
     "status": "ok",
     "timestamp": 1635162863427,
     "user": {
      "displayName": "Nero Cao",
      "photoUrl": "https://lh3.googleusercontent.com/a/default-user=s64",
      "userId": "05305083952686219705"
     },
     "user_tz": -630
    },
    "id": "GmBFBvfbOj0a"
   },
   "outputs": [],
   "source": []
  },
  {
   "cell_type": "code",
   "execution_count": 3,
   "metadata": {
    "ExecuteTime": {
     "end_time": "2022-02-01T03:52:44.914606Z",
     "start_time": "2022-02-01T03:52:39.623261Z"
    },
    "colab": {
     "base_uri": "https://localhost:8080/"
    },
    "executionInfo": {
     "elapsed": 25328,
     "status": "ok",
     "timestamp": 1635162888753,
     "user": {
      "displayName": "Nero Cao",
      "photoUrl": "https://lh3.googleusercontent.com/a/default-user=s64",
      "userId": "05305083952686219705"
     },
     "user_tz": -630
    },
    "id": "dPdpNulr5rdc",
    "outputId": "49041c9a-7db8-4c18-9432-94b45bb24698"
   },
   "outputs": [
    {
     "name": "stdout",
     "output_type": "stream",
     "text": [
      "Requirement already satisfied: ltp in /home/bit/anaconda3/lib/python3.9/site-packages (4.1.5.post2)\n",
      "Requirement already satisfied: packaging>=20.0 in /home/bit/anaconda3/lib/python3.9/site-packages (from ltp) (21.0)\n",
      "Requirement already satisfied: pygtrie<2.5,>=2.3.0 in /home/bit/anaconda3/lib/python3.9/site-packages (from ltp) (2.4.2)\n",
      "Requirement already satisfied: torch>=1.2.0 in /home/bit/anaconda3/lib/python3.9/site-packages (from ltp) (1.10.0)\n",
      "Requirement already satisfied: transformers<=4.7.0,>=4.0.0 in /home/bit/anaconda3/lib/python3.9/site-packages (from ltp) (4.7.0)\n",
      "Requirement already satisfied: pyparsing>=2.0.2 in /home/bit/anaconda3/lib/python3.9/site-packages (from packaging>=20.0->ltp) (3.0.4)\n",
      "Requirement already satisfied: typing_extensions in /home/bit/anaconda3/lib/python3.9/site-packages (from torch>=1.2.0->ltp) (3.10.0.2)\n",
      "Requirement already satisfied: sacremoses in /home/bit/anaconda3/lib/python3.9/site-packages (from transformers<=4.7.0,>=4.0.0->ltp) (0.0.46)\n",
      "Requirement already satisfied: requests in /home/bit/anaconda3/lib/python3.9/site-packages (from transformers<=4.7.0,>=4.0.0->ltp) (2.26.0)\n",
      "Requirement already satisfied: regex!=2019.12.17 in /home/bit/anaconda3/lib/python3.9/site-packages (from transformers<=4.7.0,>=4.0.0->ltp) (2021.8.3)\n",
      "Requirement already satisfied: tokenizers<0.11,>=0.10.1 in /home/bit/anaconda3/lib/python3.9/site-packages (from transformers<=4.7.0,>=4.0.0->ltp) (0.10.3)\n",
      "Requirement already satisfied: numpy>=1.17 in /home/bit/anaconda3/lib/python3.9/site-packages (from transformers<=4.7.0,>=4.0.0->ltp) (1.20.3)\n",
      "Requirement already satisfied: filelock in /home/bit/anaconda3/lib/python3.9/site-packages (from transformers<=4.7.0,>=4.0.0->ltp) (3.3.1)\n",
      "Requirement already satisfied: pyyaml in /home/bit/anaconda3/lib/python3.9/site-packages (from transformers<=4.7.0,>=4.0.0->ltp) (6.0)\n",
      "Requirement already satisfied: huggingface-hub==0.0.8 in /home/bit/anaconda3/lib/python3.9/site-packages (from transformers<=4.7.0,>=4.0.0->ltp) (0.0.8)\n",
      "Requirement already satisfied: tqdm>=4.27 in /home/bit/anaconda3/lib/python3.9/site-packages (from transformers<=4.7.0,>=4.0.0->ltp) (4.62.3)\n",
      "Requirement already satisfied: certifi>=2017.4.17 in /home/bit/anaconda3/lib/python3.9/site-packages (from requests->transformers<=4.7.0,>=4.0.0->ltp) (2021.10.8)\n",
      "Requirement already satisfied: charset-normalizer~=2.0.0 in /home/bit/anaconda3/lib/python3.9/site-packages (from requests->transformers<=4.7.0,>=4.0.0->ltp) (2.0.4)\n",
      "Requirement already satisfied: idna<4,>=2.5 in /home/bit/anaconda3/lib/python3.9/site-packages (from requests->transformers<=4.7.0,>=4.0.0->ltp) (3.2)\n",
      "Requirement already satisfied: urllib3<1.27,>=1.21.1 in /home/bit/anaconda3/lib/python3.9/site-packages (from requests->transformers<=4.7.0,>=4.0.0->ltp) (1.26.7)\n",
      "Requirement already satisfied: six in /home/bit/anaconda3/lib/python3.9/site-packages (from sacremoses->transformers<=4.7.0,>=4.0.0->ltp) (1.16.0)\n",
      "Requirement already satisfied: click in /home/bit/anaconda3/lib/python3.9/site-packages (from sacremoses->transformers<=4.7.0,>=4.0.0->ltp) (8.0.3)\n",
      "Requirement already satisfied: joblib in /home/bit/anaconda3/lib/python3.9/site-packages (from sacremoses->transformers<=4.7.0,>=4.0.0->ltp) (1.1.0)\n",
      "ERROR: unknown command \"isntall\" - maybe you meant \"install\"\n",
      "Python implementation: CPython\n",
      "Python version       : 3.9.7\n",
      "IPython version      : 7.29.0\n",
      "\n",
      "numpy       : 1.20.3\n",
      "pandas      : 1.3.4\n",
      "torch       : 1.10.0\n",
      "transformers: 4.7.0\n",
      "\n"
     ]
    }
   ],
   "source": [
    "!pip install ltp\n",
    "!pip install -q -U watermark\n",
    "!pip install -qq transformers\n",
    "!pip isntall seaborn\n",
    "%reload_ext watermark\n",
    "%watermark -v -p numpy,pandas,torch,transformers"
   ]
  },
  {
   "cell_type": "code",
   "execution_count": 4,
   "metadata": {
    "ExecuteTime": {
     "end_time": "2022-02-01T03:52:45.319841Z",
     "start_time": "2022-02-01T03:52:44.915862Z"
    },
    "colab": {
     "base_uri": "https://localhost:8080/"
    },
    "executionInfo": {
     "elapsed": 1955,
     "status": "ok",
     "timestamp": 1635162890698,
     "user": {
      "displayName": "Nero Cao",
      "photoUrl": "https://lh3.googleusercontent.com/a/default-user=s64",
      "userId": "05305083952686219705"
     },
     "user_tz": -630
    },
    "id": "pEHKZt-qRG5x",
    "outputId": "24e53c31-31b3-408d-a176-10e042a4ec8f"
   },
   "outputs": [
    {
     "data": {
      "text/plain": [
       "device(type='cuda', index=0)"
      ]
     },
     "execution_count": 4,
     "metadata": {},
     "output_type": "execute_result"
    }
   ],
   "source": [
    "#@title Setup & Config\n",
    "import transformers\n",
    "from transformers import BertModel, BertTokenizer, AdamW, get_linear_schedule_with_warmup\n",
    "import torch\n",
    "import unicodedata\n",
    "import numpy as np\n",
    "import pandas as pd\n",
    "import seaborn as sns\n",
    "from pylab import rcParams\n",
    "import matplotlib.pyplot as plt\n",
    "from matplotlib import rc\n",
    "from sklearn.model_selection import train_test_split\n",
    "from sklearn.metrics import confusion_matrix, classification_report\n",
    "from collections import defaultdict\n",
    "from textwrap import wrap\n",
    "\n",
    "from torch import nn, optim\n",
    "from torch.utils.data import Dataset, DataLoader\n",
    "import torch.nn.functional as F\n",
    "from sklearn.metrics import f1_score\n",
    "from torch.nn import TransformerEncoder, TransformerEncoderLayer\n",
    "from collections import Counter\n",
    "import ast\n",
    "import random\n",
    "import json\n",
    "from math import isnan\n",
    "\n",
    "\n",
    "%matplotlib inline\n",
    "%config InlineBackend.figure_format='retina'\n",
    "\n",
    "# sns.set(style='whitegrid', palette='muted', font_scale=1.2)\n",
    "\n",
    "HAPPY_COLORS_PALETTE = [\"#01BEFE\", \"#FFDD00\", \"#FF7D00\", \"#FF006D\", \"#ADFF02\", \"#8F00FF\"]\n",
    "\n",
    "# sns.set_palette(sns.color_palette(HAPPY_COLORS_PALETTE))\n",
    "\n",
    "rcParams['figure.figsize'] = 12, 8\n",
    "\n",
    "RANDOM_SEED = 10\n",
    "np.random.seed(RANDOM_SEED)\n",
    "torch.manual_seed(RANDOM_SEED)\n",
    "\n",
    "device = torch.device(\"cuda:0\" if torch.cuda.is_available() else \"cpu\")\n",
    "device"
   ]
  },
  {
   "cell_type": "markdown",
   "metadata": {
    "id": "HHAlx_DgsuY6"
   },
   "source": [
    "## New Section"
   ]
  },
  {
   "cell_type": "code",
   "execution_count": 5,
   "metadata": {
    "ExecuteTime": {
     "end_time": "2022-02-01T03:52:50.104616Z",
     "start_time": "2022-02-01T03:52:45.320722Z"
    },
    "colab": {
     "base_uri": "https://localhost:8080/",
     "height": 177,
     "referenced_widgets": [
      "7676fb26ef3142d69df275305b36f71e",
      "14ead329841c466a8dfb8423e18a83d4",
      "0347b337fa9446c09a205e44fe9eedda",
      "eeb1646a1f294d6f8c33d92e1bfb0924",
      "2776ed6ea9544496b013edb14efc3411",
      "c170d9ca59bd4f789dd46d4e168ea578",
      "f0b89e99157f4dc39ee225b6a3c024cd",
      "249bdcead1ac45e285d75cf1f6570d82",
      "587a50e57c6649e48940003b49cbc519",
      "a8ab64afb09d415f8fea3c6a9ae94738",
      "149d7ab92e60492a93a5be14789c8cc9",
      "70f63770ab614b14a2b96837095158c1",
      "f70924534f53428c8fc4db599d52e5c6",
      "b83901fd7017431cb195c48da2540a13",
      "7d6c5895e94b4532b8de031ce4fc90ef",
      "b90951fd126d485e84aa5aeda99ee83f",
      "613b00919cdc446fa9444027a029fa30",
      "4f5c1f8595fb49f1be29801fa998a49f",
      "c6200e20439b48fb8a51d77438fe93b0",
      "b5220dc087664ecf8ad17a97f7022d9d",
      "f541ce8ca0ba465f85b7a298ed066d03",
      "c03a979c263043df9d6783bd7bfafec6",
      "a0ff58e195a74a9e888f3f6c67d13836",
      "eef03a4b3aa84197a9549197d4cfabcb",
      "520bd46116fb405280dd833946adcc47",
      "6a57d9f694af43bbbf32db09238e0dc4",
      "f4f898f678fc4be5a64f2143c82bd618",
      "2433c49af18f41ccb4df88e98040dd7b",
      "7c51cf3add634b3795f2e9e97f6f3e83",
      "85f0dfce5fe743ddbf4c61b0e1f6ff21",
      "3e95341a623c4f4c86fdfb6f7331fb6e",
      "2f2b1d744fe2434d9f64fd482e06f517",
      "f51ec09a2bc845018fe8be29dda33465",
      "8c62d1f9f2db471297c76c70960000b2",
      "7e516a5686fa44a09ebf454ef14e2efd",
      "f650354f0e32481d9ac6ff98637f319b",
      "ab0887c2c9a44fe2a0ffc5935ea99065",
      "90ac286dc2a54cfc83e7b626580a7cdc",
      "caf555cf32174dc38fc3082ebfa15cfd",
      "5c27f3ae99e24621b02d9766a6a50d5c",
      "7d38fe485ceb4d71b1d5d8e4040a20f7",
      "221cfec96d0e4f579bd21264a506e82c",
      "158f5602ae074f03ab4f9f72785e8bde",
      "554878ec93724849bf5a29c3ca63017d",
      "c785f9c40ae946bfa2b59fe9b95a012e",
      "810d706a9752417f85455b2bc0eb9e5f",
      "bab77e26c50043fea38352aed0f0eed9",
      "4020c0233b124ca28c57a6a6fce03377",
      "00b2339c2f7e418ca1f2180ebeda9b3a",
      "78eafdfcb7a44af2a93135c802698706",
      "160969175117493482496a7d6d14940c",
      "39b30e29bfb64ac09ed875f40cab6262",
      "e1cb7b005d2d43459afed0a45db5cfe1",
      "1d4a73624e0e4d2e92681b0fdcf236b8",
      "042cb53e3b854d8587a327cd8f2e3e6b"
     ]
    },
    "executionInfo": {
     "elapsed": 4163,
     "status": "ok",
     "timestamp": 1635162894859,
     "user": {
      "displayName": "Nero Cao",
      "photoUrl": "https://lh3.googleusercontent.com/a/default-user=s64",
      "userId": "05305083952686219705"
     },
     "user_tz": -630
    },
    "id": "xRdWcGGBFYTu",
    "outputId": "e964f4ce-a52a-4107-bc25-1ba8c17c50a9"
   },
   "outputs": [],
   "source": [
    "from transformers import BertTokenizer,BertModel\n",
    "PRE_TRAINED_MODEL_NAME = \"hfl/chinese-roberta-wwm-ext\"\n",
    "# PRE_TRAINED_MODEL_NAME = \"hfl/chinese-roberta-wwm-ext-large\"\n",
    "# PRE_TRAINED_MODEL_NAME = \"hfl/chinese-bert-wwm-ext\"\n",
    "# PRE_TRAINED_MODEL_NAME = \"bert-base-uncased\"\n",
    "# PRE_TRAINED_MODEL_NAME = \"ProsusAI/finbert\"\n",
    "# PRE_TRAINED_MODEL_NAME = \"bert-base-chinese\"\n",
    "\n",
    "tokenizer = BertTokenizer.from_pretrained(PRE_TRAINED_MODEL_NAME,do_lower_case=True)\n",
    "PRE_TRAINED_MODEL_NAME = '../model/pretrained-bert/ROBERT_4_model.bin'"
   ]
  },
  {
   "cell_type": "markdown",
   "metadata": {
    "id": "eg7yz0zXQujX"
   },
   "source": [
    "## Generating the masks of verb, A0, A1"
   ]
  },
  {
   "cell_type": "code",
   "execution_count": null,
   "metadata": {
    "executionInfo": {
     "elapsed": 8,
     "status": "ok",
     "timestamp": 1635162894860,
     "user": {
      "displayName": "Nero Cao",
      "photoUrl": "https://lh3.googleusercontent.com/a/default-user=s64",
      "userId": "05305083952686219705"
     },
     "user_tz": -630
    },
    "id": "IWNPdn8fg4gG"
   },
   "outputs": [],
   "source": []
  },
  {
   "cell_type": "code",
   "execution_count": 6,
   "metadata": {
    "ExecuteTime": {
     "end_time": "2022-02-01T03:53:16.385671Z",
     "start_time": "2022-02-01T03:52:50.105952Z"
    },
    "executionInfo": {
     "elapsed": 39070,
     "status": "ok",
     "timestamp": 1635162933922,
     "user": {
      "displayName": "Nero Cao",
      "photoUrl": "https://lh3.googleusercontent.com/a/default-user=s64",
      "userId": "05305083952686219705"
     },
     "user_tz": -630
    },
    "id": "c4joMCxJKR5a"
   },
   "outputs": [],
   "source": [
    "df_train = pd.read_csv('../data/pre/train.csv',sep='\\t')\n",
    "df_val = pd.read_csv('../data/pre/val.csv',sep='\\t')\n",
    "df_test = pd.read_csv('../data/pre/test.csv',sep='\\t')\n",
    "df_ood = pd.read_csv('../data/pre/ood.csv',sep='\\t')\n",
    "\n",
    "\n",
    "df_train = df_train.drop(df_train.loc[df_train.verbA0A1.isna()].index)\n",
    "df_test = df_test.drop(df_test.loc[df_test.verbA0A1.isna()].index)\n",
    "df_val = df_val.drop(df_val.loc[df_val.verbA0A1.isna()].index)\n",
    "df_ood = df_ood.drop(df_ood.loc[df_ood.verbA0A1.isna()].index)\n",
    "\n",
    "df_train = df_train.drop(df_train.loc[df_train.verbA0A1=='[]'].index)\n",
    "df_test = df_test.drop(df_test.loc[df_test.verbA0A1=='[]'].index)\n",
    "df_val = df_val.drop(df_val.loc[df_val.verbA0A1=='[]'].index)\n",
    "df_ood = df_ood.drop(df_ood.loc[df_ood.verbA0A1=='[]'].index)\n",
    "\n",
    "def string_to_tuples_list(text):\n",
    "  if text is np.nan or text =='[]':\n",
    "    return []\n",
    "  text = ''.join(text.split('], ['))\n",
    "  tmp = eval(text.strip('[').strip(']'))\n",
    "  if not isinstance(tmp[0],tuple):\n",
    "    return [tmp]\n",
    "  return list(tmp)\n",
    "\n",
    "\n",
    "\n",
    "\n",
    "\n",
    "for col in ['verb','A0','A1']:\n",
    "  df_train[col] = df_train[col].apply(string_to_tuples_list)\n",
    "  df_val[col] = df_val[col].apply(string_to_tuples_list)\n",
    "  df_test[col] = df_test[col].apply(string_to_tuples_list)\n",
    "  df_ood[col] = df_ood[col].apply(string_to_tuples_list)\n",
    "\n",
    "for col in ['stock_factors','verbA0A1']:\n",
    "# for col in ['verbA0A1']:\n",
    "  df_train[col] = df_train[col].apply(ast.literal_eval)\n",
    "  df_val[col] = df_val[col].apply(ast.literal_eval)\n",
    "  df_test[col] = df_test[col].apply(ast.literal_eval)\n",
    "  df_ood[col] = df_ood[col].apply(ast.literal_eval)\n",
    "\n",
    "\n",
    "\n",
    "def mask(df):\n",
    "  df = df.reset_index(drop = True)\n",
    "  df['verb_mask'] = 0\n",
    "  df['A0_mask'] = 0\n",
    "  df['A1_mask'] = 0\n",
    "  df['verb_mask'] = df['verb_mask'].astype('object')\n",
    "  df['A0_mask'] = df['A0_mask'].astype('object')\n",
    "  df['A1_mask'] = df['A1_mask'].astype('object')\n",
    "  for index,row in df.iterrows():\n",
    "\n",
    "    df.at[index,'stock_factors'] = [*map(float,df.loc[index,'stock_factors'])]\n",
    "    AV_num = 0\n",
    "    for k,col in enumerate(['verb','A0','A1']):\n",
    "      masks = []\n",
    "      for j in range(len(row['verbA0A1'])):\n",
    "        mask = np.zeros(299)\n",
    "        idx = []\n",
    "        for v in row['verbA0A1'][j][k]:\n",
    "          \n",
    "          idx = idx + [int(i) for i in range(v[0],v[0]+v[1])]\n",
    "        # idx = np.unique(idx).tolist()\n",
    "        counter = Counter(idx)\n",
    "\n",
    "        mask = [0 if counter[i]== 0 else 1/len(counter) for i in range(0,len(mask))]\n",
    "        mask.insert(0,0)\n",
    "        masks.append(mask)\n",
    "      AV_num = len(masks)\n",
    "      for i in range(10 - len(masks)):\n",
    "        masks.append(np.zeros(300))\n",
    "      while len(masks)>10:\n",
    "        masks.pop()\n",
    "      name = col+'_mask'\n",
    "      df.at[index,name] = np.array(masks)\n",
    "    if AV_num>10:\n",
    "      AV_num=10\n",
    "    df.loc[index,'AV_num'] = int(AV_num)\n",
    "  df.AV_num = df.AV_num.astype('int')\n",
    "  df.stock_factors = df.stock_factors.apply(np.array)\n",
    "  return df\n",
    "\n",
    "\n",
    "df_train = mask(df_train)\n",
    "df_test = mask(df_test)\n",
    "df_val = mask(df_val)\n",
    "df_ood = mask(df_ood)"
   ]
  },
  {
   "cell_type": "markdown",
   "metadata": {
    "id": "ajOfqpcWRBt9"
   },
   "source": [
    "## Creat Dataloader"
   ]
  },
  {
   "cell_type": "code",
   "execution_count": 7,
   "metadata": {
    "ExecuteTime": {
     "end_time": "2022-02-01T03:53:16.391702Z",
     "start_time": "2022-02-01T03:53:16.386597Z"
    },
    "executionInfo": {
     "elapsed": 16,
     "status": "ok",
     "timestamp": 1635162933926,
     "user": {
      "displayName": "Nero Cao",
      "photoUrl": "https://lh3.googleusercontent.com/a/default-user=s64",
      "userId": "05305083952686219705"
     },
     "user_tz": -630
    },
    "id": "WaKd7JaTy2gw"
   },
   "outputs": [],
   "source": [
    "max_len = 300\n",
    "class_names = ['negative','neutral', 'positive']\n",
    "class GPReviewDataset(Dataset):\n",
    "\n",
    "  def __init__(self, reviews, targets,verb,A0,A1,AV_num,tokenizer,stock_factors, max_len):\n",
    "    self.reviews = reviews\n",
    "    self.targets = targets\n",
    "    self.stock_factors = stock_factors\n",
    "    self.verb = verb\n",
    "    self.A0 = A0\n",
    "    self.A1 = A1\n",
    "    self.AV_num = AV_num\n",
    "    self.tokenizer = tokenizer\n",
    "    self.max_len = max_len\n",
    "  \n",
    "  def __len__(self):\n",
    "    return len(self.reviews)\n",
    "  \n",
    "  def __getitem__(self, item):\n",
    "    review = str(self.reviews[item])\n",
    "    target = self.targets[item]\n",
    "    stock_factors = self.stock_factors[item]\n",
    "    v = self.verb[item]\n",
    "    a0 = self.A0[item]\n",
    "    a1 = self.A1[item]\n",
    "    av_num = self.AV_num[item]\n",
    "\n",
    "    encoding = self.tokenizer.encode_plus(\n",
    "      review,\n",
    "      add_special_tokens=True,\n",
    "      max_length=self.max_len,\n",
    "      return_token_type_ids=False,\n",
    "      padding='max_length',\n",
    "      truncation=True,\n",
    "      return_attention_mask=True,\n",
    "      return_tensors='pt',\n",
    "    )\n",
    "\n",
    "    return {\n",
    "      'review_text': review,\n",
    "      'input_ids': encoding['input_ids'].flatten(),\n",
    "      'attention_mask': encoding['attention_mask'].flatten(),\n",
    "      'targets': torch.tensor(target, dtype=torch.long),\n",
    "      'stock_factors':torch.tensor(stock_factors),\n",
    "      'verb': torch.tensor(v),\n",
    "      'A0': torch.tensor(a0),\n",
    "      'A1': torch.tensor(a1),\n",
    "      'AV_num': torch.tensor(av_num)\n",
    "    }"
   ]
  },
  {
   "cell_type": "code",
   "execution_count": 8,
   "metadata": {
    "ExecuteTime": {
     "end_time": "2022-02-01T03:53:16.405288Z",
     "start_time": "2022-02-01T03:53:16.392398Z"
    },
    "executionInfo": {
     "elapsed": 15,
     "status": "ok",
     "timestamp": 1635162933926,
     "user": {
      "displayName": "Nero Cao",
      "photoUrl": "https://lh3.googleusercontent.com/a/default-user=s64",
      "userId": "05305083952686219705"
     },
     "user_tz": -630
    },
    "id": "cPZSIigpPtEr"
   },
   "outputs": [],
   "source": [
    "def create_data_loader(df, tokenizer, max_len, batch_size):\n",
    "  ds = GPReviewDataset(\n",
    "    reviews=df.text_a.to_numpy(),\n",
    "    targets=df.label.to_numpy(),\n",
    "    stock_factors = df.stock_factors,\n",
    "    verb = df.verb_mask,\n",
    "    A0 = df.A0_mask,\n",
    "    A1 = df.A1_mask,\n",
    "    AV_num = df.AV_num,\n",
    "    tokenizer=tokenizer,\n",
    "    max_len=max_len\n",
    "  )\n",
    "\n",
    "  return DataLoader(\n",
    "    ds,\n",
    "    batch_size=batch_size,\n",
    "    # num_workers=4,\n",
    "    shuffle=True\n",
    "  )"
   ]
  },
  {
   "cell_type": "code",
   "execution_count": 9,
   "metadata": {
    "ExecuteTime": {
     "end_time": "2022-02-01T03:53:16.417552Z",
     "start_time": "2022-02-01T03:53:16.406346Z"
    },
    "executionInfo": {
     "elapsed": 15,
     "status": "ok",
     "timestamp": 1635162933926,
     "user": {
      "displayName": "Nero Cao",
      "photoUrl": "https://lh3.googleusercontent.com/a/default-user=s64",
      "userId": "05305083952686219705"
     },
     "user_tz": -630
    },
    "id": "5D6CwQDIAk0C"
   },
   "outputs": [],
   "source": [
    "\n",
    "df_train = df_train.reset_index(drop=True)\n",
    "df_test = df_test.reset_index(drop=True)\n",
    "df_val = df_val.reset_index(drop=True)\n",
    "df_ood = df_ood.reset_index(drop=True)"
   ]
  },
  {
   "cell_type": "code",
   "execution_count": 10,
   "metadata": {
    "ExecuteTime": {
     "end_time": "2022-02-01T03:53:16.423443Z",
     "start_time": "2022-02-01T03:53:16.418476Z"
    },
    "executionInfo": {
     "elapsed": 15,
     "status": "ok",
     "timestamp": 1635162933927,
     "user": {
      "displayName": "Nero Cao",
      "photoUrl": "https://lh3.googleusercontent.com/a/default-user=s64",
      "userId": "05305083952686219705"
     },
     "user_tz": -630
    },
    "id": "upOSL-NiRhzy"
   },
   "outputs": [],
   "source": [
    "BATCH_SIZE = 16\n",
    "\n",
    "train_data_loader = create_data_loader(df_train, tokenizer, max_len, BATCH_SIZE)\n",
    "val_data_loader = create_data_loader(df_val, tokenizer, max_len, BATCH_SIZE)\n",
    "test_data_loader = create_data_loader(df_test, tokenizer, max_len, BATCH_SIZE)\n",
    "ood_data_loader = create_data_loader(df_ood, tokenizer, max_len, BATCH_SIZE)"
   ]
  },
  {
   "cell_type": "code",
   "execution_count": 11,
   "metadata": {
    "ExecuteTime": {
     "end_time": "2022-02-01T03:53:16.580403Z",
     "start_time": "2022-02-01T03:53:16.424142Z"
    },
    "executionInfo": {
     "elapsed": 15,
     "status": "ok",
     "timestamp": 1635162933927,
     "user": {
      "displayName": "Nero Cao",
      "photoUrl": "https://lh3.googleusercontent.com/a/default-user=s64",
      "userId": "05305083952686219705"
     },
     "user_tz": -630
    },
    "id": "4bMEUzcABFvn"
   },
   "outputs": [
    {
     "name": "stdout",
     "output_type": "stream",
     "text": [
      "/home/bit/stock/new_data\r\n"
     ]
    }
   ],
   "source": [
    "!pwd"
   ]
  },
  {
   "cell_type": "markdown",
   "metadata": {
    "id": "kxjZ9xW9exg8"
   },
   "source": [
    "## Model"
   ]
  },
  {
   "cell_type": "code",
   "execution_count": 12,
   "metadata": {
    "ExecuteTime": {
     "end_time": "2022-02-01T03:53:16.589532Z",
     "start_time": "2022-02-01T03:53:16.581898Z"
    },
    "executionInfo": {
     "elapsed": 15,
     "status": "ok",
     "timestamp": 1635162933927,
     "user": {
      "displayName": "Nero Cao",
      "photoUrl": "https://lh3.googleusercontent.com/a/default-user=s64",
      "userId": "05305083952686219705"
     },
     "user_tz": -630
    },
    "id": "m6tsxogmBNWm"
   },
   "outputs": [],
   "source": [
    "NUMBER_FACTOR = 24\n",
    "class SentimentClassifier(nn.Module):\n",
    "\n",
    "  def __init__(self, n_classes):\n",
    "    super(SentimentClassifier, self).__init__()\n",
    "    self.bert = BertModel.from_pretrained(PRE_TRAINED_MODEL_NAME)\n",
    "#     self.encoder_layer =  nn.TransformerEncoderLayer(d_model=2304+NUMBER_FACTOR, nhead=3)\n",
    "#     self.transformer_encoder = nn.TransformerEncoder(self.encoder_layer, num_layers=2)\n",
    "    self.drop = nn.Dropout(p=0.1)\n",
    "    self.sig = nn.Sigmoid()\n",
    "    # self.L1 = nn.Linear(self.bert.config.hidden_size*30, self.bert.config.hidden_size*3)\n",
    "    self.out1 = nn.Linear(self.bert.config.hidden_size+NUMBER_FACTOR, self.bert.config.hidden_size+NUMBER_FACTOR)\n",
    "    self.out = nn.Linear(self.bert.config.hidden_size+NUMBER_FACTOR, n_classes)\n",
    "    self.linear_for_stock_factors = nn.Linear(NUMBER_FACTOR,NUMBER_FACTOR)\n",
    "#     self.flatten2 = nn.Flatten(2,-1)\n",
    "#     self.flatten = nn.Flatten(1,-1)\n",
    "#     self.relu = nn.ReLU()\n",
    "#     self.Querry = nn.Linear(self.bert.config.hidden_size,self.bert.config.hidden_size,bias = False)\n",
    "#     self.Key = nn.Linear(self.bert.config.hidden_size,self.bert.config.hidden_size,bias = False)\n",
    "    # self.Self_supervised = nn.Linear(self.bert.config.hidden_size,self.bert.config.hidden_size)\n",
    "\n",
    "  def forward(self, input_ids, attention_mask,verb,A0,A1,stock_factors,AV_num):\n",
    "    #get bert embedding \n",
    "    hidden_state = self.bert(\n",
    "      input_ids=input_ids,\n",
    "      attention_mask=attention_mask\n",
    "    )[1]\n",
    "\n",
    "    stock_factors = stock_factors.float()\n",
    "    #stock_factor(8*24)\n",
    "    stock_factors_batch = self.linear_for_stock_factors(stock_factors)\n",
    "    pooled_output = torch.cat([hidden_state,stock_factors_batch],1)\n",
    "    output = self.sig(pooled_output)\n",
    "#     output = self.drop(output)\n",
    "    output = self.out1(output)\n",
    "    output = self.sig(output)\n",
    "    output = self.drop(output)\n",
    "    output = self.out(output)\n",
    "\n",
    "    return output"
   ]
  },
  {
   "cell_type": "code",
   "execution_count": 13,
   "metadata": {
    "ExecuteTime": {
     "end_time": "2022-02-01T03:53:19.237402Z",
     "start_time": "2022-02-01T03:53:16.590316Z"
    },
    "colab": {
     "base_uri": "https://localhost:8080/"
    },
    "executionInfo": {
     "elapsed": 20521,
     "status": "ok",
     "timestamp": 1635162954434,
     "user": {
      "displayName": "Nero Cao",
      "photoUrl": "https://lh3.googleusercontent.com/a/default-user=s64",
      "userId": "05305083952686219705"
     },
     "user_tz": -630
    },
    "id": "KQEOV2pfYBPs",
    "outputId": "c98047df-9d0d-4aed-8e17-432e541d0381"
   },
   "outputs": [
    {
     "name": "stderr",
     "output_type": "stream",
     "text": [
      "Some weights of the model checkpoint at ../model/pretrained-bert/ROBERT_4_model.bin were not used when initializing BertModel: ['cls.predictions.transform.LayerNorm.bias', 'cls.predictions.bias', 'cls.predictions.transform.dense.bias', 'cls.predictions.transform.dense.weight', 'cls.predictions.decoder.bias', 'cls.predictions.transform.LayerNorm.weight', 'cls.predictions.decoder.weight']\n",
      "- This IS expected if you are initializing BertModel from the checkpoint of a model trained on another task or with another architecture (e.g. initializing a BertForSequenceClassification model from a BertForPreTraining model).\n",
      "- This IS NOT expected if you are initializing BertModel from the checkpoint of a model that you expect to be exactly identical (initializing a BertForSequenceClassification model from a BertForSequenceClassification model).\n",
      "Some weights of BertModel were not initialized from the model checkpoint at ../model/pretrained-bert/ROBERT_4_model.bin and are newly initialized: ['bert.pooler.dense.bias', 'bert.pooler.dense.weight']\n",
      "You should probably TRAIN this model on a down-stream task to be able to use it for predictions and inference.\n"
     ]
    }
   ],
   "source": [
    "model = SentimentClassifier(3)\n",
    "model = model.to(device)"
   ]
  },
  {
   "cell_type": "code",
   "execution_count": null,
   "metadata": {
    "executionInfo": {
     "elapsed": 11,
     "status": "ok",
     "timestamp": 1635162954434,
     "user": {
      "displayName": "Nero Cao",
      "photoUrl": "https://lh3.googleusercontent.com/a/default-user=s64",
      "userId": "05305083952686219705"
     },
     "user_tz": -630
    },
    "id": "Dm9jX3CnDyTi"
   },
   "outputs": [],
   "source": []
  },
  {
   "cell_type": "code",
   "execution_count": null,
   "metadata": {
    "executionInfo": {
     "elapsed": 11,
     "status": "ok",
     "timestamp": 1635162954434,
     "user": {
      "displayName": "Nero Cao",
      "photoUrl": "https://lh3.googleusercontent.com/a/default-user=s64",
      "userId": "05305083952686219705"
     },
     "user_tz": -630
    },
    "id": "IfJO5a0NGPf_"
   },
   "outputs": [],
   "source": []
  },
  {
   "cell_type": "code",
   "execution_count": null,
   "metadata": {
    "executionInfo": {
     "elapsed": 11,
     "status": "ok",
     "timestamp": 1635162954435,
     "user": {
      "displayName": "Nero Cao",
      "photoUrl": "https://lh3.googleusercontent.com/a/default-user=s64",
      "userId": "05305083952686219705"
     },
     "user_tz": -630
    },
    "id": "82irQeXrOfWI"
   },
   "outputs": [],
   "source": []
  },
  {
   "cell_type": "code",
   "execution_count": 14,
   "metadata": {
    "ExecuteTime": {
     "end_time": "2022-02-01T03:53:19.242727Z",
     "start_time": "2022-02-01T03:53:19.238164Z"
    },
    "executionInfo": {
     "elapsed": 11,
     "status": "ok",
     "timestamp": 1635162954435,
     "user": {
      "displayName": "Nero Cao",
      "photoUrl": "https://lh3.googleusercontent.com/a/default-user=s64",
      "userId": "05305083952686219705"
     },
     "user_tz": -630
    },
    "id": "4q2fUr9TYMxW"
   },
   "outputs": [],
   "source": [
    "EPOCHS = 20\n",
    "\n",
    "optimizer = AdamW(model.parameters(), lr=1e-5, correct_bias=False)\n",
    "total_steps = len(train_data_loader) * EPOCHS\n",
    "\n",
    "scheduler = get_linear_schedule_with_warmup(\n",
    "  optimizer,\n",
    "  num_warmup_steps=2,\n",
    "  num_training_steps=total_steps\n",
    ")\n",
    "\n",
    "loss_fn = nn.CrossEntropyLoss().to(device)"
   ]
  },
  {
   "cell_type": "markdown",
   "metadata": {
    "id": "OYA1f6t3f2ex"
   },
   "source": []
  },
  {
   "cell_type": "code",
   "execution_count": 15,
   "metadata": {
    "ExecuteTime": {
     "end_time": "2022-02-01T03:53:19.256270Z",
     "start_time": "2022-02-01T03:53:19.244250Z"
    },
    "executionInfo": {
     "elapsed": 12,
     "status": "ok",
     "timestamp": 1635162954436,
     "user": {
      "displayName": "Nero Cao",
      "photoUrl": "https://lh3.googleusercontent.com/a/default-user=s64",
      "userId": "05305083952686219705"
     },
     "user_tz": -630
    },
    "id": "oLLFWDvDYeeS"
   },
   "outputs": [],
   "source": [
    "def train_epoch(\n",
    "  model, \n",
    "  data_loader, \n",
    "  loss_fn, \n",
    "  optimizer, \n",
    "  device, \n",
    "  scheduler, \n",
    "  n_examples\n",
    "):\n",
    "  model = model.train()\n",
    "\n",
    "  losses = []\n",
    "  correct_predictions = 0\n",
    "  correct_predictions_verbs = 0\n",
    "\n",
    "  for d in data_loader:\n",
    "    input_ids = d[\"input_ids\"].to(device)\n",
    "    attention_mask = d[\"attention_mask\"].to(device)\n",
    "    targets = d[\"targets\"].to(device)\n",
    "    stock_factors = d['stock_factors'].to(device)\n",
    "    verb = d[\"verb\"].to(device)\n",
    "    A0 = d[\"A0\"].to(device)\n",
    "    A1 = d[\"A1\"].to(device)\n",
    "    AV_num = d[\"AV_num\"].to(device)\n",
    "\n",
    "    outputs= model(\n",
    "      input_ids=input_ids,\n",
    "      attention_mask=attention_mask,\n",
    "      verb = verb,\n",
    "      A0 = A0,\n",
    "      A1 = A1,\n",
    "      stock_factors = stock_factors,\n",
    "      AV_num = AV_num\n",
    "    )\n",
    "\n",
    "    if outputs.dim()==1:\n",
    "      outputs = torch.unsqueeze(outputs,0)\n",
    "    _, preds = torch.max(outputs, dim=1)\n",
    "\n",
    "\n",
    "\n",
    "    # print(targets.shape,outputs.shape)\n",
    "    loss = loss_fn(outputs, targets)\n",
    "\n",
    "    correct_predictions += torch.sum(preds == targets)\n",
    "    losses.append(loss.item())\n",
    "\n",
    "    loss.backward()\n",
    "    nn.utils.clip_grad_norm_(model.parameters(), max_norm=1.0)\n",
    "    optimizer.step()\n",
    "    scheduler.step()\n",
    "    optimizer.zero_grad()\n",
    "\n",
    "  return correct_predictions.double() / n_examples, np.mean(losses)"
   ]
  },
  {
   "cell_type": "code",
   "execution_count": 16,
   "metadata": {
    "ExecuteTime": {
     "end_time": "2022-02-01T03:53:19.261838Z",
     "start_time": "2022-02-01T03:53:19.256930Z"
    },
    "executionInfo": {
     "elapsed": 12,
     "status": "ok",
     "timestamp": 1635162954436,
     "user": {
      "displayName": "Nero Cao",
      "photoUrl": "https://lh3.googleusercontent.com/a/default-user=s64",
      "userId": "05305083952686219705"
     },
     "user_tz": -630
    },
    "id": "VmDYxiXDYl-u"
   },
   "outputs": [],
   "source": [
    "def eval_model(model, data_loader, loss_fn, device, n_examples):\n",
    "  model = model.eval()\n",
    "\n",
    "  losses = []\n",
    "  correct_predictions = 0\n",
    "\n",
    "  with torch.no_grad():\n",
    "    for d in data_loader:\n",
    "      input_ids = d[\"input_ids\"].to(device)\n",
    "      attention_mask = d[\"attention_mask\"].to(device)\n",
    "      targets = d[\"targets\"].to(device)\n",
    "      stock_factors = d['stock_factors'].to(device)\n",
    "      verb = d[\"verb\"].to(device)\n",
    "      A0 = d[\"A0\"].to(device)\n",
    "      A1 = d[\"A1\"].to(device)\n",
    "      AV_num = d[\"AV_num\"].to(device)\n",
    "\n",
    "      outputs = model(\n",
    "        input_ids=input_ids,\n",
    "        attention_mask=attention_mask,\n",
    "        verb = verb,\n",
    "        A0 = A0,\n",
    "        A1 = A1,\n",
    "        stock_factors = stock_factors,\n",
    "        AV_num = AV_num\n",
    "      )\n",
    "      \n",
    "      if outputs.dim()==1:\n",
    "        outputs = torch.unsqueeze(outputs,0)\n",
    "      _, preds = torch.max(outputs, dim=1)\n",
    "      \n",
    "      loss = loss_fn(outputs, targets)\n",
    "\n",
    "      correct_predictions += torch.sum(preds == targets)\n",
    "      \n",
    "      losses.append(loss.item())\n",
    "\n",
    "  return correct_predictions.double() / n_examples, np.mean(losses)"
   ]
  },
  {
   "cell_type": "code",
   "execution_count": 17,
   "metadata": {
    "ExecuteTime": {
     "end_time": "2022-02-01T03:53:19.269146Z",
     "start_time": "2022-02-01T03:53:19.262442Z"
    },
    "executionInfo": {
     "elapsed": 12,
     "status": "ok",
     "timestamp": 1635162954436,
     "user": {
      "displayName": "Nero Cao",
      "photoUrl": "https://lh3.googleusercontent.com/a/default-user=s64",
      "userId": "05305083952686219705"
     },
     "user_tz": -630
    },
    "id": "Nkvo-2p93Dnr"
   },
   "outputs": [],
   "source": [
    "history = defaultdict(list)\n",
    "best_accuracy = 0\n",
    "best_train_accuracy = 0\n",
    "# EPOCHS = 5"
   ]
  },
  {
   "cell_type": "code",
   "execution_count": 17,
   "metadata": {
    "ExecuteTime": {
     "end_time": "2022-01-30T12:08:13.906604Z",
     "start_time": "2022-01-30T11:35:15.348250Z"
    },
    "colab": {
     "base_uri": "https://localhost:8080/",
     "height": 508
    },
    "executionInfo": {
     "elapsed": 1533,
     "status": "error",
     "timestamp": 1635162955958,
     "user": {
      "displayName": "Nero Cao",
      "photoUrl": "https://lh3.googleusercontent.com/a/default-user=s64",
      "userId": "05305083952686219705"
     },
     "user_tz": -630
    },
    "id": "VZvKK2TkYojZ",
    "outputId": "78a8aa90-b687-4565-e96b-db1c0490e9c2",
    "scrolled": true
   },
   "outputs": [
    {
     "name": "stdout",
     "output_type": "stream",
     "text": [
      "Epoch 1/20\n",
      "----------\n",
      "Train loss 0.9749481089221609 accuracy 0.5354210749047821\n",
      "Val   loss 0.8910432015695879 accuracy 0.6093432633716994\n",
      "\n",
      "Epoch 2/20\n",
      "----------\n",
      "Train loss 0.8476824431361301 accuracy 0.6405416842996191\n",
      "Val   loss 0.8608321150143942 accuracy 0.6242383209207854\n",
      "\n",
      "Epoch 3/20\n",
      "----------\n",
      "Train loss 0.7699494922435332 accuracy 0.6931019889970377\n",
      "Val   loss 0.8680817654696844 accuracy 0.6194989844278943\n",
      "\n",
      "Epoch 4/20\n",
      "----------\n",
      "Train loss 0.7023587934622423 accuracy 0.7344900550148117\n",
      "Val   loss 0.8706772301786689 accuracy 0.6154366960054164\n",
      "\n",
      "Epoch 5/20\n",
      "----------\n",
      "Train loss 0.6258469820829141 accuracy 0.7789250952179433\n",
      "Val   loss 0.9044596517598757 accuracy 0.6242383209207854\n",
      "\n",
      "Epoch 6/20\n",
      "----------\n",
      "Train loss 0.5685958126522046 accuracy 0.8099873042742276\n",
      "Val   loss 0.9441430677649796 accuracy 0.6249153689911984\n",
      "\n",
      "Epoch 7/20\n",
      "----------\n",
      "Train loss 0.513204964596138 accuracy 0.8359712230215827\n",
      "Val   loss 1.0094844775815164 accuracy 0.6208530805687204\n",
      "\n",
      "Epoch 8/20\n",
      "----------\n",
      "Train loss 0.4638566727345464 accuracy 0.8578078713499788\n",
      "Val   loss 1.0546445604614032 accuracy 0.6188219363574814\n",
      "\n",
      "Epoch 9/20\n",
      "----------\n",
      "Train loss 0.42375679459316967 accuracy 0.8743123148539991\n",
      "Val   loss 1.1057073403430242 accuracy 0.6201760324983073\n",
      "\n",
      "Epoch 10/20\n",
      "----------\n",
      "Train loss 0.38810209577073906 accuracy 0.8882776132035548\n",
      "Val   loss 1.1624096901186052 accuracy 0.6215301286391334\n",
      "\n",
      "Epoch 11/20\n",
      "----------\n",
      "Train loss 0.3627612998807382 accuracy 0.8961489631823952\n",
      "Val   loss 1.2206828757639854 accuracy 0.6154366960054164\n",
      "\n",
      "Epoch 12/20\n",
      "----------\n",
      "Train loss 0.3329962181262622 accuracy 0.9085061362674566\n",
      "Val   loss 1.2867522653072112 accuracy 0.6073121191604604\n",
      "\n",
      "Epoch 13/20\n",
      "----------\n",
      "Train loss 0.31357450408707294 accuracy 0.9147693609818027\n",
      "Val   loss 1.3353973101544123 accuracy 0.6039268788083954\n",
      "\n",
      "Epoch 14/20\n",
      "----------\n",
      "Train loss 0.2885282543085828 accuracy 0.9246720270842149\n",
      "Val   loss 1.3718333141778105 accuracy 0.6039268788083954\n",
      "\n",
      "Epoch 15/20\n",
      "----------\n"
     ]
    },
    {
     "ename": "KeyboardInterrupt",
     "evalue": "",
     "output_type": "error",
     "traceback": [
      "\u001b[0;31m---------------------------------------------------------------------------\u001b[0m",
      "\u001b[0;31mKeyboardInterrupt\u001b[0m                         Traceback (most recent call last)",
      "\u001b[0;32m<timed exec>\u001b[0m in \u001b[0;36m<module>\u001b[0;34m\u001b[0m\n",
      "\u001b[0;32m/tmp/ipykernel_9250/1480089730.py\u001b[0m in \u001b[0;36mtrain_epoch\u001b[0;34m(model, data_loader, loss_fn, optimizer, device, scheduler, n_examples)\u001b[0m\n\u001b[1;32m     44\u001b[0m \u001b[0;34m\u001b[0m\u001b[0m\n\u001b[1;32m     45\u001b[0m     \u001b[0mcorrect_predictions\u001b[0m \u001b[0;34m+=\u001b[0m \u001b[0mtorch\u001b[0m\u001b[0;34m.\u001b[0m\u001b[0msum\u001b[0m\u001b[0;34m(\u001b[0m\u001b[0mpreds\u001b[0m \u001b[0;34m==\u001b[0m \u001b[0mtargets\u001b[0m\u001b[0;34m)\u001b[0m\u001b[0;34m\u001b[0m\u001b[0;34m\u001b[0m\u001b[0m\n\u001b[0;32m---> 46\u001b[0;31m     \u001b[0mlosses\u001b[0m\u001b[0;34m.\u001b[0m\u001b[0mappend\u001b[0m\u001b[0;34m(\u001b[0m\u001b[0mloss\u001b[0m\u001b[0;34m.\u001b[0m\u001b[0mitem\u001b[0m\u001b[0;34m(\u001b[0m\u001b[0;34m)\u001b[0m\u001b[0;34m)\u001b[0m\u001b[0;34m\u001b[0m\u001b[0;34m\u001b[0m\u001b[0m\n\u001b[0m\u001b[1;32m     47\u001b[0m \u001b[0;34m\u001b[0m\u001b[0m\n\u001b[1;32m     48\u001b[0m     \u001b[0mloss\u001b[0m\u001b[0;34m.\u001b[0m\u001b[0mbackward\u001b[0m\u001b[0;34m(\u001b[0m\u001b[0;34m)\u001b[0m\u001b[0;34m\u001b[0m\u001b[0;34m\u001b[0m\u001b[0m\n",
      "\u001b[0;31mKeyboardInterrupt\u001b[0m: "
     ]
    }
   ],
   "source": [
    "%%time\n",
    "\n",
    "for epoch in range(EPOCHS):\n",
    "\n",
    "  print(f'Epoch {epoch + 1}/{EPOCHS}')\n",
    "  print('-' * 10)\n",
    "\n",
    "  train_acc, train_loss = train_epoch(\n",
    "    model,\n",
    "    train_data_loader,    \n",
    "    loss_fn, \n",
    "    optimizer, \n",
    "    device, \n",
    "    scheduler, \n",
    "    len(df_train)\n",
    "  )\n",
    "\n",
    "  print(f'Train loss {train_loss} accuracy {train_acc}')\n",
    "\n",
    "  if train_acc > best_train_accuracy:\n",
    "    torch.save(model.state_dict(), 'best_train_model_state.bin')\n",
    "    best_train_accuracy = train_acc\n",
    "\n",
    "  val_acc, val_loss = eval_model(\n",
    "    model,\n",
    "    val_data_loader,\n",
    "    loss_fn, \n",
    "    device, \n",
    "    len(df_val)\n",
    "  )\n",
    "\n",
    "  print(f'Val   loss {val_loss} accuracy {val_acc}')\n",
    "  print()\n",
    "\n",
    "  history['train_acc'].append(train_acc)\n",
    "  history['train_loss'].append(train_loss)\n",
    "  history['val_acc'].append(val_acc)\n",
    "  history['val_loss'].append(val_loss)\n",
    "\n",
    "  if val_acc > best_accuracy:\n",
    "    torch.save(model.state_dict(), 'Factor24_Pretrained_ROBERT.bin')\n",
    "    best_accuracy = val_acc"
   ]
  },
  {
   "cell_type": "code",
   "execution_count": 18,
   "metadata": {
    "ExecuteTime": {
     "end_time": "2022-02-01T03:53:40.304263Z",
     "start_time": "2022-02-01T03:53:40.195108Z"
    },
    "executionInfo": {
     "elapsed": 11,
     "status": "aborted",
     "timestamp": 1635162955950,
     "user": {
      "displayName": "Nero Cao",
      "photoUrl": "https://lh3.googleusercontent.com/a/default-user=s64",
      "userId": "05305083952686219705"
     },
     "user_tz": -630
    },
    "id": "xu7Y2BPzLZgi"
   },
   "outputs": [
    {
     "data": {
      "image/png": "[encoded data removed]",
      "text/plain": [
       "<Figure size 864x576 with 1 Axes>"
      ]
     },
     "metadata": {
      "image/png": {
       "height": 494,
       "width": 720
      },
      "needs_background": "light"
     },
     "output_type": "display_data"
    }
   ],
   "source": [
    "plt.plot([i.cpu() for i in history['train_acc']], label='train accuracy')\n",
    "plt.plot([i.cpu() for i in history['val_acc']], label='validation accuracy')\n",
    "\n",
    "plt.title('Training history')\n",
    "plt.ylabel('Accuracy')\n",
    "plt.xlabel('Epoch')\n",
    "plt.legend()\n",
    "plt.ylim([0, 1]);"
   ]
  },
  {
   "cell_type": "code",
   "execution_count": 19,
   "metadata": {
    "ExecuteTime": {
     "end_time": "2022-02-01T03:53:41.073861Z",
     "start_time": "2022-02-01T03:53:40.305030Z"
    },
    "executionInfo": {
     "elapsed": 12,
     "status": "aborted",
     "timestamp": 1635162955951,
     "user": {
      "displayName": "Nero Cao",
      "photoUrl": "https://lh3.googleusercontent.com/a/default-user=s64",
      "userId": "05305083952686219705"
     },
     "user_tz": -630
    },
    "id": "YYMhWiIrBrV4"
   },
   "outputs": [
    {
     "name": "stderr",
     "output_type": "stream",
     "text": [
      "Some weights of the model checkpoint at ../model/pretrained-bert/ROBERT_4_model.bin were not used when initializing BertModel: ['cls.predictions.transform.LayerNorm.bias', 'cls.predictions.bias', 'cls.predictions.transform.dense.bias', 'cls.predictions.transform.dense.weight', 'cls.predictions.decoder.bias', 'cls.predictions.transform.LayerNorm.weight', 'cls.predictions.decoder.weight']\n",
      "- This IS expected if you are initializing BertModel from the checkpoint of a model trained on another task or with another architecture (e.g. initializing a BertForSequenceClassification model from a BertForPreTraining model).\n",
      "- This IS NOT expected if you are initializing BertModel from the checkpoint of a model that you expect to be exactly identical (initializing a BertForSequenceClassification model from a BertForSequenceClassification model).\n",
      "Some weights of BertModel were not initialized from the model checkpoint at ../model/pretrained-bert/ROBERT_4_model.bin and are newly initialized: ['bert.pooler.dense.bias', 'bert.pooler.dense.weight']\n",
      "You should probably TRAIN this model on a down-stream task to be able to use it for predictions and inference.\n"
     ]
    }
   ],
   "source": [
    "# !gdown --id 1V8itWtowCYnb2Bc9KlK9SxGff9WwmogA\n",
    "model = SentimentClassifier(len(class_names))\n",
    "model.load_state_dict(torch.load('Factor24_Pretrained_ROBERT.bin'))\n",
    "model = model.to(device)"
   ]
  },
  {
   "cell_type": "code",
   "execution_count": 20,
   "metadata": {
    "ExecuteTime": {
     "end_time": "2022-02-01T03:53:46.716146Z",
     "start_time": "2022-02-01T03:53:41.074519Z"
    },
    "executionInfo": {
     "elapsed": 12,
     "status": "aborted",
     "timestamp": 1635162955952,
     "user": {
      "displayName": "Nero Cao",
      "photoUrl": "https://lh3.googleusercontent.com/a/default-user=s64",
      "userId": "05305083952686219705"
     },
     "user_tz": -630
    },
    "id": "c7Cckbz8GbDK"
   },
   "outputs": [
    {
     "data": {
      "text/plain": [
       "0.6249153689911984"
      ]
     },
     "execution_count": 20,
     "metadata": {},
     "output_type": "execute_result"
    }
   ],
   "source": [
    "test_acc, _ = eval_model(\n",
    "  model,\n",
    "  test_data_loader,\n",
    "  loss_fn,\n",
    "  device,\n",
    "  len(df_test)\n",
    ")\n",
    "\n",
    "test_acc.item()"
   ]
  },
  {
   "cell_type": "code",
   "execution_count": null,
   "metadata": {
    "executionInfo": {
     "elapsed": 12,
     "status": "aborted",
     "timestamp": 1635162955952,
     "user": {
      "displayName": "Nero Cao",
      "photoUrl": "https://lh3.googleusercontent.com/a/default-user=s64",
      "userId": "05305083952686219705"
     },
     "user_tz": -630
    },
    "id": "X17uMr0xbOvW"
   },
   "outputs": [],
   "source": []
  },
  {
   "cell_type": "code",
   "execution_count": 21,
   "metadata": {
    "ExecuteTime": {
     "end_time": "2022-02-01T03:53:46.721409Z",
     "start_time": "2022-02-01T03:53:46.716891Z"
    },
    "executionInfo": {
     "elapsed": 12,
     "status": "aborted",
     "timestamp": 1635162955952,
     "user": {
      "displayName": "Nero Cao",
      "photoUrl": "https://lh3.googleusercontent.com/a/default-user=s64",
      "userId": "05305083952686219705"
     },
     "user_tz": -630
    },
    "id": "a0Qemnl0FiEb"
   },
   "outputs": [],
   "source": [
    "def get_predictions(model, data_loader):\n",
    "  model = model.eval()\n",
    "  \n",
    "  review_texts = []\n",
    "  predictions = []\n",
    "  prediction_probs = []\n",
    "  real_values = []\n",
    "\n",
    "  with torch.no_grad():\n",
    "    for d in data_loader:\n",
    "\n",
    "      texts = d[\"review_text\"]\n",
    "      input_ids = d[\"input_ids\"].to(device)\n",
    "      attention_mask = d[\"attention_mask\"].to(device)\n",
    "      targets = d[\"targets\"].to(device)\n",
    "      verb = d[\"verb\"].to(device)\n",
    "      stock_factors = d['stock_factors'].to(device)\n",
    "      A0 = d[\"A0\"].to(device)\n",
    "      A1 = d[\"A1\"].to(device)\n",
    "      AV_num = d['AV_num'].to(device)\n",
    "\n",
    "      outputs = model(\n",
    "        input_ids=input_ids,\n",
    "        attention_mask=attention_mask,\n",
    "        verb = verb,\n",
    "        A0 = A0,\n",
    "        A1 = A1,\n",
    "        stock_factors = stock_factors,\n",
    "        AV_num = AV_num\n",
    "      )\n",
    "      _, preds = torch.max(outputs, dim=1)\n",
    "\n",
    "      probs = F.softmax(outputs, dim=1)\n",
    "\n",
    "      review_texts.extend(texts)\n",
    "      predictions.extend(preds)\n",
    "      prediction_probs.extend(probs)\n",
    "      real_values.extend(targets)\n",
    "\n",
    "  predictions = torch.stack(predictions).cpu()\n",
    "  prediction_probs = torch.stack(prediction_probs).cpu()\n",
    "  real_values = torch.stack(real_values).cpu()\n",
    "  return review_texts, predictions, prediction_probs, real_values"
   ]
  },
  {
   "cell_type": "code",
   "execution_count": 22,
   "metadata": {
    "ExecuteTime": {
     "end_time": "2022-02-01T03:53:51.214552Z",
     "start_time": "2022-02-01T03:53:46.722030Z"
    },
    "executionInfo": {
     "elapsed": 13,
     "status": "aborted",
     "timestamp": 1635162955953,
     "user": {
      "displayName": "Nero Cao",
      "photoUrl": "https://lh3.googleusercontent.com/a/default-user=s64",
      "userId": "05305083952686219705"
     },
     "user_tz": -630
    },
    "id": "YkPHXF0MGiCh"
   },
   "outputs": [],
   "source": [
    "y_review_texts, y_pred, y_pred_probs, y_test = get_predictions(\n",
    "  model,\n",
    "  test_data_loader\n",
    ")"
   ]
  },
  {
   "cell_type": "markdown",
   "metadata": {},
   "source": [
    "### Result"
   ]
  },
  {
   "cell_type": "code",
   "execution_count": 23,
   "metadata": {
    "ExecuteTime": {
     "end_time": "2022-02-01T03:53:51.341562Z",
     "start_time": "2022-02-01T03:53:51.215366Z"
    },
    "executionInfo": {
     "elapsed": 13,
     "status": "aborted",
     "timestamp": 1635162955953,
     "user": {
      "displayName": "Nero Cao",
      "photoUrl": "https://lh3.googleusercontent.com/a/default-user=s64",
      "userId": "05305083952686219705"
     },
     "user_tz": -630
    },
    "id": "QTzPA7C7C-0x",
    "scrolled": false
   },
   "outputs": [
    {
     "name": "stdout",
     "output_type": "stream",
     "text": [
      "              precision    recall  f1-score   support\n",
      "\n",
      "    negative     0.6504    0.6343    0.6423       484\n",
      "     neutral     0.5939    0.6139    0.6037       505\n",
      "    positive     0.6335    0.6270    0.6303       488\n",
      "\n",
      "    accuracy                         0.6249      1477\n",
      "   macro avg     0.6259    0.6251    0.6254      1477\n",
      "weighted avg     0.6255    0.6249    0.6251      1477\n",
      "\n"
     ]
    },
    {
     "data": {
      "image/png": "[encoded data removed]",
      "text/plain": [
       "<Figure size 864x576 with 2 Axes>"
      ]
     },
     "metadata": {
      "image/png": {
       "height": 499,
       "width": 695
      },
      "needs_background": "light"
     },
     "output_type": "display_data"
    }
   ],
   "source": [
    "print(classification_report(y_test, y_pred, target_names=class_names,digits=4))\n",
    "\n",
    "def show_confusion_matrix(confusion_matrix):\n",
    "  hmap = sns.heatmap(confusion_matrix, annot=True, fmt=\"d\", cmap=\"Blues\")\n",
    "  hmap.yaxis.set_ticklabels(hmap.yaxis.get_ticklabels(), rotation=0, ha='right')\n",
    "  hmap.xaxis.set_ticklabels(hmap.xaxis.get_ticklabels(), rotation=30, ha='right')\n",
    "  plt.ylabel('True sentiment')\n",
    "  plt.xlabel('Predicted sentiment');\n",
    "\n",
    "cm = confusion_matrix(y_test, y_pred)\n",
    "df_cm = pd.DataFrame(cm, index=class_names, columns=class_names)\n",
    "show_confusion_matrix(df_cm)"
   ]
  },
  {
   "cell_type": "code",
   "execution_count": 24,
   "metadata": {
    "ExecuteTime": {
     "end_time": "2022-02-01T03:53:51.467896Z",
     "start_time": "2022-02-01T03:53:51.342389Z"
    }
   },
   "outputs": [],
   "source": [
    "df = pd.DataFrame([y_review_texts, y_pred.numpy(), y_pred_probs.numpy(), y_test.numpy()]).T\n",
    "df = df.rename(columns={0:'text',1:'prediction',2:'probability',3:'labels'})\n",
    "df.to_csv('Factor24_Pretrained_ROBERT_test.csv',sep='\\t')"
   ]
  },
  {
   "cell_type": "code",
   "execution_count": null,
   "metadata": {},
   "outputs": [],
   "source": []
  },
  {
   "cell_type": "markdown",
   "metadata": {},
   "source": [
    "### OOD Result"
   ]
  },
  {
   "cell_type": "code",
   "execution_count": 25,
   "metadata": {
    "ExecuteTime": {
     "end_time": "2022-02-01T03:54:22.528364Z",
     "start_time": "2022-02-01T03:53:51.468631Z"
    },
    "scrolled": true
   },
   "outputs": [
    {
     "name": "stdout",
     "output_type": "stream",
     "text": [
      "              precision    recall  f1-score   support\n",
      "\n",
      "    negative     0.6359    0.5764    0.6047      3133\n",
      "     neutral     0.5639    0.5464    0.5550      3406\n",
      "    positive     0.5962    0.6620    0.6274      3618\n",
      "\n",
      "    accuracy                         0.5968     10157\n",
      "   macro avg     0.5987    0.5949    0.5957     10157\n",
      "weighted avg     0.5976    0.5968    0.5961     10157\n",
      "\n"
     ]
    },
    {
     "data": {
      "image/png": "[encoded data removed]",
      "text/plain": [
       "<Figure size 864x576 with 2 Axes>"
      ]
     },
     "metadata": {
      "image/png": {
       "height": 499,
       "width": 702
      },
      "needs_background": "light"
     },
     "output_type": "display_data"
    }
   ],
   "source": [
    "y_ood_review_texts, y_ood_pred, y_ood_pred_probs, y_ood = get_predictions(\n",
    "  model,\n",
    "  ood_data_loader\n",
    ")\n",
    "\n",
    "print(classification_report(y_ood, y_ood_pred, target_names=class_names,digits=4))\n",
    "\n",
    "ood_cm = confusion_matrix(y_ood, y_ood_pred)\n",
    "df_ood_cm = pd.DataFrame(ood_cm, index=class_names, columns=class_names)\n",
    "show_confusion_matrix(df_ood_cm)"
   ]
  },
  {
   "cell_type": "code",
   "execution_count": 26,
   "metadata": {
    "ExecuteTime": {
     "end_time": "2022-02-01T03:54:22.530744Z",
     "start_time": "2022-02-01T03:54:22.529071Z"
    }
   },
   "outputs": [],
   "source": [
    "# df = pd.DataFrame([y_ood_review_texts, y_ood_pred.numpy(), y_ood_pred_probs.numpy(), y_ood.numpy()]).T\n",
    "# df = df.rename(columns={0:'text',1:'prediction',2:'probability',3:'labels'})\n",
    "# df.to_csv('Factor24_Pretrained_ROBERT.csv',sep='\\t')"
   ]
  },
  {
   "cell_type": "code",
   "execution_count": 27,
   "metadata": {
    "ExecuteTime": {
     "end_time": "2022-02-01T03:54:36.087176Z",
     "start_time": "2022-02-01T03:54:22.531449Z"
    }
   },
   "outputs": [
    {
     "name": "stdout",
     "output_type": "stream",
     "text": [
      "              precision    recall  f1-score   support\n",
      "\n",
      "    negative     0.6373    0.5684    0.6009       943\n",
      "     neutral     0.5425    0.5687    0.5553       953\n",
      "    positive     0.6479    0.6752    0.6613      1330\n",
      "\n",
      "    accuracy                         0.6125      3226\n",
      "   macro avg     0.6093    0.6041    0.6058      3226\n",
      "weighted avg     0.6137    0.6125    0.6123      3226\n",
      "\n"
     ]
    },
    {
     "data": {
      "image/png": "[encoded data removed]",
      "text/plain": [
       "<Figure size 864x576 with 2 Axes>"
      ]
     },
     "metadata": {
      "image/png": {
       "height": 499,
       "width": 695
      },
      "needs_background": "light"
     },
     "output_type": "display_data"
    }
   ],
   "source": [
    "df_ood = pd.read_csv('../data/pre/ood.csv',sep='\\t')\n",
    "df_ood = df_ood.loc[(df_ood.DATE>='2021-01-01')&(df_ood.DATE<='2021-03-31')]\n",
    "df_ood = df_ood.sort_values(by='DATE')\n",
    "df_ood = df_ood.reset_index(drop=True)\n",
    "# df_ood = df_ood.loc[:4000]\n",
    "df_ood = df_ood.drop(df_ood.loc[df_ood.verbA0A1.isna()].index)\n",
    "df_ood = df_ood.drop(df_ood.loc[df_ood.verbA0A1=='[]'].index)\n",
    "for col in ['verb','A0','A1']:\n",
    "  df_ood[col] = df_ood[col].apply(string_to_tuples_list)\n",
    "\n",
    "for col in ['stock_factors','verbA0A1']:\n",
    "  df_ood[col] = df_ood[col].apply(ast.literal_eval)\n",
    "df_ood = mask(df_ood)\n",
    "df_ood = df_ood.reset_index(drop=True)\n",
    "ood_data_loader = create_data_loader(df_ood, tokenizer, max_len, BATCH_SIZE)\n",
    "\n",
    "y_ood_review_texts, y_ood_pred, y_ood_pred_probs, y_ood = get_predictions(\n",
    "  model,\n",
    "  ood_data_loader\n",
    ")\n",
    "\n",
    "print(classification_report(y_ood, y_ood_pred, target_names=class_names,digits=4))\n",
    "\n",
    "ood_cm = confusion_matrix(y_ood, y_ood_pred)\n",
    "df_ood_cm = pd.DataFrame(ood_cm, index=class_names, columns=class_names)\n",
    "show_confusion_matrix(df_ood_cm)"
   ]
  },
  {
   "cell_type": "code",
   "execution_count": 28,
   "metadata": {
    "ExecuteTime": {
     "end_time": "2022-02-01T03:54:45.823152Z",
     "start_time": "2022-02-01T03:54:36.087973Z"
    }
   },
   "outputs": [
    {
     "name": "stdout",
     "output_type": "stream",
     "text": [
      "              precision    recall  f1-score   support\n",
      "\n",
      "    negative     0.6604    0.6180    0.6385       623\n",
      "     neutral     0.6524    0.5915    0.6205       825\n",
      "    positive     0.6249    0.7172    0.6678       792\n",
      "\n",
      "    accuracy                         0.6433      2240\n",
      "   macro avg     0.6459    0.6422    0.6423      2240\n",
      "weighted avg     0.6449    0.6433    0.6422      2240\n",
      "\n"
     ]
    },
    {
     "data": {
      "image/png": "[encoded data removed]",
      "text/plain": [
       "<Figure size 864x576 with 2 Axes>"
      ]
     },
     "metadata": {
      "image/png": {
       "height": 499,
       "width": 695
      },
      "needs_background": "light"
     },
     "output_type": "display_data"
    }
   ],
   "source": [
    "df_ood = pd.read_csv('../data/pre/ood.csv',sep='\\t')\n",
    "df_ood = df_ood.loc[(df_ood.DATE>='2021-04-01')&(df_ood.DATE<='2021-06-31')]\n",
    "df_ood = df_ood.sort_values(by='DATE')\n",
    "df_ood = df_ood.reset_index(drop=True)\n",
    "# df_ood = df_ood.loc[:4000]\n",
    "df_ood = df_ood.drop(df_ood.loc[df_ood.verbA0A1.isna()].index)\n",
    "df_ood = df_ood.drop(df_ood.loc[df_ood.verbA0A1=='[]'].index)\n",
    "for col in ['verb','A0','A1']:\n",
    "  df_ood[col] = df_ood[col].apply(string_to_tuples_list)\n",
    "\n",
    "for col in ['stock_factors','verbA0A1']:\n",
    "  df_ood[col] = df_ood[col].apply(ast.literal_eval)\n",
    "df_ood = mask(df_ood)\n",
    "df_ood = df_ood.reset_index(drop=True)\n",
    "ood_data_loader = create_data_loader(df_ood, tokenizer, max_len, BATCH_SIZE)\n",
    "\n",
    "y_ood_review_texts, y_ood_pred, y_ood_pred_probs, y_ood = get_predictions(\n",
    "  model,\n",
    "  ood_data_loader\n",
    ")\n",
    "\n",
    "print(classification_report(y_ood, y_ood_pred, target_names=class_names,digits=4))\n",
    "\n",
    "ood_cm = confusion_matrix(y_ood, y_ood_pred)\n",
    "df_ood_cm = pd.DataFrame(ood_cm, index=class_names, columns=class_names)\n",
    "show_confusion_matrix(df_ood_cm)"
   ]
  },
  {
   "cell_type": "code",
   "execution_count": 29,
   "metadata": {
    "ExecuteTime": {
     "end_time": "2022-02-01T03:55:00.269304Z",
     "start_time": "2022-02-01T03:54:45.823956Z"
    }
   },
   "outputs": [
    {
     "name": "stdout",
     "output_type": "stream",
     "text": [
      "              precision    recall  f1-score   support\n",
      "\n",
      "    negative     0.6323    0.5678    0.5984      1157\n",
      "     neutral     0.5349    0.5175    0.5261      1169\n",
      "    positive     0.5385    0.6154    0.5744      1092\n",
      "\n",
      "    accuracy                         0.5658      3418\n",
      "   macro avg     0.5686    0.5669    0.5663      3418\n",
      "weighted avg     0.5690    0.5658    0.5660      3418\n",
      "\n"
     ]
    },
    {
     "data": {
      "image/png": "[encoded data removed]",
      "text/plain": [
       "<Figure size 864x576 with 2 Axes>"
      ]
     },
     "metadata": {
      "image/png": {
       "height": 499,
       "width": 695
      },
      "needs_background": "light"
     },
     "output_type": "display_data"
    }
   ],
   "source": [
    "df_ood = pd.read_csv('../data/pre/ood.csv',sep='\\t')\n",
    "df_ood = df_ood.loc[(df_ood.DATE>='2021-07-01')&(df_ood.DATE<='2021-09-31')]\n",
    "df_ood = df_ood.sort_values(by='DATE')\n",
    "df_ood = df_ood.reset_index(drop=True)\n",
    "# df_ood = df_ood.loc[:4000]\n",
    "df_ood = df_ood.drop(df_ood.loc[df_ood.verbA0A1.isna()].index)\n",
    "df_ood = df_ood.drop(df_ood.loc[df_ood.verbA0A1=='[]'].index)\n",
    "for col in ['verb','A0','A1']:\n",
    "  df_ood[col] = df_ood[col].apply(string_to_tuples_list)\n",
    "\n",
    "for col in ['stock_factors','verbA0A1']:\n",
    "  df_ood[col] = df_ood[col].apply(ast.literal_eval)\n",
    "df_ood = mask(df_ood)\n",
    "df_ood = df_ood.reset_index(drop=True)\n",
    "ood_data_loader = create_data_loader(df_ood, tokenizer, max_len, BATCH_SIZE)\n",
    "\n",
    "y_ood_review_texts, y_ood_pred, y_ood_pred_probs, y_ood = get_predictions(\n",
    "  model,\n",
    "  ood_data_loader\n",
    ")\n",
    "\n",
    "print(classification_report(y_ood, y_ood_pred, target_names=class_names,digits=4))\n",
    "\n",
    "ood_cm = confusion_matrix(y_ood, y_ood_pred)\n",
    "df_ood_cm = pd.DataFrame(ood_cm, index=class_names, columns=class_names)\n",
    "show_confusion_matrix(df_ood_cm)"
   ]
  },
  {
   "cell_type": "code",
   "execution_count": 30,
   "metadata": {
    "ExecuteTime": {
     "end_time": "2022-02-01T03:55:00.271884Z",
     "start_time": "2022-02-01T03:55:00.270202Z"
    },
    "executionInfo": {
     "elapsed": 13,
     "status": "aborted",
     "timestamp": 1635162955953,
     "user": {
      "displayName": "Nero Cao",
      "photoUrl": "https://lh3.googleusercontent.com/a/default-user=s64",
      "userId": "05305083952686219705"
     },
     "user_tz": -630
    },
    "id": "6QZ0EgQoalz2"
   },
   "outputs": [],
   "source": [
    "# !pip install lit-nlp"
   ]
  },
  {
   "cell_type": "code",
   "execution_count": null,
   "metadata": {},
   "outputs": [],
   "source": []
  },
  {
   "cell_type": "code",
   "execution_count": 31,
   "metadata": {
    "ExecuteTime": {
     "end_time": "2022-02-01T03:55:05.803772Z",
     "start_time": "2022-02-01T03:55:00.272599Z"
    }
   },
   "outputs": [
    {
     "name": "stdout",
     "output_type": "stream",
     "text": [
      "              precision    recall  f1-score   support\n",
      "\n",
      "    negative     0.6065    0.5569    0.5806       404\n",
      "     neutral     0.5319    0.4855    0.5076       447\n",
      "    positive     0.5320    0.6325    0.5779       381\n",
      "\n",
      "    accuracy                         0.5544      1232\n",
      "   macro avg     0.5568    0.5583    0.5554      1232\n",
      "weighted avg     0.5564    0.5544    0.5533      1232\n",
      "\n"
     ]
    },
    {
     "data": {
      "image/png": "[encoded data removed]",
      "text/plain": [
       "<Figure size 864x576 with 2 Axes>"
      ]
     },
     "metadata": {
      "image/png": {
       "height": 499,
       "width": 695
      },
      "needs_background": "light"
     },
     "output_type": "display_data"
    }
   ],
   "source": [
    "df_ood = pd.read_csv('../data/pre/ood.csv',sep='\\t')\n",
    "df_ood = df_ood.loc[df_ood.DATE>='2021-10-01']\n",
    "df_ood = df_ood.sort_values(by='DATE')\n",
    "df_ood = df_ood.reset_index(drop=True)\n",
    "# df_ood = df_ood.loc[:4000]\n",
    "df_ood = df_ood.drop(df_ood.loc[df_ood.verbA0A1.isna()].index)\n",
    "df_ood = df_ood.drop(df_ood.loc[df_ood.verbA0A1=='[]'].index)\n",
    "for col in ['verb','A0','A1']:\n",
    "  df_ood[col] = df_ood[col].apply(string_to_tuples_list)\n",
    "\n",
    "for col in ['stock_factors','verbA0A1']:\n",
    "  df_ood[col] = df_ood[col].apply(ast.literal_eval)\n",
    "df_ood = mask(df_ood)\n",
    "df_ood = df_ood.reset_index(drop=True)\n",
    "ood_data_loader = create_data_loader(df_ood, tokenizer, max_len, BATCH_SIZE)\n",
    "\n",
    "y_ood_review_texts, y_ood_pred, y_ood_pred_probs, y_ood = get_predictions(\n",
    "  model,\n",
    "  ood_data_loader\n",
    ")\n",
    "\n",
    "print(classification_report(y_ood, y_ood_pred, target_names=class_names,digits=4))\n",
    "\n",
    "ood_cm = confusion_matrix(y_ood, y_ood_pred)\n",
    "df_ood_cm = pd.DataFrame(ood_cm, index=class_names, columns=class_names)\n",
    "show_confusion_matrix(df_ood_cm)"
   ]
  },
  {
   "cell_type": "code",
   "execution_count": 32,
   "metadata": {
    "ExecuteTime": {
     "end_time": "2022-02-01T03:56:17.865604Z",
     "start_time": "2022-02-01T03:55:05.804631Z"
    }
   },
   "outputs": [
    {
     "name": "stdout",
     "output_type": "stream",
     "text": [
      "              precision    recall  f1-score   support\n",
      "\n",
      "    negative     0.0000    0.0000    0.0000         0\n",
      "     neutral     1.0000    0.3685    0.5385     16798\n",
      "    positive     0.0000    0.0000    0.0000         0\n",
      "\n",
      "    accuracy                         0.3685     16798\n",
      "   macro avg     0.3333    0.1228    0.1795     16798\n",
      "weighted avg     1.0000    0.3685    0.5385     16798\n",
      "\n"
     ]
    },
    {
     "name": "stderr",
     "output_type": "stream",
     "text": [
      "/home/bit/anaconda3/lib/python3.9/site-packages/sklearn/metrics/_classification.py:1248: UndefinedMetricWarning: Recall and F-score are ill-defined and being set to 0.0 in labels with no true samples. Use `zero_division` parameter to control this behavior.\n",
      "  _warn_prf(average, modifier, msg_start, len(result))\n",
      "/home/bit/anaconda3/lib/python3.9/site-packages/sklearn/metrics/_classification.py:1248: UndefinedMetricWarning: Recall and F-score are ill-defined and being set to 0.0 in labels with no true samples. Use `zero_division` parameter to control this behavior.\n",
      "  _warn_prf(average, modifier, msg_start, len(result))\n",
      "/home/bit/anaconda3/lib/python3.9/site-packages/sklearn/metrics/_classification.py:1248: UndefinedMetricWarning: Recall and F-score are ill-defined and being set to 0.0 in labels with no true samples. Use `zero_division` parameter to control this behavior.\n",
      "  _warn_prf(average, modifier, msg_start, len(result))\n"
     ]
    },
    {
     "data": {
      "image/png": "[encoded data removed]",
      "text/plain": [
       "<Figure size 864x576 with 2 Axes>"
      ]
     },
     "metadata": {
      "image/png": {
       "height": 499,
       "width": 702
      },
      "needs_background": "light"
     },
     "output_type": "display_data"
    }
   ],
   "source": [
    "df_ood = pd.read_csv('../data/df_all_year_srl.csv',sep='\\t')\n",
    "# df_ood = df_ood.loc[(df_ood.DATE>='2021-05-05')&(df_ood.DATE<='2021-09-01')]\n",
    "df_ood = df_ood.sort_values(by='DATE')\n",
    "df_ood = df_ood.reset_index(drop=True)\n",
    "# df_ood = df_ood.loc[:2000]\n",
    "df_ood = df_ood.drop(df_ood.loc[df_ood.verbA0A1.isna()].index)\n",
    "df_ood = df_ood.drop(df_ood.loc[df_ood.verbA0A1=='[]'].index)\n",
    "for col in ['verb','A0','A1']:\n",
    "  df_ood[col] = df_ood[col].apply(string_to_tuples_list)\n",
    "\n",
    "for col in ['stock_factors','verbA0A1']:\n",
    "  df_ood[col] = df_ood[col].apply(ast.literal_eval)\n",
    "df_ood = mask(df_ood)\n",
    "df_ood = df_ood.reset_index(drop=True)\n",
    "ood_data_loader = create_data_loader(df_ood, tokenizer, max_len, BATCH_SIZE)\n",
    "\n",
    "y_ood_review_texts, y_ood_pred, y_ood_pred_probs, y_ood = get_predictions(\n",
    "  model,\n",
    "  ood_data_loader\n",
    ")\n",
    "\n",
    "print(classification_report(y_ood, y_ood_pred, target_names=class_names,digits=4))\n",
    "\n",
    "ood_cm = confusion_matrix(y_ood, y_ood_pred)\n",
    "df_ood_cm = pd.DataFrame(ood_cm, index=class_names, columns=class_names)\n",
    "show_confusion_matrix(df_ood_cm)"
   ]
  },
  {
   "cell_type": "code",
   "execution_count": 33,
   "metadata": {
    "ExecuteTime": {
     "end_time": "2022-02-01T03:56:19.243169Z",
     "start_time": "2022-02-01T03:56:17.866394Z"
    }
   },
   "outputs": [],
   "source": [
    "df = pd.DataFrame([y_ood_review_texts, y_ood_pred.numpy(), y_ood_pred_probs.numpy(), y_ood.numpy()]).T\n",
    "df = df.rename(columns={0:'text',1:'prediction',2:'probability',3:'labels'})\n",
    "df.to_csv('Factor24_Pretrained_ROBERT_ood.csv',sep='\\t')"
   ]
  },
  {
   "cell_type": "code",
   "execution_count": 43,
   "metadata": {
    "ExecuteTime": {
     "end_time": "2022-02-01T03:58:31.997630Z",
     "start_time": "2022-02-01T03:58:31.835369Z"
    }
   },
   "outputs": [
    {
     "data": {
      "text/html": [
       "<div>\n",
       "<style scoped>\n",
       "    .dataframe tbody tr th:only-of-type {\n",
       "        vertical-align: middle;\n",
       "    }\n",
       "\n",
       "    .dataframe tbody tr th {\n",
       "        vertical-align: top;\n",
       "    }\n",
       "\n",
       "    .dataframe thead th {\n",
       "        text-align: right;\n",
       "    }\n",
       "</style>\n",
       "<table border=\"1\" class=\"dataframe\">\n",
       "  <thead>\n",
       "    <tr style=\"text-align: right;\">\n",
       "      <th></th>\n",
       "      <th>CODE</th>\n",
       "      <th>NAME</th>\n",
       "      <th>DATE</th>\n",
       "      <th>CREATED_DATE</th>\n",
       "      <th>text_a</th>\n",
       "      <th>DESCRIPTION</th>\n",
       "      <th>READ</th>\n",
       "      <th>MARKET</th>\n",
       "      <th>CHANGE</th>\n",
       "      <th>FIRST_DAY</th>\n",
       "      <th>...</th>\n",
       "      <th>verb_mask</th>\n",
       "      <th>A0_mask</th>\n",
       "      <th>A1_mask</th>\n",
       "      <th>AV_num</th>\n",
       "      <th>trade_date</th>\n",
       "      <th>open_close_chg</th>\n",
       "      <th>co_label</th>\n",
       "      <th>cc_label</th>\n",
       "      <th>stock_factors</th>\n",
       "      <th>label</th>\n",
       "    </tr>\n",
       "  </thead>\n",
       "  <tbody>\n",
       "    <tr>\n",
       "      <th>0</th>\n",
       "      <td>600165</td>\n",
       "      <td>新日恒力</td>\n",
       "      <td>2021-01-03 14:07:00</td>\n",
       "      <td>2021-01-03 14:07:00</td>\n",
       "      <td>新日恒力公告，控股子公司宁夏恒力生物新材料有限责任公司建设的5万吨/年月桂二酸项目，截至目前...</td>\n",
       "      <td>新日恒力公告，控股子公司宁夏恒力生物新材料有限责任公司建设的5万吨/年月桂二酸项目，截至目前...</td>\n",
       "      <td>5656545.0</td>\n",
       "      <td>1.0</td>\n",
       "      <td>0.057299</td>\n",
       "      <td>2020-12-31</td>\n",
       "      <td>...</td>\n",
       "      <td>[[0.0, 0.0, 0.0, 0.0, 0.0, 0.0, 0.0, 0.0, 0.0,...</td>\n",
       "      <td>[[0.0, 0.0, 0.0, 0.0, 0.0, 0.0, 0.0, 0.0, 0.05...</td>\n",
       "      <td>[[0.0, 0.0, 0.0, 0.0, 0.0, 0.0, 0.0, 0.0, 0.0,...</td>\n",
       "      <td>3</td>\n",
       "      <td>2020-12-31</td>\n",
       "      <td>3.764881</td>\n",
       "      <td>3.0</td>\n",
       "      <td>4.0</td>\n",
       "      <td>[-0.2940583520796876, -0.2879241038280342, -0....</td>\n",
       "      <td>1</td>\n",
       "    </tr>\n",
       "    <tr>\n",
       "      <th>1</th>\n",
       "      <td>603980</td>\n",
       "      <td>吉华集团</td>\n",
       "      <td>2021-01-03 15:42:00</td>\n",
       "      <td>2021-01-03 14:13:00</td>\n",
       "      <td>吉华集团披露于股东所持公司股份拟被司法拍卖的进展，杭州市中级人民法院于公司于2020年12月...</td>\n",
       "      <td>吉华集团披露于股东所持公司股份拟被司法拍卖的进展，杭州市中级人民法院于公司于2020年12月...</td>\n",
       "      <td>5561922.0</td>\n",
       "      <td>1.0</td>\n",
       "      <td>0.004637</td>\n",
       "      <td>2020-12-31</td>\n",
       "      <td>...</td>\n",
       "      <td>[[0.0, 0.0, 0.0, 0.0, 0.0, 0.5, 0.5, 0.0, 0.0,...</td>\n",
       "      <td>[[0.0, 0.25, 0.25, 0.25, 0.25, 0.0, 0.0, 0.0, ...</td>\n",
       "      <td>[[0.0, 0.0, 0.0, 0.0, 0.0, 0.0, 0.0, 0.0555555...</td>\n",
       "      <td>4</td>\n",
       "      <td>2020-12-31</td>\n",
       "      <td>0.192770</td>\n",
       "      <td>2.0</td>\n",
       "      <td>2.0</td>\n",
       "      <td>[-0.3107922628444556, -0.3125204395801499, -0....</td>\n",
       "      <td>1</td>\n",
       "    </tr>\n",
       "    <tr>\n",
       "      <th>2</th>\n",
       "      <td>2623</td>\n",
       "      <td>亚玛顿</td>\n",
       "      <td>2021-01-03 16:10:00</td>\n",
       "      <td>2021-01-03 16:09:00</td>\n",
       "      <td>亚玛顿公告，公司与晶澳科技签署战略合作协议，拟于2021年1月至2022年12月期间向晶澳科...</td>\n",
       "      <td>亚玛顿公告，公司与晶澳科技签署战略合作协议，拟于2021年1月至2022年12月期间向晶澳科...</td>\n",
       "      <td>5147605.0</td>\n",
       "      <td>0.0</td>\n",
       "      <td>0.090930</td>\n",
       "      <td>2020-12-31</td>\n",
       "      <td>...</td>\n",
       "      <td>[[0.0, 0.0, 0.0, 0.0, 0.0, 0.0, 0.0, 0.0, 0.0,...</td>\n",
       "      <td>[[0.0, 0.0, 0.0, 0.0, 0.0, 0.0, 0.0, 0.5, 0.5,...</td>\n",
       "      <td>[[0.0, 0.0, 0.0, 0.0, 0.0, 0.0, 0.0, 0.0, 0.0,...</td>\n",
       "      <td>2</td>\n",
       "      <td>2020-12-31</td>\n",
       "      <td>6.046046</td>\n",
       "      <td>4.0</td>\n",
       "      <td>4.0</td>\n",
       "      <td>[0.4234596882860056, 0.4565189568188482, 0.432...</td>\n",
       "      <td>1</td>\n",
       "    </tr>\n",
       "    <tr>\n",
       "      <th>3</th>\n",
       "      <td>300609</td>\n",
       "      <td>汇纳科技</td>\n",
       "      <td>2021-01-03 16:13:00</td>\n",
       "      <td>2021-01-03 16:13:00</td>\n",
       "      <td>汇纳科技公告，本次以自有资金采取集中竞价交易方式回购公司股份，回购资金总额为 6000 万元...</td>\n",
       "      <td>汇纳科技公告，本次以自有资金采取集中竞价交易方式回购公司股份，回购资金总额为 6000 万元...</td>\n",
       "      <td>5284455.0</td>\n",
       "      <td>0.0</td>\n",
       "      <td>-0.007471</td>\n",
       "      <td>2020-12-31</td>\n",
       "      <td>...</td>\n",
       "      <td>[[0.0, 0.0, 0.0, 0.0, 0.0, 0.0, 0.0, 0.0, 0.0,...</td>\n",
       "      <td>[[0.0, 0.0, 0.0, 0.0, 0.0, 0.0, 0.0, 0.0, 0.0,...</td>\n",
       "      <td>[[0.0, 0.0, 0.0, 0.0, 0.0, 0.0, 0.0, 0.0, 0.0,...</td>\n",
       "      <td>4</td>\n",
       "      <td>2020-12-31</td>\n",
       "      <td>-0.628422</td>\n",
       "      <td>3.0</td>\n",
       "      <td>4.0</td>\n",
       "      <td>[-0.0898416790525287, -0.0901537427521376, -0....</td>\n",
       "      <td>1</td>\n",
       "    </tr>\n",
       "    <tr>\n",
       "      <th>4</th>\n",
       "      <td>757</td>\n",
       "      <td>浩物股份</td>\n",
       "      <td>2021-01-03 16:16:00</td>\n",
       "      <td>2021-01-03 16:16:00</td>\n",
       "      <td>浩物股份公告，持股8.96%的股东申宏产投拟通过集中竞价、大宗交易方式于本公告披露之日起15...</td>\n",
       "      <td>浩物股份公告，持股8.96%的股东申宏产投拟通过集中竞价、大宗交易方式于本公告披露之日起15...</td>\n",
       "      <td>5515404.0</td>\n",
       "      <td>0.0</td>\n",
       "      <td>-0.011161</td>\n",
       "      <td>2020-12-31</td>\n",
       "      <td>...</td>\n",
       "      <td>[[0.0, 0.0, 0.0, 0.0, 0.0, 0.0, 0.0, 0.0, 0.0,...</td>\n",
       "      <td>[[0.0, 0.0, 0.0, 0.0, 0.0, 0.0, 0.0, 0.0, 0.0,...</td>\n",
       "      <td>[[0.0, 0.0, 0.0, 0.0, 0.0, 0.0, 0.0, 0.0, 0.0,...</td>\n",
       "      <td>1</td>\n",
       "      <td>2020-12-31</td>\n",
       "      <td>-0.878674</td>\n",
       "      <td>1.0</td>\n",
       "      <td>0.0</td>\n",
       "      <td>[-0.347616678739463, -0.3477471782231313, -0.3...</td>\n",
       "      <td>1</td>\n",
       "    </tr>\n",
       "    <tr>\n",
       "      <th>...</th>\n",
       "      <td>...</td>\n",
       "      <td>...</td>\n",
       "      <td>...</td>\n",
       "      <td>...</td>\n",
       "      <td>...</td>\n",
       "      <td>...</td>\n",
       "      <td>...</td>\n",
       "      <td>...</td>\n",
       "      <td>...</td>\n",
       "      <td>...</td>\n",
       "      <td>...</td>\n",
       "      <td>...</td>\n",
       "      <td>...</td>\n",
       "      <td>...</td>\n",
       "      <td>...</td>\n",
       "      <td>...</td>\n",
       "      <td>...</td>\n",
       "      <td>...</td>\n",
       "      <td>...</td>\n",
       "      <td>...</td>\n",
       "      <td>...</td>\n",
       "    </tr>\n",
       "    <tr>\n",
       "      <th>16793</th>\n",
       "      <td>300900</td>\n",
       "      <td>广联航空</td>\n",
       "      <td>2021-11-12 17:22:00</td>\n",
       "      <td>2021-11-12 17:22:00</td>\n",
       "      <td>财联社11月12日电，广联航空收深交所关注函，此前公司公告，拟收购成都航新航空装备科技有限公...</td>\n",
       "      <td>财联社11月12日电，广联航空收深交所关注函，此前公司公告，拟收购成都航新航空装备科技有限公...</td>\n",
       "      <td>112322.0</td>\n",
       "      <td>0.0</td>\n",
       "      <td>0.080945</td>\n",
       "      <td>2021-11-12</td>\n",
       "      <td>...</td>\n",
       "      <td>[[0.0, 0.0, 0.0, 0.0, 0.0, 0.0, 0.0, 0.0, 0.0,...</td>\n",
       "      <td>[[0.0, 0.0, 0.0, 0.0, 0.0, 0.0, 0.0, 0.0, 0.0,...</td>\n",
       "      <td>[[0.0, 0.0, 0.0, 0.0, 0.0, 0.0, 0.0, 0.0, 0.0,...</td>\n",
       "      <td>1</td>\n",
       "      <td>2021-11-12</td>\n",
       "      <td>6.030357</td>\n",
       "      <td>4.0</td>\n",
       "      <td>4.0</td>\n",
       "      <td>[0.1015462724794221, 0.2032940044685548, 0.105...</td>\n",
       "      <td>1</td>\n",
       "    </tr>\n",
       "    <tr>\n",
       "      <th>16794</th>\n",
       "      <td>2611</td>\n",
       "      <td>东方精工</td>\n",
       "      <td>2021-11-12 17:24:00</td>\n",
       "      <td>2021-11-12 17:24:00</td>\n",
       "      <td>财联社11月12日电，东方精工公告，合计持股5%以上的股东北大先行和青海普仁计划3个月内减持...</td>\n",
       "      <td>财联社11月12日电，东方精工公告，合计持股5%以上的股东北大先行和青海普仁计划3个月内减持...</td>\n",
       "      <td>91580.0</td>\n",
       "      <td>0.0</td>\n",
       "      <td>-0.007313</td>\n",
       "      <td>2021-11-12</td>\n",
       "      <td>...</td>\n",
       "      <td>[[0.0, 0.0, 0.0, 0.0, 0.0, 0.0, 0.0, 0.0, 0.0,...</td>\n",
       "      <td>[[0.0, 0.0, 0.0, 0.0, 0.0, 0.0, 0.0, 0.0, 0.0,...</td>\n",
       "      <td>[[0.0, 0.0, 0.0, 0.0, 0.0, 0.0, 0.0, 0.0, 0.0,...</td>\n",
       "      <td>1</td>\n",
       "      <td>2021-11-12</td>\n",
       "      <td>-0.703023</td>\n",
       "      <td>0.0</td>\n",
       "      <td>0.0</td>\n",
       "      <td>[-0.3734465422810841, -0.3784647408609613, -0....</td>\n",
       "      <td>1</td>\n",
       "    </tr>\n",
       "    <tr>\n",
       "      <th>16795</th>\n",
       "      <td>601601</td>\n",
       "      <td>中国太保</td>\n",
       "      <td>2021-11-12 17:34:00</td>\n",
       "      <td>2021-11-12 17:34:00</td>\n",
       "      <td>财联社11月12日电，中国太保公告，公司子公司中国太平洋人寿保险股份有限公司、中国太平洋财产...</td>\n",
       "      <td>财联社11月12日电，中国太保公告，公司子公司中国太平洋人寿保险股份有限公司、中国太平洋财产...</td>\n",
       "      <td>66726.0</td>\n",
       "      <td>1.0</td>\n",
       "      <td>0.006028</td>\n",
       "      <td>2021-11-12</td>\n",
       "      <td>...</td>\n",
       "      <td>[[0.0, 0.0, 0.0, 0.0, 0.0, 0.0, 0.0, 0.0, 0.0,...</td>\n",
       "      <td>[[0.0, 0.0, 0.0, 0.0, 0.0, 0.0, 0.0, 0.0, 0.0,...</td>\n",
       "      <td>[[0.0, 0.0, 0.0, 0.0, 0.0, 0.0, 0.0, 0.0, 0.0,...</td>\n",
       "      <td>1</td>\n",
       "      <td>2021-11-12</td>\n",
       "      <td>0.314789</td>\n",
       "      <td>0.0</td>\n",
       "      <td>1.0</td>\n",
       "      <td>[0.0248501849584597, 0.0112439366267922, 0.025...</td>\n",
       "      <td>1</td>\n",
       "    </tr>\n",
       "    <tr>\n",
       "      <th>16796</th>\n",
       "      <td>600276</td>\n",
       "      <td>恒瑞医药</td>\n",
       "      <td>2021-11-12 17:38:00</td>\n",
       "      <td>2021-11-12 17:38:00</td>\n",
       "      <td>财联社11月12日电，恒瑞医药公告，子公司成都盛迪医药有限公司收到国家药监局核准签发的《药品...</td>\n",
       "      <td>财联社11月12日电，恒瑞医药公告，子公司成都盛迪医药有限公司收到国家药监局核准签发的《药品...</td>\n",
       "      <td>46567.0</td>\n",
       "      <td>1.0</td>\n",
       "      <td>0.000381</td>\n",
       "      <td>2021-11-12</td>\n",
       "      <td>...</td>\n",
       "      <td>[[0.0, 0.0, 0.0, 0.0, 0.0, 0.0, 0.0, 0.0, 0.0,...</td>\n",
       "      <td>[[0.0, 0.0, 0.0, 0.0, 0.0, 0.0, 0.0, 0.0, 0.0,...</td>\n",
       "      <td>[[0.0, 0.0, 0.0, 0.0, 0.0, 0.0, 0.0, 0.0, 0.0,...</td>\n",
       "      <td>1</td>\n",
       "      <td>2021-11-12</td>\n",
       "      <td>-0.116092</td>\n",
       "      <td>0.0</td>\n",
       "      <td>0.0</td>\n",
       "      <td>[0.45452258436567, 0.4356235998134128, 0.45224...</td>\n",
       "      <td>1</td>\n",
       "    </tr>\n",
       "    <tr>\n",
       "      <th>16797</th>\n",
       "      <td>2661</td>\n",
       "      <td>克明食品</td>\n",
       "      <td>2021-11-12 17:41:00</td>\n",
       "      <td>2021-11-12 17:41:00</td>\n",
       "      <td>财联社11月12日电，克明食品公告，鉴于面粉、包材、运输等成本持续上涨，经公司研究并审慎考虑...</td>\n",
       "      <td>财联社11月12日电，克明食品公告，鉴于面粉、包材、运输等成本持续上涨，经公司研究并审慎考虑...</td>\n",
       "      <td>28763.0</td>\n",
       "      <td>0.0</td>\n",
       "      <td>0.042589</td>\n",
       "      <td>2021-11-12</td>\n",
       "      <td>...</td>\n",
       "      <td>[[0.0, 0.0, 0.0, 0.0, 0.0, 0.0, 0.0, 0.0, 0.0,...</td>\n",
       "      <td>[[0.0, 0.0, 0.0, 0.0, 0.0, 0.0, 0.0, 0.0, 0.0,...</td>\n",
       "      <td>[[0.0, 0.0, 0.0, 0.0, 0.0, 0.0, 0.0, 0.0, 0.0,...</td>\n",
       "      <td>1</td>\n",
       "      <td>2021-11-12</td>\n",
       "      <td>3.104113</td>\n",
       "      <td>0.0</td>\n",
       "      <td>0.0</td>\n",
       "      <td>[-0.26293445253497, -0.269693021021379, -0.263...</td>\n",
       "      <td>1</td>\n",
       "    </tr>\n",
       "  </tbody>\n",
       "</table>\n",
       "<p>16798 rows × 41 columns</p>\n",
       "</div>"
      ],
      "text/plain": [
       "         CODE  NAME                 DATE         CREATED_DATE  \\\n",
       "0      600165  新日恒力  2021-01-03 14:07:00  2021-01-03 14:07:00   \n",
       "1      603980  吉华集团  2021-01-03 15:42:00  2021-01-03 14:13:00   \n",
       "2        2623   亚玛顿  2021-01-03 16:10:00  2021-01-03 16:09:00   \n",
       "3      300609  汇纳科技  2021-01-03 16:13:00  2021-01-03 16:13:00   \n",
       "4         757  浩物股份  2021-01-03 16:16:00  2021-01-03 16:16:00   \n",
       "...       ...   ...                  ...                  ...   \n",
       "16793  300900  广联航空  2021-11-12 17:22:00  2021-11-12 17:22:00   \n",
       "16794    2611  东方精工  2021-11-12 17:24:00  2021-11-12 17:24:00   \n",
       "16795  601601  中国太保  2021-11-12 17:34:00  2021-11-12 17:34:00   \n",
       "16796  600276  恒瑞医药  2021-11-12 17:38:00  2021-11-12 17:38:00   \n",
       "16797    2661  克明食品  2021-11-12 17:41:00  2021-11-12 17:41:00   \n",
       "\n",
       "                                                  text_a  \\\n",
       "0      新日恒力公告，控股子公司宁夏恒力生物新材料有限责任公司建设的5万吨/年月桂二酸项目，截至目前...   \n",
       "1      吉华集团披露于股东所持公司股份拟被司法拍卖的进展，杭州市中级人民法院于公司于2020年12月...   \n",
       "2      亚玛顿公告，公司与晶澳科技签署战略合作协议，拟于2021年1月至2022年12月期间向晶澳科...   \n",
       "3      汇纳科技公告，本次以自有资金采取集中竞价交易方式回购公司股份，回购资金总额为 6000 万元...   \n",
       "4      浩物股份公告，持股8.96%的股东申宏产投拟通过集中竞价、大宗交易方式于本公告披露之日起15...   \n",
       "...                                                  ...   \n",
       "16793  财联社11月12日电，广联航空收深交所关注函，此前公司公告，拟收购成都航新航空装备科技有限公...   \n",
       "16794  财联社11月12日电，东方精工公告，合计持股5%以上的股东北大先行和青海普仁计划3个月内减持...   \n",
       "16795  财联社11月12日电，中国太保公告，公司子公司中国太平洋人寿保险股份有限公司、中国太平洋财产...   \n",
       "16796  财联社11月12日电，恒瑞医药公告，子公司成都盛迪医药有限公司收到国家药监局核准签发的《药品...   \n",
       "16797  财联社11月12日电，克明食品公告，鉴于面粉、包材、运输等成本持续上涨，经公司研究并审慎考虑...   \n",
       "\n",
       "                                             DESCRIPTION       READ  MARKET  \\\n",
       "0      新日恒力公告，控股子公司宁夏恒力生物新材料有限责任公司建设的5万吨/年月桂二酸项目，截至目前...  5656545.0     1.0   \n",
       "1      吉华集团披露于股东所持公司股份拟被司法拍卖的进展，杭州市中级人民法院于公司于2020年12月...  5561922.0     1.0   \n",
       "2      亚玛顿公告，公司与晶澳科技签署战略合作协议，拟于2021年1月至2022年12月期间向晶澳科...  5147605.0     0.0   \n",
       "3      汇纳科技公告，本次以自有资金采取集中竞价交易方式回购公司股份，回购资金总额为 6000 万元...  5284455.0     0.0   \n",
       "4      浩物股份公告，持股8.96%的股东申宏产投拟通过集中竞价、大宗交易方式于本公告披露之日起15...  5515404.0     0.0   \n",
       "...                                                  ...        ...     ...   \n",
       "16793  财联社11月12日电，广联航空收深交所关注函，此前公司公告，拟收购成都航新航空装备科技有限公...   112322.0     0.0   \n",
       "16794  财联社11月12日电，东方精工公告，合计持股5%以上的股东北大先行和青海普仁计划3个月内减持...    91580.0     0.0   \n",
       "16795  财联社11月12日电，中国太保公告，公司子公司中国太平洋人寿保险股份有限公司、中国太平洋财产...    66726.0     1.0   \n",
       "16796  财联社11月12日电，恒瑞医药公告，子公司成都盛迪医药有限公司收到国家药监局核准签发的《药品...    46567.0     1.0   \n",
       "16797  财联社11月12日电，克明食品公告，鉴于面粉、包材、运输等成本持续上涨，经公司研究并审慎考虑...    28763.0     0.0   \n",
       "\n",
       "         CHANGE   FIRST_DAY  ...  \\\n",
       "0      0.057299  2020-12-31  ...   \n",
       "1      0.004637  2020-12-31  ...   \n",
       "2      0.090930  2020-12-31  ...   \n",
       "3     -0.007471  2020-12-31  ...   \n",
       "4     -0.011161  2020-12-31  ...   \n",
       "...         ...         ...  ...   \n",
       "16793  0.080945  2021-11-12  ...   \n",
       "16794 -0.007313  2021-11-12  ...   \n",
       "16795  0.006028  2021-11-12  ...   \n",
       "16796  0.000381  2021-11-12  ...   \n",
       "16797  0.042589  2021-11-12  ...   \n",
       "\n",
       "                                               verb_mask  \\\n",
       "0      [[0.0, 0.0, 0.0, 0.0, 0.0, 0.0, 0.0, 0.0, 0.0,...   \n",
       "1      [[0.0, 0.0, 0.0, 0.0, 0.0, 0.5, 0.5, 0.0, 0.0,...   \n",
       "2      [[0.0, 0.0, 0.0, 0.0, 0.0, 0.0, 0.0, 0.0, 0.0,...   \n",
       "3      [[0.0, 0.0, 0.0, 0.0, 0.0, 0.0, 0.0, 0.0, 0.0,...   \n",
       "4      [[0.0, 0.0, 0.0, 0.0, 0.0, 0.0, 0.0, 0.0, 0.0,...   \n",
       "...                                                  ...   \n",
       "16793  [[0.0, 0.0, 0.0, 0.0, 0.0, 0.0, 0.0, 0.0, 0.0,...   \n",
       "16794  [[0.0, 0.0, 0.0, 0.0, 0.0, 0.0, 0.0, 0.0, 0.0,...   \n",
       "16795  [[0.0, 0.0, 0.0, 0.0, 0.0, 0.0, 0.0, 0.0, 0.0,...   \n",
       "16796  [[0.0, 0.0, 0.0, 0.0, 0.0, 0.0, 0.0, 0.0, 0.0,...   \n",
       "16797  [[0.0, 0.0, 0.0, 0.0, 0.0, 0.0, 0.0, 0.0, 0.0,...   \n",
       "\n",
       "                                                 A0_mask  \\\n",
       "0      [[0.0, 0.0, 0.0, 0.0, 0.0, 0.0, 0.0, 0.0, 0.05...   \n",
       "1      [[0.0, 0.25, 0.25, 0.25, 0.25, 0.0, 0.0, 0.0, ...   \n",
       "2      [[0.0, 0.0, 0.0, 0.0, 0.0, 0.0, 0.0, 0.5, 0.5,...   \n",
       "3      [[0.0, 0.0, 0.0, 0.0, 0.0, 0.0, 0.0, 0.0, 0.0,...   \n",
       "4      [[0.0, 0.0, 0.0, 0.0, 0.0, 0.0, 0.0, 0.0, 0.0,...   \n",
       "...                                                  ...   \n",
       "16793  [[0.0, 0.0, 0.0, 0.0, 0.0, 0.0, 0.0, 0.0, 0.0,...   \n",
       "16794  [[0.0, 0.0, 0.0, 0.0, 0.0, 0.0, 0.0, 0.0, 0.0,...   \n",
       "16795  [[0.0, 0.0, 0.0, 0.0, 0.0, 0.0, 0.0, 0.0, 0.0,...   \n",
       "16796  [[0.0, 0.0, 0.0, 0.0, 0.0, 0.0, 0.0, 0.0, 0.0,...   \n",
       "16797  [[0.0, 0.0, 0.0, 0.0, 0.0, 0.0, 0.0, 0.0, 0.0,...   \n",
       "\n",
       "                                                 A1_mask  AV_num  trade_date  \\\n",
       "0      [[0.0, 0.0, 0.0, 0.0, 0.0, 0.0, 0.0, 0.0, 0.0,...       3  2020-12-31   \n",
       "1      [[0.0, 0.0, 0.0, 0.0, 0.0, 0.0, 0.0, 0.0555555...       4  2020-12-31   \n",
       "2      [[0.0, 0.0, 0.0, 0.0, 0.0, 0.0, 0.0, 0.0, 0.0,...       2  2020-12-31   \n",
       "3      [[0.0, 0.0, 0.0, 0.0, 0.0, 0.0, 0.0, 0.0, 0.0,...       4  2020-12-31   \n",
       "4      [[0.0, 0.0, 0.0, 0.0, 0.0, 0.0, 0.0, 0.0, 0.0,...       1  2020-12-31   \n",
       "...                                                  ...     ...         ...   \n",
       "16793  [[0.0, 0.0, 0.0, 0.0, 0.0, 0.0, 0.0, 0.0, 0.0,...       1  2021-11-12   \n",
       "16794  [[0.0, 0.0, 0.0, 0.0, 0.0, 0.0, 0.0, 0.0, 0.0,...       1  2021-11-12   \n",
       "16795  [[0.0, 0.0, 0.0, 0.0, 0.0, 0.0, 0.0, 0.0, 0.0,...       1  2021-11-12   \n",
       "16796  [[0.0, 0.0, 0.0, 0.0, 0.0, 0.0, 0.0, 0.0, 0.0,...       1  2021-11-12   \n",
       "16797  [[0.0, 0.0, 0.0, 0.0, 0.0, 0.0, 0.0, 0.0, 0.0,...       1  2021-11-12   \n",
       "\n",
       "       open_close_chg  co_label cc_label  \\\n",
       "0            3.764881       3.0      4.0   \n",
       "1            0.192770       2.0      2.0   \n",
       "2            6.046046       4.0      4.0   \n",
       "3           -0.628422       3.0      4.0   \n",
       "4           -0.878674       1.0      0.0   \n",
       "...               ...       ...      ...   \n",
       "16793        6.030357       4.0      4.0   \n",
       "16794       -0.703023       0.0      0.0   \n",
       "16795        0.314789       0.0      1.0   \n",
       "16796       -0.116092       0.0      0.0   \n",
       "16797        3.104113       0.0      0.0   \n",
       "\n",
       "                                           stock_factors  label  \n",
       "0      [-0.2940583520796876, -0.2879241038280342, -0....      1  \n",
       "1      [-0.3107922628444556, -0.3125204395801499, -0....      1  \n",
       "2      [0.4234596882860056, 0.4565189568188482, 0.432...      1  \n",
       "3      [-0.0898416790525287, -0.0901537427521376, -0....      1  \n",
       "4      [-0.347616678739463, -0.3477471782231313, -0.3...      1  \n",
       "...                                                  ...    ...  \n",
       "16793  [0.1015462724794221, 0.2032940044685548, 0.105...      1  \n",
       "16794  [-0.3734465422810841, -0.3784647408609613, -0....      1  \n",
       "16795  [0.0248501849584597, 0.0112439366267922, 0.025...      1  \n",
       "16796  [0.45452258436567, 0.4356235998134128, 0.45224...      1  \n",
       "16797  [-0.26293445253497, -0.269693021021379, -0.263...      1  \n",
       "\n",
       "[16798 rows x 41 columns]"
      ]
     },
     "execution_count": 43,
     "metadata": {},
     "output_type": "execute_result"
    }
   ],
   "source": [
    "df_ood.('../data/df_all_year_srl.csv',sep='\\t',index=None)"
   ]
  },
  {
   "cell_type": "code",
   "execution_count": 34,
   "metadata": {
    "ExecuteTime": {
     "end_time": "2022-02-01T03:56:19.245913Z",
     "start_time": "2022-02-01T03:56:19.243984Z"
    },
    "executionInfo": {
     "elapsed": 14,
     "status": "aborted",
     "timestamp": 1635162955954,
     "user": {
      "displayName": "Nero Cao",
      "photoUrl": "https://lh3.googleusercontent.com/a/default-user=s64",
      "userId": "05305083952686219705"
     },
     "user_tz": -630
    },
    "id": "eAeHdVF7c-QF"
   },
   "outputs": [],
   "source": [
    "# from lit_nlp.api.dataset import Dataset\n",
    "# class MultiNLIData(Dataset):\n",
    "#   \"\"\"Loader for MultiNLI development set.\"\"\"\n",
    "#   def __init__(self, df):\n",
    "#     # Read the eval set from a .tsv file as distributed with the GLUE benchmark.\n",
    "#     # df = pandas.read_csv(path, sep='\\t')\n",
    "#     # Store as a list of dicts, conforming to self.spec()\n",
    "#     self.LABELS = [0,1]\n",
    "#     self._examples = [{\n",
    "#       'sentence': row['DESCRIPTION_EN'],\n",
    "#       # 'hypothesis': row['sentence2'],\n",
    "#       'label': row['LABEL']\n",
    "#       # 'genre': row['genre'],\n",
    "#     } for _, row in df.iterrows()]\n",
    "#   def spec(self):\n",
    "#     return {\n",
    "#       'sentence': lit_types.TextSegment(),\n",
    "#       # 'hypothesis': lit_types.TextSegment(),\n",
    "#       'label': lit_types.CategoryLabel(vocab=self.LABELS),\n",
    "#       # We can include additional fields, which don't have to be used by the model.\n",
    "#       # 'genre': lit_types.Label(),\n",
    "#     }"
   ]
  },
  {
   "cell_type": "code",
   "execution_count": null,
   "metadata": {
    "executionInfo": {
     "elapsed": 14,
     "status": "aborted",
     "timestamp": 1635162955954,
     "user": {
      "displayName": "Nero Cao",
      "photoUrl": "https://lh3.googleusercontent.com/a/default-user=s64",
      "userId": "05305083952686219705"
     },
     "user_tz": -630
    },
    "id": "l5886G4mdXia"
   },
   "outputs": [],
   "source": []
  },
  {
   "cell_type": "code",
   "execution_count": null,
   "metadata": {
    "executionInfo": {
     "elapsed": 14,
     "status": "aborted",
     "timestamp": 1635162955954,
     "user": {
      "displayName": "Nero Cao",
      "photoUrl": "https://lh3.googleusercontent.com/a/default-user=s64",
      "userId": "05305083952686219705"
     },
     "user_tz": -630
    },
    "id": "mrSBCdqO0sUs"
   },
   "outputs": [],
   "source": []
  },
  {
   "cell_type": "code",
   "execution_count": null,
   "metadata": {
    "executionInfo": {
     "elapsed": 14,
     "status": "aborted",
     "timestamp": 1635162955954,
     "user": {
      "displayName": "Nero Cao",
      "photoUrl": "https://lh3.googleusercontent.com/a/default-user=s64",
      "userId": "05305083952686219705"
     },
     "user_tz": -630
    },
    "id": "f-nX4zrOdxpo"
   },
   "outputs": [],
   "source": []
  },
  {
   "cell_type": "code",
   "execution_count": null,
   "metadata": {
    "executionInfo": {
     "elapsed": 15,
     "status": "aborted",
     "timestamp": 1635162955955,
     "user": {
      "displayName": "Nero Cao",
      "photoUrl": "https://lh3.googleusercontent.com/a/default-user=s64",
      "userId": "05305083952686219705"
     },
     "user_tz": -630
    },
    "id": "ARdnz5td18VV"
   },
   "outputs": [],
   "source": []
  },
  {
   "cell_type": "code",
   "execution_count": null,
   "metadata": {
    "executionInfo": {
     "elapsed": 15,
     "status": "aborted",
     "timestamp": 1635162955955,
     "user": {
      "displayName": "Nero Cao",
      "photoUrl": "https://lh3.googleusercontent.com/a/default-user=s64",
      "userId": "05305083952686219705"
     },
     "user_tz": -630
    },
    "id": "iMviJZsfdifG"
   },
   "outputs": [],
   "source": []
  },
  {
   "cell_type": "code",
   "execution_count": null,
   "metadata": {
    "executionInfo": {
     "elapsed": 14,
     "status": "aborted",
     "timestamp": 1635162955955,
     "user": {
      "displayName": "Nero Cao",
      "photoUrl": "https://lh3.googleusercontent.com/a/default-user=s64",
      "userId": "05305083952686219705"
     },
     "user_tz": -630
    },
    "id": "8h5I2QKodj8b"
   },
   "outputs": [],
   "source": []
  },
  {
   "cell_type": "code",
   "execution_count": null,
   "metadata": {
    "executionInfo": {
     "elapsed": 14,
     "status": "aborted",
     "timestamp": 1635162955955,
     "user": {
      "displayName": "Nero Cao",
      "photoUrl": "https://lh3.googleusercontent.com/a/default-user=s64",
      "userId": "05305083952686219705"
     },
     "user_tz": -630
    },
    "id": "0-abzg6avOQq"
   },
   "outputs": [],
   "source": []
  },
  {
   "cell_type": "code",
   "execution_count": null,
   "metadata": {
    "executionInfo": {
     "elapsed": 15,
     "status": "aborted",
     "timestamp": 1635162955956,
     "user": {
      "displayName": "Nero Cao",
      "photoUrl": "https://lh3.googleusercontent.com/a/default-user=s64",
      "userId": "05305083952686219705"
     },
     "user_tz": -630
    },
    "id": "flJ1xtWNvYej"
   },
   "outputs": [],
   "source": []
  },
  {
   "cell_type": "code",
   "execution_count": 35,
   "metadata": {
    "ExecuteTime": {
     "end_time": "2022-02-01T03:56:19.260277Z",
     "start_time": "2022-02-01T03:56:19.246550Z"
    },
    "executionInfo": {
     "elapsed": 15,
     "status": "aborted",
     "timestamp": 1635162955956,
     "user": {
      "displayName": "Nero Cao",
      "photoUrl": "https://lh3.googleusercontent.com/a/default-user=s64",
      "userId": "05305083952686219705"
     },
     "user_tz": -630
    },
    "id": "nBxb2zhWvfaK"
   },
   "outputs": [],
   "source": [
    "# from absl import app\n",
    "# from absl import flags\n",
    "# from absl import logging\n",
    "\n",
    "# from lit_nlp import dev_server\n",
    "# from lit_nlp import server_flags\n",
    "# from lit_nlp.api import model as lit_model\n",
    "# from lit_nlp.api import types as lit_types\n",
    "# # Use the regular GLUE data loaders, because these are very simple already.\n",
    "# from lit_nlp.examples.datasets import glue\n",
    "# from lit_nlp.lib import utils\n",
    "\n",
    "# import torch\n",
    "# import transformers\n",
    "\n",
    "# # NOTE: additional flags defined in server_flags.py\n",
    "\n",
    "# FLAGS = flags.FLAGS\n",
    "\n",
    "# flags.DEFINE_string(\n",
    "#     \"model_path\",\n",
    "#     \"https://storage.googleapis.com/what-if-tool-resources/lit-models/sst2_tiny.tar.gz\",\n",
    "#     \"Path to trained model, in standard transformers format, e.g. as \"\n",
    "#     \"saved by model.save_pretrained() and tokenizer.save_pretrained()\")\n",
    "\n",
    "\n",
    "# def _from_pretrained(cls, *args, **kw):\n",
    "#   \"\"\"Load a transformers model in PyTorch, with fallback to TF2/Keras weights.\"\"\"\n",
    "#   try:\n",
    "#     return cls.from_pretrained(*args, **kw)\n",
    "#   except OSError as e:\n",
    "#     logging.warning(\"Caught OSError loading model: %s\", e)\n",
    "#     logging.warning(\n",
    "#         \"Re-trying to convert from TensorFlow checkpoint (from_tf=True)\")\n",
    "#     return cls.from_pretrained(*args, from_tf=True, **kw)\n",
    "\n",
    "\n",
    "# class SimpleSentimentModel(lit_model.Model):\n",
    "#   \"\"\"Simple sentiment analysis model.\"\"\"\n",
    "\n",
    "#   LABELS = [0,1]  # negative, positive\n",
    "\n",
    "#   def __init__(self, model_name_or_path):\n",
    "#     self.tokenizer = transformers.AutoTokenizer.from_pretrained(\n",
    "#         model_name_or_path)\n",
    "#     model_config = transformers.AutoConfig.from_pretrained(\n",
    "#         model_name_or_path,\n",
    "#         num_labels=2,\n",
    "#         output_hidden_states=True,\n",
    "#         output_attentions=True,\n",
    "#     )\n",
    "#     # This is a just a regular PyTorch model.\n",
    "#     self.model = _from_pretrained(\n",
    "#         transformers.AutoModelForSequenceClassification,\n",
    "#         model_name_or_path,\n",
    "#         config=model_config)\n",
    "#     self.model.eval()\n",
    "\n",
    "#   ##\n",
    "#   # LIT API implementation\n",
    "#   def max_minibatch_size(self):\n",
    "#     # This tells lit_model.Model.predict() how to batch inputs to\n",
    "#     # predict_minibatch().\n",
    "#     # Alternately, you can just override predict() and handle batching yourself.\n",
    "#     return 16\n",
    "\n",
    "#   def predict_minibatch(self, inputs):\n",
    "#     # Preprocess to ids and masks, and make the input batch.\n",
    "#     encoded_input = self.tokenizer.batch_encode_plus(\n",
    "#         [ex[\"sentence\"] for ex in inputs],\n",
    "#         return_tensors=\"pt\",\n",
    "#         add_special_tokens=True,\n",
    "#         max_length=200,\n",
    "#         padding=\"longest\",\n",
    "#         truncation=\"longest_first\")\n",
    "\n",
    "#     # Check and send to cuda (GPU) if available\n",
    "#     if torch.cuda.is_available():\n",
    "#       self.model.cuda()\n",
    "#       for tensor in encoded_input:\n",
    "#         encoded_input[tensor] = encoded_input[tensor].cuda()\n",
    "#     # Run a forward pass.\n",
    "#     with torch.no_grad():  # remove this if you need gradients.\n",
    "#       out: transformers.modeling_outputs.SequenceClassifierOutput = \\\n",
    "#           self.model(**encoded_input)\n",
    "\n",
    "#     # Post-process outputs.\n",
    "#     batched_outputs = {\n",
    "#         \"probas\": torch.nn.functional.softmax(out.logits, dim=-1),\n",
    "#         \"input_ids\": encoded_input[\"input_ids\"],\n",
    "#         \"ntok\": torch.sum(encoded_input[\"attention_mask\"], dim=1),\n",
    "#         \"cls_emb\": out.hidden_states[-1][:, 0],  # last layer, first token\n",
    "#     }\n",
    "#     # Return as NumPy for further processing.\n",
    "#     detached_outputs = {k: v.cpu().numpy() for k, v in batched_outputs.items()}\n",
    "#     # Unbatch outputs so we get one record per input example.\n",
    "#     for output in utils.unbatch_preds(detached_outputs):\n",
    "#       ntok = output.pop(\"ntok\")\n",
    "#       output[\"tokens\"] = self.tokenizer.convert_ids_to_tokens(\n",
    "#           output.pop(\"input_ids\")[1:ntok - 1])\n",
    "#       yield output\n",
    "\n",
    "#   def input_spec(self) -> lit_types.Spec:\n",
    "#     return {\n",
    "#         \"sentence\": lit_types.TextSegment(),\n",
    "#         \"label\": lit_types.CategoryLabel(vocab=self.LABELS, required=False)\n",
    "#     }\n",
    "\n",
    "#   def output_spec(self) -> lit_types.Spec:\n",
    "#     return {\n",
    "#         \"tokens\": lit_types.Tokens(),\n",
    "#         \"probas\": lit_types.MulticlassPreds(parent=\"label\", vocab=self.LABELS),\n",
    "#         \"cls_emb\": lit_types.Embeddings()\n",
    "#     }\n"
   ]
  },
  {
   "cell_type": "code",
   "execution_count": 36,
   "metadata": {
    "ExecuteTime": {
     "end_time": "2022-02-01T03:56:19.267529Z",
     "start_time": "2022-02-01T03:56:19.261254Z"
    },
    "executionInfo": {
     "elapsed": 15,
     "status": "aborted",
     "timestamp": 1635162955956,
     "user": {
      "displayName": "Nero Cao",
      "photoUrl": "https://lh3.googleusercontent.com/a/default-user=s64",
      "userId": "05305083952686219705"
     },
     "user_tz": -630
    },
    "id": "B64IFx5g461l"
   },
   "outputs": [],
   "source": [
    "# dataset = MultiNLIData(df_train.sample(1800))"
   ]
  },
  {
   "cell_type": "code",
   "execution_count": 37,
   "metadata": {
    "ExecuteTime": {
     "end_time": "2022-02-01T03:56:19.272786Z",
     "start_time": "2022-02-01T03:56:19.268419Z"
    },
    "executionInfo": {
     "elapsed": 15,
     "status": "aborted",
     "timestamp": 1635162955956,
     "user": {
      "displayName": "Nero Cao",
      "photoUrl": "https://lh3.googleusercontent.com/a/default-user=s64",
      "userId": "05305083952686219705"
     },
     "user_tz": -630
    },
    "id": "qR0nbr94v2xz"
   },
   "outputs": [],
   "source": [
    "# datasets = {\"sst_dev\": dataset}\n",
    "# models = {\"sst\": SimpleSentimentModel(\"/content/drive/MyDrive/model/best_model/\")}\n",
    "# # models = {\"sst\": SimpleSentimentModel(\"bert-base-uncased\")}"
   ]
  },
  {
   "cell_type": "code",
   "execution_count": 38,
   "metadata": {
    "ExecuteTime": {
     "end_time": "2022-02-01T03:56:19.277969Z",
     "start_time": "2022-02-01T03:56:19.273547Z"
    },
    "executionInfo": {
     "elapsed": 16,
     "status": "aborted",
     "timestamp": 1635162955957,
     "user": {
      "displayName": "Nero Cao",
      "photoUrl": "https://lh3.googleusercontent.com/a/default-user=s64",
      "userId": "05305083952686219705"
     },
     "user_tz": -630
    },
    "id": "WR8VwsH9v4l8"
   },
   "outputs": [],
   "source": [
    "# from lit_nlp import notebook\n",
    "# widget = notebook.LitWidget(models, datasets, height=800)"
   ]
  },
  {
   "cell_type": "code",
   "execution_count": 39,
   "metadata": {
    "ExecuteTime": {
     "end_time": "2022-02-01T03:56:19.282930Z",
     "start_time": "2022-02-01T03:56:19.278808Z"
    },
    "executionInfo": {
     "elapsed": 16,
     "status": "aborted",
     "timestamp": 1635162955957,
     "user": {
      "displayName": "Nero Cao",
      "photoUrl": "https://lh3.googleusercontent.com/a/default-user=s64",
      "userId": "05305083952686219705"
     },
     "user_tz": -630
    },
    "id": "wNPctrXDBQSM"
   },
   "outputs": [],
   "source": [
    "# mm = models[\"sst\"]"
   ]
  },
  {
   "cell_type": "code",
   "execution_count": 40,
   "metadata": {
    "ExecuteTime": {
     "end_time": "2022-02-01T03:56:19.287953Z",
     "start_time": "2022-02-01T03:56:19.283686Z"
    },
    "executionInfo": {
     "elapsed": 16,
     "status": "aborted",
     "timestamp": 1635162955957,
     "user": {
      "displayName": "Nero Cao",
      "photoUrl": "https://lh3.googleusercontent.com/a/default-user=s64",
      "userId": "05305083952686219705"
     },
     "user_tz": -630
    },
    "id": "lHX6hJtVCAuX"
   },
   "outputs": [],
   "source": [
    "# mm.model.config"
   ]
  },
  {
   "cell_type": "code",
   "execution_count": 41,
   "metadata": {
    "ExecuteTime": {
     "end_time": "2022-02-01T03:56:19.293010Z",
     "start_time": "2022-02-01T03:56:19.288821Z"
    },
    "executionInfo": {
     "elapsed": 16,
     "status": "aborted",
     "timestamp": 1635162955957,
     "user": {
      "displayName": "Nero Cao",
      "photoUrl": "https://lh3.googleusercontent.com/a/default-user=s64",
      "userId": "05305083952686219705"
     },
     "user_tz": -630
    },
    "id": "cihtCCxC3ftN"
   },
   "outputs": [],
   "source": [
    "# widget.render()"
   ]
  },
  {
   "cell_type": "code",
   "execution_count": 42,
   "metadata": {
    "ExecuteTime": {
     "end_time": "2022-02-01T03:56:19.301159Z",
     "start_time": "2022-02-01T03:56:19.293857Z"
    },
    "executionInfo": {
     "elapsed": 17,
     "status": "aborted",
     "timestamp": 1635162955958,
     "user": {
      "displayName": "Nero Cao",
      "photoUrl": "https://lh3.googleusercontent.com/a/default-user=s64",
      "userId": "05305083952686219705"
     },
     "user_tz": -630
    },
    "id": "h5c4S99U5UOS"
   },
   "outputs": [],
   "source": [
    "# dataset.LABELS\n"
   ]
  },
  {
   "cell_type": "code",
   "execution_count": null,
   "metadata": {},
   "outputs": [],
   "source": []
  },
  {
   "cell_type": "code",
   "execution_count": null,
   "metadata": {},
   "outputs": [],
   "source": []
  }
 ],
 "metadata": {
  "accelerator": "GPU",
  "colab": {
   "collapsed_sections": [],
   "name": "66.32Copy of Factor24_BATCH16_Factor3.ipynb",
   "provenance": [
    {
     "file_id": "1hH9AIVD69cKbJFUaj47yk0pWyCmMdV3Y",
     "timestamp": 1635156978287
    }
   ]
  },
  "kernelspec": {
   "display_name": "Python 3 (ipykernel)",
   "language": "python",
   "name": "python3"
  },
  "language_info": {
   "codemirror_mode": {
    "name": "ipython",
    "version": 3
   },
   "file_extension": ".py",
   "mimetype": "text/x-python",
   "name": "python",
   "nbconvert_exporter": "python",
   "pygments_lexer": "ipython3",
   "version": "3.9.7"
  },
  "latex_envs": {
   "LaTeX_envs_menu_present": true,
   "autoclose": false,
   "autocomplete": true,
   "bibliofile": "biblio.bib",
   "cite_by": "apalike",
   "current_citInitial": 1,
   "eqLabelWithNumbers": true,
   "eqNumInitial": 1,
   "hotkeys": {
    "equation": "Ctrl-E",
    "itemize": "Ctrl-I"
   },
   "labels_anchors": false,
   "latex_user_defs": false,
   "report_style_numbering": false,
   "user_envs_cfg": false
  },
  "toc": {
   "base_numbering": 1,
   "nav_menu": {},
   "number_sections": true,
   "sideBar": true,
   "skip_h1_title": false,
   "title_cell": "Table of Contents",
   "title_sidebar": "Contents",
   "toc_cell": false,
   "toc_position": {},
   "toc_section_display": true,
   "toc_window_display": false
  },
  "varInspector": {
   "cols": {
    "lenName": 16,
    "lenType": 16,
    "lenVar": 40
   },
   "kernels_config": {
    "python": {
     "delete_cmd_postfix": "",
     "delete_cmd_prefix": "del ",
     "library": "var_list.py",
     "varRefreshCmd": "print(var_dic_list())"
    },
    "r": {
     "delete_cmd_postfix": ") ",
     "delete_cmd_prefix": "rm(",
     "library": "var_list.r",
     "varRefreshCmd": "cat(var_dic_list()) "
    }
   },
   "types_to_exclude": [
    "module",
    "function",
    "builtin_function_or_method",
    "instance",
    "_Feature"
   ],
   "window_display": false
  },
  "widgets": {
   "application/vnd.jupyter.widget-state+json": {
    "00b2339c2f7e418ca1f2180ebeda9b3a": {
     "model_module": "@jupyter-widgets/controls",
     "model_module_version": "1.5.0",
     "model_name": "HTMLModel",
     "state": {
      "_dom_classes": [],
      "_model_module": "@jupyter-widgets/controls",
      "_model_module_version": "1.5.0",
      "_model_name": "HTMLModel",
      "_view_count": null,
      "_view_module": "@jupyter-widgets/controls",
      "_view_module_version": "1.5.0",
      "_view_name": "HTMLView",
      "description": "",
      "description_tooltip": null,
      "layout": "IPY_MODEL_042cb53e3b854d8587a327cd8f2e3e6b",
      "placeholder": "​",
      "style": "IPY_MODEL_1d4a73624e0e4d2e92681b0fdcf236b8",
      "value": " 269k/269k [00:00&lt;00:00, 639kB/s]"
     }
    },
    "0347b337fa9446c09a205e44fe9eedda": {
     "model_module": "@jupyter-widgets/controls",
     "model_module_version": "1.5.0",
     "model_name": "HTMLModel",
     "state": {
      "_dom_classes": [],
      "_model_module": "@jupyter-widgets/controls",
      "_model_module_version": "1.5.0",
      "_model_name": "HTMLModel",
      "_view_count": null,
      "_view_module": "@jupyter-widgets/controls",
      "_view_module_version": "1.5.0",
      "_view_name": "HTMLView",
      "description": "",
      "description_tooltip": null,
      "layout": "IPY_MODEL_f0b89e99157f4dc39ee225b6a3c024cd",
      "placeholder": "​",
      "style": "IPY_MODEL_c170d9ca59bd4f789dd46d4e168ea578",
      "value": "Downloading: 100%"
     }
    },
    "042cb53e3b854d8587a327cd8f2e3e6b": {
     "model_module": "@jupyter-widgets/base",
     "model_module_version": "1.2.0",
     "model_name": "LayoutModel",
     "state": {
      "_model_module": "@jupyter-widgets/base",
      "_model_module_version": "1.2.0",
      "_model_name": "LayoutModel",
      "_view_count": null,
      "_view_module": "@jupyter-widgets/base",
      "_view_module_version": "1.2.0",
      "_view_name": "LayoutView",
      "align_content": null,
      "align_items": null,
      "align_self": null,
      "border": null,
      "bottom": null,
      "display": null,
      "flex": null,
      "flex_flow": null,
      "grid_area": null,
      "grid_auto_columns": null,
      "grid_auto_flow": null,
      "grid_auto_rows": null,
      "grid_column": null,
      "grid_gap": null,
      "grid_row": null,
      "grid_template_areas": null,
      "grid_template_columns": null,
      "grid_template_rows": null,
      "height": null,
      "justify_content": null,
      "justify_items": null,
      "left": null,
      "margin": null,
      "max_height": null,
      "max_width": null,
      "min_height": null,
      "min_width": null,
      "object_fit": null,
      "object_position": null,
      "order": null,
      "overflow": null,
      "overflow_x": null,
      "overflow_y": null,
      "padding": null,
      "right": null,
      "top": null,
      "visibility": null,
      "width": null
     }
    },
    "149d7ab92e60492a93a5be14789c8cc9": {
     "model_module": "@jupyter-widgets/base",
     "model_module_version": "1.2.0",
     "model_name": "LayoutModel",
     "state": {
      "_model_module": "@jupyter-widgets/base",
      "_model_module_version": "1.2.0",
      "_model_name": "LayoutModel",
      "_view_count": null,
      "_view_module": "@jupyter-widgets/base",
      "_view_module_version": "1.2.0",
      "_view_name": "LayoutView",
      "align_content": null,
      "align_items": null,
      "align_self": null,
      "border": null,
      "bottom": null,
      "display": null,
      "flex": null,
      "flex_flow": null,
      "grid_area": null,
      "grid_auto_columns": null,
      "grid_auto_flow": null,
      "grid_auto_rows": null,
      "grid_column": null,
      "grid_gap": null,
      "grid_row": null,
      "grid_template_areas": null,
      "grid_template_columns": null,
      "grid_template_rows": null,
      "height": null,
      "justify_content": null,
      "justify_items": null,
      "left": null,
      "margin": null,
      "max_height": null,
      "max_width": null,
      "min_height": null,
      "min_width": null,
      "object_fit": null,
      "object_position": null,
      "order": null,
      "overflow": null,
      "overflow_x": null,
      "overflow_y": null,
      "padding": null,
      "right": null,
      "top": null,
      "visibility": null,
      "width": null
     }
    },
    "14ead329841c466a8dfb8423e18a83d4": {
     "model_module": "@jupyter-widgets/base",
     "model_module_version": "1.2.0",
     "model_name": "LayoutModel",
     "state": {
      "_model_module": "@jupyter-widgets/base",
      "_model_module_version": "1.2.0",
      "_model_name": "LayoutModel",
      "_view_count": null,
      "_view_module": "@jupyter-widgets/base",
      "_view_module_version": "1.2.0",
      "_view_name": "LayoutView",
      "align_content": null,
      "align_items": null,
      "align_self": null,
      "border": null,
      "bottom": null,
      "display": null,
      "flex": null,
      "flex_flow": null,
      "grid_area": null,
      "grid_auto_columns": null,
      "grid_auto_flow": null,
      "grid_auto_rows": null,
      "grid_column": null,
      "grid_gap": null,
      "grid_row": null,
      "grid_template_areas": null,
      "grid_template_columns": null,
      "grid_template_rows": null,
      "height": null,
      "justify_content": null,
      "justify_items": null,
      "left": null,
      "margin": null,
      "max_height": null,
      "max_width": null,
      "min_height": null,
      "min_width": null,
      "object_fit": null,
      "object_position": null,
      "order": null,
      "overflow": null,
      "overflow_x": null,
      "overflow_y": null,
      "padding": null,
      "right": null,
      "top": null,
      "visibility": null,
      "width": null
     }
    },
    "158f5602ae074f03ab4f9f72785e8bde": {
     "model_module": "@jupyter-widgets/controls",
     "model_module_version": "1.5.0",
     "model_name": "DescriptionStyleModel",
     "state": {
      "_model_module": "@jupyter-widgets/controls",
      "_model_module_version": "1.5.0",
      "_model_name": "DescriptionStyleModel",
      "_view_count": null,
      "_view_module": "@jupyter-widgets/base",
      "_view_module_version": "1.2.0",
      "_view_name": "StyleView",
      "description_width": ""
     }
    },
    "160969175117493482496a7d6d14940c": {
     "model_module": "@jupyter-widgets/base",
     "model_module_version": "1.2.0",
     "model_name": "LayoutModel",
     "state": {
      "_model_module": "@jupyter-widgets/base",
      "_model_module_version": "1.2.0",
      "_model_name": "LayoutModel",
      "_view_count": null,
      "_view_module": "@jupyter-widgets/base",
      "_view_module_version": "1.2.0",
      "_view_name": "LayoutView",
      "align_content": null,
      "align_items": null,
      "align_self": null,
      "border": null,
      "bottom": null,
      "display": null,
      "flex": null,
      "flex_flow": null,
      "grid_area": null,
      "grid_auto_columns": null,
      "grid_auto_flow": null,
      "grid_auto_rows": null,
      "grid_column": null,
      "grid_gap": null,
      "grid_row": null,
      "grid_template_areas": null,
      "grid_template_columns": null,
      "grid_template_rows": null,
      "height": null,
      "justify_content": null,
      "justify_items": null,
      "left": null,
      "margin": null,
      "max_height": null,
      "max_width": null,
      "min_height": null,
      "min_width": null,
      "object_fit": null,
      "object_position": null,
      "order": null,
      "overflow": null,
      "overflow_x": null,
      "overflow_y": null,
      "padding": null,
      "right": null,
      "top": null,
      "visibility": null,
      "width": null
     }
    },
    "1d4a73624e0e4d2e92681b0fdcf236b8": {
     "model_module": "@jupyter-widgets/controls",
     "model_module_version": "1.5.0",
     "model_name": "DescriptionStyleModel",
     "state": {
      "_model_module": "@jupyter-widgets/controls",
      "_model_module_version": "1.5.0",
      "_model_name": "DescriptionStyleModel",
      "_view_count": null,
      "_view_module": "@jupyter-widgets/base",
      "_view_module_version": "1.2.0",
      "_view_name": "StyleView",
      "description_width": ""
     }
    },
    "221cfec96d0e4f579bd21264a506e82c": {
     "model_module": "@jupyter-widgets/base",
     "model_module_version": "1.2.0",
     "model_name": "LayoutModel",
     "state": {
      "_model_module": "@jupyter-widgets/base",
      "_model_module_version": "1.2.0",
      "_model_name": "LayoutModel",
      "_view_count": null,
      "_view_module": "@jupyter-widgets/base",
      "_view_module_version": "1.2.0",
      "_view_name": "LayoutView",
      "align_content": null,
      "align_items": null,
      "align_self": null,
      "border": null,
      "bottom": null,
      "display": null,
      "flex": null,
      "flex_flow": null,
      "grid_area": null,
      "grid_auto_columns": null,
      "grid_auto_flow": null,
      "grid_auto_rows": null,
      "grid_column": null,
      "grid_gap": null,
      "grid_row": null,
      "grid_template_areas": null,
      "grid_template_columns": null,
      "grid_template_rows": null,
      "height": null,
      "justify_content": null,
      "justify_items": null,
      "left": null,
      "margin": null,
      "max_height": null,
      "max_width": null,
      "min_height": null,
      "min_width": null,
      "object_fit": null,
      "object_position": null,
      "order": null,
      "overflow": null,
      "overflow_x": null,
      "overflow_y": null,
      "padding": null,
      "right": null,
      "top": null,
      "visibility": null,
      "width": null
     }
    },
    "2433c49af18f41ccb4df88e98040dd7b": {
     "model_module": "@jupyter-widgets/controls",
     "model_module_version": "1.5.0",
     "model_name": "DescriptionStyleModel",
     "state": {
      "_model_module": "@jupyter-widgets/controls",
      "_model_module_version": "1.5.0",
      "_model_name": "DescriptionStyleModel",
      "_view_count": null,
      "_view_module": "@jupyter-widgets/base",
      "_view_module_version": "1.2.0",
      "_view_name": "StyleView",
      "description_width": ""
     }
    },
    "249bdcead1ac45e285d75cf1f6570d82": {
     "model_module": "@jupyter-widgets/controls",
     "model_module_version": "1.5.0",
     "model_name": "ProgressStyleModel",
     "state": {
      "_model_module": "@jupyter-widgets/controls",
      "_model_module_version": "1.5.0",
      "_model_name": "ProgressStyleModel",
      "_view_count": null,
      "_view_module": "@jupyter-widgets/base",
      "_view_module_version": "1.2.0",
      "_view_name": "StyleView",
      "bar_color": null,
      "description_width": ""
     }
    },
    "2776ed6ea9544496b013edb14efc3411": {
     "model_module": "@jupyter-widgets/controls",
     "model_module_version": "1.5.0",
     "model_name": "HTMLModel",
     "state": {
      "_dom_classes": [],
      "_model_module": "@jupyter-widgets/controls",
      "_model_module_version": "1.5.0",
      "_model_name": "HTMLModel",
      "_view_count": null,
      "_view_module": "@jupyter-widgets/controls",
      "_view_module_version": "1.5.0",
      "_view_name": "HTMLView",
      "description": "",
      "description_tooltip": null,
      "layout": "IPY_MODEL_149d7ab92e60492a93a5be14789c8cc9",
      "placeholder": "​",
      "style": "IPY_MODEL_a8ab64afb09d415f8fea3c6a9ae94738",
      "value": " 110k/110k [00:00&lt;00:00, 200kB/s]"
     }
    },
    "2f2b1d744fe2434d9f64fd482e06f517": {
     "model_module": "@jupyter-widgets/controls",
     "model_module_version": "1.5.0",
     "model_name": "DescriptionStyleModel",
     "state": {
      "_model_module": "@jupyter-widgets/controls",
      "_model_module_version": "1.5.0",
      "_model_name": "DescriptionStyleModel",
      "_view_count": null,
      "_view_module": "@jupyter-widgets/base",
      "_view_module_version": "1.2.0",
      "_view_name": "StyleView",
      "description_width": ""
     }
    },
    "39b30e29bfb64ac09ed875f40cab6262": {
     "model_module": "@jupyter-widgets/controls",
     "model_module_version": "1.5.0",
     "model_name": "ProgressStyleModel",
     "state": {
      "_model_module": "@jupyter-widgets/controls",
      "_model_module_version": "1.5.0",
      "_model_name": "ProgressStyleModel",
      "_view_count": null,
      "_view_module": "@jupyter-widgets/base",
      "_view_module_version": "1.2.0",
      "_view_name": "StyleView",
      "bar_color": null,
      "description_width": ""
     }
    },
    "3e95341a623c4f4c86fdfb6f7331fb6e": {
     "model_module": "@jupyter-widgets/base",
     "model_module_version": "1.2.0",
     "model_name": "LayoutModel",
     "state": {
      "_model_module": "@jupyter-widgets/base",
      "_model_module_version": "1.2.0",
      "_model_name": "LayoutModel",
      "_view_count": null,
      "_view_module": "@jupyter-widgets/base",
      "_view_module_version": "1.2.0",
      "_view_name": "LayoutView",
      "align_content": null,
      "align_items": null,
      "align_self": null,
      "border": null,
      "bottom": null,
      "display": null,
      "flex": null,
      "flex_flow": null,
      "grid_area": null,
      "grid_auto_columns": null,
      "grid_auto_flow": null,
      "grid_auto_rows": null,
      "grid_column": null,
      "grid_gap": null,
      "grid_row": null,
      "grid_template_areas": null,
      "grid_template_columns": null,
      "grid_template_rows": null,
      "height": null,
      "justify_content": null,
      "justify_items": null,
      "left": null,
      "margin": null,
      "max_height": null,
      "max_width": null,
      "min_height": null,
      "min_width": null,
      "object_fit": null,
      "object_position": null,
      "order": null,
      "overflow": null,
      "overflow_x": null,
      "overflow_y": null,
      "padding": null,
      "right": null,
      "top": null,
      "visibility": null,
      "width": null
     }
    },
    "4020c0233b124ca28c57a6a6fce03377": {
     "model_module": "@jupyter-widgets/controls",
     "model_module_version": "1.5.0",
     "model_name": "FloatProgressModel",
     "state": {
      "_dom_classes": [],
      "_model_module": "@jupyter-widgets/controls",
      "_model_module_version": "1.5.0",
      "_model_name": "FloatProgressModel",
      "_view_count": null,
      "_view_module": "@jupyter-widgets/controls",
      "_view_module_version": "1.5.0",
      "_view_name": "ProgressView",
      "bar_style": "success",
      "description": "",
      "description_tooltip": null,
      "layout": "IPY_MODEL_e1cb7b005d2d43459afed0a45db5cfe1",
      "max": 268961,
      "min": 0,
      "orientation": "horizontal",
      "style": "IPY_MODEL_39b30e29bfb64ac09ed875f40cab6262",
      "value": 268961
     }
    },
    "4f5c1f8595fb49f1be29801fa998a49f": {
     "model_module": "@jupyter-widgets/base",
     "model_module_version": "1.2.0",
     "model_name": "LayoutModel",
     "state": {
      "_model_module": "@jupyter-widgets/base",
      "_model_module_version": "1.2.0",
      "_model_name": "LayoutModel",
      "_view_count": null,
      "_view_module": "@jupyter-widgets/base",
      "_view_module_version": "1.2.0",
      "_view_name": "LayoutView",
      "align_content": null,
      "align_items": null,
      "align_self": null,
      "border": null,
      "bottom": null,
      "display": null,
      "flex": null,
      "flex_flow": null,
      "grid_area": null,
      "grid_auto_columns": null,
      "grid_auto_flow": null,
      "grid_auto_rows": null,
      "grid_column": null,
      "grid_gap": null,
      "grid_row": null,
      "grid_template_areas": null,
      "grid_template_columns": null,
      "grid_template_rows": null,
      "height": null,
      "justify_content": null,
      "justify_items": null,
      "left": null,
      "margin": null,
      "max_height": null,
      "max_width": null,
      "min_height": null,
      "min_width": null,
      "object_fit": null,
      "object_position": null,
      "order": null,
      "overflow": null,
      "overflow_x": null,
      "overflow_y": null,
      "padding": null,
      "right": null,
      "top": null,
      "visibility": null,
      "width": null
     }
    },
    "520bd46116fb405280dd833946adcc47": {
     "model_module": "@jupyter-widgets/controls",
     "model_module_version": "1.5.0",
     "model_name": "HTMLModel",
     "state": {
      "_dom_classes": [],
      "_model_module": "@jupyter-widgets/controls",
      "_model_module_version": "1.5.0",
      "_model_name": "HTMLModel",
      "_view_count": null,
      "_view_module": "@jupyter-widgets/controls",
      "_view_module_version": "1.5.0",
      "_view_name": "HTMLView",
      "description": "",
      "description_tooltip": null,
      "layout": "IPY_MODEL_7c51cf3add634b3795f2e9e97f6f3e83",
      "placeholder": "​",
      "style": "IPY_MODEL_2433c49af18f41ccb4df88e98040dd7b",
      "value": "Downloading: 100%"
     }
    },
    "554878ec93724849bf5a29c3ca63017d": {
     "model_module": "@jupyter-widgets/base",
     "model_module_version": "1.2.0",
     "model_name": "LayoutModel",
     "state": {
      "_model_module": "@jupyter-widgets/base",
      "_model_module_version": "1.2.0",
      "_model_name": "LayoutModel",
      "_view_count": null,
      "_view_module": "@jupyter-widgets/base",
      "_view_module_version": "1.2.0",
      "_view_name": "LayoutView",
      "align_content": null,
      "align_items": null,
      "align_self": null,
      "border": null,
      "bottom": null,
      "display": null,
      "flex": null,
      "flex_flow": null,
      "grid_area": null,
      "grid_auto_columns": null,
      "grid_auto_flow": null,
      "grid_auto_rows": null,
      "grid_column": null,
      "grid_gap": null,
      "grid_row": null,
      "grid_template_areas": null,
      "grid_template_columns": null,
      "grid_template_rows": null,
      "height": null,
      "justify_content": null,
      "justify_items": null,
      "left": null,
      "margin": null,
      "max_height": null,
      "max_width": null,
      "min_height": null,
      "min_width": null,
      "object_fit": null,
      "object_position": null,
      "order": null,
      "overflow": null,
      "overflow_x": null,
      "overflow_y": null,
      "padding": null,
      "right": null,
      "top": null,
      "visibility": null,
      "width": null
     }
    },
    "587a50e57c6649e48940003b49cbc519": {
     "model_module": "@jupyter-widgets/base",
     "model_module_version": "1.2.0",
     "model_name": "LayoutModel",
     "state": {
      "_model_module": "@jupyter-widgets/base",
      "_model_module_version": "1.2.0",
      "_model_name": "LayoutModel",
      "_view_count": null,
      "_view_module": "@jupyter-widgets/base",
      "_view_module_version": "1.2.0",
      "_view_name": "LayoutView",
      "align_content": null,
      "align_items": null,
      "align_self": null,
      "border": null,
      "bottom": null,
      "display": null,
      "flex": null,
      "flex_flow": null,
      "grid_area": null,
      "grid_auto_columns": null,
      "grid_auto_flow": null,
      "grid_auto_rows": null,
      "grid_column": null,
      "grid_gap": null,
      "grid_row": null,
      "grid_template_areas": null,
      "grid_template_columns": null,
      "grid_template_rows": null,
      "height": null,
      "justify_content": null,
      "justify_items": null,
      "left": null,
      "margin": null,
      "max_height": null,
      "max_width": null,
      "min_height": null,
      "min_width": null,
      "object_fit": null,
      "object_position": null,
      "order": null,
      "overflow": null,
      "overflow_x": null,
      "overflow_y": null,
      "padding": null,
      "right": null,
      "top": null,
      "visibility": null,
      "width": null
     }
    },
    "5c27f3ae99e24621b02d9766a6a50d5c": {
     "model_module": "@jupyter-widgets/base",
     "model_module_version": "1.2.0",
     "model_name": "LayoutModel",
     "state": {
      "_model_module": "@jupyter-widgets/base",
      "_model_module_version": "1.2.0",
      "_model_name": "LayoutModel",
      "_view_count": null,
      "_view_module": "@jupyter-widgets/base",
      "_view_module_version": "1.2.0",
      "_view_name": "LayoutView",
      "align_content": null,
      "align_items": null,
      "align_self": null,
      "border": null,
      "bottom": null,
      "display": null,
      "flex": null,
      "flex_flow": null,
      "grid_area": null,
      "grid_auto_columns": null,
      "grid_auto_flow": null,
      "grid_auto_rows": null,
      "grid_column": null,
      "grid_gap": null,
      "grid_row": null,
      "grid_template_areas": null,
      "grid_template_columns": null,
      "grid_template_rows": null,
      "height": null,
      "justify_content": null,
      "justify_items": null,
      "left": null,
      "margin": null,
      "max_height": null,
      "max_width": null,
      "min_height": null,
      "min_width": null,
      "object_fit": null,
      "object_position": null,
      "order": null,
      "overflow": null,
      "overflow_x": null,
      "overflow_y": null,
      "padding": null,
      "right": null,
      "top": null,
      "visibility": null,
      "width": null
     }
    },
    "613b00919cdc446fa9444027a029fa30": {
     "model_module": "@jupyter-widgets/controls",
     "model_module_version": "1.5.0",
     "model_name": "DescriptionStyleModel",
     "state": {
      "_model_module": "@jupyter-widgets/controls",
      "_model_module_version": "1.5.0",
      "_model_name": "DescriptionStyleModel",
      "_view_count": null,
      "_view_module": "@jupyter-widgets/base",
      "_view_module_version": "1.2.0",
      "_view_name": "StyleView",
      "description_width": ""
     }
    },
    "6a57d9f694af43bbbf32db09238e0dc4": {
     "model_module": "@jupyter-widgets/controls",
     "model_module_version": "1.5.0",
     "model_name": "FloatProgressModel",
     "state": {
      "_dom_classes": [],
      "_model_module": "@jupyter-widgets/controls",
      "_model_module_version": "1.5.0",
      "_model_name": "FloatProgressModel",
      "_view_count": null,
      "_view_module": "@jupyter-widgets/controls",
      "_view_module_version": "1.5.0",
      "_view_name": "ProgressView",
      "bar_style": "success",
      "description": "",
      "description_tooltip": null,
      "layout": "IPY_MODEL_3e95341a623c4f4c86fdfb6f7331fb6e",
      "max": 112,
      "min": 0,
      "orientation": "horizontal",
      "style": "IPY_MODEL_85f0dfce5fe743ddbf4c61b0e1f6ff21",
      "value": 112
     }
    },
    "70f63770ab614b14a2b96837095158c1": {
     "model_module": "@jupyter-widgets/controls",
     "model_module_version": "1.5.0",
     "model_name": "HBoxModel",
     "state": {
      "_dom_classes": [],
      "_model_module": "@jupyter-widgets/controls",
      "_model_module_version": "1.5.0",
      "_model_name": "HBoxModel",
      "_view_count": null,
      "_view_module": "@jupyter-widgets/controls",
      "_view_module_version": "1.5.0",
      "_view_name": "HBoxView",
      "box_style": "",
      "children": [
       "IPY_MODEL_b83901fd7017431cb195c48da2540a13",
       "IPY_MODEL_7d6c5895e94b4532b8de031ce4fc90ef",
       "IPY_MODEL_b90951fd126d485e84aa5aeda99ee83f"
      ],
      "layout": "IPY_MODEL_f70924534f53428c8fc4db599d52e5c6"
     }
    },
    "7676fb26ef3142d69df275305b36f71e": {
     "model_module": "@jupyter-widgets/controls",
     "model_module_version": "1.5.0",
     "model_name": "HBoxModel",
     "state": {
      "_dom_classes": [],
      "_model_module": "@jupyter-widgets/controls",
      "_model_module_version": "1.5.0",
      "_model_name": "HBoxModel",
      "_view_count": null,
      "_view_module": "@jupyter-widgets/controls",
      "_view_module_version": "1.5.0",
      "_view_name": "HBoxView",
      "box_style": "",
      "children": [
       "IPY_MODEL_0347b337fa9446c09a205e44fe9eedda",
       "IPY_MODEL_eeb1646a1f294d6f8c33d92e1bfb0924",
       "IPY_MODEL_2776ed6ea9544496b013edb14efc3411"
      ],
      "layout": "IPY_MODEL_14ead329841c466a8dfb8423e18a83d4"
     }
    },
    "78eafdfcb7a44af2a93135c802698706": {
     "model_module": "@jupyter-widgets/controls",
     "model_module_version": "1.5.0",
     "model_name": "DescriptionStyleModel",
     "state": {
      "_model_module": "@jupyter-widgets/controls",
      "_model_module_version": "1.5.0",
      "_model_name": "DescriptionStyleModel",
      "_view_count": null,
      "_view_module": "@jupyter-widgets/base",
      "_view_module_version": "1.2.0",
      "_view_name": "StyleView",
      "description_width": ""
     }
    },
    "7c51cf3add634b3795f2e9e97f6f3e83": {
     "model_module": "@jupyter-widgets/base",
     "model_module_version": "1.2.0",
     "model_name": "LayoutModel",
     "state": {
      "_model_module": "@jupyter-widgets/base",
      "_model_module_version": "1.2.0",
      "_model_name": "LayoutModel",
      "_view_count": null,
      "_view_module": "@jupyter-widgets/base",
      "_view_module_version": "1.2.0",
      "_view_name": "LayoutView",
      "align_content": null,
      "align_items": null,
      "align_self": null,
      "border": null,
      "bottom": null,
      "display": null,
      "flex": null,
      "flex_flow": null,
      "grid_area": null,
      "grid_auto_columns": null,
      "grid_auto_flow": null,
      "grid_auto_rows": null,
      "grid_column": null,
      "grid_gap": null,
      "grid_row": null,
      "grid_template_areas": null,
      "grid_template_columns": null,
      "grid_template_rows": null,
      "height": null,
      "justify_content": null,
      "justify_items": null,
      "left": null,
      "margin": null,
      "max_height": null,
      "max_width": null,
      "min_height": null,
      "min_width": null,
      "object_fit": null,
      "object_position": null,
      "order": null,
      "overflow": null,
      "overflow_x": null,
      "overflow_y": null,
      "padding": null,
      "right": null,
      "top": null,
      "visibility": null,
      "width": null
     }
    },
    "7d38fe485ceb4d71b1d5d8e4040a20f7": {
     "model_module": "@jupyter-widgets/controls",
     "model_module_version": "1.5.0",
     "model_name": "ProgressStyleModel",
     "state": {
      "_model_module": "@jupyter-widgets/controls",
      "_model_module_version": "1.5.0",
      "_model_name": "ProgressStyleModel",
      "_view_count": null,
      "_view_module": "@jupyter-widgets/base",
      "_view_module_version": "1.2.0",
      "_view_name": "StyleView",
      "bar_color": null,
      "description_width": ""
     }
    },
    "7d6c5895e94b4532b8de031ce4fc90ef": {
     "model_module": "@jupyter-widgets/controls",
     "model_module_version": "1.5.0",
     "model_name": "FloatProgressModel",
     "state": {
      "_dom_classes": [],
      "_model_module": "@jupyter-widgets/controls",
      "_model_module_version": "1.5.0",
      "_model_name": "FloatProgressModel",
      "_view_count": null,
      "_view_module": "@jupyter-widgets/controls",
      "_view_module_version": "1.5.0",
      "_view_name": "ProgressView",
      "bar_style": "success",
      "description": "",
      "description_tooltip": null,
      "layout": "IPY_MODEL_b5220dc087664ecf8ad17a97f7022d9d",
      "max": 2,
      "min": 0,
      "orientation": "horizontal",
      "style": "IPY_MODEL_c6200e20439b48fb8a51d77438fe93b0",
      "value": 2
     }
    },
    "7e516a5686fa44a09ebf454ef14e2efd": {
     "model_module": "@jupyter-widgets/base",
     "model_module_version": "1.2.0",
     "model_name": "LayoutModel",
     "state": {
      "_model_module": "@jupyter-widgets/base",
      "_model_module_version": "1.2.0",
      "_model_name": "LayoutModel",
      "_view_count": null,
      "_view_module": "@jupyter-widgets/base",
      "_view_module_version": "1.2.0",
      "_view_name": "LayoutView",
      "align_content": null,
      "align_items": null,
      "align_self": null,
      "border": null,
      "bottom": null,
      "display": null,
      "flex": null,
      "flex_flow": null,
      "grid_area": null,
      "grid_auto_columns": null,
      "grid_auto_flow": null,
      "grid_auto_rows": null,
      "grid_column": null,
      "grid_gap": null,
      "grid_row": null,
      "grid_template_areas": null,
      "grid_template_columns": null,
      "grid_template_rows": null,
      "height": null,
      "justify_content": null,
      "justify_items": null,
      "left": null,
      "margin": null,
      "max_height": null,
      "max_width": null,
      "min_height": null,
      "min_width": null,
      "object_fit": null,
      "object_position": null,
      "order": null,
      "overflow": null,
      "overflow_x": null,
      "overflow_y": null,
      "padding": null,
      "right": null,
      "top": null,
      "visibility": null,
      "width": null
     }
    },
    "810d706a9752417f85455b2bc0eb9e5f": {
     "model_module": "@jupyter-widgets/base",
     "model_module_version": "1.2.0",
     "model_name": "LayoutModel",
     "state": {
      "_model_module": "@jupyter-widgets/base",
      "_model_module_version": "1.2.0",
      "_model_name": "LayoutModel",
      "_view_count": null,
      "_view_module": "@jupyter-widgets/base",
      "_view_module_version": "1.2.0",
      "_view_name": "LayoutView",
      "align_content": null,
      "align_items": null,
      "align_self": null,
      "border": null,
      "bottom": null,
      "display": null,
      "flex": null,
      "flex_flow": null,
      "grid_area": null,
      "grid_auto_columns": null,
      "grid_auto_flow": null,
      "grid_auto_rows": null,
      "grid_column": null,
      "grid_gap": null,
      "grid_row": null,
      "grid_template_areas": null,
      "grid_template_columns": null,
      "grid_template_rows": null,
      "height": null,
      "justify_content": null,
      "justify_items": null,
      "left": null,
      "margin": null,
      "max_height": null,
      "max_width": null,
      "min_height": null,
      "min_width": null,
      "object_fit": null,
      "object_position": null,
      "order": null,
      "overflow": null,
      "overflow_x": null,
      "overflow_y": null,
      "padding": null,
      "right": null,
      "top": null,
      "visibility": null,
      "width": null
     }
    },
    "85f0dfce5fe743ddbf4c61b0e1f6ff21": {
     "model_module": "@jupyter-widgets/controls",
     "model_module_version": "1.5.0",
     "model_name": "ProgressStyleModel",
     "state": {
      "_model_module": "@jupyter-widgets/controls",
      "_model_module_version": "1.5.0",
      "_model_name": "ProgressStyleModel",
      "_view_count": null,
      "_view_module": "@jupyter-widgets/base",
      "_view_module_version": "1.2.0",
      "_view_name": "StyleView",
      "bar_color": null,
      "description_width": ""
     }
    },
    "8c62d1f9f2db471297c76c70960000b2": {
     "model_module": "@jupyter-widgets/controls",
     "model_module_version": "1.5.0",
     "model_name": "HBoxModel",
     "state": {
      "_dom_classes": [],
      "_model_module": "@jupyter-widgets/controls",
      "_model_module_version": "1.5.0",
      "_model_name": "HBoxModel",
      "_view_count": null,
      "_view_module": "@jupyter-widgets/controls",
      "_view_module_version": "1.5.0",
      "_view_name": "HBoxView",
      "box_style": "",
      "children": [
       "IPY_MODEL_f650354f0e32481d9ac6ff98637f319b",
       "IPY_MODEL_ab0887c2c9a44fe2a0ffc5935ea99065",
       "IPY_MODEL_90ac286dc2a54cfc83e7b626580a7cdc"
      ],
      "layout": "IPY_MODEL_7e516a5686fa44a09ebf454ef14e2efd"
     }
    },
    "90ac286dc2a54cfc83e7b626580a7cdc": {
     "model_module": "@jupyter-widgets/controls",
     "model_module_version": "1.5.0",
     "model_name": "HTMLModel",
     "state": {
      "_dom_classes": [],
      "_model_module": "@jupyter-widgets/controls",
      "_model_module_version": "1.5.0",
      "_model_name": "HTMLModel",
      "_view_count": null,
      "_view_module": "@jupyter-widgets/controls",
      "_view_module_version": "1.5.0",
      "_view_name": "HTMLView",
      "description": "",
      "description_tooltip": null,
      "layout": "IPY_MODEL_554878ec93724849bf5a29c3ca63017d",
      "placeholder": "​",
      "style": "IPY_MODEL_158f5602ae074f03ab4f9f72785e8bde",
      "value": " 19.0/19.0 [00:00&lt;00:00, 524B/s]"
     }
    },
    "a0ff58e195a74a9e888f3f6c67d13836": {
     "model_module": "@jupyter-widgets/controls",
     "model_module_version": "1.5.0",
     "model_name": "HBoxModel",
     "state": {
      "_dom_classes": [],
      "_model_module": "@jupyter-widgets/controls",
      "_model_module_version": "1.5.0",
      "_model_name": "HBoxModel",
      "_view_count": null,
      "_view_module": "@jupyter-widgets/controls",
      "_view_module_version": "1.5.0",
      "_view_name": "HBoxView",
      "box_style": "",
      "children": [
       "IPY_MODEL_520bd46116fb405280dd833946adcc47",
       "IPY_MODEL_6a57d9f694af43bbbf32db09238e0dc4",
       "IPY_MODEL_f4f898f678fc4be5a64f2143c82bd618"
      ],
      "layout": "IPY_MODEL_eef03a4b3aa84197a9549197d4cfabcb"
     }
    },
    "a8ab64afb09d415f8fea3c6a9ae94738": {
     "model_module": "@jupyter-widgets/controls",
     "model_module_version": "1.5.0",
     "model_name": "DescriptionStyleModel",
     "state": {
      "_model_module": "@jupyter-widgets/controls",
      "_model_module_version": "1.5.0",
      "_model_name": "DescriptionStyleModel",
      "_view_count": null,
      "_view_module": "@jupyter-widgets/base",
      "_view_module_version": "1.2.0",
      "_view_name": "StyleView",
      "description_width": ""
     }
    },
    "ab0887c2c9a44fe2a0ffc5935ea99065": {
     "model_module": "@jupyter-widgets/controls",
     "model_module_version": "1.5.0",
     "model_name": "FloatProgressModel",
     "state": {
      "_dom_classes": [],
      "_model_module": "@jupyter-widgets/controls",
      "_model_module_version": "1.5.0",
      "_model_name": "FloatProgressModel",
      "_view_count": null,
      "_view_module": "@jupyter-widgets/controls",
      "_view_module_version": "1.5.0",
      "_view_name": "ProgressView",
      "bar_style": "success",
      "description": "",
      "description_tooltip": null,
      "layout": "IPY_MODEL_221cfec96d0e4f579bd21264a506e82c",
      "max": 19,
      "min": 0,
      "orientation": "horizontal",
      "style": "IPY_MODEL_7d38fe485ceb4d71b1d5d8e4040a20f7",
      "value": 19
     }
    },
    "b5220dc087664ecf8ad17a97f7022d9d": {
     "model_module": "@jupyter-widgets/base",
     "model_module_version": "1.2.0",
     "model_name": "LayoutModel",
     "state": {
      "_model_module": "@jupyter-widgets/base",
      "_model_module_version": "1.2.0",
      "_model_name": "LayoutModel",
      "_view_count": null,
      "_view_module": "@jupyter-widgets/base",
      "_view_module_version": "1.2.0",
      "_view_name": "LayoutView",
      "align_content": null,
      "align_items": null,
      "align_self": null,
      "border": null,
      "bottom": null,
      "display": null,
      "flex": null,
      "flex_flow": null,
      "grid_area": null,
      "grid_auto_columns": null,
      "grid_auto_flow": null,
      "grid_auto_rows": null,
      "grid_column": null,
      "grid_gap": null,
      "grid_row": null,
      "grid_template_areas": null,
      "grid_template_columns": null,
      "grid_template_rows": null,
      "height": null,
      "justify_content": null,
      "justify_items": null,
      "left": null,
      "margin": null,
      "max_height": null,
      "max_width": null,
      "min_height": null,
      "min_width": null,
      "object_fit": null,
      "object_position": null,
      "order": null,
      "overflow": null,
      "overflow_x": null,
      "overflow_y": null,
      "padding": null,
      "right": null,
      "top": null,
      "visibility": null,
      "width": null
     }
    },
    "b83901fd7017431cb195c48da2540a13": {
     "model_module": "@jupyter-widgets/controls",
     "model_module_version": "1.5.0",
     "model_name": "HTMLModel",
     "state": {
      "_dom_classes": [],
      "_model_module": "@jupyter-widgets/controls",
      "_model_module_version": "1.5.0",
      "_model_name": "HTMLModel",
      "_view_count": null,
      "_view_module": "@jupyter-widgets/controls",
      "_view_module_version": "1.5.0",
      "_view_name": "HTMLView",
      "description": "",
      "description_tooltip": null,
      "layout": "IPY_MODEL_4f5c1f8595fb49f1be29801fa998a49f",
      "placeholder": "​",
      "style": "IPY_MODEL_613b00919cdc446fa9444027a029fa30",
      "value": "Downloading: 100%"
     }
    },
    "b90951fd126d485e84aa5aeda99ee83f": {
     "model_module": "@jupyter-widgets/controls",
     "model_module_version": "1.5.0",
     "model_name": "HTMLModel",
     "state": {
      "_dom_classes": [],
      "_model_module": "@jupyter-widgets/controls",
      "_model_module_version": "1.5.0",
      "_model_name": "HTMLModel",
      "_view_count": null,
      "_view_module": "@jupyter-widgets/controls",
      "_view_module_version": "1.5.0",
      "_view_name": "HTMLView",
      "description": "",
      "description_tooltip": null,
      "layout": "IPY_MODEL_c03a979c263043df9d6783bd7bfafec6",
      "placeholder": "​",
      "style": "IPY_MODEL_f541ce8ca0ba465f85b7a298ed066d03",
      "value": " 2.00/2.00 [00:00&lt;00:00, 77.5B/s]"
     }
    },
    "bab77e26c50043fea38352aed0f0eed9": {
     "model_module": "@jupyter-widgets/controls",
     "model_module_version": "1.5.0",
     "model_name": "HTMLModel",
     "state": {
      "_dom_classes": [],
      "_model_module": "@jupyter-widgets/controls",
      "_model_module_version": "1.5.0",
      "_model_name": "HTMLModel",
      "_view_count": null,
      "_view_module": "@jupyter-widgets/controls",
      "_view_module_version": "1.5.0",
      "_view_name": "HTMLView",
      "description": "",
      "description_tooltip": null,
      "layout": "IPY_MODEL_160969175117493482496a7d6d14940c",
      "placeholder": "​",
      "style": "IPY_MODEL_78eafdfcb7a44af2a93135c802698706",
      "value": "Downloading: 100%"
     }
    },
    "c03a979c263043df9d6783bd7bfafec6": {
     "model_module": "@jupyter-widgets/base",
     "model_module_version": "1.2.0",
     "model_name": "LayoutModel",
     "state": {
      "_model_module": "@jupyter-widgets/base",
      "_model_module_version": "1.2.0",
      "_model_name": "LayoutModel",
      "_view_count": null,
      "_view_module": "@jupyter-widgets/base",
      "_view_module_version": "1.2.0",
      "_view_name": "LayoutView",
      "align_content": null,
      "align_items": null,
      "align_self": null,
      "border": null,
      "bottom": null,
      "display": null,
      "flex": null,
      "flex_flow": null,
      "grid_area": null,
      "grid_auto_columns": null,
      "grid_auto_flow": null,
      "grid_auto_rows": null,
      "grid_column": null,
      "grid_gap": null,
      "grid_row": null,
      "grid_template_areas": null,
      "grid_template_columns": null,
      "grid_template_rows": null,
      "height": null,
      "justify_content": null,
      "justify_items": null,
      "left": null,
      "margin": null,
      "max_height": null,
      "max_width": null,
      "min_height": null,
      "min_width": null,
      "object_fit": null,
      "object_position": null,
      "order": null,
      "overflow": null,
      "overflow_x": null,
      "overflow_y": null,
      "padding": null,
      "right": null,
      "top": null,
      "visibility": null,
      "width": null
     }
    },
    "c170d9ca59bd4f789dd46d4e168ea578": {
     "model_module": "@jupyter-widgets/controls",
     "model_module_version": "1.5.0",
     "model_name": "DescriptionStyleModel",
     "state": {
      "_model_module": "@jupyter-widgets/controls",
      "_model_module_version": "1.5.0",
      "_model_name": "DescriptionStyleModel",
      "_view_count": null,
      "_view_module": "@jupyter-widgets/base",
      "_view_module_version": "1.2.0",
      "_view_name": "StyleView",
      "description_width": ""
     }
    },
    "c6200e20439b48fb8a51d77438fe93b0": {
     "model_module": "@jupyter-widgets/controls",
     "model_module_version": "1.5.0",
     "model_name": "ProgressStyleModel",
     "state": {
      "_model_module": "@jupyter-widgets/controls",
      "_model_module_version": "1.5.0",
      "_model_name": "ProgressStyleModel",
      "_view_count": null,
      "_view_module": "@jupyter-widgets/base",
      "_view_module_version": "1.2.0",
      "_view_name": "StyleView",
      "bar_color": null,
      "description_width": ""
     }
    },
    "c785f9c40ae946bfa2b59fe9b95a012e": {
     "model_module": "@jupyter-widgets/controls",
     "model_module_version": "1.5.0",
     "model_name": "HBoxModel",
     "state": {
      "_dom_classes": [],
      "_model_module": "@jupyter-widgets/controls",
      "_model_module_version": "1.5.0",
      "_model_name": "HBoxModel",
      "_view_count": null,
      "_view_module": "@jupyter-widgets/controls",
      "_view_module_version": "1.5.0",
      "_view_name": "HBoxView",
      "box_style": "",
      "children": [
       "IPY_MODEL_bab77e26c50043fea38352aed0f0eed9",
       "IPY_MODEL_4020c0233b124ca28c57a6a6fce03377",
       "IPY_MODEL_00b2339c2f7e418ca1f2180ebeda9b3a"
      ],
      "layout": "IPY_MODEL_810d706a9752417f85455b2bc0eb9e5f"
     }
    },
    "caf555cf32174dc38fc3082ebfa15cfd": {
     "model_module": "@jupyter-widgets/controls",
     "model_module_version": "1.5.0",
     "model_name": "DescriptionStyleModel",
     "state": {
      "_model_module": "@jupyter-widgets/controls",
      "_model_module_version": "1.5.0",
      "_model_name": "DescriptionStyleModel",
      "_view_count": null,
      "_view_module": "@jupyter-widgets/base",
      "_view_module_version": "1.2.0",
      "_view_name": "StyleView",
      "description_width": ""
     }
    },
    "e1cb7b005d2d43459afed0a45db5cfe1": {
     "model_module": "@jupyter-widgets/base",
     "model_module_version": "1.2.0",
     "model_name": "LayoutModel",
     "state": {
      "_model_module": "@jupyter-widgets/base",
      "_model_module_version": "1.2.0",
      "_model_name": "LayoutModel",
      "_view_count": null,
      "_view_module": "@jupyter-widgets/base",
      "_view_module_version": "1.2.0",
      "_view_name": "LayoutView",
      "align_content": null,
      "align_items": null,
      "align_self": null,
      "border": null,
      "bottom": null,
      "display": null,
      "flex": null,
      "flex_flow": null,
      "grid_area": null,
      "grid_auto_columns": null,
      "grid_auto_flow": null,
      "grid_auto_rows": null,
      "grid_column": null,
      "grid_gap": null,
      "grid_row": null,
      "grid_template_areas": null,
      "grid_template_columns": null,
      "grid_template_rows": null,
      "height": null,
      "justify_content": null,
      "justify_items": null,
      "left": null,
      "margin": null,
      "max_height": null,
      "max_width": null,
      "min_height": null,
      "min_width": null,
      "object_fit": null,
      "object_position": null,
      "order": null,
      "overflow": null,
      "overflow_x": null,
      "overflow_y": null,
      "padding": null,
      "right": null,
      "top": null,
      "visibility": null,
      "width": null
     }
    },
    "eeb1646a1f294d6f8c33d92e1bfb0924": {
     "model_module": "@jupyter-widgets/controls",
     "model_module_version": "1.5.0",
     "model_name": "FloatProgressModel",
     "state": {
      "_dom_classes": [],
      "_model_module": "@jupyter-widgets/controls",
      "_model_module_version": "1.5.0",
      "_model_name": "FloatProgressModel",
      "_view_count": null,
      "_view_module": "@jupyter-widgets/controls",
      "_view_module_version": "1.5.0",
      "_view_name": "ProgressView",
      "bar_style": "success",
      "description": "",
      "description_tooltip": null,
      "layout": "IPY_MODEL_587a50e57c6649e48940003b49cbc519",
      "max": 109540,
      "min": 0,
      "orientation": "horizontal",
      "style": "IPY_MODEL_249bdcead1ac45e285d75cf1f6570d82",
      "value": 109540
     }
    },
    "eef03a4b3aa84197a9549197d4cfabcb": {
     "model_module": "@jupyter-widgets/base",
     "model_module_version": "1.2.0",
     "model_name": "LayoutModel",
     "state": {
      "_model_module": "@jupyter-widgets/base",
      "_model_module_version": "1.2.0",
      "_model_name": "LayoutModel",
      "_view_count": null,
      "_view_module": "@jupyter-widgets/base",
      "_view_module_version": "1.2.0",
      "_view_name": "LayoutView",
      "align_content": null,
      "align_items": null,
      "align_self": null,
      "border": null,
      "bottom": null,
      "display": null,
      "flex": null,
      "flex_flow": null,
      "grid_area": null,
      "grid_auto_columns": null,
      "grid_auto_flow": null,
      "grid_auto_rows": null,
      "grid_column": null,
      "grid_gap": null,
      "grid_row": null,
      "grid_template_areas": null,
      "grid_template_columns": null,
      "grid_template_rows": null,
      "height": null,
      "justify_content": null,
      "justify_items": null,
      "left": null,
      "margin": null,
      "max_height": null,
      "max_width": null,
      "min_height": null,
      "min_width": null,
      "object_fit": null,
      "object_position": null,
      "order": null,
      "overflow": null,
      "overflow_x": null,
      "overflow_y": null,
      "padding": null,
      "right": null,
      "top": null,
      "visibility": null,
      "width": null
     }
    },
    "f0b89e99157f4dc39ee225b6a3c024cd": {
     "model_module": "@jupyter-widgets/base",
     "model_module_version": "1.2.0",
     "model_name": "LayoutModel",
     "state": {
      "_model_module": "@jupyter-widgets/base",
      "_model_module_version": "1.2.0",
      "_model_name": "LayoutModel",
      "_view_count": null,
      "_view_module": "@jupyter-widgets/base",
      "_view_module_version": "1.2.0",
      "_view_name": "LayoutView",
      "align_content": null,
      "align_items": null,
      "align_self": null,
      "border": null,
      "bottom": null,
      "display": null,
      "flex": null,
      "flex_flow": null,
      "grid_area": null,
      "grid_auto_columns": null,
      "grid_auto_flow": null,
      "grid_auto_rows": null,
      "grid_column": null,
      "grid_gap": null,
      "grid_row": null,
      "grid_template_areas": null,
      "grid_template_columns": null,
      "grid_template_rows": null,
      "height": null,
      "justify_content": null,
      "justify_items": null,
      "left": null,
      "margin": null,
      "max_height": null,
      "max_width": null,
      "min_height": null,
      "min_width": null,
      "object_fit": null,
      "object_position": null,
      "order": null,
      "overflow": null,
      "overflow_x": null,
      "overflow_y": null,
      "padding": null,
      "right": null,
      "top": null,
      "visibility": null,
      "width": null
     }
    },
    "f4f898f678fc4be5a64f2143c82bd618": {
     "model_module": "@jupyter-widgets/controls",
     "model_module_version": "1.5.0",
     "model_name": "HTMLModel",
     "state": {
      "_dom_classes": [],
      "_model_module": "@jupyter-widgets/controls",
      "_model_module_version": "1.5.0",
      "_model_name": "HTMLModel",
      "_view_count": null,
      "_view_module": "@jupyter-widgets/controls",
      "_view_module_version": "1.5.0",
      "_view_name": "HTMLView",
      "description": "",
      "description_tooltip": null,
      "layout": "IPY_MODEL_f51ec09a2bc845018fe8be29dda33465",
      "placeholder": "​",
      "style": "IPY_MODEL_2f2b1d744fe2434d9f64fd482e06f517",
      "value": " 112/112 [00:00&lt;00:00, 3.26kB/s]"
     }
    },
    "f51ec09a2bc845018fe8be29dda33465": {
     "model_module": "@jupyter-widgets/base",
     "model_module_version": "1.2.0",
     "model_name": "LayoutModel",
     "state": {
      "_model_module": "@jupyter-widgets/base",
      "_model_module_version": "1.2.0",
      "_model_name": "LayoutModel",
      "_view_count": null,
      "_view_module": "@jupyter-widgets/base",
      "_view_module_version": "1.2.0",
      "_view_name": "LayoutView",
      "align_content": null,
      "align_items": null,
      "align_self": null,
      "border": null,
      "bottom": null,
      "display": null,
      "flex": null,
      "flex_flow": null,
      "grid_area": null,
      "grid_auto_columns": null,
      "grid_auto_flow": null,
      "grid_auto_rows": null,
      "grid_column": null,
      "grid_gap": null,
      "grid_row": null,
      "grid_template_areas": null,
      "grid_template_columns": null,
      "grid_template_rows": null,
      "height": null,
      "justify_content": null,
      "justify_items": null,
      "left": null,
      "margin": null,
      "max_height": null,
      "max_width": null,
      "min_height": null,
      "min_width": null,
      "object_fit": null,
      "object_position": null,
      "order": null,
      "overflow": null,
      "overflow_x": null,
      "overflow_y": null,
      "padding": null,
      "right": null,
      "top": null,
      "visibility": null,
      "width": null
     }
    },
    "f541ce8ca0ba465f85b7a298ed066d03": {
     "model_module": "@jupyter-widgets/controls",
     "model_module_version": "1.5.0",
     "model_name": "DescriptionStyleModel",
     "state": {
      "_model_module": "@jupyter-widgets/controls",
      "_model_module_version": "1.5.0",
      "_model_name": "DescriptionStyleModel",
      "_view_count": null,
      "_view_module": "@jupyter-widgets/base",
      "_view_module_version": "1.2.0",
      "_view_name": "StyleView",
      "description_width": ""
     }
    },
    "f650354f0e32481d9ac6ff98637f319b": {
     "model_module": "@jupyter-widgets/controls",
     "model_module_version": "1.5.0",
     "model_name": "HTMLModel",
     "state": {
      "_dom_classes": [],
      "_model_module": "@jupyter-widgets/controls",
      "_model_module_version": "1.5.0",
      "_model_name": "HTMLModel",
      "_view_count": null,
      "_view_module": "@jupyter-widgets/controls",
      "_view_module_version": "1.5.0",
      "_view_name": "HTMLView",
      "description": "",
      "description_tooltip": null,
      "layout": "IPY_MODEL_5c27f3ae99e24621b02d9766a6a50d5c",
      "placeholder": "​",
      "style": "IPY_MODEL_caf555cf32174dc38fc3082ebfa15cfd",
      "value": "Downloading: 100%"
     }
    },
    "f70924534f53428c8fc4db599d52e5c6": {
     "model_module": "@jupyter-widgets/base",
     "model_module_version": "1.2.0",
     "model_name": "LayoutModel",
     "state": {
      "_model_module": "@jupyter-widgets/base",
      "_model_module_version": "1.2.0",
      "_model_name": "LayoutModel",
      "_view_count": null,
      "_view_module": "@jupyter-widgets/base",
      "_view_module_version": "1.2.0",
      "_view_name": "LayoutView",
      "align_content": null,
      "align_items": null,
      "align_self": null,
      "border": null,
      "bottom": null,
      "display": null,
      "flex": null,
      "flex_flow": null,
      "grid_area": null,
      "grid_auto_columns": null,
      "grid_auto_flow": null,
      "grid_auto_rows": null,
      "grid_column": null,
      "grid_gap": null,
      "grid_row": null,
      "grid_template_areas": null,
      "grid_template_columns": null,
      "grid_template_rows": null,
      "height": null,
      "justify_content": null,
      "justify_items": null,
      "left": null,
      "margin": null,
      "max_height": null,
      "max_width": null,
      "min_height": null,
      "min_width": null,
      "object_fit": null,
      "object_position": null,
      "order": null,
      "overflow": null,
      "overflow_x": null,
      "overflow_y": null,
      "padding": null,
      "right": null,
      "top": null,
      "visibility": null,
      "width": null
     }
    }
   }
  }
 },
 "nbformat": 4,
 "nbformat_minor": 1
}
