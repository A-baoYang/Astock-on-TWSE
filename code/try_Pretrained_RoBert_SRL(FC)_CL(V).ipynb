{
 "cells": [
  {
   "cell_type": "code",
   "execution_count": 1,
   "metadata": {
    "ExecuteTime": {
     "end_time": "2022-01-30T06:46:33.946552Z",
     "start_time": "2022-01-30T06:46:33.542676Z"
    },
    "colab": {
     "base_uri": "https://localhost:8080/"
    },
    "executionInfo": {
     "elapsed": 1642,
     "status": "ok",
     "timestamp": 1634194951035,
     "user": {
      "displayName": "Nero C",
      "photoUrl": "https://lh3.googleusercontent.com/a-/AOh14GjQRoCAV4q10k-DC7od7DeLQhSUCkvaI26E0x4r=s64",
      "userId": "13659571702895310340"
     },
     "user_tz": -630
    },
    "id": "pEHKZt-qRG5x",
    "outputId": "c9b85caa-7c2c-4578-fce2-d41c84ef0dc2"
   },
   "outputs": [
    {
     "data": {
      "text/plain": [
       "device(type='cuda')"
      ]
     },
     "execution_count": 1,
     "metadata": {},
     "output_type": "execute_result"
    }
   ],
   "source": [
    "#@title Setup & Config\n",
    "import transformers\n",
    "from transformers import BertModel, BertTokenizer, AdamW, get_linear_schedule_with_warmup\n",
    "import torch\n",
    "import unicodedata\n",
    "import numpy as np\n",
    "import os\n",
    "os.environ[\"CUDA_VISIBLE_DEVICES\"] = \"0,1,2,3\"\n",
    "import pandas as pd\n",
    "import seaborn as sns\n",
    "from pylab import rcParams\n",
    "import matplotlib.pyplot as plt\n",
    "from matplotlib import rc\n",
    "from sklearn.preprocessing import StandardScaler, MinMaxScaler\n",
    "from sklearn.model_selection import train_test_split\n",
    "from sklearn.metrics import confusion_matrix, classification_report\n",
    "from collections import defaultdict\n",
    "from textwrap import wrap\n",
    "\n",
    "from torch import nn, optim\n",
    "from torch.utils.data import Dataset, DataLoader\n",
    "import torch.nn.functional as F\n",
    "from sklearn.metrics import f1_score\n",
    "from torch.nn import TransformerEncoder, TransformerEncoderLayer\n",
    "from collections import Counter\n",
    "import ast\n",
    "import random\n",
    "from tqdm import tqdm\n",
    "\n",
    "\n",
    "%matplotlib inline\n",
    "%config InlineBackend.figure_format='retina'\n",
    "\n",
    "sns.set(style='whitegrid', palette='muted', font_scale=1.2)\n",
    "\n",
    "HAPPY_COLORS_PALETTE = [\"#01BEFE\", \"#FFDD00\", \"#FF7D00\", \"#FF006D\", \"#ADFF02\", \"#8F00FF\"]\n",
    "\n",
    "sns.set_palette(sns.color_palette(HAPPY_COLORS_PALETTE))\n",
    "\n",
    "rcParams['figure.figsize'] = 12, 8\n",
    "\n",
    "RANDOM_SEED = 10\n",
    "np.random.seed(RANDOM_SEED)\n",
    "torch.manual_seed(RANDOM_SEED)\n",
    "\n",
    "device = torch.device(\"cuda\" if torch.cuda.is_available() else \"cpu\")\n",
    "device"
   ]
  },
  {
   "cell_type": "code",
   "execution_count": 2,
   "metadata": {
    "ExecuteTime": {
     "end_time": "2022-01-30T06:46:38.748915Z",
     "start_time": "2022-01-30T06:46:33.947394Z"
    },
    "id": "xRdWcGGBFYTu"
   },
   "outputs": [],
   "source": [
    "from transformers import BertTokenizer,BertModel\n",
    "PRE_TRAINED_MODEL_NAME = \"hfl/chinese-roberta-wwm-ext\"\n",
    "tokenizer = BertTokenizer.from_pretrained(PRE_TRAINED_MODEL_NAME, do_lower_case=True)\n",
    "PRE_TRAINED_MODEL_NAME = '/home/jovyan/graph-stock-pred/Astock/models/ROBERT_4_model'"
   ]
  },
  {
   "cell_type": "markdown",
   "metadata": {},
   "source": [
    "### Dataset\n",
    "- load data from multi-stocks"
   ]
  },
  {
   "cell_type": "code",
   "execution_count": 3,
   "metadata": {},
   "outputs": [
    {
     "name": "stderr",
     "output_type": "stream",
     "text": [
      "100%|██████████| 16/16 [00:00<00:00, 64.77it/s]"
     ]
    },
    {
     "name": "stdout",
     "output_type": "stream",
     "text": [
      "<class 'pandas.core.frame.DataFrame'>\n",
      "Int64Index: 17456 entries, 0 to 1090\n",
      "Data columns (total 33 columns):\n",
      " #   Column         Non-Null Count  Dtype  \n",
      "---  ------         --------------  -----  \n",
      " 0   date           17456 non-null  object \n",
      " 1   open           17456 non-null  float64\n",
      " 2   high           17456 non-null  float64\n",
      " 3   low            17456 non-null  float64\n",
      " 4   close          17456 non-null  float64\n",
      " 5   pre_close      17456 non-null  float64\n",
      " 6   change         17456 non-null  float64\n",
      " 7   pct_chg        17456 non-null  float64\n",
      " 8   ADX            17040 non-null  float64\n",
      " 9   MACD           16944 non-null  float64\n",
      " 10  MACDsignal     16944 non-null  float64\n",
      " 11  MACDhist       16944 non-null  float64\n",
      " 12  RSI            17248 non-null  float64\n",
      " 13  ATR            17248 non-null  float64\n",
      " 14  OBV            17456 non-null  float64\n",
      " 15  BETA           17392 non-null  float64\n",
      " 16  upperBAND      17408 non-null  float64\n",
      " 17  middleBAND     17408 non-null  float64\n",
      " 18  lowerBAND      17408 non-null  float64\n",
      " 19  成交股數           17450 non-null  float64\n",
      " 20  成交筆數           17450 non-null  float64\n",
      " 21  成交金額           17450 non-null  float64\n",
      " 22  殖利率(%)         17450 non-null  float64\n",
      " 23  本益比            14387 non-null  float64\n",
      " 24  股價淨值比          17450 non-null  float64\n",
      " 25  affected_date  17456 non-null  object \n",
      " 26  news_count     17456 non-null  float64\n",
      " 27  titles         5831 non-null   object \n",
      " 28  verbA0A1       5831 non-null   object \n",
      " 29  verb           5831 non-null   object \n",
      " 30  A0             5831 non-null   object \n",
      " 31  A1             5831 non-null   object \n",
      " 32  stock_id       17456 non-null  int64  \n",
      "dtypes: float64(25), int64(1), object(7)\n",
      "memory usage: 4.5+ MB\n"
     ]
    },
    {
     "name": "stderr",
     "output_type": "stream",
     "text": [
      "\n"
     ]
    }
   ],
   "source": [
    "from glob import glob\n",
    "\n",
    "paths = glob(\"/home/jovyan/graph-stock-pred/Astock/data/pre/*-transformed.csv\")\n",
    "df = pd.DataFrame()\n",
    "for path in tqdm(paths):\n",
    "    df = pd.concat([df, pd.read_csv(path)])\n",
    "df.head()\n",
    "df.info()"
   ]
  },
  {
   "cell_type": "markdown",
   "metadata": {},
   "source": [
    "- split train, val, test, ood datasets by date\n"
   ]
  },
  {
   "cell_type": "code",
   "execution_count": 4,
   "metadata": {},
   "outputs": [
    {
     "name": "stdout",
     "output_type": "stream",
     "text": [
      "(9632, 33) (2064, 33) (1840, 33) (3920, 33)\n"
     ]
    }
   ],
   "source": [
    "# train: 2018.07 - 2020.06\n",
    "df_train = df[df[\"date\"]<\"2020-07-01\"].reset_index(drop=True)\n",
    "# val: 2020.07 - 2020.12\n",
    "df_val = df[(df[\"date\"]>=\"2020-07-01\") & (df[\"date\"]<\"2021-01-01\")].reset_index(drop=True)\n",
    "# test: 2021.01 - 2021.06\n",
    "df_test = df[(df[\"date\"]>=\"2021-01-01\") & (df[\"date\"]<\"2021-07-01\")].reset_index(drop=True)\n",
    "# ood: 2021.07 - 2022.06\n",
    "df_ood = df[(df[\"date\"]>=\"2021-07-01\") & (df[\"date\"]<\"2022-07-01\")].reset_index(drop=True)\n",
    "\n",
    "print(df_train.shape, df_val.shape, df_test.shape, df_ood.shape)"
   ]
  },
  {
   "cell_type": "markdown",
   "metadata": {},
   "source": [
    "- compute `label` column from `pct_chg` \n",
    "    - Thesis uses: $(close - pre close) / close$, but stock price change should devide by previous price. We corrected here\n",
    "- We uese `qcut` and the distribution of `pct_chg` between 2018/07/02 - 2022/06/30 is: \n",
    "    ```\n",
    "        (-0.0686, -0.00503]    325\n",
    "        (0.0069, 0.0997]       325\n",
    "        (-0.00503, 0.0069]     324\n",
    "    ```\n",
    "- Then filter out days with no news"
   ]
  },
  {
   "cell_type": "code",
   "execution_count": 5,
   "metadata": {},
   "outputs": [],
   "source": [
    "def gen_label(df):\n",
    "    df[\"label\"] = pd.qcut(df['pct_chg'], q=3, labels=[0,1,2])\n",
    "    return df\n",
    "\n",
    "\n",
    "df_train = gen_label(df=df_train)\n",
    "df_val = gen_label(df=df_val)\n",
    "df_test = gen_label(df=df_test)\n",
    "df_ood = gen_label(df=df_ood)\n",
    "\n",
    "df_train = df_train[df_train.titles.notnull()].reset_index(drop=True)\n",
    "df_val = df_val[df_val.titles.notnull()].reset_index(drop=True)\n",
    "df_test = df_test[df_test.titles.notnull()].reset_index(drop=True)\n",
    "df_ood = df_ood[df_ood.titles.notnull()].reset_index(drop=True)\n"
   ]
  },
  {
   "cell_type": "code",
   "execution_count": 6,
   "metadata": {},
   "outputs": [
    {
     "data": {
      "text/plain": [
       "(           pct_chg\n",
       " count  1135.000000\n",
       " mean     -0.000433\n",
       " std       0.018362\n",
       " min      -0.100000\n",
       " 25%      -0.008789\n",
       " 50%       0.000000\n",
       " 75%       0.007826\n",
       " max       0.099644,\n",
       "            pct_chg\n",
       " count  1159.000000\n",
       " mean      0.006107\n",
       " std       0.029719\n",
       " min      -0.098237\n",
       " 25%      -0.009409\n",
       " 50%       0.001965\n",
       " 75%       0.015467\n",
       " max       0.100000,\n",
       "            pct_chg\n",
       " count  1155.000000\n",
       " mean      0.004295\n",
       " std       0.038274\n",
       " min      -0.100000\n",
       " 25%      -0.014962\n",
       " 50%       0.001931\n",
       " 75%       0.021312\n",
       " max       0.154421,\n",
       "            pct_chg\n",
       " count  2382.000000\n",
       " mean      0.000628\n",
       " std       0.027163\n",
       " min      -0.100000\n",
       " 25%      -0.012943\n",
       " 50%       0.000000\n",
       " 75%       0.012434\n",
       " max       0.100000)"
      ]
     },
     "execution_count": 6,
     "metadata": {},
     "output_type": "execute_result"
    }
   ],
   "source": [
    "df_train[[\"pct_chg\",\"label\"]].describe(), df_val[[\"pct_chg\",\"label\"]].describe(), df_test[[\"pct_chg\",\"label\"]].describe(), df_ood[[\"pct_chg\",\"label\"]].describe()"
   ]
  },
  {
   "cell_type": "markdown",
   "metadata": {},
   "source": [
    "- compute verb-A0-A1 triplets number as `AV_num`"
   ]
  },
  {
   "cell_type": "code",
   "execution_count": 7,
   "metadata": {},
   "outputs": [],
   "source": [
    "df_train[\"AV_num\"] = df_train[\"verbA0A1\"].apply(lambda x: len(eval(x)))\n",
    "df_val[\"AV_num\"] = df_val[\"verbA0A1\"].apply(lambda x: len(eval(x)))\n",
    "df_test[\"AV_num\"] = df_test[\"verbA0A1\"].apply(lambda x: len(eval(x)))\n",
    "df_ood[\"AV_num\"] = df_ood[\"verbA0A1\"].apply(lambda x: len(eval(x)))"
   ]
  },
  {
   "cell_type": "markdown",
   "metadata": {},
   "source": [
    "- merge `stock_factors` to array in one column\n",
    "\n",
    "Now each sample will have these factors: \n",
    "```\n",
    "    ADX                                                11.493372\n",
    "    MACD                                               -1.556851\n",
    "    MACDsignal                                         -1.221986\n",
    "    MACDhist                                           -0.334864\n",
    "    RSI                                                44.103107\n",
    "    ATR                                                 3.732317\n",
    "    OBV                                              -71157437.0\n",
    "    BETA                                                1.032639\n",
    "    upperBAND                                         195.743838\n",
    "    middleBAND                                        193.008206\n",
    "    lowerBAND                                         190.272574\n",
    "    成交股數                                              28663220.0\n",
    "    成交筆數                                                  7758.0\n",
    "    成交金額                                            6173115899.0\n",
    "    殖利率(%)                                                  3.73\n",
    "    本益比                                                    16.12\n",
    "    股價淨值比                                                   3.46\n",
    "```"
   ]
  },
  {
   "cell_type": "code",
   "execution_count": 8,
   "metadata": {},
   "outputs": [
    {
     "name": "stderr",
     "output_type": "stream",
     "text": [
      "100%|██████████| 17/17 [00:00<00:00, 310.33it/s]\n"
     ]
    }
   ],
   "source": [
    "# remove nan rows\n",
    "factor_cols = [\"ADX\",\"MACD\",\"MACDsignal\",\"MACDhist\",\"RSI\",\"ATR\",\"OBV\",\"BETA\",\"upperBAND\",\"middleBAND\",\"lowerBAND\",\"成交股數\",\"成交筆數\",\"成交金額\",\"殖利率(%)\",\"本益比\",\"股價淨值比\"]\n",
    "for col in tqdm(factor_cols):\n",
    "    df_train = df_train[df_train[col].notnull()].reset_index(drop=True)\n",
    "    df_val = df_val[df_val[col].notnull()].reset_index(drop=True)\n",
    "    df_test = df_test[df_test[col].notnull()].reset_index(drop=True)\n",
    "    df_ood = df_ood[df_ood[col].notnull()].reset_index(drop=True)\n",
    "\n",
    "\n",
    "# Normalization all factors to the same scale\n",
    "standard_scaler = StandardScaler()\n",
    "# 1. fit from training set\n",
    "standard_scaler.fit(df_train[factor_cols])\n",
    "# 2. transform train, val, test, ood sets, since stock factors are used in training feature, if we don't know future price, we can't normalize it with the future time duration\n",
    "df_train[factor_cols] = standard_scaler.transform(df_train[factor_cols])\n",
    "df_val[factor_cols] = standard_scaler.transform(df_val[factor_cols])\n",
    "df_test[factor_cols] = standard_scaler.transform(df_test[factor_cols])\n",
    "df_ood[factor_cols] = standard_scaler.transform(df_ood[factor_cols])"
   ]
  },
  {
   "cell_type": "code",
   "execution_count": 9,
   "metadata": {},
   "outputs": [
    {
     "data": {
      "text/html": [
       "<div>\n",
       "<style scoped>\n",
       "    .dataframe tbody tr th:only-of-type {\n",
       "        vertical-align: middle;\n",
       "    }\n",
       "\n",
       "    .dataframe tbody tr th {\n",
       "        vertical-align: top;\n",
       "    }\n",
       "\n",
       "    .dataframe thead th {\n",
       "        text-align: right;\n",
       "    }\n",
       "</style>\n",
       "<table border=\"1\" class=\"dataframe\">\n",
       "  <thead>\n",
       "    <tr style=\"text-align: right;\">\n",
       "      <th></th>\n",
       "      <th>ADX</th>\n",
       "      <th>MACD</th>\n",
       "      <th>MACDsignal</th>\n",
       "      <th>MACDhist</th>\n",
       "      <th>RSI</th>\n",
       "      <th>ATR</th>\n",
       "      <th>OBV</th>\n",
       "      <th>BETA</th>\n",
       "      <th>upperBAND</th>\n",
       "      <th>middleBAND</th>\n",
       "      <th>lowerBAND</th>\n",
       "      <th>成交股數</th>\n",
       "      <th>成交筆數</th>\n",
       "      <th>成交金額</th>\n",
       "      <th>殖利率(%)</th>\n",
       "      <th>本益比</th>\n",
       "      <th>股價淨值比</th>\n",
       "    </tr>\n",
       "  </thead>\n",
       "  <tbody>\n",
       "    <tr>\n",
       "      <th>count</th>\n",
       "      <td>2187.000000</td>\n",
       "      <td>2187.000000</td>\n",
       "      <td>2187.000000</td>\n",
       "      <td>2187.000000</td>\n",
       "      <td>2187.000000</td>\n",
       "      <td>2187.000000</td>\n",
       "      <td>2187.000000</td>\n",
       "      <td>2187.000000</td>\n",
       "      <td>2187.000000</td>\n",
       "      <td>2187.000000</td>\n",
       "      <td>2187.000000</td>\n",
       "      <td>2187.000000</td>\n",
       "      <td>2187.000000</td>\n",
       "      <td>2187.000000</td>\n",
       "      <td>2187.000000</td>\n",
       "      <td>2187.000000</td>\n",
       "      <td>2187.000000</td>\n",
       "    </tr>\n",
       "    <tr>\n",
       "      <th>mean</th>\n",
       "      <td>-0.224566</td>\n",
       "      <td>-0.179928</td>\n",
       "      <td>-0.162805</td>\n",
       "      <td>-0.097736</td>\n",
       "      <td>-0.085460</td>\n",
       "      <td>0.373567</td>\n",
       "      <td>10.100106</td>\n",
       "      <td>-0.052804</td>\n",
       "      <td>0.142120</td>\n",
       "      <td>0.137354</td>\n",
       "      <td>0.132289</td>\n",
       "      <td>2.074304</td>\n",
       "      <td>3.079792</td>\n",
       "      <td>0.532674</td>\n",
       "      <td>-0.788585</td>\n",
       "      <td>0.786663</td>\n",
       "      <td>0.254671</td>\n",
       "    </tr>\n",
       "    <tr>\n",
       "      <th>std</th>\n",
       "      <td>0.901323</td>\n",
       "      <td>1.259878</td>\n",
       "      <td>1.265308</td>\n",
       "      <td>1.448785</td>\n",
       "      <td>0.932436</td>\n",
       "      <td>1.505520</td>\n",
       "      <td>8.844921</td>\n",
       "      <td>0.305883</td>\n",
       "      <td>1.628572</td>\n",
       "      <td>1.633433</td>\n",
       "      <td>1.638501</td>\n",
       "      <td>3.578315</td>\n",
       "      <td>4.676668</td>\n",
       "      <td>2.013605</td>\n",
       "      <td>1.388188</td>\n",
       "      <td>5.622073</td>\n",
       "      <td>1.385106</td>\n",
       "    </tr>\n",
       "    <tr>\n",
       "      <th>min</th>\n",
       "      <td>-1.697927</td>\n",
       "      <td>-7.419360</td>\n",
       "      <td>-6.685767</td>\n",
       "      <td>-10.837002</td>\n",
       "      <td>-2.624378</td>\n",
       "      <td>-0.670767</td>\n",
       "      <td>-1.494741</td>\n",
       "      <td>-2.443393</td>\n",
       "      <td>-0.666948</td>\n",
       "      <td>-0.666790</td>\n",
       "      <td>-0.666433</td>\n",
       "      <td>-1.051414</td>\n",
       "      <td>-0.998497</td>\n",
       "      <td>-0.591288</td>\n",
       "      <td>-2.165998</td>\n",
       "      <td>-0.795205</td>\n",
       "      <td>-0.968933</td>\n",
       "    </tr>\n",
       "    <tr>\n",
       "      <th>25%</th>\n",
       "      <td>-0.877128</td>\n",
       "      <td>-0.297096</td>\n",
       "      <td>-0.301057</td>\n",
       "      <td>-0.226863</td>\n",
       "      <td>-0.712831</td>\n",
       "      <td>-0.506604</td>\n",
       "      <td>1.273468</td>\n",
       "      <td>-0.228140</td>\n",
       "      <td>-0.595402</td>\n",
       "      <td>-0.596788</td>\n",
       "      <td>-0.599223</td>\n",
       "      <td>-0.036221</td>\n",
       "      <td>0.305697</td>\n",
       "      <td>-0.453377</td>\n",
       "      <td>-1.516693</td>\n",
       "      <td>-0.578210</td>\n",
       "      <td>-0.685732</td>\n",
       "    </tr>\n",
       "    <tr>\n",
       "      <th>50%</th>\n",
       "      <td>-0.408114</td>\n",
       "      <td>-0.123382</td>\n",
       "      <td>-0.120167</td>\n",
       "      <td>-0.030836</td>\n",
       "      <td>-0.128789</td>\n",
       "      <td>-0.244172</td>\n",
       "      <td>11.462266</td>\n",
       "      <td>-0.056618</td>\n",
       "      <td>-0.487729</td>\n",
       "      <td>-0.490896</td>\n",
       "      <td>-0.495432</td>\n",
       "      <td>0.966124</td>\n",
       "      <td>1.669024</td>\n",
       "      <td>-0.176882</td>\n",
       "      <td>-1.026108</td>\n",
       "      <td>-0.291069</td>\n",
       "      <td>-0.170822</td>\n",
       "    </tr>\n",
       "    <tr>\n",
       "      <th>75%</th>\n",
       "      <td>0.274850</td>\n",
       "      <td>0.037324</td>\n",
       "      <td>0.042059</td>\n",
       "      <td>0.130424</td>\n",
       "      <td>0.469815</td>\n",
       "      <td>0.187915</td>\n",
       "      <td>16.129859</td>\n",
       "      <td>0.121716</td>\n",
       "      <td>-0.196896</td>\n",
       "      <td>-0.201437</td>\n",
       "      <td>-0.210419</td>\n",
       "      <td>2.760471</td>\n",
       "      <td>4.021294</td>\n",
       "      <td>0.726999</td>\n",
       "      <td>-0.232514</td>\n",
       "      <td>0.093369</td>\n",
       "      <td>0.408453</td>\n",
       "    </tr>\n",
       "    <tr>\n",
       "      <th>max</th>\n",
       "      <td>3.763879</td>\n",
       "      <td>8.539062</td>\n",
       "      <td>8.058931</td>\n",
       "      <td>7.032714</td>\n",
       "      <td>3.307178</td>\n",
       "      <td>5.936541</td>\n",
       "      <td>31.007104</td>\n",
       "      <td>1.496315</td>\n",
       "      <td>5.475820</td>\n",
       "      <td>5.445961</td>\n",
       "      <td>5.438982</td>\n",
       "      <td>35.390248</td>\n",
       "      <td>44.502171</td>\n",
       "      <td>24.852712</td>\n",
       "      <td>9.521477</td>\n",
       "      <td>42.358232</td>\n",
       "      <td>6.271999</td>\n",
       "    </tr>\n",
       "  </tbody>\n",
       "</table>\n",
       "</div>"
      ],
      "text/plain": [
       "               ADX         MACD   MACDsignal     MACDhist          RSI  \\\n",
       "count  2187.000000  2187.000000  2187.000000  2187.000000  2187.000000   \n",
       "mean     -0.224566    -0.179928    -0.162805    -0.097736    -0.085460   \n",
       "std       0.901323     1.259878     1.265308     1.448785     0.932436   \n",
       "min      -1.697927    -7.419360    -6.685767   -10.837002    -2.624378   \n",
       "25%      -0.877128    -0.297096    -0.301057    -0.226863    -0.712831   \n",
       "50%      -0.408114    -0.123382    -0.120167    -0.030836    -0.128789   \n",
       "75%       0.274850     0.037324     0.042059     0.130424     0.469815   \n",
       "max       3.763879     8.539062     8.058931     7.032714     3.307178   \n",
       "\n",
       "               ATR          OBV         BETA    upperBAND   middleBAND  \\\n",
       "count  2187.000000  2187.000000  2187.000000  2187.000000  2187.000000   \n",
       "mean      0.373567    10.100106    -0.052804     0.142120     0.137354   \n",
       "std       1.505520     8.844921     0.305883     1.628572     1.633433   \n",
       "min      -0.670767    -1.494741    -2.443393    -0.666948    -0.666790   \n",
       "25%      -0.506604     1.273468    -0.228140    -0.595402    -0.596788   \n",
       "50%      -0.244172    11.462266    -0.056618    -0.487729    -0.490896   \n",
       "75%       0.187915    16.129859     0.121716    -0.196896    -0.201437   \n",
       "max       5.936541    31.007104     1.496315     5.475820     5.445961   \n",
       "\n",
       "         lowerBAND         成交股數         成交筆數         成交金額       殖利率(%)  \\\n",
       "count  2187.000000  2187.000000  2187.000000  2187.000000  2187.000000   \n",
       "mean      0.132289     2.074304     3.079792     0.532674    -0.788585   \n",
       "std       1.638501     3.578315     4.676668     2.013605     1.388188   \n",
       "min      -0.666433    -1.051414    -0.998497    -0.591288    -2.165998   \n",
       "25%      -0.599223    -0.036221     0.305697    -0.453377    -1.516693   \n",
       "50%      -0.495432     0.966124     1.669024    -0.176882    -1.026108   \n",
       "75%      -0.210419     2.760471     4.021294     0.726999    -0.232514   \n",
       "max       5.438982    35.390248    44.502171    24.852712     9.521477   \n",
       "\n",
       "               本益比        股價淨值比  \n",
       "count  2187.000000  2187.000000  \n",
       "mean      0.786663     0.254671  \n",
       "std       5.622073     1.385106  \n",
       "min      -0.795205    -0.968933  \n",
       "25%      -0.578210    -0.685732  \n",
       "50%      -0.291069    -0.170822  \n",
       "75%       0.093369     0.408453  \n",
       "max      42.358232     6.271999  "
      ]
     },
     "execution_count": 9,
     "metadata": {},
     "output_type": "execute_result"
    }
   ],
   "source": [
    "# disbutions of stock factors have huge difference between train, val, test, odd sets\n",
    "df_ood[factor_cols].describe()"
   ]
  },
  {
   "cell_type": "code",
   "execution_count": 10,
   "metadata": {},
   "outputs": [
    {
     "name": "stderr",
     "output_type": "stream",
     "text": [
      "100%|██████████| 950/950 [00:00<00:00, 12423.92it/s]\n",
      "100%|██████████| 673/673 [00:00<00:00, 12887.93it/s]\n",
      "100%|██████████| 926/926 [00:00<00:00, 12490.03it/s]\n",
      "100%|██████████| 2187/2187 [00:00<00:00, 13667.15it/s]\n"
     ]
    },
    {
     "data": {
      "text/plain": [
       "0      [-0.9670314108827222, -0.12977926654466732, -0...\n",
       "1      [-0.9234451970901715, -0.12683007558276685, -0...\n",
       "2      [-1.1045382914006334, -0.12654209715900977, -0...\n",
       "3      [-0.9957760745471698, -0.12399888069961544, -0...\n",
       "4      [1.0882565672236812, -0.10628363820339623, -0....\n",
       "                             ...                        \n",
       "945    [-0.4101751203777202, -0.06391346769156044, -0...\n",
       "946    [-0.48406508380916585, -0.07169057871399129, -...\n",
       "947    [-0.7293958846360331, -0.08486615066879878, -0...\n",
       "948    [-0.8325296013758262, -0.09092849857962162, -0...\n",
       "949    [-0.8412497351875696, -0.112144034231991, -0.0...\n",
       "Name: stock_factors, Length: 950, dtype: object"
      ]
     },
     "execution_count": 10,
     "metadata": {},
     "output_type": "execute_result"
    }
   ],
   "source": [
    "# 3. merge it to one column\n",
    "def merge_factors(df):\n",
    "    factor_values = df[factor_cols].values\n",
    "    df[\"stock_factors\"] = 0\n",
    "    for i in tqdm(range(df.shape[0])):\n",
    "        df.loc[i, \"stock_factors\"] = str(factor_values[i].tolist())\n",
    "    df = df.drop(factor_cols, axis=1)\n",
    "    return df\n",
    "\n",
    "df_train = merge_factors(df=df_train)\n",
    "df_val = merge_factors(df=df_val)\n",
    "df_test = merge_factors(df=df_test)\n",
    "df_ood = merge_factors(df=df_ood)\n",
    "df_train[\"stock_factors\"]"
   ]
  },
  {
   "cell_type": "code",
   "execution_count": 11,
   "metadata": {},
   "outputs": [
    {
     "name": "stdout",
     "output_type": "stream",
     "text": [
      "<class 'pandas.core.frame.DataFrame'>\n",
      "RangeIndex: 950 entries, 0 to 949\n",
      "Data columns (total 19 columns):\n",
      " #   Column         Non-Null Count  Dtype   \n",
      "---  ------         --------------  -----   \n",
      " 0   date           950 non-null    object  \n",
      " 1   open           950 non-null    float64 \n",
      " 2   high           950 non-null    float64 \n",
      " 3   low            950 non-null    float64 \n",
      " 4   close          950 non-null    float64 \n",
      " 5   pre_close      950 non-null    float64 \n",
      " 6   change         950 non-null    float64 \n",
      " 7   pct_chg        950 non-null    float64 \n",
      " 8   affected_date  950 non-null    object  \n",
      " 9   news_count     950 non-null    float64 \n",
      " 10  titles         950 non-null    object  \n",
      " 11  verbA0A1       950 non-null    object  \n",
      " 12  verb           950 non-null    object  \n",
      " 13  A0             950 non-null    object  \n",
      " 14  A1             950 non-null    object  \n",
      " 15  stock_id       950 non-null    int64   \n",
      " 16  label          950 non-null    category\n",
      " 17  AV_num         950 non-null    int64   \n",
      " 18  stock_factors  950 non-null    object  \n",
      "dtypes: category(1), float64(8), int64(2), object(8)\n",
      "memory usage: 134.8+ KB\n"
     ]
    }
   ],
   "source": [
    "df_train.info()"
   ]
  },
  {
   "cell_type": "markdown",
   "metadata": {
    "id": "eg7yz0zXQujX"
   },
   "source": [
    "## Generating the masks of verb, A0, A1"
   ]
  },
  {
   "cell_type": "code",
   "execution_count": 12,
   "metadata": {
    "ExecuteTime": {
     "end_time": "2022-01-30T06:46:38.756741Z",
     "start_time": "2022-01-30T06:46:38.750225Z"
    },
    "id": "IWNPdn8fg4gG"
   },
   "outputs": [],
   "source": [
    "max_len = 512\n",
    "\n",
    "def string_to_tuples_list(text):\n",
    "    if text is np.nan or text =='[]':\n",
    "        return []\n",
    "    text = ''.join(text.split('], ['))\n",
    "    tmp = eval(text.strip('[').strip(']'))\n",
    "    if not isinstance(tmp[0],tuple):\n",
    "        return [tmp]\n",
    "    return list(tmp)\n",
    "\n",
    "def mask(df):\n",
    "    df = df.reset_index(drop = True)\n",
    "    df['verb_mask'] = 0\n",
    "    df['A0_mask'] = 0\n",
    "    df['A1_mask'] = 0\n",
    "    df['verb_mask'] = df['verb_mask'].astype('object')\n",
    "    df['A0_mask'] = df['A0_mask'].astype('object')\n",
    "    df['A1_mask'] = df['A1_mask'].astype('object')\n",
    "    for index,row in tqdm(df.iterrows()):\n",
    "\n",
    "        df.at[index,'stock_factors'] = [*map(float,df.loc[index,'stock_factors'])]\n",
    "        AV_num = 0\n",
    "        for k,col in enumerate(['verb','A0','A1']):\n",
    "            masks = []\n",
    "            for j in range(len(row['verbA0A1'])):\n",
    "                mask = np.zeros(max_len - 1)\n",
    "                idx = []\n",
    "                for v in row['verbA0A1'][j][k]:\n",
    "                    idx = idx + [int(i) for i in range(v[0],v[0]+v[1])]\n",
    "                counter = Counter(idx)\n",
    "\n",
    "                mask = [0 if counter[i]== 0 else 1/len(counter) for i in range(0,len(mask))]\n",
    "                mask.insert(0,0)\n",
    "                masks.append(mask)\n",
    "            AV_num = len(masks)\n",
    "            for i in range(10 - len(masks)):\n",
    "                masks.append(np.zeros(max_len))\n",
    "            while len(masks)>10:\n",
    "                masks.pop()\n",
    "            name = col+'_mask'\n",
    "            df.at[index,name] = np.array(masks)\n",
    "        if AV_num>10:\n",
    "            AV_num=10\n",
    "        df.loc[index,'AV_num'] = int(AV_num)\n",
    "    df.AV_num = df.AV_num.astype('int')\n",
    "    df.stock_factors = df.stock_factors.apply(np.array)\n",
    "    return df"
   ]
  },
  {
   "cell_type": "code",
   "execution_count": 13,
   "metadata": {
    "ExecuteTime": {
     "end_time": "2022-01-30T06:47:05.370370Z",
     "start_time": "2022-01-30T06:46:38.757407Z"
    },
    "id": "c4joMCxJKR5a"
   },
   "outputs": [
    {
     "name": "stderr",
     "output_type": "stream",
     "text": [
      "759it [00:00, 786.89it/s]\n",
      "632it [00:02, 271.47it/s]\n",
      "889it [00:02, 304.36it/s]\n",
      "1938it [00:05, 352.96it/s]\n"
     ]
    },
    {
     "name": "stdout",
     "output_type": "stream",
     "text": [
      "<class 'pandas.core.frame.DataFrame'>\n",
      "RangeIndex: 759 entries, 0 to 758\n",
      "Data columns (total 22 columns):\n",
      " #   Column         Non-Null Count  Dtype   \n",
      "---  ------         --------------  -----   \n",
      " 0   date           759 non-null    object  \n",
      " 1   open           759 non-null    float64 \n",
      " 2   high           759 non-null    float64 \n",
      " 3   low            759 non-null    float64 \n",
      " 4   close          759 non-null    float64 \n",
      " 5   pre_close      759 non-null    float64 \n",
      " 6   change         759 non-null    float64 \n",
      " 7   pct_chg        759 non-null    float64 \n",
      " 8   affected_date  759 non-null    object  \n",
      " 9   news_count     759 non-null    float64 \n",
      " 10  titles         759 non-null    object  \n",
      " 11  verbA0A1       759 non-null    object  \n",
      " 12  verb           759 non-null    object  \n",
      " 13  A0             759 non-null    object  \n",
      " 14  A1             759 non-null    object  \n",
      " 15  stock_id       759 non-null    int64   \n",
      " 16  label          759 non-null    category\n",
      " 17  AV_num         759 non-null    int64   \n",
      " 18  stock_factors  759 non-null    object  \n",
      " 19  verb_mask      759 non-null    object  \n",
      " 20  A0_mask        759 non-null    object  \n",
      " 21  A1_mask        759 non-null    object  \n",
      "dtypes: category(1), float64(8), int64(2), object(11)\n",
      "memory usage: 125.5+ KB\n",
      "<class 'pandas.core.frame.DataFrame'>\n",
      "RangeIndex: 632 entries, 0 to 631\n",
      "Data columns (total 22 columns):\n",
      " #   Column         Non-Null Count  Dtype   \n",
      "---  ------         --------------  -----   \n",
      " 0   date           632 non-null    object  \n",
      " 1   open           632 non-null    float64 \n",
      " 2   high           632 non-null    float64 \n",
      " 3   low            632 non-null    float64 \n",
      " 4   close          632 non-null    float64 \n",
      " 5   pre_close      632 non-null    float64 \n",
      " 6   change         632 non-null    float64 \n",
      " 7   pct_chg        632 non-null    float64 \n",
      " 8   affected_date  632 non-null    object  \n",
      " 9   news_count     632 non-null    float64 \n",
      " 10  titles         632 non-null    object  \n",
      " 11  verbA0A1       632 non-null    object  \n",
      " 12  verb           632 non-null    object  \n",
      " 13  A0             632 non-null    object  \n",
      " 14  A1             632 non-null    object  \n",
      " 15  stock_id       632 non-null    int64   \n",
      " 16  label          632 non-null    category\n",
      " 17  AV_num         632 non-null    int64   \n",
      " 18  stock_factors  632 non-null    object  \n",
      " 19  verb_mask      632 non-null    object  \n",
      " 20  A0_mask        632 non-null    object  \n",
      " 21  A1_mask        632 non-null    object  \n",
      "dtypes: category(1), float64(8), int64(2), object(11)\n",
      "memory usage: 104.6+ KB\n",
      "<class 'pandas.core.frame.DataFrame'>\n",
      "RangeIndex: 889 entries, 0 to 888\n",
      "Data columns (total 22 columns):\n",
      " #   Column         Non-Null Count  Dtype   \n",
      "---  ------         --------------  -----   \n",
      " 0   date           889 non-null    object  \n",
      " 1   open           889 non-null    float64 \n",
      " 2   high           889 non-null    float64 \n",
      " 3   low            889 non-null    float64 \n",
      " 4   close          889 non-null    float64 \n",
      " 5   pre_close      889 non-null    float64 \n",
      " 6   change         889 non-null    float64 \n",
      " 7   pct_chg        889 non-null    float64 \n",
      " 8   affected_date  889 non-null    object  \n",
      " 9   news_count     889 non-null    float64 \n",
      " 10  titles         889 non-null    object  \n",
      " 11  verbA0A1       889 non-null    object  \n",
      " 12  verb           889 non-null    object  \n",
      " 13  A0             889 non-null    object  \n",
      " 14  A1             889 non-null    object  \n",
      " 15  stock_id       889 non-null    int64   \n",
      " 16  label          889 non-null    category\n",
      " 17  AV_num         889 non-null    int64   \n",
      " 18  stock_factors  889 non-null    object  \n",
      " 19  verb_mask      889 non-null    object  \n",
      " 20  A0_mask        889 non-null    object  \n",
      " 21  A1_mask        889 non-null    object  \n",
      "dtypes: category(1), float64(8), int64(2), object(11)\n",
      "memory usage: 147.0+ KB\n",
      "<class 'pandas.core.frame.DataFrame'>\n",
      "RangeIndex: 1938 entries, 0 to 1937\n",
      "Data columns (total 22 columns):\n",
      " #   Column         Non-Null Count  Dtype   \n",
      "---  ------         --------------  -----   \n",
      " 0   date           1938 non-null   object  \n",
      " 1   open           1938 non-null   float64 \n",
      " 2   high           1938 non-null   float64 \n",
      " 3   low            1938 non-null   float64 \n",
      " 4   close          1938 non-null   float64 \n",
      " 5   pre_close      1938 non-null   float64 \n",
      " 6   change         1938 non-null   float64 \n",
      " 7   pct_chg        1938 non-null   float64 \n",
      " 8   affected_date  1938 non-null   object  \n",
      " 9   news_count     1938 non-null   float64 \n",
      " 10  titles         1938 non-null   object  \n",
      " 11  verbA0A1       1938 non-null   object  \n",
      " 12  verb           1938 non-null   object  \n",
      " 13  A0             1938 non-null   object  \n",
      " 14  A1             1938 non-null   object  \n",
      " 15  stock_id       1938 non-null   int64   \n",
      " 16  label          1938 non-null   category\n",
      " 17  AV_num         1938 non-null   int64   \n",
      " 18  stock_factors  1938 non-null   object  \n",
      " 19  verb_mask      1938 non-null   object  \n",
      " 20  A0_mask        1938 non-null   object  \n",
      " 21  A1_mask        1938 non-null   object  \n",
      "dtypes: category(1), float64(8), int64(2), object(11)\n",
      "memory usage: 320.1+ KB\n"
     ]
    }
   ],
   "source": [
    "df_train = df_train[df_train[\"AV_num\"] > 0].reset_index(drop=True)\n",
    "df_val = df_val[df_val[\"AV_num\"] > 0].reset_index(drop=True)\n",
    "df_test = df_test[df_test[\"AV_num\"] > 0].reset_index(drop=True)\n",
    "df_ood = df_ood[df_ood[\"AV_num\"] > 0].reset_index(drop=True)\n",
    "\n",
    "\n",
    "for col in ['verb','A0','A1']:\n",
    "    df_train[col] = df_train[col].apply(string_to_tuples_list)\n",
    "    df_val[col] = df_val[col].apply(string_to_tuples_list)\n",
    "    df_test[col] = df_test[col].apply(string_to_tuples_list)\n",
    "    df_ood[col] = df_ood[col].apply(string_to_tuples_list)\n",
    "\n",
    "for col in ['stock_factors','verbA0A1']:\n",
    "    df_train[col] = df_train[col].apply(ast.literal_eval)\n",
    "    df_val[col] = df_val[col].apply(ast.literal_eval)\n",
    "    df_test[col] = df_test[col].apply(ast.literal_eval)\n",
    "    df_ood[col] = df_ood[col].apply(ast.literal_eval)\n",
    "\n",
    "\n",
    "df_train = mask(df=df_train)\n",
    "df_val = mask(df=df_val)\n",
    "df_test = mask(df=df_test)\n",
    "df_ood = mask(df=df_ood)\n",
    "\n",
    "df_train.info()\n",
    "df_val.info()\n",
    "df_test.info()\n",
    "df_ood.info()"
   ]
  },
  {
   "cell_type": "code",
   "execution_count": 14,
   "metadata": {},
   "outputs": [
    {
     "data": {
      "text/plain": [
       "[[[(37, 1)], [(33, 4)], [(38, 4)]],\n",
       " [[(57, 2)], [(43, 14)], [(59, 9)]],\n",
       " [[(103, 2)], [(100, 3)], [(105, 15)]],\n",
       " [[(155, 2)], [(121, 34)], [(157, 9)]],\n",
       " [[(181, 2)], [(167, 14)], [(183, 23)]],\n",
       " [[(222, 2)], [(208, 14)], [(224, 9)]]]"
      ]
     },
     "execution_count": 14,
     "metadata": {},
     "output_type": "execute_result"
    }
   ],
   "source": [
    "# df_train[\"titles\"].apply(lambda x: len(x)).value_counts().sort_index()\n",
    "df_train[\"verbA0A1\"][100]"
   ]
  },
  {
   "cell_type": "markdown",
   "metadata": {
    "id": "ajOfqpcWRBt9"
   },
   "source": [
    "## Create Dataloader"
   ]
  },
  {
   "cell_type": "code",
   "execution_count": 15,
   "metadata": {
    "ExecuteTime": {
     "end_time": "2022-01-30T06:47:05.568516Z",
     "start_time": "2022-01-30T06:47:05.560308Z"
    },
    "id": "WaKd7JaTy2gw"
   },
   "outputs": [],
   "source": [
    "BATCH_SIZE = 16\n",
    "class_names = ['negative', 'neutral', 'positive']\n",
    "class GPReviewDataset(Dataset):\n",
    "    def __init__(self, titles, targets, verb, A0, A1, AV_num, tokenizer, stock_factors, max_len):\n",
    "        self.titles = titles\n",
    "        self.targets = targets\n",
    "        self.stock_factors = stock_factors\n",
    "        self.verb = verb\n",
    "        self.A0 = A0\n",
    "        self.A1 = A1\n",
    "        self.AV_num = AV_num\n",
    "        self.tokenizer = tokenizer\n",
    "        self.max_len = max_len\n",
    "      \n",
    "    def __len__(self):\n",
    "        return len(self.titles)\n",
    "    \n",
    "    def __getitem__(self, item):\n",
    "        titles = str(self.titles[item])\n",
    "        target = self.targets[item]\n",
    "        stock_factors = self.stock_factors[item]\n",
    "        v = self.verb[item]\n",
    "        a0 = self.A0[item]\n",
    "        a1 = self.A1[item]\n",
    "        av_num = self.AV_num[item]\n",
    "\n",
    "        encoding = self.tokenizer.encode_plus(\n",
    "            titles,\n",
    "            add_special_tokens=True,\n",
    "            max_length=self.max_len,\n",
    "            return_token_type_ids=False,\n",
    "            padding='max_length',\n",
    "            truncation=True,\n",
    "            return_attention_mask=True,\n",
    "            return_tensors='pt',\n",
    "        )\n",
    "\n",
    "        return {\n",
    "            'titles': titles,\n",
    "            'input_ids': encoding['input_ids'].flatten(),\n",
    "            'attention_mask': encoding['attention_mask'].flatten(),\n",
    "            'targets': torch.tensor(target, dtype=torch.long),\n",
    "            'stock_factors':torch.tensor(stock_factors),\n",
    "            'verb': torch.tensor(v),\n",
    "            'A0': torch.tensor(a0),\n",
    "            'A1': torch.tensor(a1),\n",
    "            'AV_num': torch.tensor(av_num)\n",
    "        }"
   ]
  },
  {
   "cell_type": "code",
   "execution_count": 16,
   "metadata": {
    "ExecuteTime": {
     "end_time": "2022-01-30T06:47:05.575971Z",
     "start_time": "2022-01-30T06:47:05.569277Z"
    },
    "id": "cPZSIigpPtEr"
   },
   "outputs": [],
   "source": [
    "def create_data_loader(df, tokenizer, max_len, batch_size):\n",
    "    ds = GPReviewDataset(\n",
    "        titles=df.titles.to_numpy(),\n",
    "        targets=df.label.to_numpy(),\n",
    "        stock_factors = df.stock_factors,\n",
    "        verb = df.verb_mask,\n",
    "        A0 = df.A0_mask,\n",
    "        A1 = df.A1_mask,\n",
    "        AV_num = df.AV_num,\n",
    "        tokenizer=tokenizer,\n",
    "        max_len=max_len\n",
    "    )\n",
    "\n",
    "    return DataLoader(\n",
    "        ds,\n",
    "        batch_size=batch_size,\n",
    "        shuffle=True\n",
    "    )"
   ]
  },
  {
   "cell_type": "code",
   "execution_count": 17,
   "metadata": {
    "ExecuteTime": {
     "end_time": "2022-01-30T06:47:05.593632Z",
     "start_time": "2022-01-30T06:47:05.582263Z"
    },
    "id": "4bMEUzcABFvn"
   },
   "outputs": [],
   "source": [
    "train_data_loader = create_data_loader(df_train, tokenizer, max_len, BATCH_SIZE)\n",
    "val_data_loader = create_data_loader(df_val, tokenizer, max_len, BATCH_SIZE)\n",
    "test_data_loader = create_data_loader(df_test, tokenizer, max_len, BATCH_SIZE)\n",
    "ood_data_loader = create_data_loader(df_ood, tokenizer, max_len, BATCH_SIZE)"
   ]
  },
  {
   "cell_type": "code",
   "execution_count": 18,
   "metadata": {
    "ExecuteTime": {
     "end_time": "2022-01-30T06:47:05.631709Z",
     "start_time": "2022-01-30T06:47:05.595298Z"
    },
    "colab": {
     "base_uri": "https://localhost:8080/"
    },
    "executionInfo": {
     "elapsed": 26,
     "status": "ok",
     "timestamp": 1634194989997,
     "user": {
      "displayName": "Nero C",
      "photoUrl": "https://lh3.googleusercontent.com/a-/AOh14GjQRoCAV4q10k-DC7od7DeLQhSUCkvaI26E0x4r=s64",
      "userId": "13659571702895310340"
     },
     "user_tz": -630
    },
    "id": "vDjd-DrAUt-d",
    "outputId": "674d43cf-a7d6-4e5d-ebc2-bc8f72108a25"
   },
   "outputs": [
    {
     "data": {
      "text/plain": [
       "dict_keys(['titles', 'input_ids', 'attention_mask', 'targets', 'stock_factors', 'verb', 'A0', 'A1', 'AV_num'])"
      ]
     },
     "execution_count": 18,
     "metadata": {},
     "output_type": "execute_result"
    }
   ],
   "source": [
    "data = next(iter(train_data_loader))\n",
    "data.keys()"
   ]
  },
  {
   "cell_type": "code",
   "execution_count": 19,
   "metadata": {
    "ExecuteTime": {
     "end_time": "2022-01-30T06:47:06.222993Z",
     "start_time": "2022-01-30T06:47:06.202705Z"
    },
    "id": "hsRtLnPlWulS"
   },
   "outputs": [],
   "source": [
    "class SentimentClassifier(nn.Module):\n",
    "\n",
    "    def __init__(self, n_classes):\n",
    "        super(SentimentClassifier, self).__init__()\n",
    "        self.bert = BertModel.from_pretrained(PRE_TRAINED_MODEL_NAME).to(device)\n",
    "        self.encoder_layer =  nn.TransformerEncoderLayer(d_model=2304, nhead=1).to(device)\n",
    "        self.transformer_encoder = nn.TransformerEncoder(self.encoder_layer, num_layers=2).to(device)\n",
    "        self.drop = nn.Dropout(p=0.1).to(device)\n",
    "        self.out1 = nn.Linear((self.bert.config.hidden_size*3)*10, (self.bert.config.hidden_size*3)*3).to(device)\n",
    "        self.out = nn.Linear((self.bert.config.hidden_size*3)*3, n_classes).to(device)\n",
    "        self.avgpool = nn.AvgPool2d((3,2), stride=2).to(device)\n",
    "        self.flatten2 = nn.Flatten(2,-1).to(device)\n",
    "        self.flatten = nn.Flatten(1,-1).to(device)\n",
    "        self.sig = nn.Sigmoid().to(device)\n",
    "        self.relu = nn.ReLU().to(device)\n",
    "        self.Querry = nn.Linear(self.bert.config.hidden_size,self.bert.config.hidden_size,bias = False).to(device)\n",
    "        self.Key = nn.Linear(self.bert.config.hidden_size,self.bert.config.hidden_size,bias = False).to(device)\n",
    "        # self.Self_supervised = nn.Linear(self.bert.config.hidden_size,self.bert.config.hidden_size).to(device)\n",
    "    \n",
    "    def forward(self, input_ids, attention_mask, verb, A0, A1, AV_num):\n",
    "        # get bert embedding \n",
    "        hidden_state = self.bert(\n",
    "            input_ids=input_ids,\n",
    "            attention_mask=attention_mask\n",
    "        )[0].to(device)\n",
    "        batch = hidden_state.shape[0]\n",
    "        verb_tmp = verb.clone().to(device)\n",
    "\n",
    "        # mask verb\n",
    "        AV_idx = []\n",
    "        for idx, num in enumerate(AV_num):\n",
    "            self_label = torch.randint(0,num,(1,))[0].to(device)\n",
    "            AV_idx.append(self_label)\n",
    "            verb_tmp[idx,self_label,:]=0\n",
    "\n",
    "        # verb label\n",
    "        AV_idx = torch.tensor(AV_idx).to(device)\n",
    "\n",
    "        V_mask = torch.unsqueeze(verb,3).to(device)\n",
    "        V_mask = torch.cat(768 * [V_mask],3).to(device)\n",
    "        V_mask = torch.mean(V_mask*torch.unsqueeze(hidden_state,1),2,True).to(device)\n",
    "        K = self.Key(torch.squeeze(V_mask.float())).to(device)\n",
    "        \n",
    "        # get verb embedding after masking(8*10*1*768)\n",
    "        V_mask_mask = torch.unsqueeze(verb_tmp,3).to(device)\n",
    "        V_mask_mask = torch.cat(768 * [V_mask_mask],3).to(device)\n",
    "        transformer_input = torch.mean(V_mask_mask*torch.unsqueeze(hidden_state,1),2,True).to(device)\n",
    "\n",
    "        # get A0 embedding(8*10*2*768)\n",
    "        A0_mask = torch.unsqueeze(A0,3).to(device)\n",
    "        A0_mask = torch.cat(768 * [A0_mask],3).to(device)\n",
    "        A0_mask = torch.mean(A0_mask*torch.unsqueeze(hidden_state,1),2,True).to(device)\n",
    "        transformer_input = torch.cat([transformer_input,A0_mask],2).to(device)\n",
    "\n",
    "        # get A1 embedding(8*10*3*768)\n",
    "        A1_mask = torch.unsqueeze(A1,3).to(device)\n",
    "        A1_mask = torch.cat(768 * [A1_mask],3).to(device)\n",
    "        A1_mask = torch.mean(A1_mask*torch.unsqueeze(hidden_state,1),2,True).to(device)\n",
    "        transformer_input = torch.cat([transformer_input,A1_mask],2).to(device)\n",
    "\n",
    "        # get transformer input(8*10*2304)\n",
    "        transformer_input = self.flatten2(transformer_input.float()).to(device)\n",
    "\n",
    "        # turn to (10*8*2304)\n",
    "        transformer_input = torch.stack([transformer_input[:,i,:].to(device) for i in range(0,len(A0[0]))])\n",
    "\n",
    "        # get transformer output(10*8*2304)\n",
    "        transformer_output = self.transformer_encoder(transformer_input).to(device)\n",
    "\n",
    "        # turn to (8*10*2304)\n",
    "        transformer_output = torch.stack([torch.squeeze(transformer_output[:,i,:]).to(device) for i in range(0,batch)])\n",
    "        transformer_output = torch.squeeze(transformer_output).to(device)\n",
    "\n",
    "        # turn to (8*10*2304)\n",
    "        self_pred = torch.zeros((batch,10)).to(device)\n",
    "        if transformer_output.dim()==2:\n",
    "            transformer_output = torch.unsqueeze(transformer_output,0).to(device)\n",
    "\n",
    "        # Q For CL\n",
    "        for idx,i in enumerate(AV_idx):\n",
    "            Q = torch.unsqueeze(self.Querry(transformer_output[idx,i,:768]),0).to(device)\n",
    "            self_pred[idx]=(Q @ K[idx].T).to(device)\n",
    "\n",
    "        # get transformer input for classification(8*10*3*768)\n",
    "        transformer_input = torch.cat([V_mask,A0_mask,A1_mask],2).to(device)\n",
    "        # get transformer input(8*10*2304)\n",
    "        transformer_input = self.flatten2(transformer_input.float()).to(device)\n",
    "\n",
    "        # get transformer output(10*8*2304)\n",
    "        transformer_input = torch.stack([transformer_input[:,i,:].to(device) for i in range(0,len(A0[0]))])\n",
    "        transformer_output = self.transformer_encoder(transformer_input).to(device)\n",
    "\n",
    "        # turn to (8*10*2304)\n",
    "        transformer_output = torch.stack([torch.squeeze(transformer_output[:,i,:]).to(device) for i in range(0,batch)])\n",
    "        transformer_output = torch.squeeze(transformer_output).to(device)\n",
    "\n",
    "        # handle exception\n",
    "        if transformer_output.dim()==2:\n",
    "            transformer_output = torch.unsqueeze(transformer_output,0).to(device)\n",
    "\n",
    "        output = self.flatten(transformer_output.float()).to(device)\n",
    "        output = self.sig(output).to(device)\n",
    "        output = self.out1(output).to(device)\n",
    "        output = self.sig(output).to(device)\n",
    "        output = self.drop(output).to(device)\n",
    "        output = self.out(output).to(device)\n",
    "\n",
    "        return output,self_pred,AV_idx\n"
   ]
  },
  {
   "cell_type": "code",
   "execution_count": 20,
   "metadata": {
    "ExecuteTime": {
     "end_time": "2022-01-30T06:47:09.800512Z",
     "start_time": "2022-01-30T06:47:06.223634Z"
    },
    "colab": {
     "base_uri": "https://localhost:8080/"
    },
    "executionInfo": {
     "elapsed": 5657,
     "status": "ok",
     "timestamp": 1634194997335,
     "user": {
      "displayName": "Nero C",
      "photoUrl": "https://lh3.googleusercontent.com/a-/AOh14GjQRoCAV4q10k-DC7od7DeLQhSUCkvaI26E0x4r=s64",
      "userId": "13659571702895310340"
     },
     "user_tz": -630
    },
    "id": "KQEOV2pfYBPs",
    "outputId": "215b9b5c-7356-4e61-e001-61f5dbb29660"
   },
   "outputs": [
    {
     "name": "stderr",
     "output_type": "stream",
     "text": [
      "Some weights of the model checkpoint at /home/jovyan/graph-stock-pred/Astock/models/ROBERT_4_model were not used when initializing BertModel: ['cls.predictions.decoder.weight', 'cls.predictions.transform.LayerNorm.bias', 'cls.predictions.transform.dense.bias', 'cls.predictions.transform.LayerNorm.weight', 'cls.predictions.transform.dense.weight', 'cls.predictions.bias', 'cls.predictions.decoder.bias']\n",
      "- This IS expected if you are initializing BertModel from the checkpoint of a model trained on another task or with another architecture (e.g. initializing a BertForSequenceClassification model from a BertForPreTraining model).\n",
      "- This IS NOT expected if you are initializing BertModel from the checkpoint of a model that you expect to be exactly identical (initializing a BertForSequenceClassification model from a BertForSequenceClassification model).\n",
      "Some weights of BertModel were not initialized from the model checkpoint at /home/jovyan/graph-stock-pred/Astock/models/ROBERT_4_model and are newly initialized: ['bert.pooler.dense.bias', 'bert.pooler.dense.weight']\n",
      "You should probably TRAIN this model on a down-stream task to be able to use it for predictions and inference.\n"
     ]
    },
    {
     "name": "stdout",
     "output_type": "stream",
     "text": [
      "Using 4 GPUs\n"
     ]
    }
   ],
   "source": [
    "model = SentimentClassifier(n_classes=3)\n",
    "if torch.cuda.device_count() > 1:\n",
    "    print(\"Using\", torch.cuda.device_count(), \"GPUs\")\n",
    "    model = nn.DataParallel(model.cuda(), device_ids=[0, 1, 2, 3])\n",
    "model = model.to(device)\n"
   ]
  },
  {
   "cell_type": "code",
   "execution_count": 21,
   "metadata": {
    "ExecuteTime": {
     "end_time": "2022-01-30T06:47:09.803069Z",
     "start_time": "2022-01-30T06:47:09.801356Z"
    },
    "colab": {
     "base_uri": "https://localhost:8080/"
    },
    "executionInfo": {
     "elapsed": 42,
     "status": "ok",
     "timestamp": 1634194997338,
     "user": {
      "displayName": "Nero C",
      "photoUrl": "https://lh3.googleusercontent.com/a-/AOh14GjQRoCAV4q10k-DC7od7DeLQhSUCkvaI26E0x4r=s64",
      "userId": "13659571702895310340"
     },
     "user_tz": -630
    },
    "id": "uLl-umJKYGtB",
    "outputId": "30fb9ea3-81b2-4371-a0c7-198c44fe1759"
   },
   "outputs": [
    {
     "name": "stdout",
     "output_type": "stream",
     "text": [
      "torch.Size([16, 512])\n",
      "torch.Size([16, 512])\n"
     ]
    }
   ],
   "source": [
    "input_ids = data['input_ids'].to(device)\n",
    "attention_mask = data['attention_mask'].to(device)\n",
    "verbs = data['verb'].to(device)\n",
    "A0s = data['A0'].to(device)\n",
    "A1s = data['A1'].to(device)\n",
    "AV_num = data['AV_num'].to(device)\n",
    "print(input_ids.shape) # batch size x seq length\n",
    "print(attention_mask.shape) # batch size x seq length"
   ]
  },
  {
   "cell_type": "code",
   "execution_count": 22,
   "metadata": {
    "ExecuteTime": {
     "end_time": "2022-01-30T06:47:09.814611Z",
     "start_time": "2022-01-30T06:47:09.803737Z"
    },
    "colab": {
     "base_uri": "https://localhost:8080/"
    },
    "executionInfo": {
     "elapsed": 32,
     "status": "ok",
     "timestamp": 1634194997338,
     "user": {
      "displayName": "Nero C",
      "photoUrl": "https://lh3.googleusercontent.com/a-/AOh14GjQRoCAV4q10k-DC7od7DeLQhSUCkvaI26E0x4r=s64",
      "userId": "13659571702895310340"
     },
     "user_tz": -630
    },
    "id": "VX0A_axjYJfP",
    "outputId": "599623bc-5aec-47ba-b3fd-ba2396412792"
   },
   "outputs": [
    {
     "data": {
      "text/plain": [
       "tensor([[0.2512, 0.4605, 0.2883],\n",
       "        [0.2261, 0.5447, 0.2291],\n",
       "        [0.2361, 0.5328, 0.2311],\n",
       "        [0.2373, 0.4178, 0.3448],\n",
       "        [0.2465, 0.4637, 0.2897],\n",
       "        [0.2221, 0.5508, 0.2270],\n",
       "        [0.2327, 0.5360, 0.2314],\n",
       "        [0.2362, 0.4211, 0.3426],\n",
       "        [0.2454, 0.4637, 0.2909],\n",
       "        [0.2209, 0.5509, 0.2282],\n",
       "        [0.2269, 0.5435, 0.2296],\n",
       "        [0.2371, 0.4213, 0.3416],\n",
       "        [0.2447, 0.4642, 0.2911],\n",
       "        [0.2223, 0.5461, 0.2315],\n",
       "        [0.2303, 0.5410, 0.2287],\n",
       "        [0.2408, 0.4179, 0.3413]], device='cuda:0', grad_fn=<SoftmaxBackward>)"
      ]
     },
     "execution_count": 22,
     "metadata": {},
     "output_type": "execute_result"
    }
   ],
   "source": [
    "F.softmax(model(input_ids, attention_mask, verb=verbs, A0=A0s, A1=A1s, AV_num=AV_num)[0], dim=1)"
   ]
  },
  {
   "cell_type": "code",
   "execution_count": 24,
   "metadata": {
    "ExecuteTime": {
     "end_time": "2022-01-30T06:47:09.823214Z",
     "start_time": "2022-01-30T06:47:09.815498Z"
    },
    "id": "4q2fUr9TYMxW"
   },
   "outputs": [],
   "source": [
    "EPOCHS = 10\n",
    "\n",
    "optimizer = AdamW(model.parameters(), lr=1e-5, correct_bias=False)\n",
    "total_steps = len(train_data_loader) * EPOCHS\n",
    "\n",
    "scheduler = get_linear_schedule_with_warmup(\n",
    "    optimizer,\n",
    "    num_warmup_steps=0,\n",
    "    num_training_steps=total_steps\n",
    ")\n",
    "\n",
    "loss_fn = nn.CrossEntropyLoss().to(device)"
   ]
  },
  {
   "cell_type": "code",
   "execution_count": 20,
   "metadata": {
    "ExecuteTime": {
     "end_time": "2022-01-30T06:47:09.828866Z",
     "start_time": "2022-01-30T06:47:09.823835Z"
    },
    "id": "oLLFWDvDYeeS"
   },
   "outputs": [],
   "source": [
    "def train_epoch(\n",
    "    model, \n",
    "    data_loader, \n",
    "    loss_fn, \n",
    "    optimizer, \n",
    "    device, \n",
    "    scheduler, \n",
    "    n_examples\n",
    "):\n",
    "    model = model.train()\n",
    "\n",
    "    losses = []\n",
    "    correct_predictions = 0\n",
    "    correct_predictions_verbs = 0\n",
    "\n",
    "    for d in data_loader:\n",
    "        input_ids = d[\"input_ids\"].to(device)\n",
    "        attention_mask = d[\"attention_mask\"].to(device)\n",
    "        targets = d[\"targets\"].to(device)\n",
    "        verb = d[\"verb\"].to(device)\n",
    "        A0 = d[\"A0\"].to(device)\n",
    "        A1 = d[\"A1\"].to(device)\n",
    "        AV_num = d[\"AV_num\"].to(device)\n",
    "\n",
    "        outputs,self_outputs,self_labels = model(\n",
    "            input_ids=input_ids,\n",
    "            attention_mask=attention_mask,\n",
    "            verb = verb,\n",
    "            A0 = A0,\n",
    "            A1 = A1,\n",
    "            AV_num = AV_num\n",
    "        )\n",
    "        self_outputs = self_outputs.to(device)\n",
    "        self_labels = self_labels.to(device)\n",
    "\n",
    "        if outputs.dim()==1:\n",
    "            outputs = torch.unsqueeze(outputs,0)\n",
    "        _, preds = torch.max(outputs, dim=1)\n",
    "        _, self_preds = torch.max(self_outputs, dim=1)\n",
    "        \n",
    "        # print(targets.shape,outputs.shape)\n",
    "        loss = 0.8*loss_fn(outputs, targets)+0.2*loss_fn(self_outputs,self_labels)\n",
    "\n",
    "        correct_predictions += torch.sum(preds == targets)\n",
    "        correct_predictions_verbs += torch.sum(self_preds == self_labels)\n",
    "        losses.append(loss.item())\n",
    "\n",
    "        loss.backward()\n",
    "        nn.utils.clip_grad_norm_(model.parameters(), max_norm=1.0)\n",
    "        optimizer.step()\n",
    "        scheduler.step()\n",
    "        optimizer.zero_grad()\n",
    "\n",
    "    return correct_predictions.double() / n_examples, np.mean(losses), correct_predictions_verbs.double()/n_examples"
   ]
  },
  {
   "cell_type": "code",
   "execution_count": 21,
   "metadata": {
    "ExecuteTime": {
     "end_time": "2022-01-30T06:47:09.836507Z",
     "start_time": "2022-01-30T06:47:09.829560Z"
    },
    "id": "VmDYxiXDYl-u"
   },
   "outputs": [],
   "source": [
    "def eval_model(model, data_loader, loss_fn, device, n_examples):\n",
    "    model = model.eval()\n",
    "\n",
    "    losses = []\n",
    "    correct_predictions = 0\n",
    "\n",
    "    with torch.no_grad():\n",
    "        for d in data_loader:\n",
    "            input_ids = d[\"input_ids\"].to(device)\n",
    "            attention_mask = d[\"attention_mask\"].to(device)\n",
    "            targets = d[\"targets\"].to(device)\n",
    "            verb = d[\"verb\"].to(device)\n",
    "            A0 = d[\"A0\"].to(device)\n",
    "            A1 = d[\"A1\"].to(device)\n",
    "            AV_num = d[\"AV_num\"].to(device)\n",
    "\n",
    "            outputs = model(\n",
    "                input_ids=input_ids,\n",
    "                attention_mask=attention_mask,\n",
    "                verb = verb,\n",
    "                A0 = A0,\n",
    "                A1 = A1,\n",
    "                AV_num = AV_num\n",
    "            )[0]\n",
    "            \n",
    "            if outputs.dim()==1:\n",
    "                outputs = torch.unsqueeze(outputs,0)\n",
    "            _, preds = torch.max(outputs, dim=1)\n",
    "\n",
    "            loss = loss_fn(outputs, targets)\n",
    "\n",
    "            correct_predictions += torch.sum(preds == targets)\n",
    "            \n",
    "            losses.append(loss.item())\n",
    "\n",
    "    return correct_predictions.double() / n_examples, np.mean(losses)"
   ]
  },
  {
   "cell_type": "code",
   "execution_count": 26,
   "metadata": {
    "ExecuteTime": {
     "end_time": "2022-01-30T06:47:09.843747Z",
     "start_time": "2022-01-30T06:47:09.837139Z"
    },
    "id": "Nkvo-2p93Dnr"
   },
   "outputs": [],
   "source": [
    "history = defaultdict(list)\n",
    "best_accuracy = 0"
   ]
  },
  {
   "cell_type": "code",
   "execution_count": 27,
   "metadata": {
    "colab": {
     "background_save": true,
     "base_uri": "https://localhost:8080/"
    },
    "id": "VZvKK2TkYojZ",
    "outputId": "c2ab0a75-6fee-4af7-8a3e-0846f2c720db",
    "scrolled": false
   },
   "outputs": [
    {
     "name": "stdout",
     "output_type": "stream",
     "text": [
      "Epoch 1/10\n",
      "----------\n",
      "Train loss 1.3336263348658879 accuracy 0.3544137022397892 cl_accuracy 0.6824769433465085\n",
      "Val   loss 1.3998125791549683 accuracy 0.3022151898734177\n",
      "\n",
      "Epoch 2/10\n",
      "----------\n",
      "Train loss 1.1665309915939968 accuracy 0.310935441370224 cl_accuracy 0.7127799736495389\n",
      "Val   loss 1.1240767747163773 accuracy 0.32436708860759494\n",
      "\n",
      "Epoch 3/10\n",
      "----------\n",
      "Train loss 1.0519268525143464 accuracy 0.3451910408432148 cl_accuracy 0.7088274044795784\n",
      "Val   loss 1.1110308200120926 accuracy 0.3022151898734177\n",
      "\n",
      "Epoch 4/10\n",
      "----------\n",
      "Train loss 1.0220201089978218 accuracy 0.3346508563899868 cl_accuracy 0.7009222661396575\n",
      "Val   loss 1.0983453586697578 accuracy 0.37658227848101267\n",
      "\n",
      "Epoch 5/10\n",
      "----------\n",
      "Train loss 0.9904542292157809 accuracy 0.3596837944664032 cl_accuracy 0.689064558629776\n",
      "Val   loss 1.1296247273683548 accuracy 0.2927215189873418\n",
      "\n",
      "Epoch 6/10\n",
      "----------\n",
      "Train loss 0.9895736190179983 accuracy 0.3702239789196311 cl_accuracy 0.7009222661396575\n",
      "Val   loss 1.1190432786941529 accuracy 0.37341772151898733\n",
      "\n",
      "Epoch 7/10\n",
      "----------\n",
      "Train loss 1.005719975878795 accuracy 0.33069828722002637 cl_accuracy 0.7022397891963109\n",
      "Val   loss 1.1064782291650772 accuracy 0.3022151898734177\n",
      "\n",
      "Epoch 8/10\n",
      "----------\n",
      "Train loss 0.9923126672705015 accuracy 0.35309617918313574 cl_accuracy 0.6864295125164691\n",
      "Val   loss 1.1008674770593643 accuracy 0.2879746835443038\n",
      "\n",
      "Epoch 9/10\n",
      "----------\n",
      "Train loss 0.9872300637265047 accuracy 0.3596837944664032 cl_accuracy 0.7009222661396575\n",
      "Val   loss 1.1031682819128037 accuracy 0.3022151898734177\n",
      "\n",
      "Epoch 10/10\n",
      "----------\n",
      "Train loss 0.9907304719090462 accuracy 0.3254281949934124 cl_accuracy 0.7022397891963109\n",
      "Val   loss 1.0906100690364837 accuracy 0.37341772151898733\n",
      "\n",
      "CPU times: user 19min 57s, sys: 2min 54s, total: 22min 51s\n",
      "Wall time: 14min 48s\n"
     ]
    }
   ],
   "source": [
    "%%time\n",
    "\n",
    "for epoch in range(EPOCHS):\n",
    "\n",
    "  print(f'Epoch {epoch + 1}/{EPOCHS}')\n",
    "  print('-' * 10)\n",
    "\n",
    "  train_acc, train_loss, cl_acc = train_epoch(\n",
    "    model,\n",
    "    train_data_loader,    \n",
    "    loss_fn, \n",
    "    optimizer, \n",
    "    device, \n",
    "    scheduler, \n",
    "    len(df_train)\n",
    "  )\n",
    "\n",
    "  print(f'Train loss {train_loss} accuracy {train_acc} cl_accuracy {cl_acc}')\n",
    "\n",
    "  val_acc, val_loss = eval_model(\n",
    "    model,\n",
    "    val_data_loader,\n",
    "    loss_fn, \n",
    "    device, \n",
    "    len(df_val)\n",
    "  )\n",
    "\n",
    "  print(f'Val   loss {val_loss} accuracy {val_acc}')\n",
    "  print()\n",
    "\n",
    "  history['train_acc'].append(train_acc)\n",
    "  history['train_loss'].append(train_loss)\n",
    "  history['val_acc'].append(val_acc)\n",
    "  history['val_loss'].append(val_loss)\n",
    "\n",
    "  if val_acc > best_accuracy:\n",
    "    torch.save(model.state_dict(), 'Pretrained_RoBert_SRL(FC)_CL(V).bin')\n",
    "    best_accuracy = val_acc\n"
   ]
  },
  {
   "cell_type": "code",
   "execution_count": 28,
   "metadata": {
    "ExecuteTime": {
     "end_time": "2022-01-30T06:47:17.722138Z",
     "start_time": "2022-01-30T06:47:17.582730Z"
    },
    "colab": {
     "background_save": true
    },
    "id": "xu7Y2BPzLZgi",
    "outputId": "464a72dd-decd-4758-c2a4-ed850769df71"
   },
   "outputs": [
    {
     "data": {
      "image/png": "[encoded data removed]",
      "text/plain": [
       "<Figure size 864x576 with 1 Axes>"
      ]
     },
     "metadata": {
      "image/png": {
       "height": 506,
       "width": 732
      }
     },
     "output_type": "display_data"
    }
   ],
   "source": [
    "plt.plot([i.cpu() for i in history['train_acc']], label='train accuracy')\n",
    "plt.plot([i.cpu() for i in history['val_acc']], label='validation accuracy')\n",
    "\n",
    "plt.title('Training history')\n",
    "plt.ylabel('Accuracy')\n",
    "plt.xlabel('Epoch')\n",
    "plt.legend()\n",
    "plt.ylim([0, 1]);"
   ]
  },
  {
   "cell_type": "code",
   "execution_count": 22,
   "metadata": {
    "ExecuteTime": {
     "end_time": "2022-01-30T06:47:19.946047Z",
     "start_time": "2022-01-30T06:47:17.723189Z"
    },
    "colab": {
     "background_save": true
    },
    "id": "YYMhWiIrBrV4",
    "outputId": "715ceb5a-ae70-4412-a3ab-720a04955b93"
   },
   "outputs": [
    {
     "name": "stderr",
     "output_type": "stream",
     "text": [
      "Some weights of the model checkpoint at /home/jovyan/graph-stock-pred/Astock/models/ROBERT_4_model were not used when initializing BertModel: ['cls.predictions.transform.LayerNorm.weight', 'cls.predictions.bias', 'cls.predictions.decoder.weight', 'cls.predictions.transform.dense.bias', 'cls.predictions.transform.LayerNorm.bias', 'cls.predictions.transform.dense.weight', 'cls.predictions.decoder.bias']\n",
      "- This IS expected if you are initializing BertModel from the checkpoint of a model trained on another task or with another architecture (e.g. initializing a BertForSequenceClassification model from a BertForPreTraining model).\n",
      "- This IS NOT expected if you are initializing BertModel from the checkpoint of a model that you expect to be exactly identical (initializing a BertForSequenceClassification model from a BertForSequenceClassification model).\n",
      "Some weights of BertModel were not initialized from the model checkpoint at /home/jovyan/graph-stock-pred/Astock/models/ROBERT_4_model and are newly initialized: ['bert.pooler.dense.weight', 'bert.pooler.dense.bias']\n",
      "You should probably TRAIN this model on a down-stream task to be able to use it for predictions and inference.\n"
     ]
    },
    {
     "name": "stdout",
     "output_type": "stream",
     "text": [
      "Using 4 GPUs\n"
     ]
    },
    {
     "data": {
      "text/plain": [
       "<All keys matched successfully>"
      ]
     },
     "execution_count": 22,
     "metadata": {},
     "output_type": "execute_result"
    }
   ],
   "source": [
    "# !gdown --id 1V8itWtowCYnb2Bc9KlK9SxGff9WwmogA\n",
    "\n",
    "model = SentimentClassifier(len(class_names))\n",
    "if torch.cuda.device_count() > 1:\n",
    "    print(\"Using\", torch.cuda.device_count(), \"GPUs\")\n",
    "    model = nn.DataParallel(model.cuda(), device_ids=[0, 1, 2, 3])\n",
    "model = model.to(device)\n",
    "model.load_state_dict(torch.load('Pretrained_RoBert_SRL(FC)_CL(V).bin'))"
   ]
  },
  {
   "cell_type": "code",
   "execution_count": 61,
   "metadata": {
    "ExecuteTime": {
     "end_time": "2022-01-30T06:47:19.949240Z",
     "start_time": "2022-01-30T06:47:19.946829Z"
    },
    "colab": {
     "background_save": true
    },
    "id": "KYRPY0C-fFQh",
    "outputId": "5ff644a7-ed8f-4e1d-c846-e26640849d2f"
   },
   "outputs": [
    {
     "data": {
      "text/plain": [
       "889"
      ]
     },
     "execution_count": 61,
     "metadata": {},
     "output_type": "execute_result"
    }
   ],
   "source": [
    "len(df_test)"
   ]
  },
  {
   "cell_type": "code",
   "execution_count": 25,
   "metadata": {
    "ExecuteTime": {
     "end_time": "2022-01-30T06:47:27.960499Z",
     "start_time": "2022-01-30T06:47:19.949796Z"
    },
    "colab": {
     "background_save": true
    },
    "id": "c7Cckbz8GbDK",
    "outputId": "a3332b1f-6762-40f0-812b-db4844ec2d4d"
   },
   "outputs": [
    {
     "data": {
      "text/plain": [
       "0.3880764904386952"
      ]
     },
     "execution_count": 25,
     "metadata": {},
     "output_type": "execute_result"
    }
   ],
   "source": [
    "test_acc, _ = eval_model(\n",
    "  model,\n",
    "  test_data_loader,\n",
    "  loss_fn,\n",
    "  device,\n",
    "  len(df_test)\n",
    ")\n",
    "\n",
    "test_acc.item()"
   ]
  },
  {
   "cell_type": "code",
   "execution_count": 26,
   "metadata": {
    "ExecuteTime": {
     "end_time": "2022-01-30T06:47:27.965662Z",
     "start_time": "2022-01-30T06:47:27.961479Z"
    },
    "colab": {
     "background_save": true
    },
    "id": "a0Qemnl0FiEb"
   },
   "outputs": [],
   "source": [
    "def get_predictions(model, data_loader):\n",
    "  model = model.eval()\n",
    "  \n",
    "  review_texts = []\n",
    "  predictions = []\n",
    "  prediction_probs = []\n",
    "  real_values = []\n",
    "\n",
    "  with torch.no_grad():\n",
    "    for d in data_loader:\n",
    "\n",
    "      texts = d[\"titles\"]\n",
    "      input_ids = d[\"input_ids\"].to(device)\n",
    "      attention_mask = d[\"attention_mask\"].to(device)\n",
    "      targets = d[\"targets\"].to(device)\n",
    "      verb = d[\"verb\"].to(device)\n",
    "      A0 = d[\"A0\"].to(device)\n",
    "      A1 = d[\"A1\"].to(device)\n",
    "      AV_num = d['AV_num'].to(device)\n",
    "\n",
    "      outputs = model(\n",
    "        input_ids=input_ids,\n",
    "        attention_mask=attention_mask,\n",
    "        verb = verb,\n",
    "        A0 = A0,\n",
    "        A1 = A1,\n",
    "        AV_num = AV_num\n",
    "      )[0]\n",
    "#       _, preds = torch.max(outputs, dim=1)\n",
    "      \n",
    "      if outputs.dim()==1:\n",
    "        outputs = torch.unsqueeze(outputs,0)\n",
    "      _, preds = torch.max(outputs, dim=1)\n",
    "\n",
    "      probs = F.softmax(outputs, dim=1)\n",
    "\n",
    "      review_texts.extend(texts)\n",
    "      predictions.extend(preds)\n",
    "      prediction_probs.extend(probs)\n",
    "      real_values.extend(targets)\n",
    "\n",
    "  predictions = torch.stack(predictions).cpu()\n",
    "  prediction_probs = torch.stack(prediction_probs).cpu()\n",
    "  real_values = torch.stack(real_values).cpu()\n",
    "  return review_texts, predictions, prediction_probs, real_values"
   ]
  },
  {
   "cell_type": "code",
   "execution_count": 27,
   "metadata": {
    "ExecuteTime": {
     "end_time": "2022-01-30T06:47:27.979704Z",
     "start_time": "2022-01-30T06:47:27.966242Z"
    }
   },
   "outputs": [],
   "source": [
    "def show_confusion_matrix(confusion_matrix):\n",
    "  hmap = sns.heatmap(confusion_matrix, annot=True, fmt=\"d\", cmap=\"Blues\")\n",
    "  hmap.yaxis.set_ticklabels(hmap.yaxis.get_ticklabels(), rotation=0, ha='right')\n",
    "  hmap.xaxis.set_ticklabels(hmap.xaxis.get_ticklabels(), rotation=30, ha='right')\n",
    "  plt.ylabel('True sentiment')\n",
    "  plt.xlabel('Predicted sentiment');"
   ]
  },
  {
   "cell_type": "code",
   "execution_count": 28,
   "metadata": {
    "ExecuteTime": {
     "end_time": "2022-01-30T06:47:35.647733Z",
     "start_time": "2022-01-30T06:47:27.980681Z"
    },
    "colab": {
     "background_save": true
    },
    "id": "YkPHXF0MGiCh",
    "outputId": "648048e5-a674-4137-9efe-105cfea84b32"
   },
   "outputs": [
    {
     "name": "stderr",
     "output_type": "stream",
     "text": [
      "/home/jovyan/conda_env/bert_try/lib/python3.8/site-packages/sklearn/metrics/_classification.py:1318: UndefinedMetricWarning: Precision and F-score are ill-defined and being set to 0.0 in labels with no predicted samples. Use `zero_division` parameter to control this behavior.\n",
      "  _warn_prf(average, modifier, msg_start, len(result))\n",
      "/home/jovyan/conda_env/bert_try/lib/python3.8/site-packages/sklearn/metrics/_classification.py:1318: UndefinedMetricWarning: Precision and F-score are ill-defined and being set to 0.0 in labels with no predicted samples. Use `zero_division` parameter to control this behavior.\n",
      "  _warn_prf(average, modifier, msg_start, len(result))\n",
      "/home/jovyan/conda_env/bert_try/lib/python3.8/site-packages/sklearn/metrics/_classification.py:1318: UndefinedMetricWarning: Precision and F-score are ill-defined and being set to 0.0 in labels with no predicted samples. Use `zero_division` parameter to control this behavior.\n",
      "  _warn_prf(average, modifier, msg_start, len(result))\n"
     ]
    },
    {
     "name": "stdout",
     "output_type": "stream",
     "text": [
      "              precision    recall  f1-score   support\n",
      "\n",
      "    negative     0.4000    0.0707    0.1202       311\n",
      "     neutral     0.0000    0.0000    0.0000       235\n",
      "    positive     0.3873    0.9417    0.5489       343\n",
      "\n",
      "    accuracy                         0.3881       889\n",
      "   macro avg     0.2624    0.3375    0.2230       889\n",
      "weighted avg     0.2894    0.3881    0.2538       889\n",
      "\n"
     ]
    },
    {
     "data": {
      "image/png": "[encoded data removed]",
      "text/plain": [
       "<Figure size 864x576 with 2 Axes>"
      ]
     },
     "metadata": {
      "image/png": {
       "height": 516,
       "width": 725
      }
     },
     "output_type": "display_data"
    }
   ],
   "source": [
    "y_review_texts, y_pred, y_pred_probs, y_test = get_predictions(\n",
    "  model,\n",
    "  test_data_loader\n",
    ")\n",
    "\n",
    "print(classification_report(y_test, y_pred, target_names=class_names,digits=4))\n",
    "\n",
    "cm = confusion_matrix(y_test, y_pred)\n",
    "df_cm = pd.DataFrame(cm, index=class_names, columns=class_names)\n",
    "show_confusion_matrix(df_cm)"
   ]
  },
  {
   "cell_type": "code",
   "execution_count": 29,
   "metadata": {
    "ExecuteTime": {
     "end_time": "2022-01-30T06:48:28.482693Z",
     "start_time": "2022-01-30T06:47:35.648526Z"
    }
   },
   "outputs": [
    {
     "name": "stderr",
     "output_type": "stream",
     "text": [
      "/home/jovyan/conda_env/bert_try/lib/python3.8/site-packages/sklearn/metrics/_classification.py:1318: UndefinedMetricWarning: Precision and F-score are ill-defined and being set to 0.0 in labels with no predicted samples. Use `zero_division` parameter to control this behavior.\n",
      "  _warn_prf(average, modifier, msg_start, len(result))\n",
      "/home/jovyan/conda_env/bert_try/lib/python3.8/site-packages/sklearn/metrics/_classification.py:1318: UndefinedMetricWarning: Precision and F-score are ill-defined and being set to 0.0 in labels with no predicted samples. Use `zero_division` parameter to control this behavior.\n",
      "  _warn_prf(average, modifier, msg_start, len(result))\n",
      "/home/jovyan/conda_env/bert_try/lib/python3.8/site-packages/sklearn/metrics/_classification.py:1318: UndefinedMetricWarning: Precision and F-score are ill-defined and being set to 0.0 in labels with no predicted samples. Use `zero_division` parameter to control this behavior.\n",
      "  _warn_prf(average, modifier, msg_start, len(result))\n"
     ]
    },
    {
     "name": "stdout",
     "output_type": "stream",
     "text": [
      "              precision    recall  f1-score   support\n",
      "\n",
      "    negative     0.2895    0.0169    0.0320       650\n",
      "     neutral     0.0000    0.0000    0.0000       609\n",
      "    positive     0.3521    0.9853    0.5188       679\n",
      "\n",
      "    accuracy                         0.3509      1938\n",
      "   macro avg     0.2139    0.3341    0.1836      1938\n",
      "weighted avg     0.2205    0.3509    0.1925      1938\n",
      "\n"
     ]
    },
    {
     "data": {
      "image/png": "[encoded data removed]",
      "text/plain": [
       "<Figure size 864x576 with 2 Axes>"
      ]
     },
     "metadata": {
      "image/png": {
       "height": 516,
       "width": 725
      }
     },
     "output_type": "display_data"
    }
   ],
   "source": [
    "y_ood_review_texts, y_ood_pred, y_ood_pred_probs, y_ood = get_predictions(\n",
    "  model,\n",
    "  ood_data_loader\n",
    ")\n",
    "\n",
    "print(classification_report(y_ood, y_ood_pred, target_names=class_names,digits=4))\n",
    "\n",
    "ood_cm = confusion_matrix(y_ood, y_ood_pred)\n",
    "df_ood_cm = pd.DataFrame(ood_cm, index=class_names, columns=class_names)\n",
    "show_confusion_matrix(df_ood_cm)"
   ]
  },
  {
   "cell_type": "code",
   "execution_count": 69,
   "metadata": {
    "ExecuteTime": {
     "end_time": "2022-01-30T06:52:22.785038Z",
     "start_time": "2022-01-30T06:52:21.376266Z"
    }
   },
   "outputs": [],
   "source": [
    "df = pd.DataFrame([y_ood_review_texts, y_ood_pred.numpy(), y_ood_pred_probs.numpy(), y_ood.numpy()]).T\n",
    "df = df.rename(columns={0: 'text',1: 'prediction',2: 'probability',3: 'labels'})\n",
    "df.to_csv('try_Pretrained_RoBert_SRL(FC)_V_ood.csv',sep='\\t')"
   ]
  },
  {
   "cell_type": "code",
   "execution_count": null,
   "metadata": {
    "colab": {
     "background_save": true
    },
    "id": "Kbe4pgmh1gQY"
   },
   "outputs": [],
   "source": []
  }
 ],
 "metadata": {
  "accelerator": "GPU",
  "colab": {
   "collapsed_sections": [],
   "name": "Pretrained_RoBert_SRL(AVG)_CL(V).ipynb",
   "provenance": [
    {
     "file_id": "1Ia2qfBUM35tzgRmKb8NFZn9V7WQ6xHLQ",
     "timestamp": 1634194650187
    },
    {
     "file_id": "1m63ML-bYzKDT2V9B4hE-Uu5VTx505sa-",
     "timestamp": 1633515541576
    },
    {
     "file_id": "1HhJHiV3RPKbpPFWZrMSHMW_H-OMu45nh",
     "timestamp": 1633492228905
    },
    {
     "file_id": "1q_DO6QMqbQjEru1iCP0CuwA1-0wOBgO1",
     "timestamp": 1633469450109
    },
    {
     "file_id": "1UmCPDjec7zH3RdCY3Hdite8oomF7nmf9",
     "timestamp": 1633290928316
    },
    {
     "file_id": "1w9vwLdm73DBRpQkWEjXqs5q-sfG5CFRP",
     "timestamp": 1633210989154
    },
    {
     "file_id": "1dItOUA_nHj-f307fzTileirMZodw9QQA",
     "timestamp": 1633052138904
    },
    {
     "file_id": "1Oo-71ViOwxENoHeitS3_bKCwW5v34UxN",
     "timestamp": 1632660498277
    },
    {
     "file_id": "1el47BmEzo31ysADRwzhNG8eWTFAGBwSd",
     "timestamp": 1632523116920
    },
    {
     "file_id": "1_JaZBt7ogFAsddWCCG0LcCdgNRAxqtFk",
     "timestamp": 1632443626664
    },
    {
     "file_id": "19E0FxMVVPc7sOJKBKGMO92IFUiH9i8Nq",
     "timestamp": 1631945855961
    },
    {
     "file_id": "1-IQze66iqGbhkSN5Ht7pAfMMsY-XRwDI",
     "timestamp": 1631743166519
    },
    {
     "file_id": "1WejxgDbBCZ7I2Y_ODwi3kgRtrnkLvn-b",
     "timestamp": 1631518058457
    },
    {
     "file_id": "1npRyGEmBJbLWSua7ANgxcMxsQsuWXnKG",
     "timestamp": 1631425160358
    }
   ]
  },
  "kernelspec": {
   "display_name": "Python 3 (ipykernel)",
   "language": "python",
   "name": "python3"
  },
  "language_info": {
   "codemirror_mode": {
    "name": "ipython",
    "version": 3
   },
   "file_extension": ".py",
   "mimetype": "text/x-python",
   "name": "python",
   "nbconvert_exporter": "python",
   "pygments_lexer": "ipython3",
   "version": "3.8.13"
  },
  "latex_envs": {
   "LaTeX_envs_menu_present": true,
   "autoclose": false,
   "autocomplete": true,
   "bibliofile": "biblio.bib",
   "cite_by": "apalike",
   "current_citInitial": 1,
   "eqLabelWithNumbers": true,
   "eqNumInitial": 1,
   "hotkeys": {
    "equation": "Ctrl-E",
    "itemize": "Ctrl-I"
   },
   "labels_anchors": false,
   "latex_user_defs": false,
   "report_style_numbering": false,
   "user_envs_cfg": false
  },
  "toc": {
   "base_numbering": 1,
   "nav_menu": {},
   "number_sections": true,
   "sideBar": true,
   "skip_h1_title": false,
   "title_cell": "Table of Contents",
   "title_sidebar": "Contents",
   "toc_cell": false,
   "toc_position": {},
   "toc_section_display": true,
   "toc_window_display": false
  },
  "varInspector": {
   "cols": {
    "lenName": 16,
    "lenType": 16,
    "lenVar": 40
   },
   "kernels_config": {
    "python": {
     "delete_cmd_postfix": "",
     "delete_cmd_prefix": "del ",
     "library": "var_list.py",
     "varRefreshCmd": "print(var_dic_list())"
    },
    "r": {
     "delete_cmd_postfix": ") ",
     "delete_cmd_prefix": "rm(",
     "library": "var_list.r",
     "varRefreshCmd": "cat(var_dic_list()) "
    }
   },
   "types_to_exclude": [
    "module",
    "function",
    "builtin_function_or_method",
    "instance",
    "_Feature"
   ],
   "window_display": false
  }
 },
 "nbformat": 4,
 "nbformat_minor": 1
}
