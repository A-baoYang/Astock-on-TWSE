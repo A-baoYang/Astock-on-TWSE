{
 "cells": [
  {
   "cell_type": "code",
   "execution_count": 1,
   "metadata": {
    "ExecuteTime": {
     "end_time": "2022-01-30T06:46:33.946552Z",
     "start_time": "2022-01-30T06:46:33.542676Z"
    },
    "colab": {
     "base_uri": "https://localhost:8080/"
    },
    "executionInfo": {
     "elapsed": 1642,
     "status": "ok",
     "timestamp": 1634194951035,
     "user": {
      "displayName": "Nero C",
      "photoUrl": "https://lh3.googleusercontent.com/a-/AOh14GjQRoCAV4q10k-DC7od7DeLQhSUCkvaI26E0x4r=s64",
      "userId": "13659571702895310340"
     },
     "user_tz": -630
    },
    "id": "pEHKZt-qRG5x",
    "outputId": "c9b85caa-7c2c-4578-fce2-d41c84ef0dc2"
   },
   "outputs": [],
   "source": [
    "# import libraries\n",
    "import ast\n",
    "from collections import Counter\n",
    "from collections import defaultdict\n",
    "import matplotlib.pyplot as plt\n",
    "from matplotlib import rc\n",
    "import numpy as np\n",
    "import os\n",
    "os.environ[\"CUDA_VISIBLE_DEVICES\"] = \"0,1,2,3\"\n",
    "import pandas as pd\n",
    "from pylab import rcParams\n",
    "import random\n",
    "import seaborn as sns\n",
    "from sklearn.preprocessing import StandardScaler, MinMaxScaler\n",
    "# from sklearn.model_selection import train_test_split\n",
    "from sklearn.metrics import confusion_matrix, classification_report\n",
    "import torch\n",
    "from torch import nn, optim\n",
    "from torch.utils.data import Dataset, DataLoader\n",
    "import torch.nn.functional as F\n",
    "# from sklearn.metrics import f1_score\n",
    "from torch.nn import TransformerEncoder, TransformerEncoderLayer\n",
    "from tqdm import tqdm\n",
    "import transformers\n",
    "from transformers import BertModel, BertTokenizer, AdamW, get_linear_schedule_with_warmup\n",
    "\n",
    "\n",
    "%matplotlib inline\n",
    "\n",
    "%config InlineBackend.figure_format='retina'\n",
    "\n",
    "sns.set(style='whitegrid', palette='muted', font_scale=1.2)\n",
    "HAPPY_COLORS_PALETTE = [\"#01BEFE\", \"#FFDD00\", \"#FF7D00\", \"#FF006D\", \"#ADFF02\", \"#8F00FF\"]\n",
    "sns.set_palette(sns.color_palette(HAPPY_COLORS_PALETTE))\n",
    "rcParams['figure.figsize'] = 12, 8\n",
    "\n",
    "RANDOM_SEED = 10\n",
    "np.random.seed(RANDOM_SEED)\n",
    "torch.manual_seed(RANDOM_SEED)\n",
    "\n",
    "device = torch.device(\"cuda\" if torch.cuda.is_available() else \"cpu\")\n",
    "tokenizer = BertTokenizer.from_pretrained(\"hfl/chinese-roberta-wwm-ext\", do_lower_case=True)\n",
    "PRE_TRAINED_MODEL_NAME = '/home/jovyan/graph-stock-pred/Astock/models/ROBERT_4_model'\n"
   ]
  },
  {
   "cell_type": "markdown",
   "metadata": {},
   "source": [
    "### Dataset\n",
    "- load data from multi-stocks"
   ]
  },
  {
   "cell_type": "code",
   "execution_count": 2,
   "metadata": {},
   "outputs": [
    {
     "name": "stderr",
     "output_type": "stream",
     "text": [
      "100%|██████████| 35/35 [00:00<00:00, 67.28it/s]\n"
     ]
    },
    {
     "name": "stdout",
     "output_type": "stream",
     "text": [
      "<class 'pandas.core.frame.DataFrame'>\n",
      "Int64Index: 38187 entries, 0 to 1090\n",
      "Data columns (total 33 columns):\n",
      " #   Column        Non-Null Count  Dtype  \n",
      "---  ------        --------------  -----  \n",
      " 0   date          38187 non-null  object \n",
      " 1   open          38185 non-null  float64\n",
      " 2   high          38185 non-null  float64\n",
      " 3   low           38185 non-null  float64\n",
      " 4   close         38185 non-null  float64\n",
      " 5   close_next    38150 non-null  float64\n",
      " 6   change_next   38148 non-null  float64\n",
      " 7   pct_chg_next  38148 non-null  float64\n",
      " 8   ADX           35871 non-null  float64\n",
      " 9   MACD          35661 non-null  float64\n",
      " 10  MACDsignal    35661 non-null  float64\n",
      " 11  MACDhist      35661 non-null  float64\n",
      " 12  RSI           36326 non-null  float64\n",
      " 13  ATR           36326 non-null  float64\n",
      " 14  OBV           38187 non-null  float64\n",
      " 15  BETA          36641 non-null  float64\n",
      " 16  upperBAND     36676 non-null  float64\n",
      " 17  middleBAND    36676 non-null  float64\n",
      " 18  lowerBAND     36676 non-null  float64\n",
      " 19  成交股數          38158 non-null  float64\n",
      " 20  成交筆數          38158 non-null  float64\n",
      " 21  成交金額          38158 non-null  float64\n",
      " 22  殖利率(%)        38158 non-null  float64\n",
      " 23  本益比           34604 non-null  float64\n",
      " 24  股價淨值比         38158 non-null  float64\n",
      " 25  trade_date    38187 non-null  object \n",
      " 26  news_count    38187 non-null  float64\n",
      " 27  titles        13041 non-null  object \n",
      " 28  verbA0A1      13041 non-null  object \n",
      " 29  verb          13041 non-null  object \n",
      " 30  A0            13041 non-null  object \n",
      " 31  A1            13041 non-null  object \n",
      " 32  stock_id      38187 non-null  int64  \n",
      "dtypes: float64(25), int64(1), object(7)\n",
      "memory usage: 9.9+ MB\n"
     ]
    }
   ],
   "source": [
    "from glob import glob\n",
    "\n",
    "paths = glob(\"/home/jovyan/graph-stock-pred/Astock/data/pre/transformed/*-transformed.csv\")\n",
    "df = pd.DataFrame()\n",
    "for path in tqdm(paths):\n",
    "    df = pd.concat([df, pd.read_csv(path)])\n",
    "df.head()\n",
    "df.info()"
   ]
  },
  {
   "cell_type": "markdown",
   "metadata": {},
   "source": [
    "- split train, val, test, ood datasets by date\n"
   ]
  },
  {
   "cell_type": "code",
   "execution_count": 3,
   "metadata": {},
   "outputs": [
    {
     "name": "stdout",
     "output_type": "stream",
     "text": [
      "(27274, 33) (3409, 33) (3409, 33) (4095, 33)\n"
     ]
    }
   ],
   "source": [
    "# train: 80% from 2018.07 - 2021.12 \n",
    "# val: 10% from 2018.07 - 2021.12 \n",
    "# test: 10% from 2018.07 - 2021.12 \n",
    "# ood: 2022.01 - 2022.06\n",
    "\n",
    "df_train = df[df[\"date\"]<\"2022-01-01\"].reset_index(drop=True)\n",
    "df_ood = df[(df[\"date\"]>=\"2022-01-01\") & (df[\"date\"]<\"2022-07-01\")].reset_index(drop=True)\n",
    "\n",
    "df_test = df_train.sample(frac=0.2)\n",
    "df_train = df_train.drop(df_test.index)\n",
    "df_val = df_test.sample(frac=0.5)\n",
    "df_test = df_test.drop(df_val.index)\n",
    "\n",
    "df_train = df_train.reset_index(drop=True)\n",
    "df_val = df_val.reset_index(drop=True)\n",
    "df_test = df_test.reset_index(drop=True)\n",
    "\n",
    "print(df_train.shape, df_val.shape, df_test.shape, df_ood.shape)"
   ]
  },
  {
   "cell_type": "code",
   "execution_count": 4,
   "metadata": {},
   "outputs": [
    {
     "name": "stdout",
     "output_type": "stream",
     "text": [
      "(29612, 33) (2240, 33) (2240, 33) (4095, 33)\n"
     ]
    }
   ],
   "source": [
    "# train: 2018.07 - 2021.06\n",
    "df_train = df[df[\"date\"]<\"2021-07-01\"].reset_index(drop=True)\n",
    "# val: 2021.07 - 2021.09\n",
    "df_val = df[(df[\"date\"]>=\"2021-07-01\") & (df[\"date\"]<\"2021-10-01\")].reset_index(drop=True)\n",
    "# test: 2021.10 - 2021.12\n",
    "df_test = df[(df[\"date\"]>=\"2021-10-01\") & (df[\"date\"]<\"2022-01-01\")].reset_index(drop=True)\n",
    "# ood: 2022.01 - 2022.06\n",
    "df_ood = df[(df[\"date\"]>=\"2022-01-01\") & (df[\"date\"]<\"2022-07-01\")].reset_index(drop=True)\n",
    "\n",
    "print(df_train.shape, df_val.shape, df_test.shape, df_ood.shape)"
   ]
  },
  {
   "cell_type": "markdown",
   "metadata": {},
   "source": [
    "- compute `label` column from `pct_chg_next` \n",
    "    - Thesis uses: $(close - pre close) / close$, but stock price change should devide by previous price. We corrected here\n",
    "- We uese `qcut` and the distribution of `pct_chg_next` between 2018/07/02 - 2022/06/30 is: \n",
    "    ```\n",
    "        (-0.0686, -0.00503]    325\n",
    "        (0.0069, 0.0997]       325\n",
    "        (-0.00503, 0.0069]     324\n",
    "    ```\n",
    "- Then filter out days with no news"
   ]
  },
  {
   "cell_type": "code",
   "execution_count": 5,
   "metadata": {},
   "outputs": [
    {
     "name": "stdout",
     "output_type": "stream",
     "text": [
      "(7921, 34) (1456, 34) (1394, 34) (2270, 34)\n"
     ]
    }
   ],
   "source": [
    "def gen_label(df):\n",
    "    df[\"label\"] = pd.qcut(df['pct_chg_next'], q=3, labels=[0,1,2])\n",
    "    return df\n",
    "\n",
    "\n",
    "df_train = gen_label(df=df_train)\n",
    "df_val = gen_label(df=df_val)\n",
    "df_test = gen_label(df=df_test)\n",
    "df_ood = gen_label(df=df_ood)\n",
    "\n",
    "df_train = df_train[df_train.titles.notnull()].reset_index(drop=True)\n",
    "df_val = df_val[df_val.titles.notnull()].reset_index(drop=True)\n",
    "df_test = df_test[df_test.titles.notnull()].reset_index(drop=True)\n",
    "df_ood = df_ood[df_ood.titles.notnull()].reset_index(drop=True)\n",
    "\n",
    "print(df_train.shape, df_val.shape, df_test.shape, df_ood.shape)\n"
   ]
  },
  {
   "cell_type": "code",
   "execution_count": 6,
   "metadata": {},
   "outputs": [
    {
     "data": {
      "text/html": [
       "<div>\n",
       "<style scoped>\n",
       "    .dataframe tbody tr th:only-of-type {\n",
       "        vertical-align: middle;\n",
       "    }\n",
       "\n",
       "    .dataframe tbody tr th {\n",
       "        vertical-align: top;\n",
       "    }\n",
       "\n",
       "    .dataframe thead th {\n",
       "        text-align: right;\n",
       "    }\n",
       "</style>\n",
       "<table border=\"1\" class=\"dataframe\">\n",
       "  <thead>\n",
       "    <tr style=\"text-align: right;\">\n",
       "      <th></th>\n",
       "      <th>pct_chg_next</th>\n",
       "    </tr>\n",
       "  </thead>\n",
       "  <tbody>\n",
       "    <tr>\n",
       "      <th>count</th>\n",
       "      <td>2270.000000</td>\n",
       "    </tr>\n",
       "    <tr>\n",
       "      <th>mean</th>\n",
       "      <td>-0.000029</td>\n",
       "    </tr>\n",
       "    <tr>\n",
       "      <th>std</th>\n",
       "      <td>0.026163</td>\n",
       "    </tr>\n",
       "    <tr>\n",
       "      <th>min</th>\n",
       "      <td>-0.099099</td>\n",
       "    </tr>\n",
       "    <tr>\n",
       "      <th>25%</th>\n",
       "      <td>-0.013070</td>\n",
       "    </tr>\n",
       "    <tr>\n",
       "      <th>50%</th>\n",
       "      <td>0.000000</td>\n",
       "    </tr>\n",
       "    <tr>\n",
       "      <th>75%</th>\n",
       "      <td>0.011400</td>\n",
       "    </tr>\n",
       "    <tr>\n",
       "      <th>max</th>\n",
       "      <td>0.100000</td>\n",
       "    </tr>\n",
       "  </tbody>\n",
       "</table>\n",
       "</div>"
      ],
      "text/plain": [
       "       pct_chg_next\n",
       "count   2270.000000\n",
       "mean      -0.000029\n",
       "std        0.026163\n",
       "min       -0.099099\n",
       "25%       -0.013070\n",
       "50%        0.000000\n",
       "75%        0.011400\n",
       "max        0.100000"
      ]
     },
     "execution_count": 6,
     "metadata": {},
     "output_type": "execute_result"
    }
   ],
   "source": [
    "df_train[[\"pct_chg_next\",\"label\"]].describe(), df_val[[\"pct_chg_next\",\"label\"]].describe(), df_test[[\"pct_chg_next\",\"label\"]].describe()\n",
    "df_ood[[\"pct_chg_next\",\"label\"]].describe()"
   ]
  },
  {
   "cell_type": "markdown",
   "metadata": {},
   "source": [
    "- compute verb-A0-A1 triplets number as `AV_num`"
   ]
  },
  {
   "cell_type": "code",
   "execution_count": 7,
   "metadata": {},
   "outputs": [],
   "source": [
    "df_train[\"AV_num\"] = df_train[\"verbA0A1\"].apply(lambda x: len(eval(x)))\n",
    "df_val[\"AV_num\"] = df_val[\"verbA0A1\"].apply(lambda x: len(eval(x)))\n",
    "df_test[\"AV_num\"] = df_test[\"verbA0A1\"].apply(lambda x: len(eval(x)))\n",
    "df_ood[\"AV_num\"] = df_ood[\"verbA0A1\"].apply(lambda x: len(eval(x)))"
   ]
  },
  {
   "cell_type": "code",
   "execution_count": 8,
   "metadata": {},
   "outputs": [
    {
     "data": {
      "text/html": [
       "<div>\n",
       "<style scoped>\n",
       "    .dataframe tbody tr th:only-of-type {\n",
       "        vertical-align: middle;\n",
       "    }\n",
       "\n",
       "    .dataframe tbody tr th {\n",
       "        vertical-align: top;\n",
       "    }\n",
       "\n",
       "    .dataframe thead th {\n",
       "        text-align: right;\n",
       "    }\n",
       "</style>\n",
       "<table border=\"1\" class=\"dataframe\">\n",
       "  <thead>\n",
       "    <tr style=\"text-align: right;\">\n",
       "      <th></th>\n",
       "      <th>date</th>\n",
       "      <th>open</th>\n",
       "      <th>high</th>\n",
       "      <th>low</th>\n",
       "      <th>close</th>\n",
       "      <th>close_next</th>\n",
       "      <th>change_next</th>\n",
       "      <th>pct_chg_next</th>\n",
       "      <th>ADX</th>\n",
       "      <th>MACD</th>\n",
       "      <th>...</th>\n",
       "      <th>trade_date</th>\n",
       "      <th>news_count</th>\n",
       "      <th>titles</th>\n",
       "      <th>verbA0A1</th>\n",
       "      <th>verb</th>\n",
       "      <th>A0</th>\n",
       "      <th>A1</th>\n",
       "      <th>stock_id</th>\n",
       "      <th>label</th>\n",
       "      <th>AV_num</th>\n",
       "    </tr>\n",
       "  </thead>\n",
       "  <tbody>\n",
       "    <tr>\n",
       "      <th>0</th>\n",
       "      <td>2018-01-10</td>\n",
       "      <td>9.606958</td>\n",
       "      <td>9.606958</td>\n",
       "      <td>9.568221</td>\n",
       "      <td>9.606958</td>\n",
       "      <td>9.606958</td>\n",
       "      <td>0.000000</td>\n",
       "      <td>0.000000</td>\n",
       "      <td>NaN</td>\n",
       "      <td>NaN</td>\n",
       "      <td>...</td>\n",
       "      <td>2018-01-10</td>\n",
       "      <td>1.0</td>\n",
       "      <td>友达将于2月7日召开在线法人说明会</td>\n",
       "      <td>[[[(8, 2)], [(0, 2)], [(10, 7)]]]</td>\n",
       "      <td>[(8, 2)]</td>\n",
       "      <td>[(0, 2)]</td>\n",
       "      <td>[(10, 7)]</td>\n",
       "      <td>2409</td>\n",
       "      <td>1</td>\n",
       "      <td>1</td>\n",
       "    </tr>\n",
       "    <tr>\n",
       "      <th>1</th>\n",
       "      <td>2018-01-29</td>\n",
       "      <td>11.156468</td>\n",
       "      <td>11.195205</td>\n",
       "      <td>11.001517</td>\n",
       "      <td>11.040255</td>\n",
       "      <td>10.691615</td>\n",
       "      <td>-0.348639</td>\n",
       "      <td>-0.031579</td>\n",
       "      <td>NaN</td>\n",
       "      <td>NaN</td>\n",
       "      <td>...</td>\n",
       "      <td>2018-01-29</td>\n",
       "      <td>1.0</td>\n",
       "      <td>友达订购生产设备</td>\n",
       "      <td>[[[(2, 2)], [(0, 2)], [(4, 4)]]]</td>\n",
       "      <td>[(2, 2)]</td>\n",
       "      <td>[(0, 2)]</td>\n",
       "      <td>[(4, 4)]</td>\n",
       "      <td>2409</td>\n",
       "      <td>0</td>\n",
       "      <td>1</td>\n",
       "    </tr>\n",
       "    <tr>\n",
       "      <th>2</th>\n",
       "      <td>2018-02-06</td>\n",
       "      <td>10.149287</td>\n",
       "      <td>10.188024</td>\n",
       "      <td>9.684434</td>\n",
       "      <td>9.916861</td>\n",
       "      <td>10.304238</td>\n",
       "      <td>0.387378</td>\n",
       "      <td>0.039063</td>\n",
       "      <td>NaN</td>\n",
       "      <td>NaN</td>\n",
       "      <td>...</td>\n",
       "      <td>2018-02-06</td>\n",
       "      <td>4.0</td>\n",
       "      <td>友达法人说明会之财务与业务信息。友达董事会核准捐赠明基友达文教基金会办理文化教育之推动。友达...</td>\n",
       "      <td>[[[(21, 2)], [(16, 5)], [(23, 20)]], [[(34, 2)...</td>\n",
       "      <td>[(21, 2), (34, 2), (49, 2), (61, 2)]</td>\n",
       "      <td>[(16, 5), (25, 9), (44, 5), (59, 2)]</td>\n",
       "      <td>[(23, 20), (36, 4), (52, 6), (63, 7)]</td>\n",
       "      <td>2409</td>\n",
       "      <td>2</td>\n",
       "      <td>4</td>\n",
       "    </tr>\n",
       "    <tr>\n",
       "      <th>3</th>\n",
       "      <td>2018-02-12</td>\n",
       "      <td>10.381713</td>\n",
       "      <td>10.420451</td>\n",
       "      <td>10.149287</td>\n",
       "      <td>10.149287</td>\n",
       "      <td>10.381713</td>\n",
       "      <td>0.232426</td>\n",
       "      <td>0.022901</td>\n",
       "      <td>34.444635</td>\n",
       "      <td>NaN</td>\n",
       "      <td>...</td>\n",
       "      <td>2018-02-12</td>\n",
       "      <td>1.0</td>\n",
       "      <td>友达高端主管人事</td>\n",
       "      <td>[[[(4, 2)], [(0, 4)], [(6, 2)]]]</td>\n",
       "      <td>[(4, 2)]</td>\n",
       "      <td>[(0, 4)]</td>\n",
       "      <td>[(6, 2)]</td>\n",
       "      <td>2409</td>\n",
       "      <td>2</td>\n",
       "      <td>1</td>\n",
       "    </tr>\n",
       "    <tr>\n",
       "      <th>4</th>\n",
       "      <td>2018-03-20</td>\n",
       "      <td>10.691615</td>\n",
       "      <td>10.924042</td>\n",
       "      <td>10.652878</td>\n",
       "      <td>10.846566</td>\n",
       "      <td>10.730353</td>\n",
       "      <td>-0.116213</td>\n",
       "      <td>-0.010714</td>\n",
       "      <td>20.993331</td>\n",
       "      <td>0.134537</td>\n",
       "      <td>...</td>\n",
       "      <td>2018-03-20</td>\n",
       "      <td>1.0</td>\n",
       "      <td>友达将参加Credit Suisse举办之Credit SuisseAsianInvestm...</td>\n",
       "      <td>[[[(3, 2)], [(0, 2)], [(5, 16)]]]</td>\n",
       "      <td>[(3, 2)]</td>\n",
       "      <td>[(0, 2)]</td>\n",
       "      <td>[(5, 16)]</td>\n",
       "      <td>2409</td>\n",
       "      <td>0</td>\n",
       "      <td>1</td>\n",
       "    </tr>\n",
       "    <tr>\n",
       "      <th>...</th>\n",
       "      <td>...</td>\n",
       "      <td>...</td>\n",
       "      <td>...</td>\n",
       "      <td>...</td>\n",
       "      <td>...</td>\n",
       "      <td>...</td>\n",
       "      <td>...</td>\n",
       "      <td>...</td>\n",
       "      <td>...</td>\n",
       "      <td>...</td>\n",
       "      <td>...</td>\n",
       "      <td>...</td>\n",
       "      <td>...</td>\n",
       "      <td>...</td>\n",
       "      <td>...</td>\n",
       "      <td>...</td>\n",
       "      <td>...</td>\n",
       "      <td>...</td>\n",
       "      <td>...</td>\n",
       "      <td>...</td>\n",
       "      <td>...</td>\n",
       "    </tr>\n",
       "    <tr>\n",
       "      <th>7916</th>\n",
       "      <td>2021-06-10</td>\n",
       "      <td>12.962687</td>\n",
       "      <td>13.058707</td>\n",
       "      <td>12.530597</td>\n",
       "      <td>12.914677</td>\n",
       "      <td>12.914677</td>\n",
       "      <td>0.000000</td>\n",
       "      <td>0.000000</td>\n",
       "      <td>19.093158</td>\n",
       "      <td>0.122793</td>\n",
       "      <td>...</td>\n",
       "      <td>2021-06-10</td>\n",
       "      <td>2.0</td>\n",
       "      <td>外资近5日买超个股。外资近3日买超个股</td>\n",
       "      <td>[[[(5, 1)], [(0, 2)], [(6, 3)]], [[(15, 1)], [...</td>\n",
       "      <td>[(5, 1), (15, 1)]</td>\n",
       "      <td>[(0, 2), (10, 2)]</td>\n",
       "      <td>[(6, 3), (16, 3)]</td>\n",
       "      <td>1314</td>\n",
       "      <td>1</td>\n",
       "      <td>2</td>\n",
       "    </tr>\n",
       "    <tr>\n",
       "      <th>7917</th>\n",
       "      <td>2021-06-16</td>\n",
       "      <td>12.962686</td>\n",
       "      <td>13.346766</td>\n",
       "      <td>12.866666</td>\n",
       "      <td>13.010696</td>\n",
       "      <td>12.914677</td>\n",
       "      <td>-0.096020</td>\n",
       "      <td>-0.007380</td>\n",
       "      <td>15.855273</td>\n",
       "      <td>0.083264</td>\n",
       "      <td>...</td>\n",
       "      <td>2021-06-16</td>\n",
       "      <td>7.0</td>\n",
       "      <td>盘前财经大事抢先读2021年06月17日。〈台股盘前要闻〉国巨订单能见度达3年、台积电发债1...</td>\n",
       "      <td>[[[(38, 2)], [(35, 3)], [(40, 3)]], [[(55, 1)]...</td>\n",
       "      <td>[(38, 2), (55, 1), (86, 2), (127, 2), (219, 2)...</td>\n",
       "      <td>[(35, 3), (52, 3), (80, 6), (113, 14), (213, 6...</td>\n",
       "      <td>[(40, 3), (56, 5), (88, 23), (129, 38), (221, ...</td>\n",
       "      <td>1314</td>\n",
       "      <td>0</td>\n",
       "      <td>6</td>\n",
       "    </tr>\n",
       "    <tr>\n",
       "      <th>7918</th>\n",
       "      <td>2021-06-22</td>\n",
       "      <td>12.674626</td>\n",
       "      <td>13.058706</td>\n",
       "      <td>12.626616</td>\n",
       "      <td>13.058706</td>\n",
       "      <td>12.866666</td>\n",
       "      <td>-0.192040</td>\n",
       "      <td>-0.014706</td>\n",
       "      <td>13.305096</td>\n",
       "      <td>0.012381</td>\n",
       "      <td>...</td>\n",
       "      <td>2021-06-22</td>\n",
       "      <td>2.0</td>\n",
       "      <td>外资近5日买超个股。外资近3日买超个股</td>\n",
       "      <td>[[[(5, 1)], [(0, 2)], [(6, 3)]], [[(15, 1)], [...</td>\n",
       "      <td>[(5, 1), (15, 1)]</td>\n",
       "      <td>[(0, 2), (10, 2)]</td>\n",
       "      <td>[(6, 3), (16, 3)]</td>\n",
       "      <td>1314</td>\n",
       "      <td>0</td>\n",
       "      <td>2</td>\n",
       "    </tr>\n",
       "    <tr>\n",
       "      <th>7919</th>\n",
       "      <td>2021-06-23</td>\n",
       "      <td>13.250746</td>\n",
       "      <td>13.298756</td>\n",
       "      <td>12.674626</td>\n",
       "      <td>12.866666</td>\n",
       "      <td>13.010696</td>\n",
       "      <td>0.144031</td>\n",
       "      <td>0.011194</td>\n",
       "      <td>12.611027</td>\n",
       "      <td>0.013328</td>\n",
       "      <td>...</td>\n",
       "      <td>2021-06-23</td>\n",
       "      <td>3.0</td>\n",
       "      <td>产品利差维持高档中石化Q2EPS可望攀近11季新高。外资近5日卖超个股。外资近3日卖超个股</td>\n",
       "      <td>[[[(16, 1)], [(0, 14)], [(17, 5)]], [[(28, 1)]...</td>\n",
       "      <td>[(16, 1), (28, 1), (38, 1)]</td>\n",
       "      <td>[(0, 14), (23, 2), (33, 2)]</td>\n",
       "      <td>[(17, 5), (29, 3), (39, 3)]</td>\n",
       "      <td>1314</td>\n",
       "      <td>2</td>\n",
       "      <td>3</td>\n",
       "    </tr>\n",
       "    <tr>\n",
       "      <th>7920</th>\n",
       "      <td>2021-06-24</td>\n",
       "      <td>12.818657</td>\n",
       "      <td>13.058707</td>\n",
       "      <td>12.770647</td>\n",
       "      <td>13.010696</td>\n",
       "      <td>13.010696</td>\n",
       "      <td>0.000000</td>\n",
       "      <td>0.000000</td>\n",
       "      <td>11.966533</td>\n",
       "      <td>0.025407</td>\n",
       "      <td>...</td>\n",
       "      <td>2021-06-24</td>\n",
       "      <td>2.0</td>\n",
       "      <td>外资近5日买超个股。外资近3日买超个股</td>\n",
       "      <td>[[[(5, 1)], [(0, 2)], [(6, 3)]], [[(15, 1)], [...</td>\n",
       "      <td>[(5, 1), (15, 1)]</td>\n",
       "      <td>[(0, 2), (10, 2)]</td>\n",
       "      <td>[(6, 3), (16, 3)]</td>\n",
       "      <td>1314</td>\n",
       "      <td>1</td>\n",
       "      <td>2</td>\n",
       "    </tr>\n",
       "  </tbody>\n",
       "</table>\n",
       "<p>7921 rows × 35 columns</p>\n",
       "</div>"
      ],
      "text/plain": [
       "            date       open       high        low      close  close_next  \\\n",
       "0     2018-01-10   9.606958   9.606958   9.568221   9.606958    9.606958   \n",
       "1     2018-01-29  11.156468  11.195205  11.001517  11.040255   10.691615   \n",
       "2     2018-02-06  10.149287  10.188024   9.684434   9.916861   10.304238   \n",
       "3     2018-02-12  10.381713  10.420451  10.149287  10.149287   10.381713   \n",
       "4     2018-03-20  10.691615  10.924042  10.652878  10.846566   10.730353   \n",
       "...          ...        ...        ...        ...        ...         ...   \n",
       "7916  2021-06-10  12.962687  13.058707  12.530597  12.914677   12.914677   \n",
       "7917  2021-06-16  12.962686  13.346766  12.866666  13.010696   12.914677   \n",
       "7918  2021-06-22  12.674626  13.058706  12.626616  13.058706   12.866666   \n",
       "7919  2021-06-23  13.250746  13.298756  12.674626  12.866666   13.010696   \n",
       "7920  2021-06-24  12.818657  13.058707  12.770647  13.010696   13.010696   \n",
       "\n",
       "      change_next  pct_chg_next        ADX      MACD  ...  trade_date  \\\n",
       "0        0.000000      0.000000        NaN       NaN  ...  2018-01-10   \n",
       "1       -0.348639     -0.031579        NaN       NaN  ...  2018-01-29   \n",
       "2        0.387378      0.039063        NaN       NaN  ...  2018-02-06   \n",
       "3        0.232426      0.022901  34.444635       NaN  ...  2018-02-12   \n",
       "4       -0.116213     -0.010714  20.993331  0.134537  ...  2018-03-20   \n",
       "...           ...           ...        ...       ...  ...         ...   \n",
       "7916     0.000000      0.000000  19.093158  0.122793  ...  2021-06-10   \n",
       "7917    -0.096020     -0.007380  15.855273  0.083264  ...  2021-06-16   \n",
       "7918    -0.192040     -0.014706  13.305096  0.012381  ...  2021-06-22   \n",
       "7919     0.144031      0.011194  12.611027  0.013328  ...  2021-06-23   \n",
       "7920     0.000000      0.000000  11.966533  0.025407  ...  2021-06-24   \n",
       "\n",
       "      news_count                                             titles  \\\n",
       "0            1.0                                  友达将于2月7日召开在线法人说明会   \n",
       "1            1.0                                           友达订购生产设备   \n",
       "2            4.0  友达法人说明会之财务与业务信息。友达董事会核准捐赠明基友达文教基金会办理文化教育之推动。友达...   \n",
       "3            1.0                                           友达高端主管人事   \n",
       "4            1.0  友达将参加Credit Suisse举办之Credit SuisseAsianInvestm...   \n",
       "...          ...                                                ...   \n",
       "7916         2.0                                外资近5日买超个股。外资近3日买超个股   \n",
       "7917         7.0  盘前财经大事抢先读2021年06月17日。〈台股盘前要闻〉国巨订单能见度达3年、台积电发债1...   \n",
       "7918         2.0                                外资近5日买超个股。外资近3日买超个股   \n",
       "7919         3.0      产品利差维持高档中石化Q2EPS可望攀近11季新高。外资近5日卖超个股。外资近3日卖超个股   \n",
       "7920         2.0                                外资近5日买超个股。外资近3日买超个股   \n",
       "\n",
       "                                               verbA0A1  \\\n",
       "0                     [[[(8, 2)], [(0, 2)], [(10, 7)]]]   \n",
       "1                      [[[(2, 2)], [(0, 2)], [(4, 4)]]]   \n",
       "2     [[[(21, 2)], [(16, 5)], [(23, 20)]], [[(34, 2)...   \n",
       "3                      [[[(4, 2)], [(0, 4)], [(6, 2)]]]   \n",
       "4                     [[[(3, 2)], [(0, 2)], [(5, 16)]]]   \n",
       "...                                                 ...   \n",
       "7916  [[[(5, 1)], [(0, 2)], [(6, 3)]], [[(15, 1)], [...   \n",
       "7917  [[[(38, 2)], [(35, 3)], [(40, 3)]], [[(55, 1)]...   \n",
       "7918  [[[(5, 1)], [(0, 2)], [(6, 3)]], [[(15, 1)], [...   \n",
       "7919  [[[(16, 1)], [(0, 14)], [(17, 5)]], [[(28, 1)]...   \n",
       "7920  [[[(5, 1)], [(0, 2)], [(6, 3)]], [[(15, 1)], [...   \n",
       "\n",
       "                                                   verb  \\\n",
       "0                                              [(8, 2)]   \n",
       "1                                              [(2, 2)]   \n",
       "2                  [(21, 2), (34, 2), (49, 2), (61, 2)]   \n",
       "3                                              [(4, 2)]   \n",
       "4                                              [(3, 2)]   \n",
       "...                                                 ...   \n",
       "7916                                  [(5, 1), (15, 1)]   \n",
       "7917  [(38, 2), (55, 1), (86, 2), (127, 2), (219, 2)...   \n",
       "7918                                  [(5, 1), (15, 1)]   \n",
       "7919                        [(16, 1), (28, 1), (38, 1)]   \n",
       "7920                                  [(5, 1), (15, 1)]   \n",
       "\n",
       "                                                     A0  \\\n",
       "0                                              [(0, 2)]   \n",
       "1                                              [(0, 2)]   \n",
       "2                  [(16, 5), (25, 9), (44, 5), (59, 2)]   \n",
       "3                                              [(0, 4)]   \n",
       "4                                              [(0, 2)]   \n",
       "...                                                 ...   \n",
       "7916                                  [(0, 2), (10, 2)]   \n",
       "7917  [(35, 3), (52, 3), (80, 6), (113, 14), (213, 6...   \n",
       "7918                                  [(0, 2), (10, 2)]   \n",
       "7919                        [(0, 14), (23, 2), (33, 2)]   \n",
       "7920                                  [(0, 2), (10, 2)]   \n",
       "\n",
       "                                                     A1  stock_id  label  \\\n",
       "0                                             [(10, 7)]      2409      1   \n",
       "1                                              [(4, 4)]      2409      0   \n",
       "2                 [(23, 20), (36, 4), (52, 6), (63, 7)]      2409      2   \n",
       "3                                              [(6, 2)]      2409      2   \n",
       "4                                             [(5, 16)]      2409      0   \n",
       "...                                                 ...       ...    ...   \n",
       "7916                                  [(6, 3), (16, 3)]      1314      1   \n",
       "7917  [(40, 3), (56, 5), (88, 23), (129, 38), (221, ...      1314      0   \n",
       "7918                                  [(6, 3), (16, 3)]      1314      0   \n",
       "7919                        [(17, 5), (29, 3), (39, 3)]      1314      2   \n",
       "7920                                  [(6, 3), (16, 3)]      1314      1   \n",
       "\n",
       "      AV_num  \n",
       "0          1  \n",
       "1          1  \n",
       "2          4  \n",
       "3          1  \n",
       "4          1  \n",
       "...      ...  \n",
       "7916       2  \n",
       "7917       6  \n",
       "7918       2  \n",
       "7919       3  \n",
       "7920       2  \n",
       "\n",
       "[7921 rows x 35 columns]"
      ]
     },
     "execution_count": 8,
     "metadata": {},
     "output_type": "execute_result"
    }
   ],
   "source": [
    "df_train"
   ]
  },
  {
   "cell_type": "markdown",
   "metadata": {},
   "source": [
    "- merge `stock_factors` to array in one column\n",
    "\n",
    "Now each sample will have these factors: \n",
    "```\n",
    "    open             206.536808\n",
    "    high             206.536808\n",
    "    low              202.929178\n",
    "    close            203.831085\n",
    "    ADX               23.221764\n",
    "    MACD              -2.980201\n",
    "    MACDsignal        -3.282814\n",
    "    MACDhist           0.302614\n",
    "    RSI               39.912134\n",
    "    ATR                4.694009\n",
    "    OBV             474889350.0\n",
    "    BETA               0.956859\n",
    "    upperBAND        210.204452\n",
    "    middleBAND       206.446628\n",
    "    lowerBAND        202.688804\n",
    "    成交股數             47138909.0\n",
    "    成交筆數                16009.0\n",
    "    成交金額          10696822542.0\n",
    "    殖利率(%)                 3.54\n",
    "    本益比                   16.72\n",
    "    股價淨值比                  3.72\n",
    "    news_count              2.0\n",
    "```"
   ]
  },
  {
   "cell_type": "code",
   "execution_count": 9,
   "metadata": {},
   "outputs": [
    {
     "name": "stderr",
     "output_type": "stream",
     "text": [
      "100%|██████████| 22/22 [00:00<00:00, 212.96it/s]\n"
     ]
    }
   ],
   "source": [
    "# remove nan rows\n",
    "factor_cols = [\"open\",\"high\",\"low\",\"close\",\"ADX\",\"MACD\",\"MACDsignal\",\"MACDhist\",\"RSI\",\"ATR\",\"OBV\",\"BETA\",\"upperBAND\",\"middleBAND\",\"lowerBAND\",\"成交股數\",\"成交筆數\",\"成交金額\",\"殖利率(%)\",\"本益比\",\"股價淨值比\",\"news_count\"]\n",
    "for col in tqdm(factor_cols):\n",
    "    df_train = df_train[df_train[col].notnull()].reset_index(drop=True)\n",
    "    df_val = df_val[df_val[col].notnull()].reset_index(drop=True)\n",
    "    df_test = df_test[df_test[col].notnull()].reset_index(drop=True)\n",
    "    df_ood = df_ood[df_ood[col].notnull()].reset_index(drop=True)\n",
    "\n",
    "\n",
    "# Normalization all factors to the same scale\n",
    "standard_scaler = StandardScaler()\n",
    "# 1. fit from training set\n",
    "standard_scaler.fit(df_train[factor_cols])\n",
    "# 2. transform train, val, test, ood sets, since stock factors are used in training feature, if we don't know future price, we can't normalize it with the future time duration\n",
    "df_train[factor_cols] = standard_scaler.transform(df_train[factor_cols])\n",
    "df_val[factor_cols] = standard_scaler.transform(df_val[factor_cols])\n",
    "df_test[factor_cols] = standard_scaler.transform(df_test[factor_cols])\n",
    "df_ood[factor_cols] = standard_scaler.transform(df_ood[factor_cols])\n"
   ]
  },
  {
   "cell_type": "code",
   "execution_count": 10,
   "metadata": {},
   "outputs": [
    {
     "data": {
      "text/html": [
       "<div>\n",
       "<style scoped>\n",
       "    .dataframe tbody tr th:only-of-type {\n",
       "        vertical-align: middle;\n",
       "    }\n",
       "\n",
       "    .dataframe tbody tr th {\n",
       "        vertical-align: top;\n",
       "    }\n",
       "\n",
       "    .dataframe thead th {\n",
       "        text-align: right;\n",
       "    }\n",
       "</style>\n",
       "<table border=\"1\" class=\"dataframe\">\n",
       "  <thead>\n",
       "    <tr style=\"text-align: right;\">\n",
       "      <th></th>\n",
       "      <th>open</th>\n",
       "      <th>high</th>\n",
       "      <th>low</th>\n",
       "      <th>close</th>\n",
       "      <th>ADX</th>\n",
       "      <th>MACD</th>\n",
       "      <th>MACDsignal</th>\n",
       "      <th>MACDhist</th>\n",
       "      <th>RSI</th>\n",
       "      <th>ATR</th>\n",
       "      <th>...</th>\n",
       "      <th>upperBAND</th>\n",
       "      <th>middleBAND</th>\n",
       "      <th>lowerBAND</th>\n",
       "      <th>成交股數</th>\n",
       "      <th>成交筆數</th>\n",
       "      <th>成交金額</th>\n",
       "      <th>殖利率(%)</th>\n",
       "      <th>本益比</th>\n",
       "      <th>股價淨值比</th>\n",
       "      <th>news_count</th>\n",
       "    </tr>\n",
       "  </thead>\n",
       "  <tbody>\n",
       "    <tr>\n",
       "      <th>count</th>\n",
       "      <td>2096.000000</td>\n",
       "      <td>2096.000000</td>\n",
       "      <td>2096.000000</td>\n",
       "      <td>2096.000000</td>\n",
       "      <td>2096.000000</td>\n",
       "      <td>2096.000000</td>\n",
       "      <td>2096.000000</td>\n",
       "      <td>2096.000000</td>\n",
       "      <td>2096.000000</td>\n",
       "      <td>2096.000000</td>\n",
       "      <td>...</td>\n",
       "      <td>2096.000000</td>\n",
       "      <td>2096.000000</td>\n",
       "      <td>2096.000000</td>\n",
       "      <td>2096.000000</td>\n",
       "      <td>2096.000000</td>\n",
       "      <td>2096.000000</td>\n",
       "      <td>2096.000000</td>\n",
       "      <td>2096.000000</td>\n",
       "      <td>2096.000000</td>\n",
       "      <td>2096.000000</td>\n",
       "    </tr>\n",
       "    <tr>\n",
       "      <th>mean</th>\n",
       "      <td>-0.075982</td>\n",
       "      <td>-0.075953</td>\n",
       "      <td>-0.076011</td>\n",
       "      <td>-0.076122</td>\n",
       "      <td>-0.261786</td>\n",
       "      <td>-0.069953</td>\n",
       "      <td>-0.062737</td>\n",
       "      <td>-0.033875</td>\n",
       "      <td>-0.382471</td>\n",
       "      <td>-0.073251</td>\n",
       "      <td>...</td>\n",
       "      <td>-0.074459</td>\n",
       "      <td>-0.074912</td>\n",
       "      <td>-0.075367</td>\n",
       "      <td>-0.013252</td>\n",
       "      <td>0.150045</td>\n",
       "      <td>0.049181</td>\n",
       "      <td>0.201347</td>\n",
       "      <td>-0.090942</td>\n",
       "      <td>-0.011629</td>\n",
       "      <td>-0.049423</td>\n",
       "    </tr>\n",
       "    <tr>\n",
       "      <th>std</th>\n",
       "      <td>0.571410</td>\n",
       "      <td>0.571001</td>\n",
       "      <td>0.571079</td>\n",
       "      <td>0.570481</td>\n",
       "      <td>0.779212</td>\n",
       "      <td>0.782585</td>\n",
       "      <td>0.766218</td>\n",
       "      <td>0.808349</td>\n",
       "      <td>0.967055</td>\n",
       "      <td>0.559239</td>\n",
       "      <td>...</td>\n",
       "      <td>0.574942</td>\n",
       "      <td>0.573968</td>\n",
       "      <td>0.573097</td>\n",
       "      <td>0.700860</td>\n",
       "      <td>0.858547</td>\n",
       "      <td>0.900273</td>\n",
       "      <td>1.650570</td>\n",
       "      <td>0.558144</td>\n",
       "      <td>0.857437</td>\n",
       "      <td>0.899764</td>\n",
       "    </tr>\n",
       "    <tr>\n",
       "      <th>min</th>\n",
       "      <td>-0.313281</td>\n",
       "      <td>-0.313396</td>\n",
       "      <td>-0.313404</td>\n",
       "      <td>-0.313632</td>\n",
       "      <td>-1.574346</td>\n",
       "      <td>-6.447041</td>\n",
       "      <td>-5.817887</td>\n",
       "      <td>-11.785860</td>\n",
       "      <td>-3.065562</td>\n",
       "      <td>-0.295145</td>\n",
       "      <td>...</td>\n",
       "      <td>-0.312708</td>\n",
       "      <td>-0.312976</td>\n",
       "      <td>-0.313347</td>\n",
       "      <td>-0.554296</td>\n",
       "      <td>-0.559434</td>\n",
       "      <td>-0.470125</td>\n",
       "      <td>-1.725132</td>\n",
       "      <td>-0.200996</td>\n",
       "      <td>-0.943656</td>\n",
       "      <td>-0.578792</td>\n",
       "    </tr>\n",
       "    <tr>\n",
       "      <th>25%</th>\n",
       "      <td>-0.287411</td>\n",
       "      <td>-0.287172</td>\n",
       "      <td>-0.287748</td>\n",
       "      <td>-0.287798</td>\n",
       "      <td>-0.841554</td>\n",
       "      <td>-0.043375</td>\n",
       "      <td>-0.034831</td>\n",
       "      <td>-0.058434</td>\n",
       "      <td>-1.023261</td>\n",
       "      <td>-0.274470</td>\n",
       "      <td>...</td>\n",
       "      <td>-0.286520</td>\n",
       "      <td>-0.286995</td>\n",
       "      <td>-0.287731</td>\n",
       "      <td>-0.420657</td>\n",
       "      <td>-0.361623</td>\n",
       "      <td>-0.382590</td>\n",
       "      <td>-0.866971</td>\n",
       "      <td>-0.170500</td>\n",
       "      <td>-0.580634</td>\n",
       "      <td>-0.578792</td>\n",
       "    </tr>\n",
       "    <tr>\n",
       "      <th>50%</th>\n",
       "      <td>-0.255444</td>\n",
       "      <td>-0.255227</td>\n",
       "      <td>-0.255887</td>\n",
       "      <td>-0.255830</td>\n",
       "      <td>-0.428557</td>\n",
       "      <td>-0.006188</td>\n",
       "      <td>-0.000527</td>\n",
       "      <td>-0.013339</td>\n",
       "      <td>-0.412684</td>\n",
       "      <td>-0.235139</td>\n",
       "      <td>...</td>\n",
       "      <td>-0.254664</td>\n",
       "      <td>-0.255780</td>\n",
       "      <td>-0.256267</td>\n",
       "      <td>-0.246894</td>\n",
       "      <td>-0.147582</td>\n",
       "      <td>-0.283156</td>\n",
       "      <td>0.010693</td>\n",
       "      <td>-0.156487</td>\n",
       "      <td>-0.256706</td>\n",
       "      <td>-0.393061</td>\n",
       "    </tr>\n",
       "    <tr>\n",
       "      <th>75%</th>\n",
       "      <td>-0.162955</td>\n",
       "      <td>-0.162341</td>\n",
       "      <td>-0.163448</td>\n",
       "      <td>-0.162661</td>\n",
       "      <td>0.210239</td>\n",
       "      <td>0.027371</td>\n",
       "      <td>0.032129</td>\n",
       "      <td>0.029972</td>\n",
       "      <td>0.213363</td>\n",
       "      <td>-0.118514</td>\n",
       "      <td>...</td>\n",
       "      <td>-0.162697</td>\n",
       "      <td>-0.163824</td>\n",
       "      <td>-0.165328</td>\n",
       "      <td>0.122823</td>\n",
       "      <td>0.337939</td>\n",
       "      <td>0.040484</td>\n",
       "      <td>0.601898</td>\n",
       "      <td>-0.107234</td>\n",
       "      <td>0.145411</td>\n",
       "      <td>-0.021599</td>\n",
       "    </tr>\n",
       "    <tr>\n",
       "      <th>max</th>\n",
       "      <td>3.555134</td>\n",
       "      <td>3.525090</td>\n",
       "      <td>3.473439</td>\n",
       "      <td>3.562022</td>\n",
       "      <td>2.788259</td>\n",
       "      <td>8.258788</td>\n",
       "      <td>7.314398</td>\n",
       "      <td>6.741680</td>\n",
       "      <td>2.681494</td>\n",
       "      <td>4.365531</td>\n",
       "      <td>...</td>\n",
       "      <td>3.488974</td>\n",
       "      <td>3.383416</td>\n",
       "      <td>3.290682</td>\n",
       "      <td>8.410616</td>\n",
       "      <td>8.255685</td>\n",
       "      <td>8.836602</td>\n",
       "      <td>9.679627</td>\n",
       "      <td>8.082190</td>\n",
       "      <td>3.557821</td>\n",
       "      <td>8.893484</td>\n",
       "    </tr>\n",
       "  </tbody>\n",
       "</table>\n",
       "<p>8 rows × 22 columns</p>\n",
       "</div>"
      ],
      "text/plain": [
       "              open         high          low        close          ADX  \\\n",
       "count  2096.000000  2096.000000  2096.000000  2096.000000  2096.000000   \n",
       "mean     -0.075982    -0.075953    -0.076011    -0.076122    -0.261786   \n",
       "std       0.571410     0.571001     0.571079     0.570481     0.779212   \n",
       "min      -0.313281    -0.313396    -0.313404    -0.313632    -1.574346   \n",
       "25%      -0.287411    -0.287172    -0.287748    -0.287798    -0.841554   \n",
       "50%      -0.255444    -0.255227    -0.255887    -0.255830    -0.428557   \n",
       "75%      -0.162955    -0.162341    -0.163448    -0.162661     0.210239   \n",
       "max       3.555134     3.525090     3.473439     3.562022     2.788259   \n",
       "\n",
       "              MACD   MACDsignal     MACDhist          RSI          ATR  ...  \\\n",
       "count  2096.000000  2096.000000  2096.000000  2096.000000  2096.000000  ...   \n",
       "mean     -0.069953    -0.062737    -0.033875    -0.382471    -0.073251  ...   \n",
       "std       0.782585     0.766218     0.808349     0.967055     0.559239  ...   \n",
       "min      -6.447041    -5.817887   -11.785860    -3.065562    -0.295145  ...   \n",
       "25%      -0.043375    -0.034831    -0.058434    -1.023261    -0.274470  ...   \n",
       "50%      -0.006188    -0.000527    -0.013339    -0.412684    -0.235139  ...   \n",
       "75%       0.027371     0.032129     0.029972     0.213363    -0.118514  ...   \n",
       "max       8.258788     7.314398     6.741680     2.681494     4.365531  ...   \n",
       "\n",
       "         upperBAND   middleBAND    lowerBAND         成交股數         成交筆數  \\\n",
       "count  2096.000000  2096.000000  2096.000000  2096.000000  2096.000000   \n",
       "mean     -0.074459    -0.074912    -0.075367    -0.013252     0.150045   \n",
       "std       0.574942     0.573968     0.573097     0.700860     0.858547   \n",
       "min      -0.312708    -0.312976    -0.313347    -0.554296    -0.559434   \n",
       "25%      -0.286520    -0.286995    -0.287731    -0.420657    -0.361623   \n",
       "50%      -0.254664    -0.255780    -0.256267    -0.246894    -0.147582   \n",
       "75%      -0.162697    -0.163824    -0.165328     0.122823     0.337939   \n",
       "max       3.488974     3.383416     3.290682     8.410616     8.255685   \n",
       "\n",
       "              成交金額       殖利率(%)          本益比        股價淨值比   news_count  \n",
       "count  2096.000000  2096.000000  2096.000000  2096.000000  2096.000000  \n",
       "mean      0.049181     0.201347    -0.090942    -0.011629    -0.049423  \n",
       "std       0.900273     1.650570     0.558144     0.857437     0.899764  \n",
       "min      -0.470125    -1.725132    -0.200996    -0.943656    -0.578792  \n",
       "25%      -0.382590    -0.866971    -0.170500    -0.580634    -0.578792  \n",
       "50%      -0.283156     0.010693    -0.156487    -0.256706    -0.393061  \n",
       "75%       0.040484     0.601898    -0.107234     0.145411    -0.021599  \n",
       "max       8.836602     9.679627     8.082190     3.557821     8.893484  \n",
       "\n",
       "[8 rows x 22 columns]"
      ]
     },
     "execution_count": 10,
     "metadata": {},
     "output_type": "execute_result"
    }
   ],
   "source": [
    "# disbutions of stock factors have huge difference between train, val, test, odd sets\n",
    "df_ood[factor_cols].describe()"
   ]
  },
  {
   "cell_type": "code",
   "execution_count": 11,
   "metadata": {},
   "outputs": [
    {
     "name": "stderr",
     "output_type": "stream",
     "text": [
      "100%|██████████| 6604/6604 [00:00<00:00, 12689.48it/s]\n",
      "100%|██████████| 1280/1280 [00:00<00:00, 11992.91it/s]\n",
      "100%|██████████| 1220/1220 [00:00<00:00, 11708.80it/s]\n",
      "100%|██████████| 2096/2096 [00:00<00:00, 9416.00it/s]\n"
     ]
    },
    {
     "data": {
      "text/plain": [
       "0       [-0.3099066753108786, -0.30976130380938616, -0...\n",
       "1       [-0.31036671430065926, -0.3103297969558822, -0...\n",
       "2       [-0.31019420069397186, -0.3102729503181029, -0...\n",
       "3       [-0.3100791915223294, -0.3102161007446953, -0....\n",
       "4       [-0.31203436034985466, -0.3118647349466114, -0...\n",
       "                              ...                        \n",
       "6599    [-0.30653534045131786, -0.30662858216753736, -...\n",
       "6600    [-0.3065353412257765, -0.306205842835096, -0.3...\n",
       "6601    [-0.30696295753069647, -0.30662858332023657, -...\n",
       "6602    [-0.30610772556133015, -0.30627629888709357, -...\n",
       "6603    [-0.3067491485113356, -0.30662858293883916, -0...\n",
       "Name: stock_factors, Length: 6604, dtype: object"
      ]
     },
     "execution_count": 11,
     "metadata": {},
     "output_type": "execute_result"
    }
   ],
   "source": [
    "# 3. merge it to one column\n",
    "def merge_factors(df):\n",
    "    factor_values = df[factor_cols].values\n",
    "    df[\"stock_factors\"] = 0\n",
    "    for i in tqdm(range(df.shape[0])):\n",
    "        df.loc[i, \"stock_factors\"] = str(factor_values[i].tolist())\n",
    "    df = df.drop(factor_cols, axis=1)\n",
    "    return df\n",
    "\n",
    "df_train = merge_factors(df=df_train)\n",
    "df_val = merge_factors(df=df_val)\n",
    "df_test = merge_factors(df=df_test)\n",
    "df_ood = merge_factors(df=df_ood)\n",
    "df_train[\"stock_factors\"]"
   ]
  },
  {
   "cell_type": "code",
   "execution_count": 12,
   "metadata": {},
   "outputs": [
    {
     "name": "stdout",
     "output_type": "stream",
     "text": [
      "<class 'pandas.core.frame.DataFrame'>\n",
      "RangeIndex: 6604 entries, 0 to 6603\n",
      "Data columns (total 14 columns):\n",
      " #   Column         Non-Null Count  Dtype   \n",
      "---  ------         --------------  -----   \n",
      " 0   date           6604 non-null   object  \n",
      " 1   close_next     6604 non-null   float64 \n",
      " 2   change_next    6604 non-null   float64 \n",
      " 3   pct_chg_next   6604 non-null   float64 \n",
      " 4   trade_date     6604 non-null   object  \n",
      " 5   titles         6604 non-null   object  \n",
      " 6   verbA0A1       6604 non-null   object  \n",
      " 7   verb           6604 non-null   object  \n",
      " 8   A0             6604 non-null   object  \n",
      " 9   A1             6604 non-null   object  \n",
      " 10  stock_id       6604 non-null   int64   \n",
      " 11  label          6604 non-null   category\n",
      " 12  AV_num         6604 non-null   int64   \n",
      " 13  stock_factors  6604 non-null   object  \n",
      "dtypes: category(1), float64(3), int64(2), object(8)\n",
      "memory usage: 677.4+ KB\n"
     ]
    }
   ],
   "source": [
    "df_train.info()"
   ]
  },
  {
   "cell_type": "markdown",
   "metadata": {
    "id": "eg7yz0zXQujX"
   },
   "source": [
    "## Generating the masks of verb, A0, A1"
   ]
  },
  {
   "cell_type": "code",
   "execution_count": 13,
   "metadata": {
    "ExecuteTime": {
     "end_time": "2022-01-30T06:46:38.756741Z",
     "start_time": "2022-01-30T06:46:38.750225Z"
    },
    "id": "IWNPdn8fg4gG"
   },
   "outputs": [],
   "source": [
    "max_len = 512\n",
    "\n",
    "def string_to_tuples_list(text):\n",
    "    if text is np.nan or text =='[]':\n",
    "        return []\n",
    "    text = ''.join(text.split('], ['))\n",
    "    tmp = eval(text.strip('[').strip(']'))\n",
    "    if not isinstance(tmp[0],tuple):\n",
    "        return [tmp]\n",
    "    return list(tmp)\n",
    "\n",
    "def mask(df):\n",
    "    df = df.reset_index(drop = True)\n",
    "    df['verb_mask'] = 0\n",
    "    df['A0_mask'] = 0\n",
    "    df['A1_mask'] = 0\n",
    "    df['verb_mask'] = df['verb_mask'].astype('object')\n",
    "    df['A0_mask'] = df['A0_mask'].astype('object')\n",
    "    df['A1_mask'] = df['A1_mask'].astype('object')\n",
    "    for index,row in tqdm(df.iterrows()):\n",
    "\n",
    "        df.at[index,'stock_factors'] = [*map(float,df.loc[index,'stock_factors'])]\n",
    "        AV_num = 0\n",
    "        for k,col in enumerate(['verb','A0','A1']):\n",
    "            masks = []\n",
    "            for j in range(len(row['verbA0A1'])):\n",
    "                mask = np.zeros(max_len - 1)\n",
    "                idx = []\n",
    "                for v in row['verbA0A1'][j][k]:\n",
    "                    idx = idx + [int(i) for i in range(v[0],v[0]+v[1])]\n",
    "                counter = Counter(idx)\n",
    "\n",
    "                mask = [0 if counter[i]== 0 else 1/len(counter) for i in range(0,len(mask))]\n",
    "                mask.insert(0,0)\n",
    "                masks.append(mask)\n",
    "            AV_num = len(masks)\n",
    "            for i in range(10 - len(masks)):\n",
    "                masks.append(np.zeros(max_len))\n",
    "            while len(masks)>10:\n",
    "                masks.pop()\n",
    "            name = col+'_mask'\n",
    "            df.at[index,name] = np.array(masks)\n",
    "        if AV_num>10:\n",
    "            AV_num=10\n",
    "        df.loc[index,'AV_num'] = int(AV_num)\n",
    "    df.AV_num = df.AV_num.astype('int')\n",
    "    df.stock_factors = df.stock_factors.apply(np.array)\n",
    "    return df"
   ]
  },
  {
   "cell_type": "code",
   "execution_count": 14,
   "metadata": {
    "ExecuteTime": {
     "end_time": "2022-01-30T06:47:05.370370Z",
     "start_time": "2022-01-30T06:46:38.757407Z"
    },
    "id": "c4joMCxJKR5a"
   },
   "outputs": [
    {
     "name": "stderr",
     "output_type": "stream",
     "text": [
      "5742it [00:13, 418.21it/s]\n",
      "1193it [00:03, 341.67it/s]\n",
      "1121it [00:02, 389.99it/s]\n",
      "1835it [00:04, 406.14it/s]"
     ]
    },
    {
     "name": "stdout",
     "output_type": "stream",
     "text": [
      "<class 'pandas.core.frame.DataFrame'>\n",
      "RangeIndex: 5742 entries, 0 to 5741\n",
      "Data columns (total 17 columns):\n",
      " #   Column         Non-Null Count  Dtype   \n",
      "---  ------         --------------  -----   \n",
      " 0   date           5742 non-null   object  \n",
      " 1   close_next     5742 non-null   float64 \n",
      " 2   change_next    5742 non-null   float64 \n",
      " 3   pct_chg_next   5742 non-null   float64 \n",
      " 4   trade_date     5742 non-null   object  \n",
      " 5   titles         5742 non-null   object  \n",
      " 6   verbA0A1       5742 non-null   object  \n",
      " 7   verb           5742 non-null   object  \n",
      " 8   A0             5742 non-null   object  \n",
      " 9   A1             5742 non-null   object  \n",
      " 10  stock_id       5742 non-null   int64   \n",
      " 11  label          5742 non-null   category\n",
      " 12  AV_num         5742 non-null   int64   \n",
      " 13  stock_factors  5742 non-null   object  \n",
      " 14  verb_mask      5742 non-null   object  \n",
      " 15  A0_mask        5742 non-null   object  \n",
      " 16  A1_mask        5742 non-null   object  \n",
      "dtypes: category(1), float64(3), int64(2), object(11)\n",
      "memory usage: 723.6+ KB\n",
      "<class 'pandas.core.frame.DataFrame'>\n",
      "RangeIndex: 1193 entries, 0 to 1192\n",
      "Data columns (total 17 columns):\n",
      " #   Column         Non-Null Count  Dtype   \n",
      "---  ------         --------------  -----   \n",
      " 0   date           1193 non-null   object  \n",
      " 1   close_next     1193 non-null   float64 \n",
      " 2   change_next    1193 non-null   float64 \n",
      " 3   pct_chg_next   1193 non-null   float64 \n",
      " 4   trade_date     1193 non-null   object  \n",
      " 5   titles         1193 non-null   object  \n",
      " 6   verbA0A1       1193 non-null   object  \n",
      " 7   verb           1193 non-null   object  \n",
      " 8   A0             1193 non-null   object  \n",
      " 9   A1             1193 non-null   object  \n",
      " 10  stock_id       1193 non-null   int64   \n",
      " 11  label          1193 non-null   category\n",
      " 12  AV_num         1193 non-null   int64   \n",
      " 13  stock_factors  1193 non-null   object  \n",
      " 14  verb_mask      1193 non-null   object  \n",
      " 15  A0_mask        1193 non-null   object  \n",
      " 16  A1_mask        1193 non-null   object  \n",
      "dtypes: category(1), float64(3), int64(2), object(11)\n",
      "memory usage: 150.5+ KB\n",
      "<class 'pandas.core.frame.DataFrame'>\n",
      "RangeIndex: 1121 entries, 0 to 1120\n",
      "Data columns (total 17 columns):\n",
      " #   Column         Non-Null Count  Dtype   \n",
      "---  ------         --------------  -----   \n",
      " 0   date           1121 non-null   object  \n",
      " 1   close_next     1121 non-null   float64 \n",
      " 2   change_next    1121 non-null   float64 \n",
      " 3   pct_chg_next   1121 non-null   float64 \n",
      " 4   trade_date     1121 non-null   object  \n",
      " 5   titles         1121 non-null   object  \n",
      " 6   verbA0A1       1121 non-null   object  \n",
      " 7   verb           1121 non-null   object  \n",
      " 8   A0             1121 non-null   object  \n",
      " 9   A1             1121 non-null   object  \n",
      " 10  stock_id       1121 non-null   int64   \n",
      " 11  label          1121 non-null   category\n",
      " 12  AV_num         1121 non-null   int64   \n",
      " 13  stock_factors  1121 non-null   object  \n",
      " 14  verb_mask      1121 non-null   object  \n",
      " 15  A0_mask        1121 non-null   object  \n",
      " 16  A1_mask        1121 non-null   object  \n",
      "dtypes: category(1), float64(3), int64(2), object(11)\n",
      "memory usage: 141.5+ KB\n",
      "<class 'pandas.core.frame.DataFrame'>\n",
      "RangeIndex: 1835 entries, 0 to 1834\n",
      "Data columns (total 17 columns):\n",
      " #   Column         Non-Null Count  Dtype   \n",
      "---  ------         --------------  -----   \n",
      " 0   date           1835 non-null   object  \n",
      " 1   close_next     1835 non-null   float64 \n",
      " 2   change_next    1835 non-null   float64 \n",
      " 3   pct_chg_next   1835 non-null   float64 \n",
      " 4   trade_date     1835 non-null   object  \n",
      " 5   titles         1835 non-null   object  \n",
      " 6   verbA0A1       1835 non-null   object  \n",
      " 7   verb           1835 non-null   object  \n",
      " 8   A0             1835 non-null   object  \n",
      " 9   A1             1835 non-null   object  \n",
      " 10  stock_id       1835 non-null   int64   \n",
      " 11  label          1835 non-null   category\n",
      " 12  AV_num         1835 non-null   int64   \n",
      " 13  stock_factors  1835 non-null   object  \n",
      " 14  verb_mask      1835 non-null   object  \n",
      " 15  A0_mask        1835 non-null   object  \n",
      " 16  A1_mask        1835 non-null   object  \n",
      "dtypes: category(1), float64(3), int64(2), object(11)\n",
      "memory usage: 231.4+ KB\n"
     ]
    },
    {
     "name": "stderr",
     "output_type": "stream",
     "text": [
      "\n"
     ]
    }
   ],
   "source": [
    "df_train = df_train[df_train[\"AV_num\"] > 0].reset_index(drop=True)\n",
    "df_val = df_val[df_val[\"AV_num\"] > 0].reset_index(drop=True)\n",
    "df_test = df_test[df_test[\"AV_num\"] > 0].reset_index(drop=True)\n",
    "df_ood = df_ood[df_ood[\"AV_num\"] > 0].reset_index(drop=True)\n",
    "\n",
    "\n",
    "for col in ['verb','A0','A1']:\n",
    "    df_train[col] = df_train[col].apply(string_to_tuples_list)\n",
    "    df_val[col] = df_val[col].apply(string_to_tuples_list)\n",
    "    df_test[col] = df_test[col].apply(string_to_tuples_list)\n",
    "    df_ood[col] = df_ood[col].apply(string_to_tuples_list)\n",
    "\n",
    "for col in ['stock_factors','verbA0A1']:\n",
    "    df_train[col] = df_train[col].apply(ast.literal_eval)\n",
    "    df_val[col] = df_val[col].apply(ast.literal_eval)\n",
    "    df_test[col] = df_test[col].apply(ast.literal_eval)\n",
    "    df_ood[col] = df_ood[col].apply(ast.literal_eval)\n",
    "\n",
    "\n",
    "df_train = mask(df=df_train)\n",
    "df_val = mask(df=df_val)\n",
    "df_test = mask(df=df_test)\n",
    "df_ood = mask(df=df_ood)\n",
    "\n",
    "df_train.info()\n",
    "df_val.info()\n",
    "df_test.info()\n",
    "df_ood.info()"
   ]
  },
  {
   "cell_type": "code",
   "execution_count": 15,
   "metadata": {},
   "outputs": [
    {
     "data": {
      "text/plain": [
       "[[[(9, 1)], [(5, 4)], [(10, 2)]],\n",
       " [[(50, 1)], [(45, 2)], [(51, 3)]],\n",
       " [[(60, 1)], [(55, 2)], [(61, 3)]],\n",
       " [[(70, 1)], [(65, 2)], [(71, 3)]],\n",
       " [[(80, 1)], [(75, 2)], [(81, 3)]],\n",
       " [[(90, 1)], [(85, 2)], [(91, 3)]],\n",
       " [[(98, 2)], [(95, 3)], [(100, 3)]]]"
      ]
     },
     "execution_count": 15,
     "metadata": {},
     "output_type": "execute_result"
    }
   ],
   "source": [
    "# df_train[\"titles\"].apply(lambda x: len(x)).value_counts().sort_index()\n",
    "df_train[\"verbA0A1\"][100]"
   ]
  },
  {
   "cell_type": "markdown",
   "metadata": {
    "id": "ajOfqpcWRBt9"
   },
   "source": [
    "## Create Dataloader"
   ]
  },
  {
   "cell_type": "code",
   "execution_count": 16,
   "metadata": {
    "ExecuteTime": {
     "end_time": "2022-01-30T06:47:05.568516Z",
     "start_time": "2022-01-30T06:47:05.560308Z"
    },
    "id": "WaKd7JaTy2gw"
   },
   "outputs": [],
   "source": [
    "BATCH_SIZE = 16\n",
    "class_names = ['negative', 'neutral', 'positive']\n",
    "class GPReviewDataset(Dataset):\n",
    "    def __init__(self, titles, targets, verb, A0, A1, AV_num, tokenizer, stock_factors, max_len):\n",
    "        self.titles = titles\n",
    "        self.targets = targets\n",
    "        self.stock_factors = stock_factors\n",
    "        self.verb = verb\n",
    "        self.A0 = A0\n",
    "        self.A1 = A1\n",
    "        self.AV_num = AV_num\n",
    "        self.tokenizer = tokenizer\n",
    "        self.max_len = max_len\n",
    "      \n",
    "    def __len__(self):\n",
    "        return len(self.titles)\n",
    "    \n",
    "    def __getitem__(self, item):\n",
    "        titles = str(self.titles[item])\n",
    "        target = self.targets[item]\n",
    "        stock_factors = self.stock_factors[item]\n",
    "        v = self.verb[item]\n",
    "        a0 = self.A0[item]\n",
    "        a1 = self.A1[item]\n",
    "        av_num = self.AV_num[item]\n",
    "\n",
    "        encoding = self.tokenizer.encode_plus(\n",
    "            titles,\n",
    "            add_special_tokens=True,\n",
    "            max_length=self.max_len,\n",
    "            return_token_type_ids=False,\n",
    "            padding='max_length',\n",
    "            truncation=True,\n",
    "            return_attention_mask=True,\n",
    "            return_tensors='pt',\n",
    "        )\n",
    "\n",
    "        return {\n",
    "            'titles': titles,\n",
    "            'input_ids': encoding['input_ids'].flatten(),\n",
    "            'attention_mask': encoding['attention_mask'].flatten(),\n",
    "            'targets': torch.tensor(target, dtype=torch.long),\n",
    "            'stock_factors':torch.tensor(stock_factors),\n",
    "            'verb': torch.tensor(v),\n",
    "            'A0': torch.tensor(a0),\n",
    "            'A1': torch.tensor(a1),\n",
    "            'AV_num': torch.tensor(av_num)\n",
    "        }"
   ]
  },
  {
   "cell_type": "code",
   "execution_count": 17,
   "metadata": {
    "ExecuteTime": {
     "end_time": "2022-01-30T06:47:05.575971Z",
     "start_time": "2022-01-30T06:47:05.569277Z"
    },
    "id": "cPZSIigpPtEr"
   },
   "outputs": [],
   "source": [
    "def create_data_loader(df, tokenizer, max_len, batch_size):\n",
    "    ds = GPReviewDataset(\n",
    "        titles=df.titles.to_numpy(),\n",
    "        targets=df.label.to_numpy(),\n",
    "        stock_factors = df.stock_factors,\n",
    "        verb = df.verb_mask,\n",
    "        A0 = df.A0_mask,\n",
    "        A1 = df.A1_mask,\n",
    "        AV_num = df.AV_num,\n",
    "        tokenizer=tokenizer,\n",
    "        max_len=max_len\n",
    "    )\n",
    "\n",
    "    return DataLoader(\n",
    "        ds,\n",
    "        batch_size=batch_size,\n",
    "        shuffle=True\n",
    "    )"
   ]
  },
  {
   "cell_type": "code",
   "execution_count": 18,
   "metadata": {
    "ExecuteTime": {
     "end_time": "2022-01-30T06:47:05.593632Z",
     "start_time": "2022-01-30T06:47:05.582263Z"
    },
    "id": "4bMEUzcABFvn"
   },
   "outputs": [],
   "source": [
    "train_data_loader = create_data_loader(df_train, tokenizer, max_len, BATCH_SIZE)\n",
    "val_data_loader = create_data_loader(df_val, tokenizer, max_len, BATCH_SIZE)\n",
    "test_data_loader = create_data_loader(df_test, tokenizer, max_len, BATCH_SIZE)\n",
    "ood_data_loader = create_data_loader(df_ood, tokenizer, max_len, BATCH_SIZE)"
   ]
  },
  {
   "cell_type": "code",
   "execution_count": 19,
   "metadata": {
    "ExecuteTime": {
     "end_time": "2022-01-30T06:47:05.631709Z",
     "start_time": "2022-01-30T06:47:05.595298Z"
    },
    "colab": {
     "base_uri": "https://localhost:8080/"
    },
    "executionInfo": {
     "elapsed": 26,
     "status": "ok",
     "timestamp": 1634194989997,
     "user": {
      "displayName": "Nero C",
      "photoUrl": "https://lh3.googleusercontent.com/a-/AOh14GjQRoCAV4q10k-DC7od7DeLQhSUCkvaI26E0x4r=s64",
      "userId": "13659571702895310340"
     },
     "user_tz": -630
    },
    "id": "vDjd-DrAUt-d",
    "outputId": "674d43cf-a7d6-4e5d-ebc2-bc8f72108a25"
   },
   "outputs": [
    {
     "data": {
      "text/plain": [
       "dict_keys(['titles', 'input_ids', 'attention_mask', 'targets', 'stock_factors', 'verb', 'A0', 'A1', 'AV_num'])"
      ]
     },
     "execution_count": 19,
     "metadata": {},
     "output_type": "execute_result"
    }
   ],
   "source": [
    "data = next(iter(train_data_loader))\n",
    "data.keys()"
   ]
  },
  {
   "cell_type": "code",
   "execution_count": 20,
   "metadata": {
    "ExecuteTime": {
     "end_time": "2022-01-30T06:47:06.222993Z",
     "start_time": "2022-01-30T06:47:06.202705Z"
    },
    "id": "hsRtLnPlWulS"
   },
   "outputs": [],
   "source": [
    "class SentimentClassifier(nn.Module):\n",
    "\n",
    "    def __init__(self, n_classes):\n",
    "        super(SentimentClassifier, self).__init__()\n",
    "        self.bert = BertModel.from_pretrained(PRE_TRAINED_MODEL_NAME).to(device)\n",
    "        self.encoder_layer =  nn.TransformerEncoderLayer(d_model=2304, nhead=1).to(device)\n",
    "        self.transformer_encoder = nn.TransformerEncoder(self.encoder_layer, num_layers=2).to(device)\n",
    "        self.drop = nn.Dropout(p=0.1).to(device)\n",
    "        self.out1 = nn.Linear((self.bert.config.hidden_size*3)*10, (self.bert.config.hidden_size*3)*3).to(device)\n",
    "        self.out = nn.Linear((self.bert.config.hidden_size*3)*3, n_classes).to(device)\n",
    "        self.avgpool = nn.AvgPool2d((3,2), stride=2).to(device)\n",
    "        self.flatten2 = nn.Flatten(2,-1).to(device)\n",
    "        self.flatten = nn.Flatten(1,-1).to(device)\n",
    "        self.sig = nn.Sigmoid().to(device)\n",
    "        self.relu = nn.ReLU().to(device)\n",
    "        self.Querry = nn.Linear(self.bert.config.hidden_size,self.bert.config.hidden_size,bias = False).to(device)\n",
    "        self.Key = nn.Linear(self.bert.config.hidden_size,self.bert.config.hidden_size,bias = False).to(device)\n",
    "        # self.Self_supervised = nn.Linear(self.bert.config.hidden_size,self.bert.config.hidden_size).to(device)\n",
    "    \n",
    "    def forward(self, input_ids, attention_mask, verb, A0, A1, AV_num):\n",
    "        # get bert embedding \n",
    "        hidden_state = self.bert(\n",
    "            input_ids=input_ids,\n",
    "            attention_mask=attention_mask\n",
    "        )[0].to(device)\n",
    "        batch = hidden_state.shape[0]\n",
    "        verb_tmp = verb.clone().to(device)\n",
    "\n",
    "        # mask verb\n",
    "        AV_idx = []\n",
    "        for idx, num in enumerate(AV_num):\n",
    "            self_label = torch.randint(0,num,(1,))[0].to(device)\n",
    "            AV_idx.append(self_label)\n",
    "            verb_tmp[idx,self_label,:]=0\n",
    "\n",
    "        # verb label\n",
    "        AV_idx = torch.tensor(AV_idx).to(device)\n",
    "\n",
    "        V_mask = torch.unsqueeze(verb,3).to(device)\n",
    "        V_mask = torch.cat(768 * [V_mask],3).to(device)\n",
    "        V_mask = torch.mean(V_mask*torch.unsqueeze(hidden_state,1),2,True).to(device)\n",
    "        K = self.Key(torch.squeeze(V_mask.float())).to(device)\n",
    "        \n",
    "        # get verb embedding after masking(8*10*1*768)\n",
    "        V_mask_mask = torch.unsqueeze(verb_tmp,3).to(device)\n",
    "        V_mask_mask = torch.cat(768 * [V_mask_mask],3).to(device)\n",
    "        transformer_input = torch.mean(V_mask_mask*torch.unsqueeze(hidden_state,1),2,True).to(device)\n",
    "\n",
    "        # get A0 embedding(8*10*2*768)\n",
    "        A0_mask = torch.unsqueeze(A0,3).to(device)\n",
    "        A0_mask = torch.cat(768 * [A0_mask],3).to(device)\n",
    "        A0_mask = torch.mean(A0_mask*torch.unsqueeze(hidden_state,1),2,True).to(device)\n",
    "        transformer_input = torch.cat([transformer_input,A0_mask],2).to(device)\n",
    "\n",
    "        # get A1 embedding(8*10*3*768)\n",
    "        A1_mask = torch.unsqueeze(A1,3).to(device)\n",
    "        A1_mask = torch.cat(768 * [A1_mask],3).to(device)\n",
    "        A1_mask = torch.mean(A1_mask*torch.unsqueeze(hidden_state,1),2,True).to(device)\n",
    "        transformer_input = torch.cat([transformer_input,A1_mask],2).to(device)\n",
    "\n",
    "        # get transformer input(8*10*2304)\n",
    "        transformer_input = self.flatten2(transformer_input.float()).to(device)\n",
    "\n",
    "        # turn to (10*8*2304)\n",
    "        transformer_input = torch.stack([transformer_input[:,i,:].to(device) for i in range(0,len(A0[0]))])\n",
    "\n",
    "        # get transformer output(10*8*2304)\n",
    "        transformer_output = self.transformer_encoder(transformer_input).to(device)\n",
    "\n",
    "        # turn to (8*10*2304)\n",
    "        transformer_output = torch.stack([torch.squeeze(transformer_output[:,i,:]).to(device) for i in range(0,batch)])\n",
    "        transformer_output = torch.squeeze(transformer_output).to(device)\n",
    "\n",
    "        # turn to (8*10*2304)\n",
    "        self_pred = torch.zeros((batch,10)).to(device)\n",
    "        if transformer_output.dim()==2:\n",
    "            transformer_output = torch.unsqueeze(transformer_output,0).to(device)\n",
    "\n",
    "        # Q For CL\n",
    "        for idx,i in enumerate(AV_idx):\n",
    "            Q = torch.unsqueeze(self.Querry(transformer_output[idx,i,:768]),0).to(device)\n",
    "            self_pred[idx]=(Q @ K[idx].T).to(device)\n",
    "\n",
    "        # get transformer input for classification(8*10*3*768)\n",
    "        transformer_input = torch.cat([V_mask,A0_mask,A1_mask],2).to(device)\n",
    "        # get transformer input(8*10*2304)\n",
    "        transformer_input = self.flatten2(transformer_input.float()).to(device)\n",
    "\n",
    "        # get transformer output(10*8*2304)\n",
    "        transformer_input = torch.stack([transformer_input[:,i,:].to(device) for i in range(0,len(A0[0]))])\n",
    "        transformer_output = self.transformer_encoder(transformer_input).to(device)\n",
    "\n",
    "        # turn to (8*10*2304)\n",
    "        transformer_output = torch.stack([torch.squeeze(transformer_output[:,i,:]).to(device) for i in range(0,batch)])\n",
    "        transformer_output = torch.squeeze(transformer_output).to(device)\n",
    "\n",
    "        # handle exception\n",
    "        if transformer_output.dim()==2:\n",
    "            transformer_output = torch.unsqueeze(transformer_output,0).to(device)\n",
    "\n",
    "        output = self.flatten(transformer_output.float()).to(device)\n",
    "        output = self.sig(output).to(device)\n",
    "        output = self.out1(output).to(device)\n",
    "        output = self.sig(output).to(device)\n",
    "        output = self.drop(output).to(device)\n",
    "        output = self.out(output).to(device)\n",
    "\n",
    "        return output,self_pred,AV_idx\n"
   ]
  },
  {
   "cell_type": "code",
   "execution_count": 21,
   "metadata": {
    "ExecuteTime": {
     "end_time": "2022-01-30T06:47:09.800512Z",
     "start_time": "2022-01-30T06:47:06.223634Z"
    },
    "colab": {
     "base_uri": "https://localhost:8080/"
    },
    "executionInfo": {
     "elapsed": 5657,
     "status": "ok",
     "timestamp": 1634194997335,
     "user": {
      "displayName": "Nero C",
      "photoUrl": "https://lh3.googleusercontent.com/a-/AOh14GjQRoCAV4q10k-DC7od7DeLQhSUCkvaI26E0x4r=s64",
      "userId": "13659571702895310340"
     },
     "user_tz": -630
    },
    "id": "KQEOV2pfYBPs",
    "outputId": "215b9b5c-7356-4e61-e001-61f5dbb29660"
   },
   "outputs": [
    {
     "name": "stderr",
     "output_type": "stream",
     "text": [
      "Some weights of the model checkpoint at /home/jovyan/graph-stock-pred/Astock/models/ROBERT_4_model were not used when initializing BertModel: ['cls.predictions.transform.LayerNorm.weight', 'cls.predictions.decoder.bias', 'cls.predictions.decoder.weight', 'cls.predictions.transform.LayerNorm.bias', 'cls.predictions.bias', 'cls.predictions.transform.dense.bias', 'cls.predictions.transform.dense.weight']\n",
      "- This IS expected if you are initializing BertModel from the checkpoint of a model trained on another task or with another architecture (e.g. initializing a BertForSequenceClassification model from a BertForPreTraining model).\n",
      "- This IS NOT expected if you are initializing BertModel from the checkpoint of a model that you expect to be exactly identical (initializing a BertForSequenceClassification model from a BertForSequenceClassification model).\n",
      "Some weights of BertModel were not initialized from the model checkpoint at /home/jovyan/graph-stock-pred/Astock/models/ROBERT_4_model and are newly initialized: ['bert.pooler.dense.bias', 'bert.pooler.dense.weight']\n",
      "You should probably TRAIN this model on a down-stream task to be able to use it for predictions and inference.\n"
     ]
    },
    {
     "name": "stdout",
     "output_type": "stream",
     "text": [
      "Using 4 GPUs\n"
     ]
    }
   ],
   "source": [
    "model = SentimentClassifier(n_classes=3)\n",
    "if torch.cuda.device_count() > 1:\n",
    "    print(\"Using\", torch.cuda.device_count(), \"GPUs\")\n",
    "    model = nn.DataParallel(model.cuda(), device_ids=[0, 1, 2, 3])\n",
    "model = model.to(device)\n"
   ]
  },
  {
   "cell_type": "code",
   "execution_count": 22,
   "metadata": {
    "ExecuteTime": {
     "end_time": "2022-01-30T06:47:09.803069Z",
     "start_time": "2022-01-30T06:47:09.801356Z"
    },
    "colab": {
     "base_uri": "https://localhost:8080/"
    },
    "executionInfo": {
     "elapsed": 42,
     "status": "ok",
     "timestamp": 1634194997338,
     "user": {
      "displayName": "Nero C",
      "photoUrl": "https://lh3.googleusercontent.com/a-/AOh14GjQRoCAV4q10k-DC7od7DeLQhSUCkvaI26E0x4r=s64",
      "userId": "13659571702895310340"
     },
     "user_tz": -630
    },
    "id": "uLl-umJKYGtB",
    "outputId": "30fb9ea3-81b2-4371-a0c7-198c44fe1759"
   },
   "outputs": [
    {
     "name": "stdout",
     "output_type": "stream",
     "text": [
      "torch.Size([16, 512])\n",
      "torch.Size([16, 512])\n"
     ]
    }
   ],
   "source": [
    "input_ids = data['input_ids'].to(device)\n",
    "attention_mask = data['attention_mask'].to(device)\n",
    "verbs = data['verb'].to(device)\n",
    "A0s = data['A0'].to(device)\n",
    "A1s = data['A1'].to(device)\n",
    "AV_num = data['AV_num'].to(device)\n",
    "print(input_ids.shape) # batch size x seq length\n",
    "print(attention_mask.shape) # batch size x seq length"
   ]
  },
  {
   "cell_type": "code",
   "execution_count": 23,
   "metadata": {
    "ExecuteTime": {
     "end_time": "2022-01-30T06:47:09.814611Z",
     "start_time": "2022-01-30T06:47:09.803737Z"
    },
    "colab": {
     "base_uri": "https://localhost:8080/"
    },
    "executionInfo": {
     "elapsed": 32,
     "status": "ok",
     "timestamp": 1634194997338,
     "user": {
      "displayName": "Nero C",
      "photoUrl": "https://lh3.googleusercontent.com/a-/AOh14GjQRoCAV4q10k-DC7od7DeLQhSUCkvaI26E0x4r=s64",
      "userId": "13659571702895310340"
     },
     "user_tz": -630
    },
    "id": "VX0A_axjYJfP",
    "outputId": "599623bc-5aec-47ba-b3fd-ba2396412792"
   },
   "outputs": [
    {
     "data": {
      "text/plain": [
       "tensor([[0.2465, 0.4629, 0.2905],\n",
       "        [0.2256, 0.5443, 0.2301],\n",
       "        [0.2290, 0.5436, 0.2274],\n",
       "        [0.2376, 0.4206, 0.3419],\n",
       "        [0.2488, 0.4611, 0.2901],\n",
       "        [0.2224, 0.5505, 0.2271],\n",
       "        [0.2306, 0.5376, 0.2317],\n",
       "        [0.2386, 0.4221, 0.3393],\n",
       "        [0.2479, 0.4634, 0.2887],\n",
       "        [0.2256, 0.5476, 0.2268],\n",
       "        [0.2355, 0.5366, 0.2280],\n",
       "        [0.2353, 0.4269, 0.3378],\n",
       "        [0.2497, 0.4583, 0.2920],\n",
       "        [0.2215, 0.5461, 0.2323],\n",
       "        [0.2345, 0.5376, 0.2279],\n",
       "        [0.2343, 0.4269, 0.3388]], device='cuda:0', grad_fn=<SoftmaxBackward>)"
      ]
     },
     "execution_count": 23,
     "metadata": {},
     "output_type": "execute_result"
    }
   ],
   "source": [
    "F.softmax(model(input_ids, attention_mask, verb=verbs, A0=A0s, A1=A1s, AV_num=AV_num)[0], dim=1)"
   ]
  },
  {
   "cell_type": "code",
   "execution_count": 24,
   "metadata": {
    "ExecuteTime": {
     "end_time": "2022-01-30T06:47:09.823214Z",
     "start_time": "2022-01-30T06:47:09.815498Z"
    },
    "id": "4q2fUr9TYMxW"
   },
   "outputs": [],
   "source": [
    "EPOCHS = 20\n",
    "\n",
    "optimizer = AdamW(model.parameters(), lr=1e-5, correct_bias=False)\n",
    "total_steps = len(train_data_loader) * EPOCHS\n",
    "\n",
    "scheduler = get_linear_schedule_with_warmup(\n",
    "    optimizer,\n",
    "    num_warmup_steps=0,\n",
    "    num_training_steps=total_steps\n",
    ")\n",
    "\n",
    "loss_fn = nn.CrossEntropyLoss().to(device)"
   ]
  },
  {
   "cell_type": "code",
   "execution_count": 25,
   "metadata": {
    "ExecuteTime": {
     "end_time": "2022-01-30T06:47:09.828866Z",
     "start_time": "2022-01-30T06:47:09.823835Z"
    },
    "id": "oLLFWDvDYeeS"
   },
   "outputs": [],
   "source": [
    "def train_epoch(\n",
    "    model, \n",
    "    data_loader, \n",
    "    loss_fn, \n",
    "    optimizer, \n",
    "    device, \n",
    "    scheduler, \n",
    "    n_examples\n",
    "):\n",
    "    model = model.train()\n",
    "\n",
    "    losses = []\n",
    "    correct_predictions = 0\n",
    "    correct_predictions_verbs = 0\n",
    "\n",
    "    for d in data_loader:\n",
    "        input_ids = d[\"input_ids\"].to(device)\n",
    "        attention_mask = d[\"attention_mask\"].to(device)\n",
    "        targets = d[\"targets\"].to(device)\n",
    "        verb = d[\"verb\"].to(device)\n",
    "        A0 = d[\"A0\"].to(device)\n",
    "        A1 = d[\"A1\"].to(device)\n",
    "        AV_num = d[\"AV_num\"].to(device)\n",
    "\n",
    "        outputs,self_outputs,self_labels = model(\n",
    "            input_ids=input_ids,\n",
    "            attention_mask=attention_mask,\n",
    "            verb = verb,\n",
    "            A0 = A0,\n",
    "            A1 = A1,\n",
    "            AV_num = AV_num\n",
    "        )\n",
    "        self_outputs = self_outputs.to(device)\n",
    "        self_labels = self_labels.to(device)\n",
    "\n",
    "        if outputs.dim()==1:\n",
    "            outputs = torch.unsqueeze(outputs,0)\n",
    "        _, preds = torch.max(outputs, dim=1)\n",
    "        _, self_preds = torch.max(self_outputs, dim=1)\n",
    "        \n",
    "        # print(targets.shape,outputs.shape)\n",
    "        loss = 0.8*loss_fn(outputs, targets)+0.2*loss_fn(self_outputs,self_labels)\n",
    "\n",
    "        correct_predictions += torch.sum(preds == targets)\n",
    "        correct_predictions_verbs += torch.sum(self_preds == self_labels)\n",
    "        losses.append(loss.item())\n",
    "\n",
    "        loss.backward()\n",
    "        nn.utils.clip_grad_norm_(model.parameters(), max_norm=1.0)\n",
    "        optimizer.step()\n",
    "        scheduler.step()\n",
    "        optimizer.zero_grad()\n",
    "\n",
    "    return correct_predictions.double() / n_examples, np.mean(losses), correct_predictions_verbs.double()/n_examples"
   ]
  },
  {
   "cell_type": "code",
   "execution_count": 26,
   "metadata": {
    "ExecuteTime": {
     "end_time": "2022-01-30T06:47:09.836507Z",
     "start_time": "2022-01-30T06:47:09.829560Z"
    },
    "id": "VmDYxiXDYl-u"
   },
   "outputs": [],
   "source": [
    "def eval_model(model, data_loader, loss_fn, device, n_examples):\n",
    "    model = model.eval()\n",
    "\n",
    "    losses = []\n",
    "    correct_predictions = 0\n",
    "\n",
    "    with torch.no_grad():\n",
    "        for d in data_loader:\n",
    "            input_ids = d[\"input_ids\"].to(device)\n",
    "            attention_mask = d[\"attention_mask\"].to(device)\n",
    "            targets = d[\"targets\"].to(device)\n",
    "            verb = d[\"verb\"].to(device)\n",
    "            A0 = d[\"A0\"].to(device)\n",
    "            A1 = d[\"A1\"].to(device)\n",
    "            AV_num = d[\"AV_num\"].to(device)\n",
    "\n",
    "            outputs = model(\n",
    "                input_ids=input_ids,\n",
    "                attention_mask=attention_mask,\n",
    "                verb = verb,\n",
    "                A0 = A0,\n",
    "                A1 = A1,\n",
    "                AV_num = AV_num\n",
    "            )[0]\n",
    "            \n",
    "            if outputs.dim()==1:\n",
    "                outputs = torch.unsqueeze(outputs,0)\n",
    "            _, preds = torch.max(outputs, dim=1)\n",
    "\n",
    "            loss = loss_fn(outputs, targets)\n",
    "\n",
    "            correct_predictions += torch.sum(preds == targets)\n",
    "            \n",
    "            losses.append(loss.item())\n",
    "\n",
    "    return correct_predictions.double() / n_examples, np.mean(losses)"
   ]
  },
  {
   "cell_type": "code",
   "execution_count": 27,
   "metadata": {
    "ExecuteTime": {
     "end_time": "2022-01-30T06:47:09.843747Z",
     "start_time": "2022-01-30T06:47:09.837139Z"
    },
    "id": "Nkvo-2p93Dnr"
   },
   "outputs": [],
   "source": [
    "history = defaultdict(list)\n",
    "best_accuracy = 0"
   ]
  },
  {
   "cell_type": "code",
   "execution_count": 28,
   "metadata": {
    "colab": {
     "background_save": true,
     "base_uri": "https://localhost:8080/"
    },
    "id": "VZvKK2TkYojZ",
    "outputId": "c2ab0a75-6fee-4af7-8a3e-0846f2c720db",
    "scrolled": false
   },
   "outputs": [
    {
     "name": "stdout",
     "output_type": "stream",
     "text": [
      "Epoch 1/20\n",
      "----------\n",
      "Train loss 1.164712905053641 accuracy 0.36276558690351796 cl_accuracy 0.476314872866597\n",
      "Val   loss 1.1155536039670308 accuracy 0.3595976529756915\n",
      "\n",
      "Epoch 2/20\n",
      "----------\n",
      "Train loss 1.0911328457192127 accuracy 0.36346220828979453 cl_accuracy 0.4867641936607454\n",
      "Val   loss 1.0953064823150636 accuracy 0.3562447611064543\n",
      "\n",
      "Epoch 3/20\n",
      "----------\n",
      "Train loss 1.0716038399420076 accuracy 0.38418669453152215 cl_accuracy 0.48380355276907006\n",
      "Val   loss 1.0701771004994711 accuracy 0.41743503772003354\n",
      "\n",
      "Epoch 4/20\n",
      "----------\n",
      "Train loss 1.05324180494776 accuracy 0.41710205503308956 cl_accuracy 0.4771856495994427\n",
      "Val   loss 1.0838152798016867 accuracy 0.4056999161777033\n",
      "\n",
      "Epoch 5/20\n",
      "----------\n",
      "Train loss 1.033089659008143 accuracy 0.4397422500870777 cl_accuracy 0.48119122257053293\n",
      "Val   loss 1.1183421659469603 accuracy 0.4090528080469405\n",
      "\n",
      "Epoch 6/20\n",
      "----------\n",
      "Train loss 1.000026962551234 accuracy 0.49181469871125044 cl_accuracy 0.4813653779171021\n",
      "Val   loss 1.1444486085573833 accuracy 0.43922883487007547\n",
      "\n",
      "Epoch 7/20\n",
      "----------\n",
      "Train loss 0.9649684706438219 accuracy 0.5297805642633229 cl_accuracy 0.4836293974225009\n",
      "Val   loss 1.240149235725403 accuracy 0.4224643755238894\n",
      "\n",
      "Epoch 8/20\n",
      "----------\n",
      "Train loss 0.9112020628033907 accuracy 0.5830721003134797 cl_accuracy 0.49129223267154304\n",
      "Val   loss 1.1647130330403646 accuracy 0.4333612740989103\n",
      "\n",
      "Epoch 9/20\n",
      "----------\n",
      "Train loss 0.8623189233803815 accuracy 0.6267850923023337 cl_accuracy 0.4890282131661442\n",
      "Val   loss 1.282545284430186 accuracy 0.4300083822296731\n",
      "\n",
      "Epoch 10/20\n",
      "----------\n",
      "Train loss 0.8016501476671702 accuracy 0.6684082201323581 cl_accuracy 0.502438174851968\n",
      "Val   loss 1.429399467309316 accuracy 0.4291701592623638\n",
      "\n",
      "Epoch 11/20\n",
      "----------\n",
      "Train loss 0.7548594688140582 accuracy 0.6990595611285266 cl_accuracy 0.48397770811563917\n",
      "Val   loss 1.5888069144884744 accuracy 0.41743503772003354\n",
      "\n",
      "Epoch 12/20\n",
      "----------\n",
      "Train loss 0.7134849467317373 accuracy 0.7201323580633926 cl_accuracy 0.5015673981191223\n",
      "Val   loss 1.7529270060857136 accuracy 0.4149203688181056\n",
      "\n",
      "Epoch 13/20\n",
      "----------\n",
      "Train loss 0.6731739343872973 accuracy 0.7415534656913968 cl_accuracy 0.5080111459421804\n",
      "Val   loss 1.923824512163798 accuracy 0.42078792958927075\n",
      "\n",
      "Epoch 14/20\n",
      "----------\n",
      "Train loss 0.6404337062809129 accuracy 0.7662835249042146 cl_accuracy 0.5059212817833507\n",
      "Val   loss 1.974099849065145 accuracy 0.41994970662196146\n",
      "\n",
      "Epoch 15/20\n",
      "----------\n",
      "Train loss 0.6093057521870542 accuracy 0.7840473702542669 cl_accuracy 0.507488679902473\n",
      "Val   loss 2.061214985847473 accuracy 0.4107292539815591\n",
      "\n",
      "Epoch 16/20\n",
      "----------\n",
      "Train loss 0.5909982812603868 accuracy 0.7889237199582028 cl_accuracy 0.5102751654475792\n",
      "Val   loss 2.0631330013275146 accuracy 0.41827326068734283\n",
      "\n",
      "Epoch 17/20\n",
      "----------\n",
      "Train loss 0.5720522888523623 accuracy 0.7983281086729362 cl_accuracy 0.5001741553465692\n",
      "Val   loss 2.1306625986099244 accuracy 0.4082145850796312\n",
      "\n",
      "Epoch 18/20\n",
      "----------\n",
      "Train loss 0.5503313450926194 accuracy 0.8073841866945316 cl_accuracy 0.5242075931731104\n",
      "Val   loss 2.2534631935755414 accuracy 0.4065381391450126\n",
      "\n",
      "Epoch 19/20\n",
      "----------\n",
      "Train loss 0.5356941441473523 accuracy 0.8202716823406478 cl_accuracy 0.5121908742598398\n",
      "Val   loss 2.245127367178599 accuracy 0.4107292539815591\n",
      "\n",
      "Epoch 20/20\n",
      "----------\n",
      "Train loss 0.5257281240148465 accuracy 0.822884012539185 cl_accuracy 0.5132358063392546\n",
      "Val   loss 2.2599759499231973 accuracy 0.4115674769488684\n",
      "\n",
      "CPU times: user 3h 47min 6s, sys: 29min 33s, total: 4h 16min 39s\n",
      "Wall time: 2h 46min 19s\n"
     ]
    }
   ],
   "source": [
    "%%time\n",
    "\n",
    "for epoch in range(EPOCHS):\n",
    "\n",
    "  print(f'Epoch {epoch + 1}/{EPOCHS}')\n",
    "  print('-' * 10)\n",
    "\n",
    "  train_acc, train_loss, cl_acc = train_epoch(\n",
    "    model,\n",
    "    train_data_loader,    \n",
    "    loss_fn, \n",
    "    optimizer, \n",
    "    device, \n",
    "    scheduler, \n",
    "    len(df_train)\n",
    "  )\n",
    "\n",
    "  print(f'Train loss {train_loss} accuracy {train_acc} cl_accuracy {cl_acc}')\n",
    "\n",
    "  val_acc, val_loss = eval_model(\n",
    "    model,\n",
    "    val_data_loader,\n",
    "    loss_fn, \n",
    "    device, \n",
    "    len(df_val)\n",
    "  )\n",
    "\n",
    "  print(f'Val   loss {val_loss} accuracy {val_acc}')\n",
    "  print()\n",
    "\n",
    "  history['train_acc'].append(train_acc)\n",
    "  history['train_loss'].append(train_loss)\n",
    "  history['val_acc'].append(val_acc)\n",
    "  history['val_loss'].append(val_loss)\n",
    "\n",
    "  if val_acc > best_accuracy:\n",
    "    torch.save(model.state_dict(), 'Pretrained_RoBert_SRL(FC)_CL(V).bin')\n",
    "    best_accuracy = val_acc\n"
   ]
  },
  {
   "cell_type": "code",
   "execution_count": 29,
   "metadata": {
    "ExecuteTime": {
     "end_time": "2022-01-30T06:47:17.722138Z",
     "start_time": "2022-01-30T06:47:17.582730Z"
    },
    "colab": {
     "background_save": true
    },
    "id": "xu7Y2BPzLZgi",
    "outputId": "464a72dd-decd-4758-c2a4-ed850769df71"
   },
   "outputs": [
    {
     "data": {
      "image/png": "[encoded data removed]",
      "text/plain": [
       "<Figure size 864x576 with 1 Axes>"
      ]
     },
     "metadata": {
      "image/png": {
       "height": 506,
       "width": 732
      }
     },
     "output_type": "display_data"
    }
   ],
   "source": [
    "plt.plot([i.cpu() for i in history['train_acc']], label='train accuracy')\n",
    "plt.plot([i.cpu() for i in history['val_acc']], label='validation accuracy')\n",
    "\n",
    "plt.title('Training history')\n",
    "plt.ylabel('Accuracy')\n",
    "plt.xlabel('Epoch')\n",
    "plt.legend()\n",
    "plt.ylim([0, 1]);"
   ]
  },
  {
   "cell_type": "code",
   "execution_count": 30,
   "metadata": {
    "ExecuteTime": {
     "end_time": "2022-01-30T06:47:19.946047Z",
     "start_time": "2022-01-30T06:47:17.723189Z"
    },
    "colab": {
     "background_save": true
    },
    "id": "YYMhWiIrBrV4",
    "outputId": "715ceb5a-ae70-4412-a3ab-720a04955b93"
   },
   "outputs": [
    {
     "name": "stderr",
     "output_type": "stream",
     "text": [
      "Some weights of the model checkpoint at /home/jovyan/graph-stock-pred/Astock/models/ROBERT_4_model were not used when initializing BertModel: ['cls.predictions.transform.LayerNorm.weight', 'cls.predictions.decoder.bias', 'cls.predictions.decoder.weight', 'cls.predictions.transform.LayerNorm.bias', 'cls.predictions.bias', 'cls.predictions.transform.dense.bias', 'cls.predictions.transform.dense.weight']\n",
      "- This IS expected if you are initializing BertModel from the checkpoint of a model trained on another task or with another architecture (e.g. initializing a BertForSequenceClassification model from a BertForPreTraining model).\n",
      "- This IS NOT expected if you are initializing BertModel from the checkpoint of a model that you expect to be exactly identical (initializing a BertForSequenceClassification model from a BertForSequenceClassification model).\n",
      "Some weights of BertModel were not initialized from the model checkpoint at /home/jovyan/graph-stock-pred/Astock/models/ROBERT_4_model and are newly initialized: ['bert.pooler.dense.bias', 'bert.pooler.dense.weight']\n",
      "You should probably TRAIN this model on a down-stream task to be able to use it for predictions and inference.\n"
     ]
    },
    {
     "name": "stdout",
     "output_type": "stream",
     "text": [
      "Using 4 GPUs\n"
     ]
    },
    {
     "data": {
      "text/plain": [
       "<All keys matched successfully>"
      ]
     },
     "execution_count": 30,
     "metadata": {},
     "output_type": "execute_result"
    }
   ],
   "source": [
    "# !gdown --id 1V8itWtowCYnb2Bc9KlK9SxGff9WwmogA\n",
    "\n",
    "model = SentimentClassifier(len(class_names))\n",
    "if torch.cuda.device_count() > 1:\n",
    "    print(\"Using\", torch.cuda.device_count(), \"GPUs\")\n",
    "    model = nn.DataParallel(model.cuda(), device_ids=[0, 1, 2, 3])\n",
    "model = model.to(device)\n",
    "model.load_state_dict(torch.load('Pretrained_RoBert_SRL(FC)_CL(V).bin'))"
   ]
  },
  {
   "cell_type": "code",
   "execution_count": 31,
   "metadata": {
    "ExecuteTime": {
     "end_time": "2022-01-30T06:47:19.949240Z",
     "start_time": "2022-01-30T06:47:19.946829Z"
    },
    "colab": {
     "background_save": true
    },
    "id": "KYRPY0C-fFQh",
    "outputId": "5ff644a7-ed8f-4e1d-c846-e26640849d2f"
   },
   "outputs": [
    {
     "data": {
      "text/plain": [
       "1121"
      ]
     },
     "execution_count": 31,
     "metadata": {},
     "output_type": "execute_result"
    }
   ],
   "source": [
    "len(df_test)"
   ]
  },
  {
   "cell_type": "code",
   "execution_count": 38,
   "metadata": {
    "ExecuteTime": {
     "end_time": "2022-01-30T06:47:27.960499Z",
     "start_time": "2022-01-30T06:47:19.949796Z"
    },
    "colab": {
     "background_save": true
    },
    "id": "c7Cckbz8GbDK",
    "outputId": "a3332b1f-6762-40f0-812b-db4844ec2d4d"
   },
   "outputs": [
    {
     "data": {
      "text/plain": [
       "0.4380017841213203"
      ]
     },
     "execution_count": 38,
     "metadata": {},
     "output_type": "execute_result"
    }
   ],
   "source": [
    "test_acc, _ = eval_model(\n",
    "  model,\n",
    "  test_data_loader,\n",
    "  loss_fn,\n",
    "  device,\n",
    "  len(df_test)\n",
    ")\n",
    "\n",
    "test_acc.item()"
   ]
  },
  {
   "cell_type": "code",
   "execution_count": 39,
   "metadata": {
    "ExecuteTime": {
     "end_time": "2022-01-30T06:47:27.965662Z",
     "start_time": "2022-01-30T06:47:27.961479Z"
    },
    "colab": {
     "background_save": true
    },
    "id": "a0Qemnl0FiEb"
   },
   "outputs": [],
   "source": [
    "def get_predictions(model, data_loader):\n",
    "  model = model.eval()\n",
    "  \n",
    "  review_texts = []\n",
    "  predictions = []\n",
    "  prediction_probs = []\n",
    "  real_values = []\n",
    "\n",
    "  with torch.no_grad():\n",
    "    for d in data_loader:\n",
    "\n",
    "      texts = d[\"titles\"]\n",
    "      input_ids = d[\"input_ids\"].to(device)\n",
    "      attention_mask = d[\"attention_mask\"].to(device)\n",
    "      targets = d[\"targets\"].to(device)\n",
    "      verb = d[\"verb\"].to(device)\n",
    "      A0 = d[\"A0\"].to(device)\n",
    "      A1 = d[\"A1\"].to(device)\n",
    "      AV_num = d['AV_num'].to(device)\n",
    "\n",
    "      outputs = model(\n",
    "        input_ids=input_ids,\n",
    "        attention_mask=attention_mask,\n",
    "        verb = verb,\n",
    "        A0 = A0,\n",
    "        A1 = A1,\n",
    "        AV_num = AV_num\n",
    "      )[0]\n",
    "#       _, preds = torch.max(outputs, dim=1)\n",
    "      \n",
    "      if outputs.dim()==1:\n",
    "        outputs = torch.unsqueeze(outputs,0)\n",
    "      _, preds = torch.max(outputs, dim=1)\n",
    "\n",
    "      probs = F.softmax(outputs, dim=1)\n",
    "\n",
    "      review_texts.extend(texts)\n",
    "      predictions.extend(preds)\n",
    "      prediction_probs.extend(probs)\n",
    "      real_values.extend(targets)\n",
    "\n",
    "  predictions = torch.stack(predictions).cpu()\n",
    "  prediction_probs = torch.stack(prediction_probs).cpu()\n",
    "  real_values = torch.stack(real_values).cpu()\n",
    "  return review_texts, predictions, prediction_probs, real_values"
   ]
  },
  {
   "cell_type": "code",
   "execution_count": 40,
   "metadata": {
    "ExecuteTime": {
     "end_time": "2022-01-30T06:47:27.979704Z",
     "start_time": "2022-01-30T06:47:27.966242Z"
    }
   },
   "outputs": [],
   "source": [
    "def show_confusion_matrix(confusion_matrix):\n",
    "  hmap = sns.heatmap(confusion_matrix, annot=True, fmt=\"d\", cmap=\"Blues\")\n",
    "  hmap.yaxis.set_ticklabels(hmap.yaxis.get_ticklabels(), rotation=0, ha='right')\n",
    "  hmap.xaxis.set_ticklabels(hmap.xaxis.get_ticklabels(), rotation=30, ha='right')\n",
    "  plt.ylabel('True sentiment')\n",
    "  plt.xlabel('Predicted sentiment');"
   ]
  },
  {
   "cell_type": "code",
   "execution_count": 41,
   "metadata": {
    "ExecuteTime": {
     "end_time": "2022-01-30T06:47:35.647733Z",
     "start_time": "2022-01-30T06:47:27.980681Z"
    },
    "colab": {
     "background_save": true
    },
    "id": "YkPHXF0MGiCh",
    "outputId": "648048e5-a674-4137-9efe-105cfea84b32"
   },
   "outputs": [
    {
     "name": "stdout",
     "output_type": "stream",
     "text": [
      "              precision    recall  f1-score   support\n",
      "\n",
      "    negative     0.4329    0.3568    0.3912       398\n",
      "     neutral     0.4548    0.4371    0.4458       334\n",
      "    positive     0.4301    0.5219    0.4715       389\n",
      "\n",
      "    accuracy                         0.4380      1121\n",
      "   macro avg     0.4393    0.4386    0.4362      1121\n",
      "weighted avg     0.4385    0.4380    0.4353      1121\n",
      "\n"
     ]
    },
    {
     "data": {
      "image/png": "[encoded data removed]",
      "text/plain": [
       "<Figure size 864x576 with 2 Axes>"
      ]
     },
     "metadata": {
      "image/png": {
       "height": 516,
       "width": 725
      }
     },
     "output_type": "display_data"
    }
   ],
   "source": [
    "y_review_texts, y_pred, y_pred_probs, y_test = get_predictions(\n",
    "  model,\n",
    "  test_data_loader\n",
    ")\n",
    "\n",
    "print(classification_report(y_test, y_pred, target_names=class_names,digits=4))\n",
    "\n",
    "cm = confusion_matrix(y_test, y_pred)\n",
    "df_cm = pd.DataFrame(cm, index=class_names, columns=class_names)\n",
    "show_confusion_matrix(df_cm)"
   ]
  },
  {
   "cell_type": "code",
   "execution_count": 42,
   "metadata": {
    "ExecuteTime": {
     "end_time": "2022-01-30T06:48:28.482693Z",
     "start_time": "2022-01-30T06:47:35.648526Z"
    }
   },
   "outputs": [
    {
     "name": "stdout",
     "output_type": "stream",
     "text": [
      "              precision    recall  f1-score   support\n",
      "\n",
      "    negative     0.4306    0.4936    0.4599       622\n",
      "     neutral     0.3849    0.3145    0.3462       585\n",
      "    positive     0.4457    0.4570    0.4513       628\n",
      "\n",
      "    accuracy                         0.4240      1835\n",
      "   macro avg     0.4204    0.4217    0.4191      1835\n",
      "weighted avg     0.4212    0.4240    0.4207      1835\n",
      "\n"
     ]
    },
    {
     "data": {
      "image/png": "[encoded data removed]",
      "text/plain": [
       "<Figure size 864x576 with 2 Axes>"
      ]
     },
     "metadata": {
      "image/png": {
       "height": 516,
       "width": 725
      }
     },
     "output_type": "display_data"
    }
   ],
   "source": [
    "y_ood_review_texts, y_ood_pred, y_ood_pred_probs, y_ood = get_predictions(\n",
    "  model,\n",
    "  ood_data_loader\n",
    ")\n",
    "\n",
    "print(classification_report(y_ood, y_ood_pred, target_names=class_names,digits=4))\n",
    "\n",
    "ood_cm = confusion_matrix(y_ood, y_ood_pred)\n",
    "df_ood_cm = pd.DataFrame(ood_cm, index=class_names, columns=class_names)\n",
    "show_confusion_matrix(df_ood_cm)"
   ]
  },
  {
   "cell_type": "code",
   "execution_count": 44,
   "metadata": {
    "ExecuteTime": {
     "end_time": "2022-01-30T06:52:22.785038Z",
     "start_time": "2022-01-30T06:52:21.376266Z"
    }
   },
   "outputs": [],
   "source": [
    "df = pd.DataFrame([y_ood_review_texts, y_ood_pred.numpy(), y_ood_pred_probs.numpy(), y_ood.numpy()]).T\n",
    "df = df.rename(columns={0: 'text',1: 'prediction',2: 'probability',3: 'labels'})\n",
    "df.to_csv('try_Pretrained_RoBert_SRL(FC)_V_ood_0.43.csv',sep='\\t')"
   ]
  },
  {
   "cell_type": "code",
   "execution_count": null,
   "metadata": {
    "colab": {
     "background_save": true
    },
    "id": "Kbe4pgmh1gQY"
   },
   "outputs": [],
   "source": []
  }
 ],
 "metadata": {
  "accelerator": "GPU",
  "colab": {
   "collapsed_sections": [],
   "name": "Pretrained_RoBert_SRL(AVG)_CL(V).ipynb",
   "provenance": [
    {
     "file_id": "1Ia2qfBUM35tzgRmKb8NFZn9V7WQ6xHLQ",
     "timestamp": 1634194650187
    },
    {
     "file_id": "1m63ML-bYzKDT2V9B4hE-Uu5VTx505sa-",
     "timestamp": 1633515541576
    },
    {
     "file_id": "1HhJHiV3RPKbpPFWZrMSHMW_H-OMu45nh",
     "timestamp": 1633492228905
    },
    {
     "file_id": "1q_DO6QMqbQjEru1iCP0CuwA1-0wOBgO1",
     "timestamp": 1633469450109
    },
    {
     "file_id": "1UmCPDjec7zH3RdCY3Hdite8oomF7nmf9",
     "timestamp": 1633290928316
    },
    {
     "file_id": "1w9vwLdm73DBRpQkWEjXqs5q-sfG5CFRP",
     "timestamp": 1633210989154
    },
    {
     "file_id": "1dItOUA_nHj-f307fzTileirMZodw9QQA",
     "timestamp": 1633052138904
    },
    {
     "file_id": "1Oo-71ViOwxENoHeitS3_bKCwW5v34UxN",
     "timestamp": 1632660498277
    },
    {
     "file_id": "1el47BmEzo31ysADRwzhNG8eWTFAGBwSd",
     "timestamp": 1632523116920
    },
    {
     "file_id": "1_JaZBt7ogFAsddWCCG0LcCdgNRAxqtFk",
     "timestamp": 1632443626664
    },
    {
     "file_id": "19E0FxMVVPc7sOJKBKGMO92IFUiH9i8Nq",
     "timestamp": 1631945855961
    },
    {
     "file_id": "1-IQze66iqGbhkSN5Ht7pAfMMsY-XRwDI",
     "timestamp": 1631743166519
    },
    {
     "file_id": "1WejxgDbBCZ7I2Y_ODwi3kgRtrnkLvn-b",
     "timestamp": 1631518058457
    },
    {
     "file_id": "1npRyGEmBJbLWSua7ANgxcMxsQsuWXnKG",
     "timestamp": 1631425160358
    }
   ]
  },
  "kernelspec": {
   "display_name": "Python 3 (ipykernel)",
   "language": "python",
   "name": "python3"
  },
  "language_info": {
   "codemirror_mode": {
    "name": "ipython",
    "version": 3
   },
   "file_extension": ".py",
   "mimetype": "text/x-python",
   "name": "python",
   "nbconvert_exporter": "python",
   "pygments_lexer": "ipython3",
   "version": "3.8.13"
  },
  "latex_envs": {
   "LaTeX_envs_menu_present": true,
   "autoclose": false,
   "autocomplete": true,
   "bibliofile": "biblio.bib",
   "cite_by": "apalike",
   "current_citInitial": 1,
   "eqLabelWithNumbers": true,
   "eqNumInitial": 1,
   "hotkeys": {
    "equation": "Ctrl-E",
    "itemize": "Ctrl-I"
   },
   "labels_anchors": false,
   "latex_user_defs": false,
   "report_style_numbering": false,
   "user_envs_cfg": false
  },
  "toc": {
   "base_numbering": 1,
   "nav_menu": {},
   "number_sections": true,
   "sideBar": true,
   "skip_h1_title": false,
   "title_cell": "Table of Contents",
   "title_sidebar": "Contents",
   "toc_cell": false,
   "toc_position": {},
   "toc_section_display": true,
   "toc_window_display": false
  },
  "varInspector": {
   "cols": {
    "lenName": 16,
    "lenType": 16,
    "lenVar": 40
   },
   "kernels_config": {
    "python": {
     "delete_cmd_postfix": "",
     "delete_cmd_prefix": "del ",
     "library": "var_list.py",
     "varRefreshCmd": "print(var_dic_list())"
    },
    "r": {
     "delete_cmd_postfix": ") ",
     "delete_cmd_prefix": "rm(",
     "library": "var_list.r",
     "varRefreshCmd": "cat(var_dic_list()) "
    }
   },
   "types_to_exclude": [
    "module",
    "function",
    "builtin_function_or_method",
    "instance",
    "_Feature"
   ],
   "window_display": false
  }
 },
 "nbformat": 4,
 "nbformat_minor": 1
}
