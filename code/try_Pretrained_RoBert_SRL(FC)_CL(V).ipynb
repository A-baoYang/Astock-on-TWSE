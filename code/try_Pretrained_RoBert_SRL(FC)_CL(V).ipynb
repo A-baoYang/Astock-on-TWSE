{
 "cells": [
  {
   "cell_type": "code",
   "execution_count": 1,
   "metadata": {
    "ExecuteTime": {
     "end_time": "2022-01-30T06:46:33.946552Z",
     "start_time": "2022-01-30T06:46:33.542676Z"
    },
    "colab": {
     "base_uri": "https://localhost:8080/"
    },
    "executionInfo": {
     "elapsed": 1642,
     "status": "ok",
     "timestamp": 1634194951035,
     "user": {
      "displayName": "Nero C",
      "photoUrl": "https://lh3.googleusercontent.com/a-/AOh14GjQRoCAV4q10k-DC7od7DeLQhSUCkvaI26E0x4r=s64",
      "userId": "13659571702895310340"
     },
     "user_tz": -630
    },
    "id": "pEHKZt-qRG5x",
    "outputId": "c9b85caa-7c2c-4578-fce2-d41c84ef0dc2"
   },
   "outputs": [
    {
     "data": {
      "text/plain": [
       "device(type='cuda')"
      ]
     },
     "execution_count": 1,
     "metadata": {},
     "output_type": "execute_result"
    }
   ],
   "source": [
    "#@title Setup & Config\n",
    "import transformers\n",
    "from transformers import BertModel, BertTokenizer, AdamW, get_linear_schedule_with_warmup\n",
    "import torch\n",
    "import unicodedata\n",
    "import numpy as np\n",
    "import os\n",
    "os.environ[\"CUDA_VISIBLE_DEVICES\"] = \"0,1,2,3\"\n",
    "import pandas as pd\n",
    "import seaborn as sns\n",
    "from pylab import rcParams\n",
    "import matplotlib.pyplot as plt\n",
    "from matplotlib import rc\n",
    "from sklearn.preprocessing import StandardScaler, MinMaxScaler\n",
    "from sklearn.model_selection import train_test_split\n",
    "from sklearn.metrics import confusion_matrix, classification_report\n",
    "from collections import defaultdict\n",
    "from textwrap import wrap\n",
    "\n",
    "from torch import nn, optim\n",
    "from torch.utils.data import Dataset, DataLoader\n",
    "import torch.nn.functional as F\n",
    "from sklearn.metrics import f1_score\n",
    "from torch.nn import TransformerEncoder, TransformerEncoderLayer\n",
    "from collections import Counter\n",
    "import ast\n",
    "import random\n",
    "from tqdm import tqdm\n",
    "\n",
    "\n",
    "%matplotlib inline\n",
    "%config InlineBackend.figure_format='retina'\n",
    "\n",
    "sns.set(style='whitegrid', palette='muted', font_scale=1.2)\n",
    "\n",
    "HAPPY_COLORS_PALETTE = [\"#01BEFE\", \"#FFDD00\", \"#FF7D00\", \"#FF006D\", \"#ADFF02\", \"#8F00FF\"]\n",
    "\n",
    "sns.set_palette(sns.color_palette(HAPPY_COLORS_PALETTE))\n",
    "\n",
    "rcParams['figure.figsize'] = 12, 8\n",
    "\n",
    "RANDOM_SEED = 10\n",
    "np.random.seed(RANDOM_SEED)\n",
    "torch.manual_seed(RANDOM_SEED)\n",
    "\n",
    "device = torch.device(\"cuda\" if torch.cuda.is_available() else \"cpu\")\n",
    "device"
   ]
  },
  {
   "cell_type": "code",
   "execution_count": 2,
   "metadata": {
    "ExecuteTime": {
     "end_time": "2022-01-30T06:46:38.748915Z",
     "start_time": "2022-01-30T06:46:33.947394Z"
    },
    "id": "xRdWcGGBFYTu"
   },
   "outputs": [],
   "source": [
    "from transformers import BertTokenizer,BertModel\n",
    "PRE_TRAINED_MODEL_NAME = \"hfl/chinese-roberta-wwm-ext\"\n",
    "tokenizer = BertTokenizer.from_pretrained(PRE_TRAINED_MODEL_NAME, do_lower_case=True)\n",
    "PRE_TRAINED_MODEL_NAME = '/home/jovyan/graph-stock-pred/Astock/models/ROBERT_4_model'"
   ]
  },
  {
   "cell_type": "markdown",
   "metadata": {},
   "source": [
    "### Dataset\n",
    "- load data from multi-stocks"
   ]
  },
  {
   "cell_type": "code",
   "execution_count": 29,
   "metadata": {},
   "outputs": [
    {
     "name": "stderr",
     "output_type": "stream",
     "text": [
      "100%|██████████| 16/16 [00:00<00:00, 69.94it/s]"
     ]
    },
    {
     "name": "stdout",
     "output_type": "stream",
     "text": [
      "<class 'pandas.core.frame.DataFrame'>\n",
      "Int64Index: 17456 entries, 0 to 1090\n",
      "Data columns (total 33 columns):\n",
      " #   Column         Non-Null Count  Dtype  \n",
      "---  ------         --------------  -----  \n",
      " 0   date           17456 non-null  object \n",
      " 1   open           17456 non-null  float64\n",
      " 2   high           17456 non-null  float64\n",
      " 3   low            17456 non-null  float64\n",
      " 4   close          17456 non-null  float64\n",
      " 5   pre_close      17456 non-null  float64\n",
      " 6   change         17456 non-null  float64\n",
      " 7   pct_chg        17456 non-null  float64\n",
      " 8   ADX            17040 non-null  float64\n",
      " 9   MACD           16944 non-null  float64\n",
      " 10  MACDsignal     16944 non-null  float64\n",
      " 11  MACDhist       16944 non-null  float64\n",
      " 12  RSI            17248 non-null  float64\n",
      " 13  ATR            17248 non-null  float64\n",
      " 14  OBV            17456 non-null  float64\n",
      " 15  BETA           17392 non-null  float64\n",
      " 16  upperBAND      17408 non-null  float64\n",
      " 17  middleBAND     17408 non-null  float64\n",
      " 18  lowerBAND      17408 non-null  float64\n",
      " 19  成交股數           17450 non-null  float64\n",
      " 20  成交筆數           17450 non-null  float64\n",
      " 21  成交金額           17450 non-null  float64\n",
      " 22  殖利率(%)         17450 non-null  float64\n",
      " 23  本益比            14387 non-null  float64\n",
      " 24  股價淨值比          17450 non-null  float64\n",
      " 25  affected_date  17456 non-null  object \n",
      " 26  news_count     17456 non-null  float64\n",
      " 27  titles         5831 non-null   object \n",
      " 28  verbA0A1       5831 non-null   object \n",
      " 29  verb           5831 non-null   object \n",
      " 30  A0             5831 non-null   object \n",
      " 31  A1             5831 non-null   object \n",
      " 32  stock_id       17456 non-null  int64  \n",
      "dtypes: float64(25), int64(1), object(7)\n",
      "memory usage: 4.5+ MB\n"
     ]
    },
    {
     "name": "stderr",
     "output_type": "stream",
     "text": [
      "\n"
     ]
    }
   ],
   "source": [
    "from glob import glob\n",
    "\n",
    "paths = glob(\"/home/jovyan/graph-stock-pred/Astock/data/pre/*-transformed.csv\")\n",
    "df = pd.DataFrame()\n",
    "for path in tqdm(paths):\n",
    "    df = pd.concat([df, pd.read_csv(path)])\n",
    "df.head()\n",
    "df.info()"
   ]
  },
  {
   "cell_type": "markdown",
   "metadata": {},
   "source": [
    "- split train, val, test, ood datasets by date\n"
   ]
  },
  {
   "cell_type": "code",
   "execution_count": 30,
   "metadata": {},
   "outputs": [
    {
     "name": "stdout",
     "output_type": "stream",
     "text": [
      "(12467, 33) (1558, 33) (1559, 33) (1872, 33)\n"
     ]
    }
   ],
   "source": [
    "# train: 80% from 2018.07 - 2021.12 \n",
    "# val: 10% from 2018.07 - 2021.12 \n",
    "# test: 10% from 2018.07 - 2021.12 \n",
    "# ood: 2022.01 - 2022.06\n",
    "\n",
    "df_train = df[df[\"date\"]<\"2022-01-01\"].reset_index(drop=True)\n",
    "df_ood = df[(df[\"date\"]>=\"2022-01-01\") & (df[\"date\"]<\"2022-07-01\")].reset_index(drop=True)\n",
    "\n",
    "df_test = df_train.sample(frac=0.2)\n",
    "df_train = df_train.drop(df_test.index)\n",
    "df_val = df_test.sample(frac=0.5)\n",
    "df_test = df_test.drop(df_val.index)\n",
    "\n",
    "df_train = df_train.reset_index(drop=True)\n",
    "df_val = df_val.reset_index(drop=True)\n",
    "df_test = df_test.reset_index(drop=True)\n",
    "\n",
    "print(df_train.shape, df_val.shape, df_test.shape, df_ood.shape)"
   ]
  },
  {
   "cell_type": "code",
   "execution_count": 37,
   "metadata": {},
   "outputs": [
    {
     "name": "stdout",
     "output_type": "stream",
     "text": [
      "(13536, 33) (1024, 33) (1024, 33) (1872, 33)\n"
     ]
    }
   ],
   "source": [
    "# train: 2018.07 - 2021.06\n",
    "df_train = df[df[\"date\"]<\"2021-07-01\"].reset_index(drop=True)\n",
    "# val: 2021.07 - 2021.09\n",
    "df_val = df[(df[\"date\"]>=\"2021-07-01\") & (df[\"date\"]<\"2021-10-01\")].reset_index(drop=True)\n",
    "# test: 2021.10 - 2021.12\n",
    "df_test = df[(df[\"date\"]>=\"2021-10-01\") & (df[\"date\"]<\"2022-01-01\")].reset_index(drop=True)\n",
    "# ood: 2022.01 - 2022.06\n",
    "df_ood = df[(df[\"date\"]>=\"2022-01-01\") & (df[\"date\"]<\"2022-07-01\")].reset_index(drop=True)\n",
    "\n",
    "print(df_train.shape, df_val.shape, df_test.shape, df_ood.shape)"
   ]
  },
  {
   "cell_type": "markdown",
   "metadata": {},
   "source": [
    "- compute `label` column from `pct_chg` \n",
    "    - Thesis uses: $(close - pre close) / close$, but stock price change should devide by previous price. We corrected here\n",
    "- We uese `qcut` and the distribution of `pct_chg` between 2018/07/02 - 2022/06/30 is: \n",
    "    ```\n",
    "        (-0.0686, -0.00503]    325\n",
    "        (0.0069, 0.0997]       325\n",
    "        (-0.00503, 0.0069]     324\n",
    "    ```\n",
    "- Then filter out days with no news"
   ]
  },
  {
   "cell_type": "code",
   "execution_count": 31,
   "metadata": {},
   "outputs": [
    {
     "name": "stdout",
     "output_type": "stream",
     "text": [
      "(3813, 34) (476, 34) (511, 34) (1031, 34)\n"
     ]
    }
   ],
   "source": [
    "def gen_label(df):\n",
    "    df[\"label\"] = pd.qcut(df['pct_chg'], q=3, labels=[0,1,2])\n",
    "    return df\n",
    "\n",
    "\n",
    "df_train = gen_label(df=df_train)\n",
    "df_val = gen_label(df=df_val)\n",
    "df_test = gen_label(df=df_test)\n",
    "df_ood = gen_label(df=df_ood)\n",
    "\n",
    "df_train = df_train[df_train.titles.notnull()].reset_index(drop=True)\n",
    "df_val = df_val[df_val.titles.notnull()].reset_index(drop=True)\n",
    "df_test = df_test[df_test.titles.notnull()].reset_index(drop=True)\n",
    "df_ood = df_ood[df_ood.titles.notnull()].reset_index(drop=True)\n",
    "\n",
    "print(df_train.shape, df_val.shape, df_test.shape, df_ood.shape)\n"
   ]
  },
  {
   "cell_type": "code",
   "execution_count": 32,
   "metadata": {},
   "outputs": [
    {
     "data": {
      "text/html": [
       "<div>\n",
       "<style scoped>\n",
       "    .dataframe tbody tr th:only-of-type {\n",
       "        vertical-align: middle;\n",
       "    }\n",
       "\n",
       "    .dataframe tbody tr th {\n",
       "        vertical-align: top;\n",
       "    }\n",
       "\n",
       "    .dataframe thead th {\n",
       "        text-align: right;\n",
       "    }\n",
       "</style>\n",
       "<table border=\"1\" class=\"dataframe\">\n",
       "  <thead>\n",
       "    <tr style=\"text-align: right;\">\n",
       "      <th></th>\n",
       "      <th>pct_chg</th>\n",
       "    </tr>\n",
       "  </thead>\n",
       "  <tbody>\n",
       "    <tr>\n",
       "      <th>count</th>\n",
       "      <td>1031.000000</td>\n",
       "    </tr>\n",
       "    <tr>\n",
       "      <th>mean</th>\n",
       "      <td>-0.000522</td>\n",
       "    </tr>\n",
       "    <tr>\n",
       "      <th>std</th>\n",
       "      <td>0.027225</td>\n",
       "    </tr>\n",
       "    <tr>\n",
       "      <th>min</th>\n",
       "      <td>-0.098569</td>\n",
       "    </tr>\n",
       "    <tr>\n",
       "      <th>25%</th>\n",
       "      <td>-0.015739</td>\n",
       "    </tr>\n",
       "    <tr>\n",
       "      <th>50%</th>\n",
       "      <td>-0.001040</td>\n",
       "    </tr>\n",
       "    <tr>\n",
       "      <th>75%</th>\n",
       "      <td>0.013164</td>\n",
       "    </tr>\n",
       "    <tr>\n",
       "      <th>max</th>\n",
       "      <td>0.100000</td>\n",
       "    </tr>\n",
       "  </tbody>\n",
       "</table>\n",
       "</div>"
      ],
      "text/plain": [
       "           pct_chg\n",
       "count  1031.000000\n",
       "mean     -0.000522\n",
       "std       0.027225\n",
       "min      -0.098569\n",
       "25%      -0.015739\n",
       "50%      -0.001040\n",
       "75%       0.013164\n",
       "max       0.100000"
      ]
     },
     "execution_count": 32,
     "metadata": {},
     "output_type": "execute_result"
    }
   ],
   "source": [
    "df_train[[\"pct_chg\",\"label\"]].describe(), df_val[[\"pct_chg\",\"label\"]].describe(), df_test[[\"pct_chg\",\"label\"]].describe()\n",
    "df_ood[[\"pct_chg\",\"label\"]].describe()"
   ]
  },
  {
   "cell_type": "markdown",
   "metadata": {},
   "source": [
    "- compute verb-A0-A1 triplets number as `AV_num`"
   ]
  },
  {
   "cell_type": "code",
   "execution_count": 33,
   "metadata": {},
   "outputs": [],
   "source": [
    "df_train[\"AV_num\"] = df_train[\"verbA0A1\"].apply(lambda x: len(eval(x)))\n",
    "df_val[\"AV_num\"] = df_val[\"verbA0A1\"].apply(lambda x: len(eval(x)))\n",
    "df_test[\"AV_num\"] = df_test[\"verbA0A1\"].apply(lambda x: len(eval(x)))\n",
    "df_ood[\"AV_num\"] = df_ood[\"verbA0A1\"].apply(lambda x: len(eval(x)))"
   ]
  },
  {
   "cell_type": "markdown",
   "metadata": {},
   "source": [
    "- merge `stock_factors` to array in one column\n",
    "\n",
    "Now each sample will have these factors: \n",
    "```\n",
    "    ADX                                                11.493372\n",
    "    MACD                                               -1.556851\n",
    "    MACDsignal                                         -1.221986\n",
    "    MACDhist                                           -0.334864\n",
    "    RSI                                                44.103107\n",
    "    ATR                                                 3.732317\n",
    "    OBV                                              -71157437.0\n",
    "    BETA                                                1.032639\n",
    "    upperBAND                                         195.743838\n",
    "    middleBAND                                        193.008206\n",
    "    lowerBAND                                         190.272574\n",
    "    成交股數                                              28663220.0\n",
    "    成交筆數                                                  7758.0\n",
    "    成交金額                                            6173115899.0\n",
    "    殖利率(%)                                                  3.73\n",
    "    本益比                                                    16.12\n",
    "    股價淨值比                                                   3.46\n",
    "```"
   ]
  },
  {
   "cell_type": "code",
   "execution_count": 34,
   "metadata": {},
   "outputs": [
    {
     "name": "stderr",
     "output_type": "stream",
     "text": [
      "100%|██████████| 17/17 [00:00<00:00, 311.13it/s]\n"
     ]
    }
   ],
   "source": [
    "# remove nan rows\n",
    "factor_cols = [\"ADX\",\"MACD\",\"MACDsignal\",\"MACDhist\",\"RSI\",\"ATR\",\"OBV\",\"BETA\",\"upperBAND\",\"middleBAND\",\"lowerBAND\",\"成交股數\",\"成交筆數\",\"成交金額\",\"殖利率(%)\",\"本益比\",\"股價淨值比\"]\n",
    "for col in tqdm(factor_cols):\n",
    "    df_train = df_train[df_train[col].notnull()].reset_index(drop=True)\n",
    "    df_val = df_val[df_val[col].notnull()].reset_index(drop=True)\n",
    "    df_test = df_test[df_test[col].notnull()].reset_index(drop=True)\n",
    "    df_ood = df_ood[df_ood[col].notnull()].reset_index(drop=True)\n",
    "\n",
    "\n",
    "# Normalization all factors to the same scale\n",
    "standard_scaler = StandardScaler()\n",
    "# 1. fit from training set\n",
    "standard_scaler.fit(df_train[factor_cols])\n",
    "# 2. transform train, val, test, ood sets, since stock factors are used in training feature, if we don't know future price, we can't normalize it with the future time duration\n",
    "df_train[factor_cols] = standard_scaler.transform(df_train[factor_cols])\n",
    "df_val[factor_cols] = standard_scaler.transform(df_val[factor_cols])\n",
    "df_test[factor_cols] = standard_scaler.transform(df_test[factor_cols])\n",
    "df_ood[factor_cols] = standard_scaler.transform(df_ood[factor_cols])"
   ]
  },
  {
   "cell_type": "code",
   "execution_count": 35,
   "metadata": {},
   "outputs": [
    {
     "data": {
      "text/html": [
       "<div>\n",
       "<style scoped>\n",
       "    .dataframe tbody tr th:only-of-type {\n",
       "        vertical-align: middle;\n",
       "    }\n",
       "\n",
       "    .dataframe tbody tr th {\n",
       "        vertical-align: top;\n",
       "    }\n",
       "\n",
       "    .dataframe thead th {\n",
       "        text-align: right;\n",
       "    }\n",
       "</style>\n",
       "<table border=\"1\" class=\"dataframe\">\n",
       "  <thead>\n",
       "    <tr style=\"text-align: right;\">\n",
       "      <th></th>\n",
       "      <th>ADX</th>\n",
       "      <th>MACD</th>\n",
       "      <th>MACDsignal</th>\n",
       "      <th>MACDhist</th>\n",
       "      <th>RSI</th>\n",
       "      <th>ATR</th>\n",
       "      <th>OBV</th>\n",
       "      <th>BETA</th>\n",
       "      <th>upperBAND</th>\n",
       "      <th>middleBAND</th>\n",
       "      <th>lowerBAND</th>\n",
       "      <th>成交股數</th>\n",
       "      <th>成交筆數</th>\n",
       "      <th>成交金額</th>\n",
       "      <th>殖利率(%)</th>\n",
       "      <th>本益比</th>\n",
       "      <th>股價淨值比</th>\n",
       "    </tr>\n",
       "  </thead>\n",
       "  <tbody>\n",
       "    <tr>\n",
       "      <th>count</th>\n",
       "      <td>966.000000</td>\n",
       "      <td>966.000000</td>\n",
       "      <td>966.000000</td>\n",
       "      <td>966.000000</td>\n",
       "      <td>966.000000</td>\n",
       "      <td>966.000000</td>\n",
       "      <td>966.000000</td>\n",
       "      <td>966.000000</td>\n",
       "      <td>966.000000</td>\n",
       "      <td>966.000000</td>\n",
       "      <td>966.000000</td>\n",
       "      <td>966.000000</td>\n",
       "      <td>966.000000</td>\n",
       "      <td>966.000000</td>\n",
       "      <td>966.000000</td>\n",
       "      <td>966.000000</td>\n",
       "      <td>966.000000</td>\n",
       "    </tr>\n",
       "    <tr>\n",
       "      <th>mean</th>\n",
       "      <td>-0.212638</td>\n",
       "      <td>-0.403629</td>\n",
       "      <td>-0.405320</td>\n",
       "      <td>-0.081285</td>\n",
       "      <td>-0.579616</td>\n",
       "      <td>0.036257</td>\n",
       "      <td>0.593025</td>\n",
       "      <td>-0.005024</td>\n",
       "      <td>0.043940</td>\n",
       "      <td>0.042693</td>\n",
       "      <td>0.041365</td>\n",
       "      <td>-0.132448</td>\n",
       "      <td>0.045810</td>\n",
       "      <td>-0.079999</td>\n",
       "      <td>0.341053</td>\n",
       "      <td>-0.232647</td>\n",
       "      <td>-0.091386</td>\n",
       "    </tr>\n",
       "    <tr>\n",
       "      <th>std</th>\n",
       "      <td>0.766514</td>\n",
       "      <td>0.916618</td>\n",
       "      <td>0.897444</td>\n",
       "      <td>1.047910</td>\n",
       "      <td>0.933763</td>\n",
       "      <td>0.999478</td>\n",
       "      <td>1.012624</td>\n",
       "      <td>0.489566</td>\n",
       "      <td>1.104521</td>\n",
       "      <td>1.101077</td>\n",
       "      <td>1.097217</td>\n",
       "      <td>0.595378</td>\n",
       "      <td>0.797022</td>\n",
       "      <td>0.746214</td>\n",
       "      <td>1.636098</td>\n",
       "      <td>0.417554</td>\n",
       "      <td>0.849880</td>\n",
       "    </tr>\n",
       "    <tr>\n",
       "      <th>min</th>\n",
       "      <td>-1.470384</td>\n",
       "      <td>-4.867690</td>\n",
       "      <td>-4.342935</td>\n",
       "      <td>-6.023422</td>\n",
       "      <td>-2.867218</td>\n",
       "      <td>-0.644171</td>\n",
       "      <td>-0.797139</td>\n",
       "      <td>-3.693150</td>\n",
       "      <td>-0.519720</td>\n",
       "      <td>-0.515604</td>\n",
       "      <td>-0.511090</td>\n",
       "      <td>-0.740519</td>\n",
       "      <td>-0.750970</td>\n",
       "      <td>-0.577486</td>\n",
       "      <td>-1.303126</td>\n",
       "      <td>-0.387766</td>\n",
       "      <td>-0.882346</td>\n",
       "    </tr>\n",
       "    <tr>\n",
       "      <th>25%</th>\n",
       "      <td>-0.770238</td>\n",
       "      <td>-0.397536</td>\n",
       "      <td>-0.408446</td>\n",
       "      <td>-0.171938</td>\n",
       "      <td>-1.231204</td>\n",
       "      <td>-0.540630</td>\n",
       "      <td>-0.481898</td>\n",
       "      <td>-0.277558</td>\n",
       "      <td>-0.469868</td>\n",
       "      <td>-0.467701</td>\n",
       "      <td>-0.464520</td>\n",
       "      <td>-0.485148</td>\n",
       "      <td>-0.450516</td>\n",
       "      <td>-0.498552</td>\n",
       "      <td>-0.552731</td>\n",
       "      <td>-0.370136</td>\n",
       "      <td>-0.680917</td>\n",
       "    </tr>\n",
       "    <tr>\n",
       "      <th>50%</th>\n",
       "      <td>-0.366219</td>\n",
       "      <td>-0.287045</td>\n",
       "      <td>-0.300072</td>\n",
       "      <td>-0.023299</td>\n",
       "      <td>-0.615185</td>\n",
       "      <td>-0.358914</td>\n",
       "      <td>0.736535</td>\n",
       "      <td>0.008368</td>\n",
       "      <td>-0.390584</td>\n",
       "      <td>-0.386916</td>\n",
       "      <td>-0.383374</td>\n",
       "      <td>-0.301737</td>\n",
       "      <td>-0.175167</td>\n",
       "      <td>-0.365407</td>\n",
       "      <td>0.018893</td>\n",
       "      <td>-0.307485</td>\n",
       "      <td>-0.219867</td>\n",
       "    </tr>\n",
       "    <tr>\n",
       "      <th>75%</th>\n",
       "      <td>0.226569</td>\n",
       "      <td>-0.184686</td>\n",
       "      <td>-0.188085</td>\n",
       "      <td>0.097122</td>\n",
       "      <td>-0.057537</td>\n",
       "      <td>-0.117702</td>\n",
       "      <td>1.262399</td>\n",
       "      <td>0.282053</td>\n",
       "      <td>-0.210780</td>\n",
       "      <td>-0.209869</td>\n",
       "      <td>-0.223621</td>\n",
       "      <td>-0.005354</td>\n",
       "      <td>0.236672</td>\n",
       "      <td>-0.046370</td>\n",
       "      <td>0.643487</td>\n",
       "      <td>-0.219723</td>\n",
       "      <td>-0.036342</td>\n",
       "    </tr>\n",
       "    <tr>\n",
       "      <th>max</th>\n",
       "      <td>2.501528</td>\n",
       "      <td>4.115770</td>\n",
       "      <td>3.491525</td>\n",
       "      <td>4.865049</td>\n",
       "      <td>2.393932</td>\n",
       "      <td>3.032884</td>\n",
       "      <td>2.928488</td>\n",
       "      <td>2.343626</td>\n",
       "      <td>3.550725</td>\n",
       "      <td>3.529668</td>\n",
       "      <td>3.523461</td>\n",
       "      <td>5.923989</td>\n",
       "      <td>6.367447</td>\n",
       "      <td>5.120882</td>\n",
       "      <td>9.423105</td>\n",
       "      <td>4.000977</td>\n",
       "      <td>2.752339</td>\n",
       "    </tr>\n",
       "  </tbody>\n",
       "</table>\n",
       "</div>"
      ],
      "text/plain": [
       "              ADX        MACD  MACDsignal    MACDhist         RSI         ATR  \\\n",
       "count  966.000000  966.000000  966.000000  966.000000  966.000000  966.000000   \n",
       "mean    -0.212638   -0.403629   -0.405320   -0.081285   -0.579616    0.036257   \n",
       "std      0.766514    0.916618    0.897444    1.047910    0.933763    0.999478   \n",
       "min     -1.470384   -4.867690   -4.342935   -6.023422   -2.867218   -0.644171   \n",
       "25%     -0.770238   -0.397536   -0.408446   -0.171938   -1.231204   -0.540630   \n",
       "50%     -0.366219   -0.287045   -0.300072   -0.023299   -0.615185   -0.358914   \n",
       "75%      0.226569   -0.184686   -0.188085    0.097122   -0.057537   -0.117702   \n",
       "max      2.501528    4.115770    3.491525    4.865049    2.393932    3.032884   \n",
       "\n",
       "              OBV        BETA   upperBAND  middleBAND   lowerBAND        成交股數  \\\n",
       "count  966.000000  966.000000  966.000000  966.000000  966.000000  966.000000   \n",
       "mean     0.593025   -0.005024    0.043940    0.042693    0.041365   -0.132448   \n",
       "std      1.012624    0.489566    1.104521    1.101077    1.097217    0.595378   \n",
       "min     -0.797139   -3.693150   -0.519720   -0.515604   -0.511090   -0.740519   \n",
       "25%     -0.481898   -0.277558   -0.469868   -0.467701   -0.464520   -0.485148   \n",
       "50%      0.736535    0.008368   -0.390584   -0.386916   -0.383374   -0.301737   \n",
       "75%      1.262399    0.282053   -0.210780   -0.209869   -0.223621   -0.005354   \n",
       "max      2.928488    2.343626    3.550725    3.529668    3.523461    5.923989   \n",
       "\n",
       "             成交筆數        成交金額      殖利率(%)         本益比       股價淨值比  \n",
       "count  966.000000  966.000000  966.000000  966.000000  966.000000  \n",
       "mean     0.045810   -0.079999    0.341053   -0.232647   -0.091386  \n",
       "std      0.797022    0.746214    1.636098    0.417554    0.849880  \n",
       "min     -0.750970   -0.577486   -1.303126   -0.387766   -0.882346  \n",
       "25%     -0.450516   -0.498552   -0.552731   -0.370136   -0.680917  \n",
       "50%     -0.175167   -0.365407    0.018893   -0.307485   -0.219867  \n",
       "75%      0.236672   -0.046370    0.643487   -0.219723   -0.036342  \n",
       "max      6.367447    5.120882    9.423105    4.000977    2.752339  "
      ]
     },
     "execution_count": 35,
     "metadata": {},
     "output_type": "execute_result"
    }
   ],
   "source": [
    "# disbutions of stock factors have huge difference between train, val, test, odd sets\n",
    "df_ood[factor_cols].describe()"
   ]
  },
  {
   "cell_type": "code",
   "execution_count": 36,
   "metadata": {},
   "outputs": [
    {
     "name": "stderr",
     "output_type": "stream",
     "text": [
      "100%|██████████| 2994/2994 [00:00<00:00, 13032.06it/s]\n",
      "100%|██████████| 370/370 [00:00<00:00, 12519.50it/s]\n",
      "100%|██████████| 406/406 [00:00<00:00, 12432.92it/s]\n",
      "100%|██████████| 966/966 [00:00<00:00, 12423.57it/s]\n"
     ]
    },
    {
     "data": {
      "text/plain": [
       "0       [-0.9392160968559649, -0.25256360486394674, -0...\n",
       "1       [-0.9030656630777636, -0.2506964345437408, -0....\n",
       "2       [-1.053264392077684, -0.2505141117397429, -0.2...\n",
       "3       [-0.9630569394036578, -0.2489039690422418, -0....\n",
       "4       [0.7654410752787565, -0.23768822362883638, -0....\n",
       "                              ...                        \n",
       "2989    [-0.27953503451935896, -0.21650721269386503, -...\n",
       "2990    [-0.17669761638285064, -0.2039810008777213, -0...\n",
       "2991    [-1.2500518254403596, -0.27266294117473866, -0...\n",
       "2992    [-1.2201032975634616, -0.26037208864985545, -0...\n",
       "2993    [-1.0208954034218096, -0.24920483004919916, -0...\n",
       "Name: stock_factors, Length: 2994, dtype: object"
      ]
     },
     "execution_count": 36,
     "metadata": {},
     "output_type": "execute_result"
    }
   ],
   "source": [
    "# 3. merge it to one column\n",
    "def merge_factors(df):\n",
    "    factor_values = df[factor_cols].values\n",
    "    df[\"stock_factors\"] = 0\n",
    "    for i in tqdm(range(df.shape[0])):\n",
    "        df.loc[i, \"stock_factors\"] = str(factor_values[i].tolist())\n",
    "    df = df.drop(factor_cols, axis=1)\n",
    "    return df\n",
    "\n",
    "df_train = merge_factors(df=df_train)\n",
    "df_val = merge_factors(df=df_val)\n",
    "df_test = merge_factors(df=df_test)\n",
    "df_ood = merge_factors(df=df_ood)\n",
    "df_train[\"stock_factors\"]"
   ]
  },
  {
   "cell_type": "code",
   "execution_count": 37,
   "metadata": {},
   "outputs": [
    {
     "name": "stdout",
     "output_type": "stream",
     "text": [
      "<class 'pandas.core.frame.DataFrame'>\n",
      "RangeIndex: 2994 entries, 0 to 2993\n",
      "Data columns (total 19 columns):\n",
      " #   Column         Non-Null Count  Dtype   \n",
      "---  ------         --------------  -----   \n",
      " 0   date           2994 non-null   object  \n",
      " 1   open           2994 non-null   float64 \n",
      " 2   high           2994 non-null   float64 \n",
      " 3   low            2994 non-null   float64 \n",
      " 4   close          2994 non-null   float64 \n",
      " 5   pre_close      2994 non-null   float64 \n",
      " 6   change         2994 non-null   float64 \n",
      " 7   pct_chg        2994 non-null   float64 \n",
      " 8   affected_date  2994 non-null   object  \n",
      " 9   news_count     2994 non-null   float64 \n",
      " 10  titles         2994 non-null   object  \n",
      " 11  verbA0A1       2994 non-null   object  \n",
      " 12  verb           2994 non-null   object  \n",
      " 13  A0             2994 non-null   object  \n",
      " 14  A1             2994 non-null   object  \n",
      " 15  stock_id       2994 non-null   int64   \n",
      " 16  label          2994 non-null   category\n",
      " 17  AV_num         2994 non-null   int64   \n",
      " 18  stock_factors  2994 non-null   object  \n",
      "dtypes: category(1), float64(8), int64(2), object(8)\n",
      "memory usage: 424.2+ KB\n"
     ]
    }
   ],
   "source": [
    "df_train.info()"
   ]
  },
  {
   "cell_type": "markdown",
   "metadata": {
    "id": "eg7yz0zXQujX"
   },
   "source": [
    "## Generating the masks of verb, A0, A1"
   ]
  },
  {
   "cell_type": "code",
   "execution_count": 38,
   "metadata": {
    "ExecuteTime": {
     "end_time": "2022-01-30T06:46:38.756741Z",
     "start_time": "2022-01-30T06:46:38.750225Z"
    },
    "id": "IWNPdn8fg4gG"
   },
   "outputs": [],
   "source": [
    "max_len = 512\n",
    "\n",
    "def string_to_tuples_list(text):\n",
    "    if text is np.nan or text =='[]':\n",
    "        return []\n",
    "    text = ''.join(text.split('], ['))\n",
    "    tmp = eval(text.strip('[').strip(']'))\n",
    "    if not isinstance(tmp[0],tuple):\n",
    "        return [tmp]\n",
    "    return list(tmp)\n",
    "\n",
    "def mask(df):\n",
    "    df = df.reset_index(drop = True)\n",
    "    df['verb_mask'] = 0\n",
    "    df['A0_mask'] = 0\n",
    "    df['A1_mask'] = 0\n",
    "    df['verb_mask'] = df['verb_mask'].astype('object')\n",
    "    df['A0_mask'] = df['A0_mask'].astype('object')\n",
    "    df['A1_mask'] = df['A1_mask'].astype('object')\n",
    "    for index,row in tqdm(df.iterrows()):\n",
    "\n",
    "        df.at[index,'stock_factors'] = [*map(float,df.loc[index,'stock_factors'])]\n",
    "        AV_num = 0\n",
    "        for k,col in enumerate(['verb','A0','A1']):\n",
    "            masks = []\n",
    "            for j in range(len(row['verbA0A1'])):\n",
    "                mask = np.zeros(max_len - 1)\n",
    "                idx = []\n",
    "                for v in row['verbA0A1'][j][k]:\n",
    "                    idx = idx + [int(i) for i in range(v[0],v[0]+v[1])]\n",
    "                counter = Counter(idx)\n",
    "\n",
    "                mask = [0 if counter[i]== 0 else 1/len(counter) for i in range(0,len(mask))]\n",
    "                mask.insert(0,0)\n",
    "                masks.append(mask)\n",
    "            AV_num = len(masks)\n",
    "            for i in range(10 - len(masks)):\n",
    "                masks.append(np.zeros(max_len))\n",
    "            while len(masks)>10:\n",
    "                masks.pop()\n",
    "            name = col+'_mask'\n",
    "            df.at[index,name] = np.array(masks)\n",
    "        if AV_num>10:\n",
    "            AV_num=10\n",
    "        df.loc[index,'AV_num'] = int(AV_num)\n",
    "    df.AV_num = df.AV_num.astype('int')\n",
    "    df.stock_factors = df.stock_factors.apply(np.array)\n",
    "    return df"
   ]
  },
  {
   "cell_type": "code",
   "execution_count": 39,
   "metadata": {
    "ExecuteTime": {
     "end_time": "2022-01-30T06:47:05.370370Z",
     "start_time": "2022-01-30T06:46:38.757407Z"
    },
    "id": "c4joMCxJKR5a"
   },
   "outputs": [
    {
     "name": "stderr",
     "output_type": "stream",
     "text": [
      "2693it [00:07, 345.95it/s]\n",
      "327it [00:00, 366.67it/s]\n",
      "364it [00:00, 387.58it/s]\n",
      "834it [00:02, 375.27it/s]"
     ]
    },
    {
     "name": "stdout",
     "output_type": "stream",
     "text": [
      "<class 'pandas.core.frame.DataFrame'>\n",
      "RangeIndex: 2693 entries, 0 to 2692\n",
      "Data columns (total 22 columns):\n",
      " #   Column         Non-Null Count  Dtype   \n",
      "---  ------         --------------  -----   \n",
      " 0   date           2693 non-null   object  \n",
      " 1   open           2693 non-null   float64 \n",
      " 2   high           2693 non-null   float64 \n",
      " 3   low            2693 non-null   float64 \n",
      " 4   close          2693 non-null   float64 \n",
      " 5   pre_close      2693 non-null   float64 \n",
      " 6   change         2693 non-null   float64 \n",
      " 7   pct_chg        2693 non-null   float64 \n",
      " 8   affected_date  2693 non-null   object  \n",
      " 9   news_count     2693 non-null   float64 \n",
      " 10  titles         2693 non-null   object  \n",
      " 11  verbA0A1       2693 non-null   object  \n",
      " 12  verb           2693 non-null   object  \n",
      " 13  A0             2693 non-null   object  \n",
      " 14  A1             2693 non-null   object  \n",
      " 15  stock_id       2693 non-null   int64   \n",
      " 16  label          2693 non-null   category\n",
      " 17  AV_num         2693 non-null   int64   \n",
      " 18  stock_factors  2693 non-null   object  \n",
      " 19  verb_mask      2693 non-null   object  \n",
      " 20  A0_mask        2693 non-null   object  \n",
      " 21  A1_mask        2693 non-null   object  \n",
      "dtypes: category(1), float64(8), int64(2), object(11)\n",
      "memory usage: 444.7+ KB\n",
      "<class 'pandas.core.frame.DataFrame'>\n",
      "RangeIndex: 327 entries, 0 to 326\n",
      "Data columns (total 22 columns):\n",
      " #   Column         Non-Null Count  Dtype   \n",
      "---  ------         --------------  -----   \n",
      " 0   date           327 non-null    object  \n",
      " 1   open           327 non-null    float64 \n",
      " 2   high           327 non-null    float64 \n",
      " 3   low            327 non-null    float64 \n",
      " 4   close          327 non-null    float64 \n",
      " 5   pre_close      327 non-null    float64 \n",
      " 6   change         327 non-null    float64 \n",
      " 7   pct_chg        327 non-null    float64 \n",
      " 8   affected_date  327 non-null    object  \n",
      " 9   news_count     327 non-null    float64 \n",
      " 10  titles         327 non-null    object  \n",
      " 11  verbA0A1       327 non-null    object  \n",
      " 12  verb           327 non-null    object  \n",
      " 13  A0             327 non-null    object  \n",
      " 14  A1             327 non-null    object  \n",
      " 15  stock_id       327 non-null    int64   \n",
      " 16  label          327 non-null    category\n",
      " 17  AV_num         327 non-null    int64   \n",
      " 18  stock_factors  327 non-null    object  \n",
      " 19  verb_mask      327 non-null    object  \n",
      " 20  A0_mask        327 non-null    object  \n",
      " 21  A1_mask        327 non-null    object  \n",
      "dtypes: category(1), float64(8), int64(2), object(11)\n",
      "memory usage: 54.2+ KB\n",
      "<class 'pandas.core.frame.DataFrame'>\n",
      "RangeIndex: 364 entries, 0 to 363\n",
      "Data columns (total 22 columns):\n",
      " #   Column         Non-Null Count  Dtype   \n",
      "---  ------         --------------  -----   \n",
      " 0   date           364 non-null    object  \n",
      " 1   open           364 non-null    float64 \n",
      " 2   high           364 non-null    float64 \n",
      " 3   low            364 non-null    float64 \n",
      " 4   close          364 non-null    float64 \n",
      " 5   pre_close      364 non-null    float64 \n",
      " 6   change         364 non-null    float64 \n",
      " 7   pct_chg        364 non-null    float64 \n",
      " 8   affected_date  364 non-null    object  \n",
      " 9   news_count     364 non-null    float64 \n",
      " 10  titles         364 non-null    object  \n",
      " 11  verbA0A1       364 non-null    object  \n",
      " 12  verb           364 non-null    object  \n",
      " 13  A0             364 non-null    object  \n",
      " 14  A1             364 non-null    object  \n",
      " 15  stock_id       364 non-null    int64   \n",
      " 16  label          364 non-null    category\n",
      " 17  AV_num         364 non-null    int64   \n",
      " 18  stock_factors  364 non-null    object  \n",
      " 19  verb_mask      364 non-null    object  \n",
      " 20  A0_mask        364 non-null    object  \n",
      " 21  A1_mask        364 non-null    object  \n",
      "dtypes: category(1), float64(8), int64(2), object(11)\n",
      "memory usage: 60.3+ KB\n",
      "<class 'pandas.core.frame.DataFrame'>\n",
      "RangeIndex: 834 entries, 0 to 833\n",
      "Data columns (total 22 columns):\n",
      " #   Column         Non-Null Count  Dtype   \n",
      "---  ------         --------------  -----   \n",
      " 0   date           834 non-null    object  \n",
      " 1   open           834 non-null    float64 \n",
      " 2   high           834 non-null    float64 \n",
      " 3   low            834 non-null    float64 \n",
      " 4   close          834 non-null    float64 \n",
      " 5   pre_close      834 non-null    float64 \n",
      " 6   change         834 non-null    float64 \n",
      " 7   pct_chg        834 non-null    float64 \n",
      " 8   affected_date  834 non-null    object  \n",
      " 9   news_count     834 non-null    float64 \n",
      " 10  titles         834 non-null    object  \n",
      " 11  verbA0A1       834 non-null    object  \n",
      " 12  verb           834 non-null    object  \n",
      " 13  A0             834 non-null    object  \n",
      " 14  A1             834 non-null    object  \n",
      " 15  stock_id       834 non-null    int64   \n",
      " 16  label          834 non-null    category\n",
      " 17  AV_num         834 non-null    int64   \n",
      " 18  stock_factors  834 non-null    object  \n",
      " 19  verb_mask      834 non-null    object  \n",
      " 20  A0_mask        834 non-null    object  \n",
      " 21  A1_mask        834 non-null    object  \n",
      "dtypes: category(1), float64(8), int64(2), object(11)\n",
      "memory usage: 137.9+ KB\n"
     ]
    },
    {
     "name": "stderr",
     "output_type": "stream",
     "text": [
      "\n"
     ]
    }
   ],
   "source": [
    "df_train = df_train[df_train[\"AV_num\"] > 0].reset_index(drop=True)\n",
    "df_val = df_val[df_val[\"AV_num\"] > 0].reset_index(drop=True)\n",
    "df_test = df_test[df_test[\"AV_num\"] > 0].reset_index(drop=True)\n",
    "df_ood = df_ood[df_ood[\"AV_num\"] > 0].reset_index(drop=True)\n",
    "\n",
    "\n",
    "for col in ['verb','A0','A1']:\n",
    "    df_train[col] = df_train[col].apply(string_to_tuples_list)\n",
    "    df_val[col] = df_val[col].apply(string_to_tuples_list)\n",
    "    df_test[col] = df_test[col].apply(string_to_tuples_list)\n",
    "    df_ood[col] = df_ood[col].apply(string_to_tuples_list)\n",
    "\n",
    "for col in ['stock_factors','verbA0A1']:\n",
    "    df_train[col] = df_train[col].apply(ast.literal_eval)\n",
    "    df_val[col] = df_val[col].apply(ast.literal_eval)\n",
    "    df_test[col] = df_test[col].apply(ast.literal_eval)\n",
    "    df_ood[col] = df_ood[col].apply(ast.literal_eval)\n",
    "\n",
    "\n",
    "df_train = mask(df=df_train)\n",
    "df_val = mask(df=df_val)\n",
    "df_test = mask(df=df_test)\n",
    "df_ood = mask(df=df_ood)\n",
    "\n",
    "df_train.info()\n",
    "df_val.info()\n",
    "df_test.info()\n",
    "df_ood.info()"
   ]
  },
  {
   "cell_type": "code",
   "execution_count": 40,
   "metadata": {},
   "outputs": [
    {
     "data": {
      "text/plain": [
       "[[[(3, 1)], [(0, 2)], [(4, 2)]], [[(16, 1)], [(0, 16)], [(17, 7)]]]"
      ]
     },
     "execution_count": 40,
     "metadata": {},
     "output_type": "execute_result"
    }
   ],
   "source": [
    "# df_train[\"titles\"].apply(lambda x: len(x)).value_counts().sort_index()\n",
    "df_train[\"verbA0A1\"][100]"
   ]
  },
  {
   "cell_type": "markdown",
   "metadata": {
    "id": "ajOfqpcWRBt9"
   },
   "source": [
    "## Create Dataloader"
   ]
  },
  {
   "cell_type": "code",
   "execution_count": 41,
   "metadata": {
    "ExecuteTime": {
     "end_time": "2022-01-30T06:47:05.568516Z",
     "start_time": "2022-01-30T06:47:05.560308Z"
    },
    "id": "WaKd7JaTy2gw"
   },
   "outputs": [],
   "source": [
    "BATCH_SIZE = 16\n",
    "class_names = ['negative', 'neutral', 'positive']\n",
    "class GPReviewDataset(Dataset):\n",
    "    def __init__(self, titles, targets, verb, A0, A1, AV_num, tokenizer, stock_factors, max_len):\n",
    "        self.titles = titles\n",
    "        self.targets = targets\n",
    "        self.stock_factors = stock_factors\n",
    "        self.verb = verb\n",
    "        self.A0 = A0\n",
    "        self.A1 = A1\n",
    "        self.AV_num = AV_num\n",
    "        self.tokenizer = tokenizer\n",
    "        self.max_len = max_len\n",
    "      \n",
    "    def __len__(self):\n",
    "        return len(self.titles)\n",
    "    \n",
    "    def __getitem__(self, item):\n",
    "        titles = str(self.titles[item])\n",
    "        target = self.targets[item]\n",
    "        stock_factors = self.stock_factors[item]\n",
    "        v = self.verb[item]\n",
    "        a0 = self.A0[item]\n",
    "        a1 = self.A1[item]\n",
    "        av_num = self.AV_num[item]\n",
    "\n",
    "        encoding = self.tokenizer.encode_plus(\n",
    "            titles,\n",
    "            add_special_tokens=True,\n",
    "            max_length=self.max_len,\n",
    "            return_token_type_ids=False,\n",
    "            padding='max_length',\n",
    "            truncation=True,\n",
    "            return_attention_mask=True,\n",
    "            return_tensors='pt',\n",
    "        )\n",
    "\n",
    "        return {\n",
    "            'titles': titles,\n",
    "            'input_ids': encoding['input_ids'].flatten(),\n",
    "            'attention_mask': encoding['attention_mask'].flatten(),\n",
    "            'targets': torch.tensor(target, dtype=torch.long),\n",
    "            'stock_factors':torch.tensor(stock_factors),\n",
    "            'verb': torch.tensor(v),\n",
    "            'A0': torch.tensor(a0),\n",
    "            'A1': torch.tensor(a1),\n",
    "            'AV_num': torch.tensor(av_num)\n",
    "        }"
   ]
  },
  {
   "cell_type": "code",
   "execution_count": 42,
   "metadata": {
    "ExecuteTime": {
     "end_time": "2022-01-30T06:47:05.575971Z",
     "start_time": "2022-01-30T06:47:05.569277Z"
    },
    "id": "cPZSIigpPtEr"
   },
   "outputs": [],
   "source": [
    "def create_data_loader(df, tokenizer, max_len, batch_size):\n",
    "    ds = GPReviewDataset(\n",
    "        titles=df.titles.to_numpy(),\n",
    "        targets=df.label.to_numpy(),\n",
    "        stock_factors = df.stock_factors,\n",
    "        verb = df.verb_mask,\n",
    "        A0 = df.A0_mask,\n",
    "        A1 = df.A1_mask,\n",
    "        AV_num = df.AV_num,\n",
    "        tokenizer=tokenizer,\n",
    "        max_len=max_len\n",
    "    )\n",
    "\n",
    "    return DataLoader(\n",
    "        ds,\n",
    "        batch_size=batch_size,\n",
    "        shuffle=True\n",
    "    )"
   ]
  },
  {
   "cell_type": "code",
   "execution_count": 45,
   "metadata": {
    "ExecuteTime": {
     "end_time": "2022-01-30T06:47:05.593632Z",
     "start_time": "2022-01-30T06:47:05.582263Z"
    },
    "id": "4bMEUzcABFvn"
   },
   "outputs": [],
   "source": [
    "train_data_loader = create_data_loader(df_train, tokenizer, max_len, BATCH_SIZE)\n",
    "val_data_loader = create_data_loader(df_val, tokenizer, max_len, BATCH_SIZE)\n",
    "test_data_loader = create_data_loader(df_test, tokenizer, max_len, BATCH_SIZE)\n",
    "ood_data_loader = create_data_loader(df_ood, tokenizer, max_len, BATCH_SIZE)"
   ]
  },
  {
   "cell_type": "code",
   "execution_count": 46,
   "metadata": {
    "ExecuteTime": {
     "end_time": "2022-01-30T06:47:05.631709Z",
     "start_time": "2022-01-30T06:47:05.595298Z"
    },
    "colab": {
     "base_uri": "https://localhost:8080/"
    },
    "executionInfo": {
     "elapsed": 26,
     "status": "ok",
     "timestamp": 1634194989997,
     "user": {
      "displayName": "Nero C",
      "photoUrl": "https://lh3.googleusercontent.com/a-/AOh14GjQRoCAV4q10k-DC7od7DeLQhSUCkvaI26E0x4r=s64",
      "userId": "13659571702895310340"
     },
     "user_tz": -630
    },
    "id": "vDjd-DrAUt-d",
    "outputId": "674d43cf-a7d6-4e5d-ebc2-bc8f72108a25"
   },
   "outputs": [
    {
     "data": {
      "text/plain": [
       "dict_keys(['titles', 'input_ids', 'attention_mask', 'targets', 'stock_factors', 'verb', 'A0', 'A1', 'AV_num'])"
      ]
     },
     "execution_count": 46,
     "metadata": {},
     "output_type": "execute_result"
    }
   ],
   "source": [
    "data = next(iter(train_data_loader))\n",
    "data.keys()"
   ]
  },
  {
   "cell_type": "code",
   "execution_count": 47,
   "metadata": {
    "ExecuteTime": {
     "end_time": "2022-01-30T06:47:06.222993Z",
     "start_time": "2022-01-30T06:47:06.202705Z"
    },
    "id": "hsRtLnPlWulS"
   },
   "outputs": [],
   "source": [
    "class SentimentClassifier(nn.Module):\n",
    "\n",
    "    def __init__(self, n_classes):\n",
    "        super(SentimentClassifier, self).__init__()\n",
    "        self.bert = BertModel.from_pretrained(PRE_TRAINED_MODEL_NAME).to(device)\n",
    "        self.encoder_layer =  nn.TransformerEncoderLayer(d_model=2304, nhead=1).to(device)\n",
    "        self.transformer_encoder = nn.TransformerEncoder(self.encoder_layer, num_layers=2).to(device)\n",
    "        self.drop = nn.Dropout(p=0.1).to(device)\n",
    "        self.out1 = nn.Linear((self.bert.config.hidden_size*3)*10, (self.bert.config.hidden_size*3)*3).to(device)\n",
    "        self.out = nn.Linear((self.bert.config.hidden_size*3)*3, n_classes).to(device)\n",
    "        self.avgpool = nn.AvgPool2d((3,2), stride=2).to(device)\n",
    "        self.flatten2 = nn.Flatten(2,-1).to(device)\n",
    "        self.flatten = nn.Flatten(1,-1).to(device)\n",
    "        self.sig = nn.Sigmoid().to(device)\n",
    "        self.relu = nn.ReLU().to(device)\n",
    "        self.Querry = nn.Linear(self.bert.config.hidden_size,self.bert.config.hidden_size,bias = False).to(device)\n",
    "        self.Key = nn.Linear(self.bert.config.hidden_size,self.bert.config.hidden_size,bias = False).to(device)\n",
    "        # self.Self_supervised = nn.Linear(self.bert.config.hidden_size,self.bert.config.hidden_size).to(device)\n",
    "    \n",
    "    def forward(self, input_ids, attention_mask, verb, A0, A1, AV_num):\n",
    "        # get bert embedding \n",
    "        hidden_state = self.bert(\n",
    "            input_ids=input_ids,\n",
    "            attention_mask=attention_mask\n",
    "        )[0].to(device)\n",
    "        batch = hidden_state.shape[0]\n",
    "        verb_tmp = verb.clone().to(device)\n",
    "\n",
    "        # mask verb\n",
    "        AV_idx = []\n",
    "        for idx, num in enumerate(AV_num):\n",
    "            self_label = torch.randint(0,num,(1,))[0].to(device)\n",
    "            AV_idx.append(self_label)\n",
    "            verb_tmp[idx,self_label,:]=0\n",
    "\n",
    "        # verb label\n",
    "        AV_idx = torch.tensor(AV_idx).to(device)\n",
    "\n",
    "        V_mask = torch.unsqueeze(verb,3).to(device)\n",
    "        V_mask = torch.cat(768 * [V_mask],3).to(device)\n",
    "        V_mask = torch.mean(V_mask*torch.unsqueeze(hidden_state,1),2,True).to(device)\n",
    "        K = self.Key(torch.squeeze(V_mask.float())).to(device)\n",
    "        \n",
    "        # get verb embedding after masking(8*10*1*768)\n",
    "        V_mask_mask = torch.unsqueeze(verb_tmp,3).to(device)\n",
    "        V_mask_mask = torch.cat(768 * [V_mask_mask],3).to(device)\n",
    "        transformer_input = torch.mean(V_mask_mask*torch.unsqueeze(hidden_state,1),2,True).to(device)\n",
    "\n",
    "        # get A0 embedding(8*10*2*768)\n",
    "        A0_mask = torch.unsqueeze(A0,3).to(device)\n",
    "        A0_mask = torch.cat(768 * [A0_mask],3).to(device)\n",
    "        A0_mask = torch.mean(A0_mask*torch.unsqueeze(hidden_state,1),2,True).to(device)\n",
    "        transformer_input = torch.cat([transformer_input,A0_mask],2).to(device)\n",
    "\n",
    "        # get A1 embedding(8*10*3*768)\n",
    "        A1_mask = torch.unsqueeze(A1,3).to(device)\n",
    "        A1_mask = torch.cat(768 * [A1_mask],3).to(device)\n",
    "        A1_mask = torch.mean(A1_mask*torch.unsqueeze(hidden_state,1),2,True).to(device)\n",
    "        transformer_input = torch.cat([transformer_input,A1_mask],2).to(device)\n",
    "\n",
    "        # get transformer input(8*10*2304)\n",
    "        transformer_input = self.flatten2(transformer_input.float()).to(device)\n",
    "\n",
    "        # turn to (10*8*2304)\n",
    "        transformer_input = torch.stack([transformer_input[:,i,:].to(device) for i in range(0,len(A0[0]))])\n",
    "\n",
    "        # get transformer output(10*8*2304)\n",
    "        transformer_output = self.transformer_encoder(transformer_input).to(device)\n",
    "\n",
    "        # turn to (8*10*2304)\n",
    "        transformer_output = torch.stack([torch.squeeze(transformer_output[:,i,:]).to(device) for i in range(0,batch)])\n",
    "        transformer_output = torch.squeeze(transformer_output).to(device)\n",
    "\n",
    "        # turn to (8*10*2304)\n",
    "        self_pred = torch.zeros((batch,10)).to(device)\n",
    "        if transformer_output.dim()==2:\n",
    "            transformer_output = torch.unsqueeze(transformer_output,0).to(device)\n",
    "\n",
    "        # Q For CL\n",
    "        for idx,i in enumerate(AV_idx):\n",
    "            Q = torch.unsqueeze(self.Querry(transformer_output[idx,i,:768]),0).to(device)\n",
    "            self_pred[idx]=(Q @ K[idx].T).to(device)\n",
    "\n",
    "        # get transformer input for classification(8*10*3*768)\n",
    "        transformer_input = torch.cat([V_mask,A0_mask,A1_mask],2).to(device)\n",
    "        # get transformer input(8*10*2304)\n",
    "        transformer_input = self.flatten2(transformer_input.float()).to(device)\n",
    "\n",
    "        # get transformer output(10*8*2304)\n",
    "        transformer_input = torch.stack([transformer_input[:,i,:].to(device) for i in range(0,len(A0[0]))])\n",
    "        transformer_output = self.transformer_encoder(transformer_input).to(device)\n",
    "\n",
    "        # turn to (8*10*2304)\n",
    "        transformer_output = torch.stack([torch.squeeze(transformer_output[:,i,:]).to(device) for i in range(0,batch)])\n",
    "        transformer_output = torch.squeeze(transformer_output).to(device)\n",
    "\n",
    "        # handle exception\n",
    "        if transformer_output.dim()==2:\n",
    "            transformer_output = torch.unsqueeze(transformer_output,0).to(device)\n",
    "\n",
    "        output = self.flatten(transformer_output.float()).to(device)\n",
    "        output = self.sig(output).to(device)\n",
    "        output = self.out1(output).to(device)\n",
    "        output = self.sig(output).to(device)\n",
    "        output = self.drop(output).to(device)\n",
    "        output = self.out(output).to(device)\n",
    "\n",
    "        return output,self_pred,AV_idx\n"
   ]
  },
  {
   "cell_type": "code",
   "execution_count": 48,
   "metadata": {
    "ExecuteTime": {
     "end_time": "2022-01-30T06:47:09.800512Z",
     "start_time": "2022-01-30T06:47:06.223634Z"
    },
    "colab": {
     "base_uri": "https://localhost:8080/"
    },
    "executionInfo": {
     "elapsed": 5657,
     "status": "ok",
     "timestamp": 1634194997335,
     "user": {
      "displayName": "Nero C",
      "photoUrl": "https://lh3.googleusercontent.com/a-/AOh14GjQRoCAV4q10k-DC7od7DeLQhSUCkvaI26E0x4r=s64",
      "userId": "13659571702895310340"
     },
     "user_tz": -630
    },
    "id": "KQEOV2pfYBPs",
    "outputId": "215b9b5c-7356-4e61-e001-61f5dbb29660"
   },
   "outputs": [
    {
     "name": "stderr",
     "output_type": "stream",
     "text": [
      "Some weights of the model checkpoint at /home/jovyan/graph-stock-pred/Astock/models/ROBERT_4_model were not used when initializing BertModel: ['cls.predictions.transform.LayerNorm.weight', 'cls.predictions.decoder.bias', 'cls.predictions.bias', 'cls.predictions.transform.LayerNorm.bias', 'cls.predictions.transform.dense.bias', 'cls.predictions.transform.dense.weight', 'cls.predictions.decoder.weight']\n",
      "- This IS expected if you are initializing BertModel from the checkpoint of a model trained on another task or with another architecture (e.g. initializing a BertForSequenceClassification model from a BertForPreTraining model).\n",
      "- This IS NOT expected if you are initializing BertModel from the checkpoint of a model that you expect to be exactly identical (initializing a BertForSequenceClassification model from a BertForSequenceClassification model).\n",
      "Some weights of BertModel were not initialized from the model checkpoint at /home/jovyan/graph-stock-pred/Astock/models/ROBERT_4_model and are newly initialized: ['bert.pooler.dense.weight', 'bert.pooler.dense.bias']\n",
      "You should probably TRAIN this model on a down-stream task to be able to use it for predictions and inference.\n"
     ]
    },
    {
     "name": "stdout",
     "output_type": "stream",
     "text": [
      "Using 4 GPUs\n"
     ]
    }
   ],
   "source": [
    "model = SentimentClassifier(n_classes=3)\n",
    "if torch.cuda.device_count() > 1:\n",
    "    print(\"Using\", torch.cuda.device_count(), \"GPUs\")\n",
    "    model = nn.DataParallel(model.cuda(), device_ids=[0, 1, 2, 3])\n",
    "model = model.to(device)\n"
   ]
  },
  {
   "cell_type": "code",
   "execution_count": 54,
   "metadata": {
    "ExecuteTime": {
     "end_time": "2022-01-30T06:47:09.803069Z",
     "start_time": "2022-01-30T06:47:09.801356Z"
    },
    "colab": {
     "base_uri": "https://localhost:8080/"
    },
    "executionInfo": {
     "elapsed": 42,
     "status": "ok",
     "timestamp": 1634194997338,
     "user": {
      "displayName": "Nero C",
      "photoUrl": "https://lh3.googleusercontent.com/a-/AOh14GjQRoCAV4q10k-DC7od7DeLQhSUCkvaI26E0x4r=s64",
      "userId": "13659571702895310340"
     },
     "user_tz": -630
    },
    "id": "uLl-umJKYGtB",
    "outputId": "30fb9ea3-81b2-4371-a0c7-198c44fe1759"
   },
   "outputs": [
    {
     "name": "stdout",
     "output_type": "stream",
     "text": [
      "torch.Size([16, 512])\n",
      "torch.Size([16, 512])\n"
     ]
    }
   ],
   "source": [
    "input_ids = data['input_ids'].to(device)\n",
    "attention_mask = data['attention_mask'].to(device)\n",
    "verbs = data['verb'].to(device)\n",
    "A0s = data['A0'].to(device)\n",
    "A1s = data['A1'].to(device)\n",
    "AV_num = data['AV_num'].to(device)\n",
    "print(input_ids.shape) # batch size x seq length\n",
    "print(attention_mask.shape) # batch size x seq length"
   ]
  },
  {
   "cell_type": "code",
   "execution_count": 55,
   "metadata": {
    "ExecuteTime": {
     "end_time": "2022-01-30T06:47:09.814611Z",
     "start_time": "2022-01-30T06:47:09.803737Z"
    },
    "colab": {
     "base_uri": "https://localhost:8080/"
    },
    "executionInfo": {
     "elapsed": 32,
     "status": "ok",
     "timestamp": 1634194997338,
     "user": {
      "displayName": "Nero C",
      "photoUrl": "https://lh3.googleusercontent.com/a-/AOh14GjQRoCAV4q10k-DC7od7DeLQhSUCkvaI26E0x4r=s64",
      "userId": "13659571702895310340"
     },
     "user_tz": -630
    },
    "id": "VX0A_axjYJfP",
    "outputId": "599623bc-5aec-47ba-b3fd-ba2396412792"
   },
   "outputs": [
    {
     "data": {
      "text/plain": [
       "tensor([[0.1752, 0.4309, 0.3939],\n",
       "        [0.1621, 0.3578, 0.4801],\n",
       "        [0.2028, 0.3698, 0.4274],\n",
       "        [0.1846, 0.3648, 0.4507],\n",
       "        [0.1791, 0.4375, 0.3834],\n",
       "        [0.1599, 0.3506, 0.4895],\n",
       "        [0.1976, 0.3713, 0.4311],\n",
       "        [0.1871, 0.3687, 0.4442],\n",
       "        [0.1763, 0.4364, 0.3873],\n",
       "        [0.1619, 0.3517, 0.4864],\n",
       "        [0.2031, 0.3714, 0.4255],\n",
       "        [0.1838, 0.3721, 0.4441],\n",
       "        [0.1733, 0.4375, 0.3892],\n",
       "        [0.1619, 0.3537, 0.4844],\n",
       "        [0.2029, 0.3715, 0.4256],\n",
       "        [0.1868, 0.3643, 0.4489]], device='cuda:0', grad_fn=<SoftmaxBackward>)"
      ]
     },
     "execution_count": 55,
     "metadata": {},
     "output_type": "execute_result"
    }
   ],
   "source": [
    "F.softmax(model(input_ids, attention_mask, verb=verbs, A0=A0s, A1=A1s, AV_num=AV_num)[0], dim=1)"
   ]
  },
  {
   "cell_type": "code",
   "execution_count": 49,
   "metadata": {
    "ExecuteTime": {
     "end_time": "2022-01-30T06:47:09.823214Z",
     "start_time": "2022-01-30T06:47:09.815498Z"
    },
    "id": "4q2fUr9TYMxW"
   },
   "outputs": [],
   "source": [
    "EPOCHS = 10\n",
    "\n",
    "optimizer = AdamW(model.parameters(), lr=1e-5, correct_bias=False)\n",
    "total_steps = len(train_data_loader) * EPOCHS\n",
    "\n",
    "scheduler = get_linear_schedule_with_warmup(\n",
    "    optimizer,\n",
    "    num_warmup_steps=0,\n",
    "    num_training_steps=total_steps\n",
    ")\n",
    "\n",
    "loss_fn = nn.CrossEntropyLoss().to(device)"
   ]
  },
  {
   "cell_type": "code",
   "execution_count": 50,
   "metadata": {
    "ExecuteTime": {
     "end_time": "2022-01-30T06:47:09.828866Z",
     "start_time": "2022-01-30T06:47:09.823835Z"
    },
    "id": "oLLFWDvDYeeS"
   },
   "outputs": [],
   "source": [
    "def train_epoch(\n",
    "    model, \n",
    "    data_loader, \n",
    "    loss_fn, \n",
    "    optimizer, \n",
    "    device, \n",
    "    scheduler, \n",
    "    n_examples\n",
    "):\n",
    "    model = model.train()\n",
    "\n",
    "    losses = []\n",
    "    correct_predictions = 0\n",
    "    correct_predictions_verbs = 0\n",
    "\n",
    "    for d in data_loader:\n",
    "        input_ids = d[\"input_ids\"].to(device)\n",
    "        attention_mask = d[\"attention_mask\"].to(device)\n",
    "        targets = d[\"targets\"].to(device)\n",
    "        verb = d[\"verb\"].to(device)\n",
    "        A0 = d[\"A0\"].to(device)\n",
    "        A1 = d[\"A1\"].to(device)\n",
    "        AV_num = d[\"AV_num\"].to(device)\n",
    "\n",
    "        outputs,self_outputs,self_labels = model(\n",
    "            input_ids=input_ids,\n",
    "            attention_mask=attention_mask,\n",
    "            verb = verb,\n",
    "            A0 = A0,\n",
    "            A1 = A1,\n",
    "            AV_num = AV_num\n",
    "        )\n",
    "        self_outputs = self_outputs.to(device)\n",
    "        self_labels = self_labels.to(device)\n",
    "\n",
    "        if outputs.dim()==1:\n",
    "            outputs = torch.unsqueeze(outputs,0)\n",
    "        _, preds = torch.max(outputs, dim=1)\n",
    "        _, self_preds = torch.max(self_outputs, dim=1)\n",
    "        \n",
    "        # print(targets.shape,outputs.shape)\n",
    "        loss = 0.8*loss_fn(outputs, targets)+0.2*loss_fn(self_outputs,self_labels)\n",
    "\n",
    "        correct_predictions += torch.sum(preds == targets)\n",
    "        correct_predictions_verbs += torch.sum(self_preds == self_labels)\n",
    "        losses.append(loss.item())\n",
    "\n",
    "        loss.backward()\n",
    "        nn.utils.clip_grad_norm_(model.parameters(), max_norm=1.0)\n",
    "        optimizer.step()\n",
    "        scheduler.step()\n",
    "        optimizer.zero_grad()\n",
    "\n",
    "    return correct_predictions.double() / n_examples, np.mean(losses), correct_predictions_verbs.double()/n_examples"
   ]
  },
  {
   "cell_type": "code",
   "execution_count": 51,
   "metadata": {
    "ExecuteTime": {
     "end_time": "2022-01-30T06:47:09.836507Z",
     "start_time": "2022-01-30T06:47:09.829560Z"
    },
    "id": "VmDYxiXDYl-u"
   },
   "outputs": [],
   "source": [
    "def eval_model(model, data_loader, loss_fn, device, n_examples):\n",
    "    model = model.eval()\n",
    "\n",
    "    losses = []\n",
    "    correct_predictions = 0\n",
    "\n",
    "    with torch.no_grad():\n",
    "        for d in data_loader:\n",
    "            input_ids = d[\"input_ids\"].to(device)\n",
    "            attention_mask = d[\"attention_mask\"].to(device)\n",
    "            targets = d[\"targets\"].to(device)\n",
    "            verb = d[\"verb\"].to(device)\n",
    "            A0 = d[\"A0\"].to(device)\n",
    "            A1 = d[\"A1\"].to(device)\n",
    "            AV_num = d[\"AV_num\"].to(device)\n",
    "\n",
    "            outputs = model(\n",
    "                input_ids=input_ids,\n",
    "                attention_mask=attention_mask,\n",
    "                verb = verb,\n",
    "                A0 = A0,\n",
    "                A1 = A1,\n",
    "                AV_num = AV_num\n",
    "            )[0]\n",
    "            \n",
    "            if outputs.dim()==1:\n",
    "                outputs = torch.unsqueeze(outputs,0)\n",
    "            _, preds = torch.max(outputs, dim=1)\n",
    "\n",
    "            loss = loss_fn(outputs, targets)\n",
    "\n",
    "            correct_predictions += torch.sum(preds == targets)\n",
    "            \n",
    "            losses.append(loss.item())\n",
    "\n",
    "    return correct_predictions.double() / n_examples, np.mean(losses)"
   ]
  },
  {
   "cell_type": "code",
   "execution_count": 52,
   "metadata": {
    "ExecuteTime": {
     "end_time": "2022-01-30T06:47:09.843747Z",
     "start_time": "2022-01-30T06:47:09.837139Z"
    },
    "id": "Nkvo-2p93Dnr"
   },
   "outputs": [],
   "source": [
    "history = defaultdict(list)\n",
    "best_accuracy = 0"
   ]
  },
  {
   "cell_type": "code",
   "execution_count": 53,
   "metadata": {
    "colab": {
     "background_save": true,
     "base_uri": "https://localhost:8080/"
    },
    "id": "VZvKK2TkYojZ",
    "outputId": "c2ab0a75-6fee-4af7-8a3e-0846f2c720db",
    "scrolled": false
   },
   "outputs": [
    {
     "name": "stdout",
     "output_type": "stream",
     "text": [
      "Epoch 1/10\n",
      "----------\n",
      "Train loss 1.2497852222453913 accuracy 0.3650204233197178 cl_accuracy 0.4184923876717415\n",
      "Val   loss 1.082663362934476 accuracy 0.3730886850152905\n",
      "\n",
      "Epoch 2/10\n",
      "----------\n",
      "Train loss 1.1044861519125087 accuracy 0.4303750464166357 cl_accuracy 0.4225770516152989\n",
      "Val   loss 1.0592458446820576 accuracy 0.3944954128440367\n",
      "\n",
      "Epoch 3/10\n",
      "----------\n",
      "Train loss 1.0554066388564702 accuracy 0.45302636464909024 cl_accuracy 0.4184923876717415\n",
      "Val   loss 1.074936372893197 accuracy 0.4434250764525994\n",
      "\n",
      "Epoch 4/10\n",
      "----------\n",
      "Train loss 1.0002328227962969 accuracy 0.5139249907166729 cl_accuracy 0.4251763832157445\n",
      "Val   loss 1.0773264538674128 accuracy 0.4709480122324159\n",
      "\n",
      "Epoch 5/10\n",
      "----------\n",
      "Train loss 0.9415564995545608 accuracy 0.5837356108429261 cl_accuracy 0.428518380987746\n",
      "Val   loss 1.2080329259236653 accuracy 0.39143730886850153\n",
      "\n",
      "Epoch 6/10\n",
      "----------\n",
      "Train loss 0.8764222553495825 accuracy 0.6468622354251764 cl_accuracy 0.42406238395841067\n",
      "Val   loss 1.3539522630827767 accuracy 0.44036697247706424\n",
      "\n",
      "Epoch 7/10\n",
      "----------\n",
      "Train loss 0.8138126441712915 accuracy 0.681767545488303 cl_accuracy 0.4225770516152989\n",
      "Val   loss 1.2896868558157057 accuracy 0.41896024464831805\n",
      "\n",
      "Epoch 8/10\n",
      "----------\n",
      "Train loss 0.7526063047922574 accuracy 0.720386186409209 cl_accuracy 0.41663572224285184\n",
      "Val   loss 1.344394482317425 accuracy 0.40672782874617736\n",
      "\n",
      "Epoch 9/10\n",
      "----------\n",
      "Train loss 0.7115921677922356 accuracy 0.7441515038989974 cl_accuracy 0.421834385443743\n",
      "Val   loss 1.4166350903965177 accuracy 0.40672782874617736\n",
      "\n",
      "Epoch 10/10\n",
      "----------\n",
      "Train loss 0.685070716770443 accuracy 0.7649461567025622 cl_accuracy 0.42814704790196806\n",
      "Val   loss 1.4349569706689744 accuracy 0.41284403669724773\n",
      "\n",
      "CPU times: user 52min 34s, sys: 6min 58s, total: 59min 33s\n",
      "Wall time: 39min 14s\n"
     ]
    }
   ],
   "source": [
    "%%time\n",
    "\n",
    "for epoch in range(EPOCHS):\n",
    "\n",
    "  print(f'Epoch {epoch + 1}/{EPOCHS}')\n",
    "  print('-' * 10)\n",
    "\n",
    "  train_acc, train_loss, cl_acc = train_epoch(\n",
    "    model,\n",
    "    train_data_loader,    \n",
    "    loss_fn, \n",
    "    optimizer, \n",
    "    device, \n",
    "    scheduler, \n",
    "    len(df_train)\n",
    "  )\n",
    "\n",
    "  print(f'Train loss {train_loss} accuracy {train_acc} cl_accuracy {cl_acc}')\n",
    "\n",
    "  val_acc, val_loss = eval_model(\n",
    "    model,\n",
    "    val_data_loader,\n",
    "    loss_fn, \n",
    "    device, \n",
    "    len(df_val)\n",
    "  )\n",
    "\n",
    "  print(f'Val   loss {val_loss} accuracy {val_acc}')\n",
    "  print()\n",
    "\n",
    "  history['train_acc'].append(train_acc)\n",
    "  history['train_loss'].append(train_loss)\n",
    "  history['val_acc'].append(val_acc)\n",
    "  history['val_loss'].append(val_loss)\n",
    "\n",
    "  if val_acc > best_accuracy:\n",
    "    torch.save(model.state_dict(), 'Pretrained_RoBert_SRL(FC)_CL(V).bin')\n",
    "    best_accuracy = val_acc\n"
   ]
  },
  {
   "cell_type": "code",
   "execution_count": 54,
   "metadata": {
    "ExecuteTime": {
     "end_time": "2022-01-30T06:47:17.722138Z",
     "start_time": "2022-01-30T06:47:17.582730Z"
    },
    "colab": {
     "background_save": true
    },
    "id": "xu7Y2BPzLZgi",
    "outputId": "464a72dd-decd-4758-c2a4-ed850769df71"
   },
   "outputs": [
    {
     "data": {
      "image/png": "[encoded data removed]",
      "text/plain": [
       "<Figure size 864x576 with 1 Axes>"
      ]
     },
     "metadata": {
      "image/png": {
       "height": 506,
       "width": 732
      }
     },
     "output_type": "display_data"
    }
   ],
   "source": [
    "plt.plot([i.cpu() for i in history['train_acc']], label='train accuracy')\n",
    "plt.plot([i.cpu() for i in history['val_acc']], label='validation accuracy')\n",
    "\n",
    "plt.title('Training history')\n",
    "plt.ylabel('Accuracy')\n",
    "plt.xlabel('Epoch')\n",
    "plt.legend()\n",
    "plt.ylim([0, 1]);"
   ]
  },
  {
   "cell_type": "code",
   "execution_count": 22,
   "metadata": {
    "ExecuteTime": {
     "end_time": "2022-01-30T06:47:19.946047Z",
     "start_time": "2022-01-30T06:47:17.723189Z"
    },
    "colab": {
     "background_save": true
    },
    "id": "YYMhWiIrBrV4",
    "outputId": "715ceb5a-ae70-4412-a3ab-720a04955b93"
   },
   "outputs": [
    {
     "name": "stderr",
     "output_type": "stream",
     "text": [
      "Some weights of the model checkpoint at /home/jovyan/graph-stock-pred/Astock/models/ROBERT_4_model were not used when initializing BertModel: ['cls.predictions.transform.LayerNorm.weight', 'cls.predictions.bias', 'cls.predictions.decoder.weight', 'cls.predictions.transform.dense.bias', 'cls.predictions.transform.LayerNorm.bias', 'cls.predictions.transform.dense.weight', 'cls.predictions.decoder.bias']\n",
      "- This IS expected if you are initializing BertModel from the checkpoint of a model trained on another task or with another architecture (e.g. initializing a BertForSequenceClassification model from a BertForPreTraining model).\n",
      "- This IS NOT expected if you are initializing BertModel from the checkpoint of a model that you expect to be exactly identical (initializing a BertForSequenceClassification model from a BertForSequenceClassification model).\n",
      "Some weights of BertModel were not initialized from the model checkpoint at /home/jovyan/graph-stock-pred/Astock/models/ROBERT_4_model and are newly initialized: ['bert.pooler.dense.weight', 'bert.pooler.dense.bias']\n",
      "You should probably TRAIN this model on a down-stream task to be able to use it for predictions and inference.\n"
     ]
    },
    {
     "name": "stdout",
     "output_type": "stream",
     "text": [
      "Using 4 GPUs\n"
     ]
    },
    {
     "data": {
      "text/plain": [
       "<All keys matched successfully>"
      ]
     },
     "execution_count": 22,
     "metadata": {},
     "output_type": "execute_result"
    }
   ],
   "source": [
    "# !gdown --id 1V8itWtowCYnb2Bc9KlK9SxGff9WwmogA\n",
    "\n",
    "model = SentimentClassifier(len(class_names))\n",
    "if torch.cuda.device_count() > 1:\n",
    "    print(\"Using\", torch.cuda.device_count(), \"GPUs\")\n",
    "    model = nn.DataParallel(model.cuda(), device_ids=[0, 1, 2, 3])\n",
    "model = model.to(device)\n",
    "model.load_state_dict(torch.load('Pretrained_RoBert_SRL(FC)_CL(V).bin'))"
   ]
  },
  {
   "cell_type": "code",
   "execution_count": 61,
   "metadata": {
    "ExecuteTime": {
     "end_time": "2022-01-30T06:47:19.949240Z",
     "start_time": "2022-01-30T06:47:19.946829Z"
    },
    "colab": {
     "background_save": true
    },
    "id": "KYRPY0C-fFQh",
    "outputId": "5ff644a7-ed8f-4e1d-c846-e26640849d2f"
   },
   "outputs": [
    {
     "data": {
      "text/plain": [
       "889"
      ]
     },
     "execution_count": 61,
     "metadata": {},
     "output_type": "execute_result"
    }
   ],
   "source": [
    "len(df_test)"
   ]
  },
  {
   "cell_type": "code",
   "execution_count": 55,
   "metadata": {
    "ExecuteTime": {
     "end_time": "2022-01-30T06:47:27.960499Z",
     "start_time": "2022-01-30T06:47:19.949796Z"
    },
    "colab": {
     "background_save": true
    },
    "id": "c7Cckbz8GbDK",
    "outputId": "a3332b1f-6762-40f0-812b-db4844ec2d4d"
   },
   "outputs": [
    {
     "data": {
      "text/plain": [
       "0.4642857142857143"
      ]
     },
     "execution_count": 55,
     "metadata": {},
     "output_type": "execute_result"
    }
   ],
   "source": [
    "test_acc, _ = eval_model(\n",
    "  model,\n",
    "  test_data_loader,\n",
    "  loss_fn,\n",
    "  device,\n",
    "  len(df_test)\n",
    ")\n",
    "\n",
    "test_acc.item()"
   ]
  },
  {
   "cell_type": "code",
   "execution_count": 56,
   "metadata": {
    "ExecuteTime": {
     "end_time": "2022-01-30T06:47:27.965662Z",
     "start_time": "2022-01-30T06:47:27.961479Z"
    },
    "colab": {
     "background_save": true
    },
    "id": "a0Qemnl0FiEb"
   },
   "outputs": [],
   "source": [
    "def get_predictions(model, data_loader):\n",
    "  model = model.eval()\n",
    "  \n",
    "  review_texts = []\n",
    "  predictions = []\n",
    "  prediction_probs = []\n",
    "  real_values = []\n",
    "\n",
    "  with torch.no_grad():\n",
    "    for d in data_loader:\n",
    "\n",
    "      texts = d[\"titles\"]\n",
    "      input_ids = d[\"input_ids\"].to(device)\n",
    "      attention_mask = d[\"attention_mask\"].to(device)\n",
    "      targets = d[\"targets\"].to(device)\n",
    "      verb = d[\"verb\"].to(device)\n",
    "      A0 = d[\"A0\"].to(device)\n",
    "      A1 = d[\"A1\"].to(device)\n",
    "      AV_num = d['AV_num'].to(device)\n",
    "\n",
    "      outputs = model(\n",
    "        input_ids=input_ids,\n",
    "        attention_mask=attention_mask,\n",
    "        verb = verb,\n",
    "        A0 = A0,\n",
    "        A1 = A1,\n",
    "        AV_num = AV_num\n",
    "      )[0]\n",
    "#       _, preds = torch.max(outputs, dim=1)\n",
    "      \n",
    "      if outputs.dim()==1:\n",
    "        outputs = torch.unsqueeze(outputs,0)\n",
    "      _, preds = torch.max(outputs, dim=1)\n",
    "\n",
    "      probs = F.softmax(outputs, dim=1)\n",
    "\n",
    "      review_texts.extend(texts)\n",
    "      predictions.extend(preds)\n",
    "      prediction_probs.extend(probs)\n",
    "      real_values.extend(targets)\n",
    "\n",
    "  predictions = torch.stack(predictions).cpu()\n",
    "  prediction_probs = torch.stack(prediction_probs).cpu()\n",
    "  real_values = torch.stack(real_values).cpu()\n",
    "  return review_texts, predictions, prediction_probs, real_values"
   ]
  },
  {
   "cell_type": "code",
   "execution_count": 57,
   "metadata": {
    "ExecuteTime": {
     "end_time": "2022-01-30T06:47:27.979704Z",
     "start_time": "2022-01-30T06:47:27.966242Z"
    }
   },
   "outputs": [],
   "source": [
    "def show_confusion_matrix(confusion_matrix):\n",
    "  hmap = sns.heatmap(confusion_matrix, annot=True, fmt=\"d\", cmap=\"Blues\")\n",
    "  hmap.yaxis.set_ticklabels(hmap.yaxis.get_ticklabels(), rotation=0, ha='right')\n",
    "  hmap.xaxis.set_ticklabels(hmap.xaxis.get_ticklabels(), rotation=30, ha='right')\n",
    "  plt.ylabel('True sentiment')\n",
    "  plt.xlabel('Predicted sentiment');"
   ]
  },
  {
   "cell_type": "code",
   "execution_count": 58,
   "metadata": {
    "ExecuteTime": {
     "end_time": "2022-01-30T06:47:35.647733Z",
     "start_time": "2022-01-30T06:47:27.980681Z"
    },
    "colab": {
     "background_save": true
    },
    "id": "YkPHXF0MGiCh",
    "outputId": "648048e5-a674-4137-9efe-105cfea84b32"
   },
   "outputs": [
    {
     "name": "stdout",
     "output_type": "stream",
     "text": [
      "              precision    recall  f1-score   support\n",
      "\n",
      "    negative     0.4745    0.5000    0.4869       130\n",
      "     neutral     0.4483    0.2500    0.3210       104\n",
      "    positive     0.4615    0.6000    0.5217       130\n",
      "\n",
      "    accuracy                         0.4643       364\n",
      "   macro avg     0.4614    0.4500    0.4432       364\n",
      "weighted avg     0.4624    0.4643    0.4519       364\n",
      "\n"
     ]
    },
    {
     "data": {
      "image/png": "[encoded data removed]",
      "text/plain": [
       "<Figure size 864x576 with 2 Axes>"
      ]
     },
     "metadata": {
      "image/png": {
       "height": 516,
       "width": 716
      }
     },
     "output_type": "display_data"
    }
   ],
   "source": [
    "y_review_texts, y_pred, y_pred_probs, y_test = get_predictions(\n",
    "  model,\n",
    "  test_data_loader\n",
    ")\n",
    "\n",
    "print(classification_report(y_test, y_pred, target_names=class_names,digits=4))\n",
    "\n",
    "cm = confusion_matrix(y_test, y_pred)\n",
    "df_cm = pd.DataFrame(cm, index=class_names, columns=class_names)\n",
    "show_confusion_matrix(df_cm)"
   ]
  },
  {
   "cell_type": "code",
   "execution_count": 59,
   "metadata": {
    "ExecuteTime": {
     "end_time": "2022-01-30T06:48:28.482693Z",
     "start_time": "2022-01-30T06:47:35.648526Z"
    }
   },
   "outputs": [
    {
     "name": "stdout",
     "output_type": "stream",
     "text": [
      "              precision    recall  f1-score   support\n",
      "\n",
      "    negative     0.4272    0.4664    0.4459       283\n",
      "     neutral     0.5048    0.2015    0.2880       263\n",
      "    positive     0.4262    0.6215    0.5056       288\n",
      "\n",
      "    accuracy                         0.4365       834\n",
      "   macro avg     0.4527    0.4298    0.4132       834\n",
      "weighted avg     0.4513    0.4365    0.4168       834\n",
      "\n"
     ]
    },
    {
     "data": {
      "image/png": "[encoded data removed]",
      "text/plain": [
       "<Figure size 864x576 with 2 Axes>"
      ]
     },
     "metadata": {
      "image/png": {
       "height": 516,
       "width": 725
      }
     },
     "output_type": "display_data"
    }
   ],
   "source": [
    "y_ood_review_texts, y_ood_pred, y_ood_pred_probs, y_ood = get_predictions(\n",
    "  model,\n",
    "  ood_data_loader\n",
    ")\n",
    "\n",
    "print(classification_report(y_ood, y_ood_pred, target_names=class_names,digits=4))\n",
    "\n",
    "ood_cm = confusion_matrix(y_ood, y_ood_pred)\n",
    "df_ood_cm = pd.DataFrame(ood_cm, index=class_names, columns=class_names)\n",
    "show_confusion_matrix(df_ood_cm)"
   ]
  },
  {
   "cell_type": "code",
   "execution_count": 67,
   "metadata": {
    "ExecuteTime": {
     "end_time": "2022-01-30T06:52:22.785038Z",
     "start_time": "2022-01-30T06:52:21.376266Z"
    }
   },
   "outputs": [],
   "source": [
    "df = pd.DataFrame([y_ood_review_texts, y_ood_pred.numpy(), y_ood_pred_probs.numpy(), y_ood.numpy()]).T\n",
    "df = df.rename(columns={0: 'text',1: 'prediction',2: 'probability',3: 'labels'})\n",
    "df.to_csv('try_Pretrained_RoBert_SRL(FC)_V_ood.csv',sep='\\t')"
   ]
  },
  {
   "cell_type": "code",
   "execution_count": null,
   "metadata": {
    "colab": {
     "background_save": true
    },
    "id": "Kbe4pgmh1gQY"
   },
   "outputs": [],
   "source": []
  }
 ],
 "metadata": {
  "accelerator": "GPU",
  "colab": {
   "collapsed_sections": [],
   "name": "Pretrained_RoBert_SRL(AVG)_CL(V).ipynb",
   "provenance": [
    {
     "file_id": "1Ia2qfBUM35tzgRmKb8NFZn9V7WQ6xHLQ",
     "timestamp": 1634194650187
    },
    {
     "file_id": "1m63ML-bYzKDT2V9B4hE-Uu5VTx505sa-",
     "timestamp": 1633515541576
    },
    {
     "file_id": "1HhJHiV3RPKbpPFWZrMSHMW_H-OMu45nh",
     "timestamp": 1633492228905
    },
    {
     "file_id": "1q_DO6QMqbQjEru1iCP0CuwA1-0wOBgO1",
     "timestamp": 1633469450109
    },
    {
     "file_id": "1UmCPDjec7zH3RdCY3Hdite8oomF7nmf9",
     "timestamp": 1633290928316
    },
    {
     "file_id": "1w9vwLdm73DBRpQkWEjXqs5q-sfG5CFRP",
     "timestamp": 1633210989154
    },
    {
     "file_id": "1dItOUA_nHj-f307fzTileirMZodw9QQA",
     "timestamp": 1633052138904
    },
    {
     "file_id": "1Oo-71ViOwxENoHeitS3_bKCwW5v34UxN",
     "timestamp": 1632660498277
    },
    {
     "file_id": "1el47BmEzo31ysADRwzhNG8eWTFAGBwSd",
     "timestamp": 1632523116920
    },
    {
     "file_id": "1_JaZBt7ogFAsddWCCG0LcCdgNRAxqtFk",
     "timestamp": 1632443626664
    },
    {
     "file_id": "19E0FxMVVPc7sOJKBKGMO92IFUiH9i8Nq",
     "timestamp": 1631945855961
    },
    {
     "file_id": "1-IQze66iqGbhkSN5Ht7pAfMMsY-XRwDI",
     "timestamp": 1631743166519
    },
    {
     "file_id": "1WejxgDbBCZ7I2Y_ODwi3kgRtrnkLvn-b",
     "timestamp": 1631518058457
    },
    {
     "file_id": "1npRyGEmBJbLWSua7ANgxcMxsQsuWXnKG",
     "timestamp": 1631425160358
    }
   ]
  },
  "kernelspec": {
   "display_name": "Python 3 (ipykernel)",
   "language": "python",
   "name": "python3"
  },
  "language_info": {
   "codemirror_mode": {
    "name": "ipython",
    "version": 3
   },
   "file_extension": ".py",
   "mimetype": "text/x-python",
   "name": "python",
   "nbconvert_exporter": "python",
   "pygments_lexer": "ipython3",
   "version": "3.8.13"
  },
  "latex_envs": {
   "LaTeX_envs_menu_present": true,
   "autoclose": false,
   "autocomplete": true,
   "bibliofile": "biblio.bib",
   "cite_by": "apalike",
   "current_citInitial": 1,
   "eqLabelWithNumbers": true,
   "eqNumInitial": 1,
   "hotkeys": {
    "equation": "Ctrl-E",
    "itemize": "Ctrl-I"
   },
   "labels_anchors": false,
   "latex_user_defs": false,
   "report_style_numbering": false,
   "user_envs_cfg": false
  },
  "toc": {
   "base_numbering": 1,
   "nav_menu": {},
   "number_sections": true,
   "sideBar": true,
   "skip_h1_title": false,
   "title_cell": "Table of Contents",
   "title_sidebar": "Contents",
   "toc_cell": false,
   "toc_position": {},
   "toc_section_display": true,
   "toc_window_display": false
  },
  "varInspector": {
   "cols": {
    "lenName": 16,
    "lenType": 16,
    "lenVar": 40
   },
   "kernels_config": {
    "python": {
     "delete_cmd_postfix": "",
     "delete_cmd_prefix": "del ",
     "library": "var_list.py",
     "varRefreshCmd": "print(var_dic_list())"
    },
    "r": {
     "delete_cmd_postfix": ") ",
     "delete_cmd_prefix": "rm(",
     "library": "var_list.r",
     "varRefreshCmd": "cat(var_dic_list()) "
    }
   },
   "types_to_exclude": [
    "module",
    "function",
    "builtin_function_or_method",
    "instance",
    "_Feature"
   ],
   "window_display": false
  }
 },
 "nbformat": 4,
 "nbformat_minor": 1
}
